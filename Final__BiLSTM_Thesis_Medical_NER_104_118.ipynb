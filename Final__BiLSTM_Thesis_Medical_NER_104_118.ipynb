{
  "cells": [
    {
      "cell_type": "code",
      "execution_count": null,
      "metadata": {
        "colab": {
          "base_uri": "https://localhost:8080/"
        },
        "id": "KY_sYACDQuJp",
        "outputId": "a6546743-6f5b-42d8-e7da-904118f91eb4"
      },
      "outputs": [
        {
          "output_type": "stream",
          "name": "stdout",
          "text": [
            "`%tensorflow_version` only switches the major version: 1.x or 2.x.\n",
            "You set: `1.14.0`. This will be interpreted as: `1.x`.\n",
            "\n",
            "\n",
            "TensorFlow 1.x selected.\n"
          ]
        }
      ],
      "source": [
        "%tensorflow_version 1.14.0"
      ]
    },
    {
      "cell_type": "code",
      "execution_count": null,
      "metadata": {
        "colab": {
          "base_uri": "https://localhost:8080/"
        },
        "id": "plOaxhsCR-Jn",
        "outputId": "85413b09-6292-4ad8-a36b-59fd073f4095"
      },
      "outputs": [
        {
          "output_type": "stream",
          "name": "stdout",
          "text": [
            "Requirement already satisfied: seqeval==0.0.5 in /usr/local/lib/python3.7/dist-packages (0.0.5)\n",
            "Requirement already satisfied: numpy>=1.14.0 in /usr/local/lib/python3.7/dist-packages (from seqeval==0.0.5) (1.21.5)\n",
            "Collecting keras==2.2.4\n",
            "  Using cached Keras-2.2.4-py2.py3-none-any.whl (312 kB)\n",
            "Requirement already satisfied: pyyaml in /usr/local/lib/python3.7/dist-packages (from keras==2.2.4) (3.13)\n",
            "Requirement already satisfied: six>=1.9.0 in /usr/local/lib/python3.7/dist-packages (from keras==2.2.4) (1.15.0)\n",
            "Requirement already satisfied: keras-applications>=1.0.6 in /tensorflow-1.15.2/python3.7 (from keras==2.2.4) (1.0.8)\n",
            "Requirement already satisfied: keras-preprocessing>=1.0.5 in /usr/local/lib/python3.7/dist-packages (from keras==2.2.4) (1.1.2)\n",
            "Requirement already satisfied: scipy>=0.14 in /usr/local/lib/python3.7/dist-packages (from keras==2.2.4) (1.4.1)\n",
            "Requirement already satisfied: h5py in /usr/local/lib/python3.7/dist-packages (from keras==2.2.4) (3.1.0)\n",
            "Requirement already satisfied: numpy>=1.9.1 in /usr/local/lib/python3.7/dist-packages (from keras==2.2.4) (1.21.5)\n",
            "Requirement already satisfied: cached-property in /usr/local/lib/python3.7/dist-packages (from h5py->keras==2.2.4) (1.5.2)\n",
            "Installing collected packages: keras\n",
            "  Attempting uninstall: keras\n",
            "    Found existing installation: keras 2.8.0\n",
            "    Uninstalling keras-2.8.0:\n",
            "      Successfully uninstalled keras-2.8.0\n",
            "Successfully installed keras-2.2.4\n"
          ]
        }
      ],
      "source": [
        "!pip install seqeval==0.0.5\n",
        "!pip install keras==2.2.4"
      ]
    },
    {
      "cell_type": "code",
      "execution_count": null,
      "metadata": {
        "colab": {
          "base_uri": "https://localhost:8080/"
        },
        "id": "zkZBCz4LSIJb",
        "outputId": "3545bc6f-f8c5-45fd-93ac-11941e8f6307"
      },
      "outputs": [
        {
          "output_type": "stream",
          "name": "stdout",
          "text": [
            "Collecting git+https://www.github.com/keras-team/keras-contrib.git\n",
            "  Cloning https://www.github.com/keras-team/keras-contrib.git to /tmp/pip-req-build-xa3c3my_\n",
            "  Running command git clone -q https://www.github.com/keras-team/keras-contrib.git /tmp/pip-req-build-xa3c3my_\n",
            "Requirement already satisfied: keras in /usr/local/lib/python3.7/dist-packages (from keras-contrib==2.0.8) (2.2.4)\n",
            "Requirement already satisfied: keras-preprocessing>=1.0.5 in /usr/local/lib/python3.7/dist-packages (from keras->keras-contrib==2.0.8) (1.1.2)\n",
            "Requirement already satisfied: numpy>=1.9.1 in /usr/local/lib/python3.7/dist-packages (from keras->keras-contrib==2.0.8) (1.21.5)\n",
            "Requirement already satisfied: h5py in /usr/local/lib/python3.7/dist-packages (from keras->keras-contrib==2.0.8) (3.1.0)\n",
            "Requirement already satisfied: six>=1.9.0 in /usr/local/lib/python3.7/dist-packages (from keras->keras-contrib==2.0.8) (1.15.0)\n",
            "Requirement already satisfied: keras-applications>=1.0.6 in /tensorflow-1.15.2/python3.7 (from keras->keras-contrib==2.0.8) (1.0.8)\n",
            "Requirement already satisfied: pyyaml in /usr/local/lib/python3.7/dist-packages (from keras->keras-contrib==2.0.8) (3.13)\n",
            "Requirement already satisfied: scipy>=0.14 in /usr/local/lib/python3.7/dist-packages (from keras->keras-contrib==2.0.8) (1.4.1)\n",
            "Requirement already satisfied: cached-property in /usr/local/lib/python3.7/dist-packages (from h5py->keras->keras-contrib==2.0.8) (1.5.2)\n"
          ]
        }
      ],
      "source": [
        "!pip install git+https://www.github.com/keras-team/keras-contrib.git\n"
      ]
    },
    {
      "cell_type": "code",
      "execution_count": null,
      "metadata": {
        "id": "aSY4Qqv2SPqT",
        "colab": {
          "base_uri": "https://localhost:8080/"
        },
        "outputId": "b8509db3-e96e-44fc-cd00-ce6eedda3c66"
      },
      "outputs": [
        {
          "output_type": "stream",
          "name": "stderr",
          "text": [
            "Using TensorFlow backend.\n"
          ]
        }
      ],
      "source": [
        "from keras.models import *"
      ]
    },
    {
      "cell_type": "code",
      "execution_count": null,
      "metadata": {
        "id": "jtiLKxGLSTQT"
      },
      "outputs": [],
      "source": [
        "from keras_contrib.layers import CRF"
      ]
    },
    {
      "cell_type": "code",
      "execution_count": null,
      "metadata": {
        "id": "9OsGwiUHN318"
      },
      "outputs": [],
      "source": [
        "import tensorflow as tf\n",
        "import keras\n",
        "\n",
        "import pandas as pd\n",
        "import numpy as np \n",
        "import matplotlib.pyplot as plt"
      ]
    },
    {
      "cell_type": "code",
      "execution_count": null,
      "metadata": {
        "id": "U6pZFZEKPo9U"
      },
      "outputs": [],
      "source": [
        "\n",
        "dataset_path = '/content/drive/MyDrive/Medical-Entity-Recognition--master/CADEC.csv'\n",
        "dataset_path_twitter = '/content/drive/MyDrive/Medical-Entity-Recognition--master/twitter_521.csv'\n",
        "BATCH_SIZE = 512 # Number of examples used in each iteration\n",
        "EPOCHS = 400 #Number of passes through entire dataset\n",
        "MAX_LEN = 60  # Max length of review (in words)\n",
        "EMBEDDING = 200# Dimension of word embedding vector"
      ]
    },
    {
      "cell_type": "code",
      "execution_count": null,
      "metadata": {
        "colab": {
          "base_uri": "https://localhost:8080/"
        },
        "id": "_UbfUrqAOITU",
        "outputId": "8d4752ff-9f92-4caf-a2e9-776ff1d1bd9f"
      },
      "outputs": [
        {
          "output_type": "stream",
          "name": "stdout",
          "text": [
            "(6434, 3)\n",
            "(128571, 3)\n",
            "Number of sentences:  7771\n",
            "Number of sentences in twitter :  271\n",
            "Number of words in the dataset:  9113\n",
            "Number of words in the dataset:  1971\n",
            "Tags: ['O', 'B-Symptom', 'I-Finding', 'I-Symptom', 'I-Drug', 'B-ADR', 'I-ADR', 'B-Drug', 'B-Finding', 'I-Disease', 'B-Disease']\n",
            "Number of Labels:  11\n",
            "Number of training datasets tags:\n"
          ]
        },
        {
          "output_type": "execute_result",
          "data": {
            "text/plain": [
              "O            107139\n",
              "I-ADR         10900\n",
              "B-ADR          5756\n",
              "B-Drug         2058\n",
              "I-Symptom       482\n",
              "I-Finding       477\n",
              "B-Symptom       463\n",
              "B-Finding       414\n",
              "B-Disease       353\n",
              "I-Drug          274\n",
              "I-Disease       255\n",
              "Name: Tag, dtype: int64"
            ]
          },
          "metadata": {},
          "execution_count": 12
        }
      ],
      "source": [
        "data_twitter = pd.read_csv(dataset_path_twitter, names=['Sentence No', 'Word', 'Tag'], header=0)\n",
        "data = pd.read_csv(dataset_path)\n",
        "\n",
        "data = data.drop(['Document ID'], axis=1)\n",
        "data = data.append(data_twitter[0:5991], ignore_index=True) # Adding some of the twitter data in the cadec dataset to train better for the twitter data\n",
        "\n",
        "data_twitter = data_twitter[5991:]# Remaining twitter data is for testing\n",
        "print(data_twitter.shape)\n",
        "print(data.shape)\n",
        "\n",
        "data = data.fillna(method=\"ffill\")\n",
        "data_twitter = data_twitter.fillna(method=\"ffill\")\n",
        "\n",
        "print(\"Number of sentences: \", len(data.groupby(['Sentence No'])))\n",
        "print(\"Number of sentences in twitter : \", len(data_twitter.groupby(['Sentence No'])))\n",
        "\n",
        "\n",
        "words = list(set(data[\"Word\"].values))\n",
        "n_words = len(words)\n",
        "print(\"Number of words in the dataset: \", n_words)\n",
        "words_twitter = list(set(data_twitter[\"Word\"].values))\n",
        "n_words_twitter = len(words_twitter)\n",
        "print(\"Number of words in the dataset: \", n_words_twitter)\n",
        "\n",
        "tags = list(set(data[\"Tag\"].values))\n",
        "print(\"Tags:\", tags)\n",
        "n_tags = len(tags)\n",
        "print(\"Number of Labels: \", n_tags)\n",
        "\n",
        "print(\"Number of training datasets tags:\")\n",
        "data['Tag'].value_counts()"
      ]
    },
    {
      "cell_type": "code",
      "execution_count": null,
      "metadata": {
        "colab": {
          "base_uri": "https://localhost:8080/",
          "height": 367
        },
        "id": "VrMJPQG1OUSp",
        "outputId": "eb7b3e86-1bf5-4c46-ad3c-90b8ade59be8"
      },
      "outputs": [
        {
          "output_type": "stream",
          "name": "stdout",
          "text": [
            "[[('LabileStudy', 'O'), ('is', 'O'), ('a', 'O'), ('clinical', 'O'), ('trial', 'O'), ('of', 'O'), ('lamotrigine', 'B-Drug'), ('versus', 'O'), ('placebo', 'O'), ('for', 'O'), ('people', 'O'), ('with', 'O'), ('borderline', 'O'), ('personality', 'O'), ('disorder', 'O'), ('.', 'O')], [('#', 'O'), ('QandA', 'O'), ('Yet', 'O'), ('we', 'O'), ('still', 'O'), ('prescribe', 'O'), ('medications', 'O'), ('to', 'O'), ('kids', 'O'), ('like', 'O'), ('Singulair', 'B-Drug'), ('(', 'O'), ('Montelukast', 'B-Drug'), (')', 'O'), ('that', 'O'), ('cause', 'O'), ('neuropsychiatric', 'O'), ('side', 'O'), ('effects', 'O'), ('including', 'O'), ('suicide', 'B-Symptom')], [('#', 'O'), ('QandA', 'O'), ('More', 'O'), ('research', 'O'), ('needs', 'O'), ('to', 'O'), ('be', 'O'), ('done', 'O'), ('in', 'O'), ('regards', 'O'), ('to', 'O'), ('asthma', 'B-Disease'), ('med', 'O'), ('.', 'O'), ('Singulair', 'B-Drug'), ('(', 'O'), ('Montelukast', 'B-Drug'), (')', 'O'), ('which', 'O'), ('causes', 'O'), ('neuropsychiatric', 'O'), ('side', 'O'), ('effects', 'O'), ('in', 'O'), ('kids', 'O'), ('!', 'O')], [('dang', 'O'), ('I', 'O'), ('wish', 'O'), ('my', 'O'), ('psychiatrist', 'O'), ('had', 'O'), ('told', 'O'), ('me', 'O'), ('that', 'O'), ('effexor', 'B-Drug'), ('withdrawals', 'B-Symptom'), ('are', 'O'), ('really', 'O'), ('intense', 'O'), ('and', 'O'), ('horrible', 'O'), ('and', 'O'), ('kick', 'O'), ('in', 'O'), ('after', 'O'), ('like', 'O'), ('one', 'O'), ('missed', 'O'), ('dose', 'O')], [('@', 'O'), ('_', 'O'), ('katanakaji', 'O'), ('\"', 'O'), ('trazodone', 'B-Drug'), ('.', 'O'), ('.', 'O'), ('.', 'O'), ('uhmm', 'O'), ('well', 'O'), (',', 'O'), ('just', 'O'), ('pretend', 'O'), ('that', 'O'), ('a', 'O'), ('magical', 'O'), ('pills', 'O'), ('to', 'O'), ('ease', 'O'), ('your', 'O'), ('insomnia', 'O'), (',', 'O'), ('\"', 'O'), ('she', 'O'), ('smiles', 'O'), ('awkwardly', 'O'), ('.', 'O')], [('Tapering', 'O'), ('off', 'O'), ('lamictal', 'B-Drug'), ('and', 'O'), ('onto', 'O'), ('zyprexa', 'B-Drug'), ('.', 'O'), ('From', 'O'), ('a', 'O'), ('mood', 'O'), ('stabilizer', 'O'), ('going', 'O'), ('onto', 'O'), ('an', 'O'), ('antipsychotic', 'O'), ('.', 'O'), ('Joy', 'O'), ('.', 'O'), ('I', 'O'), (\"'\", 'O'), ('m', 'O'), ('fucking', 'O'), ('crazy', 'O'), ('.', 'O'), ('-', 'O'), ('.', 'O'), ('-', 'O')], [('A', 'O'), ('shoo', 'O'), ('-', 'O'), ('in', 'O'), ('for', 'O'), ('$', 'O'), ('CTMX', 'O'), ('=', 'O'), ('license', 'O'), ('Probody', 'O'), ('tech', 'O'), ('to', 'O'), ('Roche', 'O'), ('and', 'O'), ('let', 'O'), ('them', 'O'), ('put', 'O'), ('on', 'O'), ('Avastin', 'B-Drug'), ('/', 'O'), ('Herceptin', 'O'), ('to', 'O'), ('stop', 'O'), ('bowel', 'B-Symptom'), ('perforation', 'I-Symptom'), ('/', 'O'), ('heart', 'O'), ('issues', 'O'), ('.', 'O'), ('No', 'O'), ('?', 'O'), ('$', 'O'), ('$', 'O')], [('Gotta', 'O'), ('try', 'O'), ('some', 'O'), ('modafinil', 'B-Drug'), ('and', 'O'), ('see', 'O'), ('if', 'O'), ('it', 'O'), ('will', 'O'), ('make', 'O'), ('me', 'O'), ('concentrate', 'B-Symptom'), ('for', 'O'), ('once', 'O')], [('There', 'O'), (\"'\", 'O'), ('s', 'O'), ('not', 'O'), ('enough', 'O'), ('Effexor', 'B-Drug'), ('in', 'O'), ('the', 'O'), ('world', 'O'), ('to', 'O'), ('deal', 'O'), ('with', 'O'), ('the', 'O'), ('anxiety', 'B-Symptom'), ('in', 'O'), ('this', 'O'), ('park', 'O'), ('.', 'O')], [('Which', 'O'), ('anticonvulsant', 'B-Symptom'), ('is', 'O'), ('safe', 'O'), ('during', 'O'), ('pregnancy', 'O'), ('?', 'O'), ('?', 'O'), ('Answer', 'O'), (':', 'O'), ('Carbamazepine', 'B-Drug')], [('Just', 'O'), ('remembered', 'O'), ('that', 'O'), ('the', 'O'), ('last', 'O'), ('time', 'O'), ('I', 'O'), ('went', 'O'), ('to', 'O'), ('the', 'O'), ('doctor', 'O'), ('they', 'O'), ('had', 'O'), ('to', 'O'), ('ask', 'O'), ('me', 'O'), ('if', 'O'), ('I', 'O'), ('was', 'O'), ('depressed', 'B-Disease'), ('.', 'O'), ('Bitch', 'O'), ('no', 'O'), (',', 'O'), ('and', 'O'), ('if', 'O'), ('I', 'O'), ('was', 'O'), ('Cymbalta', 'B-Drug'), ('would', 'O'), ('help', 'O'), ('😒', 'O')], [('Took', 'O'), ('a', 'O'), ('trazodone', 'B-Drug'), ('to', 'B-Symptom'), ('sleep', 'I-Symptom'), ('after', 'O'), ('waking', 'O'), ('up', 'O'), ('at', 'O'), ('5am', 'O'), ('.', 'O'), ('Hence', 'O'), ('I', 'B-Symptom'), (\"'\", 'I-Symptom'), ('ve', 'I-Symptom'), ('slept', 'I-Symptom'), ('all', 'I-Symptom'), ('day', 'I-Symptom'), ('.', 'O'), ('Up', 'O'), ('side', 'O'), (',', 'O'), ('@', 'O'), ('jshecket', 'O'), ('and', 'O'), ('I', 'O'), ('saved', 'O'), ('Tokyo', 'O'), ('.', 'O'), ('#', 'O'), ('DreamsAreWeird', 'O')], [('I', 'O'), ('don', 'O'), (\"'\", 'O'), ('t', 'O'), ('feel', 'O'), ('good', 'O'), ('.', 'O'), ('No', 'O'), ('fucking', 'O'), ('appetite', 'O'), ('.', 'O'), ('Stupid', 'O'), ('Vyvanse', 'B-Drug'), ('!', 'O')], [('Patient', 'O'), ('states', 'O'), ('she', 'O'), ('has', 'O'), ('an', 'O'), ('allergy', 'O'), ('to', 'O'), ('Lisinopril', 'B-Drug'), ('The', 'O'), ('listed', 'O'), ('reaction', 'O'), ('?', 'O'), ('Cough', 'B-Symptom'), ('THAT', 'O'), (\"'\", 'O'), ('S', 'O'), ('EXPECTED', 'O'), ('WITH', 'O'), ('ACE', 'O'), ('INHIBITORS', 'O'), ('!', 'O'), ('THAT', 'O'), (\"'\", 'O'), ('S', 'O'), ('NOT', 'O'), ('AN', 'O'), ('ALLERGY', 'O'), ('!', 'O'), ('😠', 'O')], [('Fuck', 'O'), ('topamax', 'B-Drug'), (',', 'O'), ('for', 'O'), ('real', 'O'), ('.', 'O'), ('I', 'O'), ('took', 'O'), ('one', 'O'), ('for', 'O'), ('the', 'O'), ('first', 'O'), ('time', 'O'), ('in', 'O'), ('like', 'O'), ('a', 'O'), ('year', 'O'), ('to', 'O'), ('try', 'O'), ('to', 'O'), ('break', 'O'), ('this', 'O'), ('series', 'O'), ('of', 'O'), ('headaches', 'B-Symptom'), ('and', 'O'), ('it', 'O'), ('screwed', 'O'), ('me', 'O'), ('up', 'O'), ('.', 'O')], [('tried', 'O'), ('to', 'O'), ('wean', 'O'), ('myself', 'O'), ('off', 'O'), ('of', 'O'), ('singulair', 'B-Drug'), ('to', 'O'), ('save', 'O'), ('money', 'O'), ('but', 'O'), ('I', 'O'), ('still', 'O'), ('can', 'O'), (\"'\", 'O'), ('t', 'O'), ('breathe', 'B-Symptom'), ('#', 'O'), ('lol', 'O'), ('#', 'O'), ('haha', 'O'), ('#', 'O'), ('Capitalism', 'O')], [('Taken', 'O'), ('#', 'O'), ('lyrica', 'O'), ('#', 'B-Drug'), ('lamictal', 'I-Drug'), ('#', 'O'), ('neurontin', 'O'), ('#', 'B-Drug'), ('topamax', 'I-Drug'), ('4', 'O'), ('diabetic', 'O'), ('neuropathy', 'O'), ('.', 'O'), ('Had', 'O'), ('2', 'O'), ('go', 'O'), ('2ER', 'O'), ('while', 'O'), ('on', 'O'), ('topamax', 'O'), ('.', 'O'), ('#', 'O'), ('sickAsADog', 'O'), ('|', 'O'), ('#', 'O'), ('neurontin', 'O'), ('also', 'O'), ('made', 'O'), ('me', 'O'), ('ILL', 'O')], [('FQ', 'O'), ('antibiotics', 'O'), ('like', 'O'), ('Cipro', 'O'), (',', 'O'), ('Levaquin', 'B-Drug'), (',', 'O'), ('Avelox', 'B-Drug'), (',', 'O'), ('Noroxin', 'O'), (',', 'O'), ('Floxin', 'O'), ('and', 'O'), ('Factive', 'O'), ('can', 'O'), ('have', 'O'), ('major', 'O'), ('side', 'O'), ('affects', 'O'), ('-', 'O'), ('#', 'O'), ('peripheral', 'O'), ('#', 'O'), ('neuropathy', 'O'), ('and', 'O'), ('more', 'O'), ('.', 'O'), ('.', 'O'), ('.', 'O')], [('The', 'O'), ('Dr', 'O'), ('put', 'O'), ('me', 'O'), ('on', 'O'), ('topamax', 'B-Drug'), ('for', 'O'), ('migraines', 'O'), ('and', 'O'), ('I', 'O'), (\"'\", 'O'), ('m', 'O'), ('reading', 'O'), ('about', 'O'), ('the', 'O'), ('weight', 'B-Symptom'), ('loss', 'I-Symptom'), ('it', 'O'), ('causes', 'O'), ('.', 'O'), ('.', 'O'), ('.', 'O'), ('.', 'O'), ('I', 'O'), ('LOVE', 'O'), ('THIS', 'O'), ('MAN', 'O'), ('!', 'O'), ('#', 'O'), ('hollywoodSkinnyHereICome', 'O'), ('!', 'O'), ('!', 'O'), ('!', 'O'), ('!', 'O'), ('!', 'O'), ('!', 'O')], [('Rly', 'O'), ('getting', 'O'), ('sick', 'O'), ('of', 'O'), ('not', 'O'), ('being', 'O'), ('able', 'O'), ('to', 'O'), ('sleep', 'B-Symptom'), ('because', 'O'), ('of', 'O'), ('my', 'O'), ('vyvanse', 'B-Drug')], [('I', 'O'), (\"'\", 'O'), ('m', 'O'), ('a', 'O'), ('dizzy', 'B-Symptom'), ('nauseous', 'B-Symptom'), ('mess', 'O'), ('and', 'O'), ('it', 'O'), ('looks', 'O'), ('like', 'O'), ('I', 'O'), (\"'\", 'O'), ('m', 'O'), ('at', 'O'), ('the', 'O'), ('charitable', 'O'), ('end', 'O'), ('of', 'O'), ('the', 'O'), ('effexor', 'B-Drug'), ('withdrawal', 'O'), ('scale', 'O')], [('Topamax', 'B-Drug'), ('taken', 'O'), ('during', 'O'), ('pregnancy', 'O'), ('can', 'O'), ('cause', 'O'), ('birth', 'B-Symptom'), ('defects', 'I-Symptom'), ('~', 'O'), ('heart', 'O'), ('/', 'O'), ('lung', 'O'), ('/', 'O'), ('brain', 'O'), ('abnormalities', 'O'), ('cleft', 'B-Symptom'), ('palate', 'I-Symptom'), ('cleft', 'B-Symptom'), ('lip', 'I-Symptom'), ('other', 'O'), ('serious', 'O'), ('health', 'O'), ('problems', 'O')], [('A', 'O'), ('New', 'O'), ('York', 'O'), ('Times', 'O'), ('story', 'O'), ('in', 'O'), ('March', 'O'), ('2011', 'O'), ('detailed', 'O'), ('FDA', 'O'), ('warnings', 'O'), ('of', 'O'), ('Topamax', 'B-Drug'), ('raising', 'O'), ('the', 'O'), ('risk', 'O'), ('of', 'O'), ('birth', 'B-Symptom'), ('defects', 'I-Symptom'), ('.', 'O'), ('1', 'O'), ('.', 'O'), ('713', 'O'), ('.', 'O'), ('238', 'O'), ('.', 'O'), ('7758', 'O')], [('Oland', 'O'), ('was', 'O'), ('taking', 'O'), ('Paxil', 'B-Drug'), ('for', 'O'), ('anxiety', 'B-Symptom'), ('?', 'O'), ('That', 'O'), ('was', 'O'), ('suggested', 'O'), (',', 'O'), ('says', 'O'), ('Naseemuddin', 'O'), ('.', 'O'), ('And', 'O'), ('aspirin', 'O'), ('?', 'O'), ('Don', 'O'), (\"'\", 'O'), ('t', 'O'), ('know', 'O'), ('about', 'O'), ('that', 'O'), ('.', 'O')], [('Better', 'O'), ('control', 'O'), ('of', 'O'), ('nausea', 'B-Symptom'), ('and', 'O'), ('vomiting', 'B-Symptom'), ('with', 'O'), ('olanzapine', 'B-Drug'), ('(', 'O'), ('plus', 'O'), ('aprepitant', 'O'), (',', 'O'), ('dexamethasone', 'O'), (',', 'O'), ('and', 'O'), ('a', 'O'), ('5HT3', 'O'), (')', 'O'), ('with', 'O'), ('highly', 'O'), ('emetogenic', 'O'), ('chemo', 'O'), ('.', 'O'), ('#', 'O'), ('pallonc', 'O')], [('Note', 'O'), ('that', 'O'), ('olanzapine', 'B-Drug'), ('for', 'O'), ('CINV', 'B-Symptom'), ('is', 'O'), ('not', 'O'), ('FDA', 'O'), ('approved', 'O'), ('for', 'O'), ('that', 'O'), ('indication', 'O'), ('#', 'O'), ('pallonc', 'O')], [('Having', 'O'), ('a', 'O'), ('kid', 'O'), ('w', 'O'), ('/', 'O'), ('ADHD', 'O'), ('most', 'O'), ('likely', 'O'), ('keeps', 'O'), ('me', 'O'), ('humble', 'O'), (',', 'O'), ('will', 'O'), ('never', 'O'), ('do', 'O'), ('long', 'O'), ('acting', 'O'), ('Ritalin', 'B-Drug'), ('again', 'O'), (',', 'O'), ('pure', 'O'), ('disaster', 'O'), ('!', 'O'), ('!', 'O')], [('Yay', 'O'), ('!', 'O'), ('My', 'O'), ('doctor', 'O'), ('put', 'O'), ('me', 'O'), ('back', 'O'), ('#', 'B-Drug'), ('Geodon', 'I-Drug'), ('but', 'O'), ('kept', 'O'), ('#', 'B-Drug'), ('Seroquel', 'I-Drug'), ('as', 'O'), ('well', 'O'), ('.', 'O'), ('Now', 'O'), ('I', 'O'), (\"'\", 'O'), ('m', 'O'), ('on', 'O'), ('7', 'O'), ('psych', 'O'), ('meds', 'O'), ('.', 'O'), ('Most', 'O'), ('ever', 'O'), ('.', 'O'), ('Ugh', 'O'), ('.', 'O'), ('#', 'B-Disease'), ('bipolar', 'I-Disease'), ('#', 'B-Disease'), ('PTSD', 'I-Disease'), ('#', 'O'), ('mentalhealth', 'O')], [('Fluoxetine', 'B-Drug'), ('hasn', 'O'), (\"'\", 'O'), ('t', 'O'), ('made', 'O'), ('me', 'O'), ('drowsy', 'B-Symptom'), ('at', 'O'), ('all', 'O'), ('yet', 'O'), ('like', 'O'), ('sertraline', 'B-Drug'), ('did', 'O'), ('I', 'O'), ('love', 'O')], [('Ugggh', 'O'), ('#', 'O'), ('migraine', 'O'), ('sucks', 'O'), ('.', 'O'), ('First', 'O'), ('one', 'O'), ('I', 'O'), (\"'\", 'O'), ('ve', 'O'), ('had', 'O'), ('since', 'O'), ('the', 'O'), ('#', 'B-Drug'), ('topamax', 'I-Drug'), ('though', 'O'), (',', 'O'), ('so', 'O'), ('I', 'O'), ('can', 'O'), (\"'\", 'O'), ('t', 'O'), ('complain', 'O'), ('too', 'O'), ('much', 'O'), ('.', 'O'), ('It', 'O'), (\"'\", 'O'), ('s', 'O'), ('been', 'O'), ('working', 'O'), ('great', 'O'), ('.', 'O')], [('Normally', 'O'), ('singulair', 'B-Drug'), ('doesn', 'O'), (\"'\", 'O'), ('t', 'O'), ('effect', 'O'), ('my', 'O'), ('moods', 'O'), ('but', 'O'), ('since', 'O'), ('I', 'O'), (\"'\", 'O'), ('ve', 'O'), ('been', 'O'), ('feeling', 'O'), ('upset', 'O'), ('after', 'O'), ('a', 'O'), ('recent', 'O'), ('argument', 'O'), (',', 'O'), ('its', 'O'), ('making', 'O'), ('depressed', 'B-Symptom')], [('Thank', 'O'), ('God', 'O'), (',', 'O'), ('I', 'O'), ('got', 'O'), ('one', 'O'), ('of', 'O'), ('this', 'O'), ('last', 'O'), ('night', 'O'), ('kenalog', 'B-Drug'), ('SWEAR', 'O'), ('I', 'O'), ('woke', 'O'), ('up', 'O'), ('I', 'O'), ('feel', 'B-Symptom'), ('more', 'I-Symptom'), ('Hot', 'I-Symptom'), ('!', 'O'), ('😋', 'O'), ('I', 'O'), ('try', 'O'), ('2tell', 'O'), ('someone', 'O'), ('i', 'O'), ('dont', 'O'), ('feel', 'O'), ('good', 'O'), ('But', 'O'), ('No', 'O'), ('one', 'O'), ('give', 'O'), ('a', 'O'), ('DAME', 'O')], [('Depression', 'O'), ('hurts', 'O'), ('.', 'O'), ('.', 'O'), ('.', 'O'), ('and', 'O'), ('Cymbalta', 'B-Drug'), ('doesn', 'O'), (\"'\", 'O'), ('t', 'O'), ('help', 'O')], [('They', 'O'), ('put', 'O'), ('me', 'O'), ('on', 'O'), ('xanex', 'O'), ('for', 'O'), ('my', 'O'), ('#', 'B-Symptom'), ('anxiety', 'I-Symptom'), ('and', 'O'), ('zyprexa', 'B-Drug'), ('for', 'O'), ('my', 'O'), ('#', 'B-Disease'), ('bipolardisorder', 'I-Disease'), ('.', 'O'), ('some', 'O'), ('days', 'O'), ('I', 'O'), ('feel', 'O'), ('like', 'O'), ('a', 'O'), ('zombie', 'B-Symptom'), (',', 'O'), ('but', 'O'), ('I', 'O'), (\"'\", 'O'), ('m', 'O'), ('optimistic', 'O'), ('about', 'O'), ('it', 'O'), ('.', 'O')], [('Right', 'O'), ('now', 'O'), ('I', 'O'), (\"'\", 'O'), ('m', 'O'), ('looking', 'O'), ('at', 'O'), ('my', 'O'), ('seroquel', 'B-Drug'), ('longingly', 'O'), ('but', 'O'), ('taking', 'O'), ('a', 'O'), ('trazadone', 'B-Drug'), ('instead', 'O'), ('.', 'O'), ('#', 'B-Disease'), ('bipolar', 'I-Disease'), ('#', 'O'), ('tryingtogetpreggers', 'O'), ('#', 'O'), ('sacrifices', 'O'), ('#', 'O'), ('ughthissucks', 'O')], [('#', 'O'), ('SubstituteColdForDepression', 'B-Disease'), ('My', 'O'), ('cold', 'O'), ('was', 'O'), ('so', 'O'), ('bad', 'O'), ('I', 'O'), ('went', 'O'), ('to', 'O'), ('my', 'O'), ('doctor', 'O'), ('.', 'O'), ('She', 'O'), ('put', 'O'), ('me', 'O'), ('on', 'O'), ('Prozac', 'O'), ('.', 'O')], [('My', 'O'), ('meds', 'O'), (':', 'O'), ('CYMBALTA', 'B-Drug'), ('60mg', 'O'), ('for', 'O'), ('my', 'O'), ('depression', 'O'), ('taken', 'O'), ('every', 'O'), ('day', 'O'), ('.', 'O'), ('DIAZEPAM', 'O'), ('aka', 'O'), ('Valium', 'O'), ('5mg', 'O'), ('taken', 'O'), ('when', 'O'), ('I', 'O'), ('have', 'O'), ('an', 'O'), ('anxiety', 'B-Symptom'), ('attack', 'I-Symptom'), ('which', 'O'), ('normally', 'O'), ('-', 'O'), ('-', 'O'), ('-', 'O'), ('&', 'O'), ('gt', 'O'), (';', 'O')], [('Dr', 'O'), ('gave', 'O'), ('m', 'O'), ('8', 'O'), ('months', 'O'), ('worth', 'O'), ('of', 'O'), ('citalopram', 'B-Drug'), ('on', 'O'), ('Thursday', 'O'), ('.', 'O'), ('Seems', 'O'), ('a', 'O'), ('bit', 'O'), ('overboard', 'O'), ('o', 'O'), ('.', 'O'), ('O', 'O'), ('#', 'B-Disease'), ('depression', 'I-Disease'), ('#', 'B-Symptom'), ('anxiety', 'I-Symptom')], [('Got', 'O'), ('an', 'O'), ('M', 'O'), ('&', 'O'), ('amp', 'O'), (';', 'O'), ('M', 'O'), ('flurry', 'O'), ('can', 'O'), ('of', 'O'), ('Diet', 'O'), ('Coke', 'O'), ('some', 'O'), ('nice', 'O'), ('ritalin', 'B-Drug'), ('to', 'O'), ('keep', 'O'), ('me', 'O'), ('awake', 'B-Symptom'), ('.', 'O'), ('Time', 'O'), ('to', 'O'), ('get', 'O'), ('the', 'O'), ('Uber', 'O'), ('on', 'O'), ('!', 'O'), ('#', 'O'), ('Uber', 'O'), ('#', 'O'), ('narcolepsy', 'O')], [('3', 'O'), (':', 'O'), ('50pm', 'O'), ('#', 'O'), ('MsDamn', 'O'), ('#', 'O'), ('ArianneLee', 'O'), (',', 'O'), ('Lastly', 'O'), ('sharing', 'O'), ('with', 'O'), ('you', 'O'), ('I', 'O'), ('had', 'O'), ('my', 'O'), ('High', 'B-Symptom'), ('Blood', 'I-Symptom'), ('Pressure', 'I-Symptom'), ('medication', 'O'), ('refilled', 'O'), ('LISINOPRIL', 'B-Drug'), (';', 'O'), ('I', 'O'), (\"'\", 'O'), ('m', 'O'), ('a', 'O'), ('TRUTH', 'O'), ('and', 'O'), ('to', 'O'), ('You', 'O'), ('.', 'O'), ('GOD', 'O')], [('prozac', 'B-Drug'), ('made', 'O'), ('me', 'O'), ('tired', 'B-Symptom'), (',', 'O'), ('suicidal', 'O'), ('and', 'O'), ('numb', 'B-Symptom'), ('.', 'O'), ('but', 'O'), ('at', 'O'), ('least', 'O'), ('it', 'O'), ('stopped', 'O'), ('me', 'O'), ('from', 'O'), ('turning', 'O'), ('into', 'O'), ('a', 'O'), ('complete', 'O'), ('wreck', 'O'), ('like', 'O'), ('now', 'O')], [('first', 'O'), ('line', 'O'), ('treatments', 'O'), ('for', 'O'), ('schizophrenia', 'O'), ('contain', 'O'), ('olanzapine', 'B-Drug'), ('which', 'O'), ('has', 'O'), ('tremendous', 'O'), ('paradoxical', 'O'), ('side', 'O'), ('effects', 'O'), ('including', 'O'), ('higher', 'O'), ('suicidal', 'B-Symptom'), ('ideation', 'I-Symptom')], [('Does', 'O'), ('prednisone', 'B-Drug'), ('make', 'O'), ('you', 'O'), ('manic', 'B-Symptom'), ('?', 'O'), ('Because', 'O'), ('I', 'O'), (\"'\", 'O'), ('ve', 'O'), ('spent', 'O'), ('4', 'O'), ('hours', 'O'), ('searching', 'O'), ('the', 'O'), ('web', 'O'), ('for', 'O'), ('the', 'O'), ('perfect', 'O'), ('maroon', 'O'), ('/', 'O'), ('burgundy', 'O'), ('/', 'O'), ('dark', 'O'), ('wine', 'O'), ('colored', 'O'), ('leather', 'O'), ('bag', 'O')], [('Citalopram', 'B-Drug'), ('withdrawal', 'B-Symptom'), ('is', 'O'), ('worse', 'O'), ('than', 'O'), ('normal', 'O'), ('bad', 'O'), ('puns', 'O')], [('Oh', 'O'), ('okay', 'O'), ('it', 'O'), ('isn', 'O'), (\"'\", 'O'), ('t', 'O'), ('just', 'O'), ('the', 'O'), ('fluoxetine', 'B-Drug'), (',', 'O'), ('I', 'O'), ('also', 'O'), ('have', 'O'), ('a', 'O'), ('sore', 'B-Symptom'), ('throat', 'I-Symptom'), ('and', 'O'), ('runny', 'B-Symptom'), ('nose', 'I-Symptom'), ('.', 'O'), ('What', 'O'), ('a', 'O'), ('relief', 'O'), ('.', 'O'), ('.', 'O'), ('.', 'O'), ('?', 'O')], [('I', 'O'), ('swear', 'O'), ('geodon', 'B-Drug'), ('just', 'O'), ('makes', 'O'), ('me', 'O'), ('go', 'B-Symptom'), ('to', 'I-Symptom'), ('bed', 'I-Symptom'), ('and', 'O'), ('wake', 'O'), ('up', 'O'), ('at', 'O'), ('reasonable', 'O'), ('times', 'O')], [('Holy', 'O'), ('hell', 'O'), (',', 'O'), ('Ritalin', 'B-Drug'), ('makes', 'O'), ('all', 'O'), ('the', 'O'), ('goddamned', 'O'), ('difference', 'O'), ('in', 'O'), ('the', 'O'), ('world', 'O'), ('.', 'O'), ('I', 'O'), ('wish', 'O'), ('I', 'O'), (\"'\", 'O'), ('d', 'O'), ('been', 'O'), ('diagnosed', 'O'), ('sooner', 'O'), ('.', 'O'), ('And', 'O'), ('not', 'O'), ('fought', 'O'), ('meds', 'O'), ('so', 'O'), ('hard', 'O'), ('.', 'O'), ('#', 'B-Disease'), ('ADHDlife', 'I-Disease')], [('LRT', 'O'), (':', 'O'), ('nice', 'O'), ('to', 'O'), ('see', 'O'), ('my', 'O'), ('experience', 'O'), ('corroborated', 'O'), (':', 'O'), (')', 'O'), ('(', 'O'), ('lamotrigine', 'B-Drug'), ('helping', 'O'), ('with', 'O'), ('visual', 'O'), ('snow', 'O'), (')', 'O'), ('.', 'O'), ('hoping', 'O'), ('we', 'O'), ('can', 'O'), ('stay', 'O'), ('on', 'O'), ('a', 'O'), ('low', 'O'), ('dose', 'O'), ('at', 'O'), ('least', 'O'), ('.', 'O'), ('not', 'O'), ('sure', 'O'), ('.', 'O')], [('HenochSchonlein', 'O'), ('purpura', 'O'), ('probably', 'O'), ('due', 'O'), ('to', 'O'), ('montelukast', 'B-Drug'), ('presenting', 'O'), ('as', 'O'), ('subacute', 'O'), ('intestinal', 'B-Symptom'), ('obstruction', 'I-Symptom'), ('.', 'O')], [('#', 'B-Drug'), ('tamoxifen', 'I-Drug'), ('Makes', 'O'), ('me', 'O'), ('feel', 'O'), ('like', 'O'), ('I', 'O'), (\"'\", 'O'), ('m', 'O'), ('going', 'O'), ('nuts', 'O'), (',', 'O'), ('mood', 'B-Symptom'), ('swings', 'I-Symptom'), (',', 'O'), ('anger', 'B-Symptom'), (',', 'O'), ('depression', 'B-Symptom'), ('&', 'O'), ('amp', 'O'), (';', 'O'), ('another', 'O'), ('6', 'O'), ('years', 'O'), ('to', 'O'), ('go', 'O'), ('.', 'O'), ('Def', 'O'), ('seeing', 'O'), ('onc', 'O'), ('to', 'O'), ('discuss', 'O'), ('@', 'O'), ('BCCare', 'O')], [('Omg', 'O'), ('upped', 'O'), ('topamax', 'B-Drug'), ('dose', 'O'), ('on', 'O'), ('Thursday', 'O'), ('(', 'O'), ('for', 'O'), ('chronic', 'O'), ('migraine', 'O'), (')', 'O'), ('tonight', 'O'), ('I', 'O'), ('can', 'O'), (\"'\", 'O'), ('t', 'O'), ('stop', 'O'), ('itching', 'B-Symptom'), ('all', 'O'), ('over', 'O'), ('#', 'B-Drug'), ('topamax', 'I-Drug'), ('#', 'O'), ('Migraine', 'O'), ('#', 'O'), ('sideeffects', 'O')], [('Not', 'O'), ('taking', 'O'), ('away', 'O'), ('from', 'O'), ('#', 'B-Disease'), ('breast', 'I-Disease'), ('cancer', 'I-Disease'), ('awareness', 'O'), ('month', 'O'), ('but', 'O'), ('can', 'O'), (\"'\", 'O'), ('t', 'O'), ('we', 'O'), ('all', 'O'), ('just', 'O'), ('be', 'O'), ('aware', 'O'), ('.', 'O'), ('Like', 'O'), (',', 'O'), ('all', 'O'), ('the', 'O'), ('time', 'O'), ('?', 'O'), ('#', 'B-Drug'), ('tamoxifen', 'I-Drug'), ('#', 'O'), ('Survivor', 'O')], [('@', 'O'), ('8bithomo', 'O'), ('Have', 'O'), ('you', 'O'), ('tried', 'O'), ('Topamax', 'B-Drug'), ('?', 'O'), ('It', 'O'), (\"'\", 'O'), ('s', 'O'), ('very', 'O'), ('good', 'O'), ('for', 'O'), ('migraine', 'O'), ('prophylaxis', 'O'), ('.', 'O')], [('\"', 'O'), ('Depression', 'O'), ('hurts', 'O'), ('.', 'O'), ('Cymbalta', 'B-Drug'), ('can', 'O'), ('help', 'O'), ('.', 'O'), ('\"', 'O'), ('Someone', 'O'), ('get', 'O'), ('me', 'O'), ('Cymbalta', 'B-Drug'), ('NOW', 'O')], [('I', 'O'), ('need', 'O'), ('to', 'O'), ('get', 'O'), ('prescribed', 'O'), ('to', 'O'), ('trazodone', 'B-Drug'), ('again', 'O'), ('so', 'O'), ('I', 'O'), ('can', 'O'), ('sleep', 'B-Symptom')], [('Maybe', 'O'), ('a', 'O'), ('little', 'O'), ('personal', 'O'), ('for', 'O'), ('Twitter', 'O'), (',', 'O'), ('but', 'O'), ('has', 'O'), ('anyone', 'O'), ('ever', 'O'), ('came', 'O'), ('off', 'O'), ('Citalopram', 'B-Drug'), ('/', 'O'), ('Celexa', 'B-Drug'), ('?', 'O'), ('This', 'O'), ('is', 'O'), ('day', 'O'), ('10', 'O'), ('and', 'O'), ('I', 'O'), ('feel', 'O'), ('very', 'O'), ('fuzzy', 'B-Symptom'), ('headed', 'I-Symptom'), ('and', 'O'), ('poop', 'O'), ('.', 'O')], [('Not', 'O'), ('a', 'O'), ('fan', 'O'), ('of', 'O'), ('long', 'O'), ('term', 'O'), ('use', 'O'), ('of', 'O'), ('#', 'O'), ('methadone', 'O'), ('or', 'O'), ('#', 'B-Drug'), ('suboxone', 'I-Drug'), ('for', 'O'), ('treatment', 'O'), ('of', 'O'), ('opiate', 'O'), ('addiction', 'O'), ('.', 'O'), ('If', 'O'), ('it', 'O'), ('works', 'O'), ('for', 'O'), ('you', 'O'), ('that', 'O'), (\"'\", 'O'), ('s', 'O'), ('great', 'O'), ('.', 'O')], [('$', 'O'), ('CLSN', 'O'), ('+', 'O'), ('15', 'O'), ('%', 'O'), ('$', 'O'), ('2', 'O'), ('.', 'O'), ('12', 'O'), ('impressive', 'O'), ('pre', 'O'), ('-', 'O'), ('clinical', 'O'), ('data', 'O'), ('for', 'O'), ('its', 'O'), ('GEN', 'O'), ('-', 'O'), ('1', 'O'), ('IL', 'O'), ('-', 'O'), ('12', 'O'), ('immunotherapy', 'O'), ('in', 'O'), ('combination', 'O'), ('with', 'O'), ('Avastin', 'B-Drug'), ('®', 'O'), ('and', 'O'), ('Doxil', 'O'), ('®', 'O'), ('for', 'O'), ('ovarian', 'B-Disease'), ('cancer', 'I-Disease'), ('.', 'O')], [('Feeling', 'O'), ('awful', 'O'), ('today', 'O'), ('.', 'O'), ('Nerve', 'B-Symptom'), ('pain', 'I-Symptom'), ('everywhere', 'O'), ('.', 'O'), ('Exactly', 'O'), ('like', 'O'), ('if', 'O'), ('I', 'O'), ('hadn', 'O'), (\"'\", 'O'), ('t', 'O'), ('taken', 'O'), ('my', 'O'), ('duloxetine', 'B-Drug'), ('this', 'O'), ('morning', 'O'), ('.', 'O'), ('But', 'O'), ('I', 'O'), ('did', 'O'), ('.', 'O'), ('&', 'O'), ('gt', 'O'), (';', 'O'), ('.', 'O'), ('&', 'O'), ('gt', 'O'), (';', 'O')], [('Day', 'O'), ('4', 'O'), (':', 'O'), ('Percy', 'O'), ('is', 'O'), ('getting', 'O'), ('lonely', 'O'), ('as', 'O'), ('he', 'O'), ('has', 'O'), ('no', 'O'), ('one', 'O'), ('to', 'O'), ('pinch', 'O'), ('him', 'O'), ('anymore', 'O'), ('.', 'O'), ('Depression', 'O'), ('may', 'O'), ('be', 'O'), ('setting', 'O'), ('in', 'O'), ('.', 'O'), ('Trying', 'O'), ('to', 'O'), ('get', 'O'), ('Cymbalta', 'B-Drug'), ('if', 'O'), ('ya', 'O'), ('know', 'O'), ('a', 'O'), ('guy', 'O')], [('Just', 'O'), ('got', 'O'), ('back', 'O'), ('from', 'O'), ('seeing', 'O'), ('my', 'O'), ('shrink', 'O'), ('.', 'O'), ('He', 'O'), ('doubled', 'O'), ('my', 'O'), ('Lamictal', 'B-Drug'), ('to', 'O'), ('200mg', 'O'), ('a', 'O'), ('day', 'O'), ('and', 'O'), ('tripled', 'O'), ('my', 'O'), ('trazadone', 'B-Drug'), ('to', 'O'), ('150mg', 'O'), ('at', 'O'), ('bedtime', 'O'), ('.', 'O'), ('(', 'O'), ('As', 'O'), ('needed', 'O'), (')', 'O'), ('#', 'B-Disease'), ('BiPolar', 'I-Disease')], [('.', 'O'), ('.', 'O'), ('.', 'O'), ('And', 'O'), ('back', 'O'), ('on', 'O'), ('Provigil', 'B-Drug'), ('I', 'O'), ('go', 'O'), ('.', 'O'), (':', 'O'), ('(', 'O'), ('#', 'B-Disease'), ('ADHD', 'I-Disease'), ('#', 'O'), ('SickOfIt', 'O'), ('#', 'O'), ('PANDAS', 'O')], [('.', 'O'), ('@', 'O'), ('NoraReed', 'O'), ('woot', 'O'), ('!', 'O'), ('Yeah', 'O'), (',', 'O'), ('Effexor', 'B-Drug'), ('was', 'O'), ('a', 'O'), ('wonder', 'O'), ('drug', 'O'), ('in', 'O'), ('college', 'O'), (',', 'O'), ('it', 'O'), ('turned', 'O'), ('me', 'O'), ('from', 'O'), ('a', 'O'), ('really', 'O'), ('really', 'O'), ('anxious', 'B-Symptom'), ('kid', 'O'), ('into', 'O'), ('a', 'O'), ('really', 'O'), ('anxious', 'B-Symptom'), ('kid', 'O')], [('Shrink', 'O'), ('doubled', 'O'), ('my', 'O'), ('Lamictal', 'B-Drug'), ('dose', 'O'), ('to', 'O'), ('200mg', 'O'), ('daily', 'O'), ('.', 'O'), ('My', 'O'), ('Trazadone', 'B-Drug'), ('from', 'O'), ('50mg', 'O'), ('to', 'O'), ('150mg', 'O'), ('at', 'O'), ('bedtime', 'O'), ('.', 'O'), ('This', 'O'), ('could', 'O'), ('be', 'O'), ('interesting', 'O'), ('.', 'O'), ('#', 'O'), ('BiPolarFun', 'O')], [('Zoloft', 'B-Drug'), ('seriously', 'O'), ('makes', 'O'), ('you', 'O'), ('sweat', 'B-Symptom'), ('like', 'O'), ('no', 'O'), ('other', 'O'), ('it', 'O'), (\"'\", 'O'), ('s', 'O'), ('embarrassing', 'O')], [('My', 'O'), ('dad', 'O'), (\"'\", 'O'), ('s', 'O'), ('dry', 'B-Symptom'), ('cough', 'I-Symptom'), ('tonight', 'O'), ('every', 'O'), ('3min', 'O'), ('.', 'O'), ('.', 'O'), ('.', 'O'), ('Like', 'O'), ('no', 'O'), ('I', 'O'), ('don', 'O'), (\"'\", 'O'), ('t', 'O'), ('even', 'O'), ('wanna', 'O'), ('be', 'O'), ('in', 'O'), ('this', 'O'), ('room', 'O'), ('.', 'O'), ('#', 'B-Drug'), ('lisinopril', 'I-Drug')], [('It', 'O'), (\"'\", 'O'), ('s', 'O'), ('kind', 'O'), ('of', 'O'), ('impressive', 'O'), ('to', 'O'), ('be', 'O'), ('working', 'O'), ('towards', 'O'), ('a', 'O'), ('psych', 'O'), ('degree', 'O'), ('and', 'O'), ('missing', 'O'), ('that', 'O'), ('your', 'O'), ('own', 'O'), ('mother', 'O'), ('was', 'O'), ('depressed', 'B-Disease'), ('and', 'O'), ('suicidal', 'B-Symptom'), ('cause', 'O'), ('of', 'O'), ('trazodone', 'B-Drug'), ('.', 'O')], [('Researchers', 'O'), ('finds', 'O'), ('#', 'B-Disease'), ('BreastCancer', 'I-Disease'), ('drug', 'O'), ('tamoxifen', 'B-Drug'), ('gives', 'O'), ('WBCs', 'O'), ('a', 'O'), ('boost', 'O'), (',', 'O'), ('to', 'O'), ('respond', 'O'), ('better', 'O'), (',', 'O'), ('ensnare', 'O'), ('and', 'O'), ('kill', 'O'), ('bacteria', 'O'), ('in', 'O'), ('a', 'O'), ('laboratory', 'O'), ('experiment', 'O'), ('.', 'O')], [('Effect', 'O'), ('of', 'O'), ('serial', 'O'), ('intrasilicone', 'O'), ('oil', 'O'), ('bevacizumab', 'B-Drug'), ('injections', 'O'), ('in', 'O'), ('eyes', 'O'), ('with', 'O'), ('recurrent', 'O'), ('proliferative', 'O'), ('vitreoretinopathy', 'O'), ('retinal', 'O'), ('detachment', 'O'), ('…', 'O')], [('Anxiety', 'B-Symptom'), ('b4', 'O'), ('final', 'O'), ('cancer', 'O'), ('treatment', 'O'), (',', 'O'), ('Tamoxifen', 'B-Drug'), (',', 'O'), ('was', 'O'), ('high', 'O'), ('!', 'O'), ('Dont', 'O'), ('take', 'O'), ('any', 'O'), ('meds', 'O'), (',', 'O'), ('so', 'O'), ('pills', 'O'), ('scare', 'O'), ('me', 'O'), ('.', 'O'), ('Its', 'O'), ('5yr', 'O'), ('standard', 'O'), ('20mg', 'O'), ('o', 'O'), ('/', 'O'), ('d', 'O'), ('for', 'O'), ('most', 'O'), ('breast', 'B-Disease'), ('cancer', 'I-Disease')], [('The', 'O'), ('amount', 'O'), ('of', 'O'), ('pain', 'B-Symptom'), ('from', 'O'), ('that', 'O'), ('cortisone', 'B-Drug'), ('shot', 'O'), ('was', 'O'), ('BRUTAL', 'O'), ('!', 'O'), ('Can', 'O'), (\"'\", 'O'), ('t', 'O'), ('even', 'O'), ('describe', 'O'), ('it', 'O'), ('.', 'O')], [('Breast', 'O'), ('cancer', 'O'), ('drug', 'O'), ('beats', 'O'), ('superbug', 'O'), ('-', 'O'), ('Researchers', 'O'), ('have', 'O'), ('found', 'O'), ('that', 'O'), ('the', 'O'), ('breast', 'B-Disease'), ('cancer', 'I-Disease'), ('drug', 'O'), ('tamoxifen', 'B-Drug'), ('gives', 'O'), ('white', 'O'), ('blood', 'O'), ('cells', 'O'), ('a', 'O'), ('boost', 'O'), (',', 'O'), ('better', 'O'), ('en', 'O'), ('…', 'O')], [('So', 'O'), ('even', 'O'), ('if', 'O'), ('normally', 'O'), ('the', 'O'), ('reaction', 'O'), ('to', 'O'), ('zonisamide', 'O'), ('isn', 'O'), (\"'\", 'O'), ('t', 'O'), ('as', 'O'), ('crazy', 'O'), ('as', 'O'), ('w', 'O'), ('/', 'O'), ('Tegretol', 'B-Drug'), (',', 'O'), ('the', 'O'), ('fact', 'O'), ('that', 'O'), ('I', 'O'), ('am', 'O'), ('prone', 'O'), ('to', 'O'), ('it', 'O'), ('means', 'O'), ('I', 'O'), ('can', 'O'), ('have', 'O'), ('a', 'O'), ('severe', 'O'), ('rash', 'B-Symptom'), ('.', 'O')], [('My', 'O'), ('medmix', 'O'), ('for', 'O'), ('#', 'B-Disease'), ('bipolar', 'I-Disease'), ('&', 'O'), ('amp', 'O'), (';', 'O'), ('#', 'O'), ('bpd', 'O'), ('now', 'O'), ('that', 'O'), ('the', 'O'), ('seasons', 'O'), ('are', 'O'), ('changing', 'O'), (':', 'O'), ('geodon', 'B-Drug'), (',', 'O'), ('lamictal', 'B-Drug'), (',', 'O'), ('Zoloft', 'B-Drug'), ('&', 'O'), ('amp', 'O'), (';', 'O'), ('extra', 'O'), ('clonazepam', 'O'), (',', 'O'), ('add', 'O'), ('Wellbutrin', 'O'), (',', 'O'), ('so', 'O'), ('far', 'O'), ('so', 'O'), ('good', 'O')], [('My', 'O'), ('respiratory', 'O'), ('system', 'O'), ('is', 'O'), ('just', 'O'), ('a', 'O'), ('mess', 'O'), ('.', 'O'), ('I', 'O'), ('think', 'O'), ('the', 'O'), ('Singulair', 'B-Drug'), ('may', 'O'), ('be', 'O'), ('working', 'O'), ('.', 'O'), ('Instead', 'O'), ('of', 'O'), ('sore', 'O'), ('throat', 'O'), (',', 'O'), ('I', 'O'), ('have', 'O'), ('a', 'O'), ('cough', 'B-Symptom'), ('at', 'O'), ('times', 'O'), ('today', 'O'), ('.', 'O'), ('hmm', 'O'), ('.', 'O')], [('Could', 'O'), ('a', 'O'), ('breast', 'O'), ('cancer', 'O'), ('drug', 'O'), ('wipe', 'O'), ('out', 'O'), ('MRSA', 'B-Symptom'), ('in', 'O'), ('hospitals', 'O'), ('?', 'O'), ('Tamoxifen', 'B-Drug'), ('can', 'O'), ('help', 'O'), ('the', 'O'), ('body', 'O'), ('trap', 'O'), ('and', 'O'), ('kill', 'O'), ('.', 'O'), ('.', 'O'), ('.', 'O')], [('The', 'O'), ('\"', 'B-Symptom'), ('renal', 'I-Symptom'), ('protective', 'I-Symptom'), ('\"', 'I-Symptom'), ('effects', 'O'), ('of', 'O'), ('lisinopril', 'B-Drug'), ('do', 'O'), ('not', 'O'), ('exist', 'O'), ('at', 'O'), ('2', 'O'), ('.', 'O'), ('5mg', 'O')], [('Tamoxifen', 'B-Drug'), ('is', 'O'), ('a', 'O'), ('chemo', 'O'), ('drug', 'O'), ('given', 'O'), ('to', 'O'), ('women', 'O'), ('to', 'O'), ('treat', 'O'), ('#', 'B-Disease'), ('breastcancer', 'I-Disease'), ('.', 'O'), ('It', 'O'), ('is', 'O'), ('a', 'O'), ('known', 'O'), ('#', 'O'), ('carcinogen', 'O'), ('.', 'O'), ('Treat', 'O'), ('1', 'O'), ('cancer', 'O'), ('to', 'O'), ('get', 'O'), ('another', 'O'), ('?', 'O'), ('#', 'O'), ('ModernMedicine', 'O')], [('Off', 'O'), ('label', 'O'), ('use', 'O'), ('of', 'O'), ('Modafinil', 'B-Drug'), ('is', 'O'), ('appetite', 'B-Symptom'), ('suppression', 'I-Symptom'), ('so', 'O'), ('won', 'O'), (\"'\", 'O'), ('t', 'O'), ('worry', 'O'), ('for', 'O'), ('obesity', 'O'), (',', 'O'), ('it', 'O'), ('is', 'O'), ('also', 'O'), ('useful', 'O'), ('in', 'O'), ('nicotine', 'B-Symptom'), ('craving', 'I-Symptom'), ('ask', 'O'), ('ur', 'O'), ('doctor', 'O'), ('now', 'O')], [('Hmm', 'O'), ('.', 'O'), ('this', 'O'), ('Lamictal', 'B-Drug'), ('has', 'O'), ('a', 'O'), ('side', 'O'), ('effect', 'O'), ('of', 'O'), ('increasing', 'B-Symptom'), ('libido', 'I-Symptom'), ('.', 'O'), ('And', 'O'), ('it', 'O'), ('does', 'O'), ('.', 'O'), ('Lovely', 'O'), ('.', 'O'), ('Hell', 'O'), ('of', 'O'), ('a', 'O'), ('time', 'O'), ('not', 'O'), ('to', 'O'), ('be', 'O'), ('involved', 'O'), ('.', 'O')], [('I', 'O'), ('take', 'O'), ('adderall', 'B-Drug'), ('to', 'O'), ('help', 'O'), ('me', 'O'), ('focus', 'O'), ('when', 'O'), ('I', 'O'), ('study', 'O'), ('for', 'O'), ('exams', 'O')], [('I', 'O'), ('took', 'O'), ('about', 'O'), ('8', 'O'), ('ambien', 'O'), ('and', 'O'), ('8', 'O'), ('trazodone', 'B-Drug'), ('and', 'O'), ('had', 'O'), ('my', 'O'), ('bf', 'O'), ('come', 'O'), ('home', 'O'), ('literally', 'O'), ('5', 'O'), ('minutes', 'O'), ('later', 'O'), ('I', 'O'), (\"'\", 'O'), ('d', 'O'), ('be', 'O'), ('dead', 'O'), ('.', 'O'), ('I', 'O'), ('would', 'O'), (\"'\", 'O'), ('ve', 'O'), ('choked', 'O'), ('on', 'O'), ('puke', 'O'), ('in', 'O'), ('my', 'O'), ('sleep', 'O'), ('.', 'O')], [('Teratogenic', 'B-Symptom'), ('effects', 'O'), ('of', 'O'), ('Valproate', 'O'), (',', 'O'), ('Phenytoin', 'O'), (',', 'O'), ('Carbamazepine', 'B-Drug'), ('#', 'O'), ('AED', 'O'), ('#', 'O'), ('SSRI', 'O'), ('cost', 'O'), ('UK', 'O'), ('£', 'O'), ('billions', 'O'), ('&', 'O'), ('amp', 'O'), (';', 'O'), ('huge', 'O'), ('long', 'O'), ('term', 'O'), ('suffering', 'O'), ('.', 'O'), ('#', 'O'), ('NICEConf15', 'O')], [('It', 'O'), (\"'\", 'O'), ('s', 'O'), ('been', 'O'), ('40', 'O'), ('hours', 'O'), ('since', 'O'), ('I', 'O'), ('last', 'O'), ('slept', 'O'), ('and', 'O'), ('because', 'O'), ('of', 'O'), ('the', 'O'), ('adderall', 'B-Drug'), ('I', 'O'), (\"'\", 'O'), ('m', 'O'), ('stuck', 'O'), ('awake', 'B-Symptom'), ('and', 'O'), ('exhausted', 'B-Symptom'), ('😭', 'O')], [('The', 'O'), ('side', 'O'), ('effects', 'O'), ('of', 'O'), ('coming', 'O'), ('of', 'O'), ('Citalopram', 'B-Drug'), ('are', 'O'), ('hitting', 'O'), ('me', 'O'), ('really', 'O'), ('hard', 'O'), ('at', 'O'), ('the', 'O'), ('moment', 'O'), ('.', 'O'), ('Feel', 'O'), ('dizzy', 'B-Symptom'), ('and', 'O'), ('totally', 'O'), ('disconnected', 'B-Symptom'), ('from', 'O'), ('everything', 'O'), ('.', 'O')], [('Have', 'O'), ('to', 'O'), ('bump', 'O'), ('prednisone', 'B-Drug'), ('dose', 'O'), ('up', 'O'), ('again', 'O'), ('.', 'O'), ('Get', 'O'), ('ready', 'O'), ('for', 'O'), ('return', 'O'), ('of', 'O'), ('Manic', 'B-Symptom'), ('Matt', 'O'), ('.', 'O'), ('👹', 'O')], [('I', 'O'), ('like', 'O'), ('that', 'O'), ('nice', 'O'), ('euphoric', 'B-Symptom'), ('feeling', 'O'), ('vyvanse', 'B-Drug'), ('gives', 'O'), ('you', 'O'), ('before', 'O'), ('it', 'O'), ('makes', 'O'), ('you', 'O'), ('feel', 'B-Symptom'), ('like', 'I-Symptom'), ('ass', 'I-Symptom'), ('all', 'O'), ('day', 'O')], [('Ritalin', 'B-Drug'), ('Adderall', 'B-Drug'), ('Vyvanse', 'B-Drug'), ('ect', 'O'), (',', 'O'), ('are', 'O'), ('all', 'O'), ('ADHD', 'B-Disease'), ('medications', 'O'), ('with', 'O'), ('stimulants', 'O'), ('of', 'O'), ('(', 'O'), ('Meth', 'O'), (')', 'O'), ('!', 'O')], [('Really', 'O'), ('hoping', 'O'), ('this', 'O'), ('#', 'B-Drug'), ('prednisone', 'I-Drug'), ('doesn', 'O'), (\"'\", 'O'), ('t', 'O'), ('make', 'O'), ('me', 'O'), ('gain', 'B-Symptom'), ('weight', 'I-Symptom'), ('like', 'O'), ('everyone', 'O'), ('says', 'O'), ('.', 'O'), ('.', 'O'), ('.', 'O'), ('I', 'O'), (\"'\", 'O'), ('ve', 'O'), ('worked', 'O'), ('too', 'O'), ('hard', 'O'), ('to', 'O'), ('get', 'O'), ('to', 'O'), ('where', 'O'), ('I', 'O'), ('am', 'O'), ('.', 'O')], [('fucking', 'O'), ('love', 'O'), ('zyprexa', 'B-Drug'), (',', 'O'), ('i', 'O'), ('just', 'O'), ('ate', 'O'), ('an', 'O'), ('enitre', 'O'), ('chicken', 'O'), ('alfredo', 'O'), ('thing', 'O'), ('that', 'O'), ('was', 'O'), ('meant', 'O'), ('for', 'O'), ('like', 'O'), ('4', 'O'), ('people', 'O'), ('and', 'O'), ('i', 'O'), ('am', 'O'), ('still', 'O'), ('hungry', 'B-Symptom')], [('Andrea', 'O'), ('Yates', 'O'), ('drowned', 'O'), ('all', 'O'), ('5', 'O'), ('of', 'O'), ('her', 'O'), ('children', 'O'), ('in', 'O'), ('the', 'O'), ('bathtub', 'O'), (',', 'O'), ('age', 'O'), ('7', 'O'), ('to', 'O'), ('6', 'O'), ('mnth', 'O'), ('.', 'O'), ('Yates', 'O'), ('was', 'O'), ('taking', 'O'), ('antidepressant', 'O'), ('Effexor', 'B-Drug'), ('#', 'O'), ('GunViolence', 'O'), ('@', 'O'), ('CoryBooker', 'O')], [('Why', 'O'), ('IS', 'O'), ('There', 'O'), ('So', 'O'), ('Much', 'O'), ('#', 'B-Disease'), ('Fibromyalgia', 'I-Disease'), ('in', 'O'), ('Recent', 'O'), ('Years', 'O'), ('?', 'O'), ('How', 'O'), ('much', 'O'), ('of', 'O'), ('what', 'O'), ('is', 'O'), ('diagnosed', 'O'), ('as', 'O'), ('Fibro', 'O'), ('is', 'O'), ('really', 'O'), ('caused', 'O'), ('by', 'O'), ('#', 'B-Drug'), ('Ciprofloxacin', 'I-Drug'), ('?', 'O'), ('#', 'O'), ('nutrition', 'O')], [('2', 'O'), ('.', 'O'), ('Tamoxifen', 'B-Drug'), (':', 'O'), ('cut', 'O'), ('lifetime', 'O'), ('risk', 'O'), ('of', 'O'), ('#', 'B-Disease'), ('breastcancer', 'I-Disease'), ('by', 'O'), ('50', 'O'), ('%', 'O'), ('-', 'O'), ('Dr', 'O'), ('.', 'O'), ('Catherine', 'O'), ('Pesce', 'O'), ('#', 'O'), ('BRCAnJews', 'O'), ('#', 'O'), ('BRCAPrevention', 'O')], [('They', 'O'), ('Gave', 'O'), ('Me', 'O'), ('Some', 'O'), ('Prednisone', 'B-Drug'), ('&', 'O'), ('amp', 'O'), (';', 'O'), ('A', 'O'), ('Asthma', 'B-Disease'), ('Pump', 'O')], [('I', 'O'), (\"'\", 'O'), ('d', 'O'), ('really', 'O'), ('like', 'O'), ('to', 'O'), ('know', 'O'), ('if', 'O'), ('others', 'O'), ('who', 'O'), (\"'\", 'O'), ('ve', 'O'), ('been', 'O'), ('on', 'O'), ('long', 'O'), ('-', 'O'), ('term', 'O'), ('use', 'O'), ('of', 'O'), ('tegretol', 'B-Drug'), ('have', 'O'), ('achy', 'B-Symptom'), ('-', 'I-Symptom'), ('bones', 'I-Symptom'), ('or', 'O'), ('if', 'O'), ('upon', 'O'), ('turning', 'O'), ('43', 'O'), ('my', 'O'), ('body', 'O'), ('just', 'O'), ('said', 'O'), (\"'\", 'O'), ('Fuck', 'O'), ('it', 'O'), (\"'\", 'O')], [('So', 'O'), ('in', 'O'), ('my', 'O'), ('head', 'O'), ('I', 'O'), ('can', 'O'), (\"'\", 'O'), ('t', 'O'), ('even', 'O'), ('stay', 'O'), ('asleep', 'B-Symptom'), ('on', 'O'), ('seroquel', 'B-Drug'), ('lol', 'O')], [('I', 'O'), ('really', 'O'), ('hate', 'O'), ('the', 'O'), ('mood', 'B-Symptom'), ('swings', 'I-Symptom'), ('that', 'O'), ('come', 'O'), ('with', 'O'), ('being', 'O'), ('on', 'O'), ('Prednisone', 'B-Drug'), ('.', 'O'), ('.', 'O'), ('.', 'O'), ('.', 'O'), ('.', 'O'), ('I', 'O'), ('be', 'O'), ('a', 'O'), ('real', 'O'), ('bitch', 'O'), ('for', 'O'), ('no', 'O'), ('reason', 'O'), ('sometimes', 'O')], [('As', 'O'), ('much', 'O'), ('as', 'O'), ('I', 'O'), ('want', 'O'), ('to', 'O'), ('murder', 'O'), ('the', 'O'), ('guy', 'O'), ('with', 'O'), ('the', 'O'), ('dry', 'B-Symptom'), ('cough', 'I-Symptom'), ('sitting', 'O'), ('next', 'O'), ('to', 'O'), ('me', 'O'), (',', 'O'), ('I', 'O'), ('wonder', 'O'), ('if', 'O'), ('he', 'O'), (\"'\", 'O'), ('s', 'O'), ('on', 'O'), ('Lisinopril', 'B-Drug'), ('.', 'O')], [('Neuro', 'O'), ('tomorrow', 'O'), ('.', 'O'), ('Getting', 'O'), ('back', 'O'), ('on', 'O'), ('topamax', 'B-Drug'), ('(', 'O'), ('boo', 'O'), ('!', 'O'), (')', 'O'), ('and', 'O'), ('need', 'O'), ('to', 'O'), ('discus', 'O'), ('treatment', 'O'), ('for', 'O'), ('when', 'O'), ('I', 'O'), (\"'\", 'O'), ('m', 'O'), ('in', 'O'), ('the', 'O'), ('middle', 'O'), ('of', 'O'), ('a', 'O'), ('migraine', 'O'), ('.', 'O')], [('Breast', 'B-Disease'), ('Cancer', 'I-Disease'), ('Drug', 'O'), ('Tamoxifen', 'B-Drug'), ('Boosts', 'O'), ('Immune', 'O'), ('Response', 'O'), ('Against', 'O'), ('MRSA', 'O')], [('The', 'O'), ('trazodone', 'B-Drug'), ('my', 'O'), ('psychiatrist', 'O'), ('gave', 'O'), ('me', 'O'), ('makes', 'O'), ('me', 'O'), ('sleepy', 'B-Symptom'), ('enough', 'O'), ('I', 'O'), ('have', 'O'), ('to', 'O'), ('lay', 'O'), ('down', 'O'), ('but', 'O'), ('not', 'O'), ('sleepy', 'B-Symptom'), ('enough', 'I-Symptom'), ('to', 'I-Symptom'), ('sleep', 'I-Symptom'), ('or', 'I-Symptom'), ('stay', 'I-Symptom'), ('asleep', 'I-Symptom'), ('once', 'I-Symptom'), ('I', 'I-Symptom'), ('am', 'I-Symptom'), ('.', 'O')], [('I', 'O'), ('accidentally', 'O'), ('took', 'O'), ('the', 'O'), ('wrong', 'O'), ('dose', 'O'), ('of', 'O'), ('topamax', 'B-Drug'), ('last', 'O'), ('night', 'O'), ('and', 'O'), ('now', 'O'), ('I', 'O'), ('can', 'O'), (\"'\", 'O'), ('t', 'O'), ('feel', 'B-Symptom'), ('my', 'I-Symptom'), ('hands', 'I-Symptom'), ('😩', 'O')], [('Anticonvulsants', 'O'), ('such', 'O'), ('as', 'O'), ('Carbatrol', 'O'), (',', 'O'), ('Epitol', 'O'), (',', 'O'), ('Equetro', 'O'), (',', 'O'), ('Tegretol', 'B-Drug'), (',', 'O'), ('Tegretol', 'O'), ('XR', 'O'), ('(', 'O'), ('carbamazepine', 'B-Drug'), (')', 'O'), ('can', 'O'), ('increase', 'O'), ('the', 'O'), ('break', 'O'), ('down', 'O'), ('of', 'O'), ('the', 'O'), ('hormones', 'O')], [('Breast', 'B-Disease'), ('cancer', 'I-Disease'), ('fact', 'O'), (':', 'O'), ('tamoxifen', 'B-Drug'), ('is', 'O'), ('a', 'O'), ('carcinogen', 'O'), ('which', 'O'), ('is', 'O'), ('used', 'O'), ('to', 'O'), ('\"', 'O'), ('prevent', 'O'), ('\"', 'O'), ('cancer', 'O'), ('yet', 'O'), ('causes', 'O'), ('it', 'O'), ('in', 'O'), ('other', 'O'), ('places', 'O'), ('of', 'O'), ('the', 'O'), ('body', 'O'), ('#', 'O'), ('DoNotTakeThis', 'O')], [('Which', 'O'), ('of', 'O'), ('the', 'O'), ('following', 'O'), ('drugs', 'O'), ('provides', 'O'), ('hemodynamic', 'O'), ('stability', 'O'), ('and', 'O'), ('prolongs', 'O'), ('survial', 'O'), ('in', 'O'), ('congestive', 'O'), ('heart', 'O'), ('failure', 'O'), ('?', 'O'), ('?', 'O'), ('Answer', 'O'), (':', 'O'), ('Lisinopril', 'B-Drug')], [('i', 'O'), ('think', 'O'), ('im', 'O'), ('going', 'O'), ('to', 'O'), ('ask', 'O'), ('to', 'O'), ('go', 'O'), ('down', 'O'), ('on', 'O'), ('adderall', 'B-Drug'), ('as', 'O'), ('the', 'O'), ('effexor', 'B-Drug'), ('increases', 'O'), ('bc', 'O'), ('im', 'O'), ('worried', 'O'), ('ab', 'O'), ('getting', 'O'), ('serotonin', 'O'), ('syndrome', 'O'), ('again', 'O'), ('when', 'O'), ('it', 'O'), ('can', 'O'), ('be', 'O'), ('fix', 'O')], [('Depression', 'O'), ('hurts', 'O'), ('.', 'O'), ('.', 'O'), ('.', 'O'), ('cymbalta', 'B-Drug'), ('will', 'O'), ('not', 'O'), ('help', 'O'), ('.', 'O'), ('.', 'O'), ('.', 'O'), ('it', 'O'), ('is', 'O'), ('that', 'O'), ('fake', 'O'), ('friend', 'O'), ('that', 'O'), ('will', 'O'), ('stab', 'O'), ('you', 'O'), ('in', 'O'), ('the', 'O'), ('back', 'O'), ('and', 'O'), ('have', 'O'), ('you', 'O'), ('addicted', 'O'), ('to', 'O'), ('drugs', 'O')], [('I', 'O'), ('need', 'O'), ('to', 'O'), ('blame', 'O'), ('Celexa', 'B-Drug'), (',', 'O'), ('questionable', 'O'), ('alcohol', 'O'), ('dependency', 'O'), (',', 'O'), ('and', 'O'), ('2', 'O'), ('am', 'O'), ('Cheeto', 'O'), ('binges', 'O'), ('on', 'O'), ('something', 'O'), ('.', 'O'), ('#', 'O'), ('WhyIWrite', 'O')], [('In', 'O'), ('Nicaragua', 'O'), ('they', 'O'), ('stared', 'O'), ('this', 'O'), ('lady', 'O'), ('on', 'O'), ('tegretol', 'B-Drug'), ('for', 'O'), ('back', 'B-Symptom'), ('pain', 'I-Symptom'), ('.', 'O'), ('Now', 'O'), ('she', 'O'), (\"'\", 'O'), ('s', 'O'), ('sleepy', 'B-Symptom'), ('and', 'O'), ('her', 'O'), ('back', 'O'), ('hurts', 'O'), ('.', 'O')], [('Creppy', 'O'), ('I', 'O'), ('had', 'O'), ('a', 'O'), ('series', 'O'), ('of', 'O'), ('weird', 'B-Symptom'), ('dreams', 'I-Symptom'), ('as', 'O'), ('usual', 'O'), ('bc', 'O'), ('Trazodone', 'B-Drug')], [('Another', 'O'), ('round', 'O'), ('of', 'O'), ('prednisone', 'B-Drug'), ('&', 'O'), ('amp', 'O'), (';', 'O'), ('another', 'O'), ('round', 'O'), ('of', 'O'), ('#', 'B-Symptom'), ('insomnia', 'I-Symptom'), ('.', 'O'), ('Not', 'O'), ('helping', 'O'), ('that', 'O'), ('I', 'O'), ('have', 'O'), ('to', 'O'), ('be', 'O'), ('at', 'O'), ('work', 'O'), ('at', 'O'), ('1100', 'O'), ('and', 'O'), ('it', 'O'), (\"'\", 'O'), ('s', 'O'), ('now', 'O'), ('530', 'O'), ('.', 'O'), ('#', 'O'), ('tomorrowsucksnow', 'O')], [('\"', 'O'), ('The', 'O'), ('only', 'O'), ('way', 'O'), ('out', 'O'), ('is', 'O'), ('through', 'O'), ('\"', 'O'), ('Check', 'O'), ('out', 'O'), ('my', 'O'), ('new', 'O'), ('post', 'O'), ('on', 'O'), ('the', 'O'), ('pain', 'B-Symptom'), ('of', 'O'), ('#', 'B-Drug'), ('Paxil', 'I-Drug'), ('#', 'O'), ('through', 'O'), ('#', 'B-Symptom'), ('panic', 'I-Symptom'), ('#', 'B-Symptom'), ('anxiety', 'I-Symptom'), ('#', 'B-Symptom'), ('pain', 'I-Symptom'), ('#', 'O'), ('hope', 'O')], [('L', 'O'), ('.', 'O'), ('Schmidt', 'O'), ('very', 'O'), ('excited', 'O'), ('by', 'O'), ('results', 'O'), ('of', 'O'), ('bevacizumab', 'B-Drug'), ('+', 'O'), ('erlotinib', 'O'), ('in', 'O'), ('HLRCC', 'O'), ('metastatic', 'O'), ('pap2RCC', 'O'), ('results', 'O'), (',', 'O'), ('ORR', 'O'), ('65', 'O'), ('%', 'O'), ('#', 'O'), ('NSGC2015', 'O')], [('$', 'O'), ('SNTA', 'O'), ('Shares', 'O'), ('Plunge', 'O'), ('71', 'O'), ('%', 'O'), ('After', 'O'), ('Terminating', 'O'), ('Trial', 'O'), ('of', 'O'), ('Lung', 'O'), ('Cancer', 'O'), ('Drugs', 'O'), ('Ganetespib', 'O'), (',', 'O'), ('Docetaxel', 'B-Drug')], [('Jto', 'O'), ('will', 'O'), ('start', 'O'), ('taking', 'O'), ('topamax', 'B-Drug'), ('pills', 'O'), ('to', 'O'), ('assist', 'O'), ('with', 'O'), ('weight', 'B-Symptom'), ('loss', 'I-Symptom'), ('as', 'O'), ('am', 'O'), ('obese', 'O'), ('and', 'O'), ('am', 'O'), ('really', 'O'), ('struggling', 'O'), ('with', 'O'), ('food', 'O'), ('.', 'O'), ('i', 'O'), ('hate', 'O'), ('eating', 'O'), ('disorder', 'O'), ('😢', 'O'), ('😢', 'O')], [('Been', 'O'), ('naughty', 'O'), ('and', 'O'), ('taken', 'O'), ('ibuprofen', 'O'), ('with', 'O'), ('my', 'O'), ('citalopram', 'B-Drug'), ('.', 'O'), ('But', 'O'), ('this', 'O'), ('migraine', 'O'), ('won', 'O'), (\"'\", 'O'), ('t', 'O'), ('budge', 'O')], [('46', 'O'), ('(', 'O'), ('10', 'O'), ('-', 'O'), ('21', 'O'), (')', 'O'), (':', 'O'), ('#', 'B-Disease'), ('Breast', 'I-Disease'), ('#', 'I-Disease'), ('cancer', 'I-Disease'), ('#', 'O'), ('drug', 'O'), ('beats', 'O'), ('#', 'O'), ('superbug', 'O'), ('.', 'O'), ('#', 'B-Drug'), ('tamoxifen', 'I-Drug'), ('#', 'O'), ('MRSA', 'O'), ('#', 'O'), ('ceramide', 'O'), ('#', 'O'), ('neutrophils', 'O')], [('Venlafaxine', 'B-Drug'), ('is', 'O'), ('the', 'O'), ('worst', 'O'), ('for', 'O'), ('night', 'B-Symptom'), ('sweats', 'I-Symptom'), ('and', 'O'), ('combined', 'O'), ('with', 'O'), ('a', 'O'), ('migraine', 'O'), ('.', 'O'), ('.', 'O'), ('ugh', 'O'), ('ugh', 'O'), ('ugh', 'O'), ('😣', 'O'), ('😷', 'O')], [('2000', 'O'), ('word', 'O'), ('essay', 'O'), ('and', 'O'), ('an', 'B-Symptom'), ('exam', 'I-Symptom'), ('which', 'I-Symptom'), ('I', 'I-Symptom'), ('haven', 'I-Symptom'), (\"'\", 'I-Symptom'), ('t', 'I-Symptom'), ('studied', 'I-Symptom'), ('for', 'O'), ('both', 'O'), ('due', 'O'), ('by', 'O'), ('tomorrow', 'O'), ('-', 'O'), ('challenge', 'O'), ('accepted', 'O'), ('#', 'B-Drug'), ('modafinil', 'I-Drug')], [('After', 'O'), ('two', 'O'), ('days', 'O'), ('of', 'O'), ('citalopram', 'B-Drug'), ('induced', 'O'), ('insomnia', 'B-Symptom'), (',', 'O'), ('I', 'O'), ('finally', 'O'), ('got', 'O'), ('a', 'O'), ('proper', 'O'), ('night', 'O'), (\"'\", 'O'), ('s', 'O'), ('sleep', 'O'), ('last', 'O'), ('night', 'O'), ('and', 'O'), ('I', 'O'), ('feel', 'O'), ('pretty', 'O'), ('good', 'O'), ('.', 'O')], [('Ranibizumab', 'O'), ('or', 'O'), ('bevacizumab', 'B-Drug'), ('for', 'O'), ('neovascular', 'O'), ('age', 'O'), ('-', 'O'), ('related', 'O'), ('macular', 'O'), ('degeneration', 'O'), ('according', 'O'), ('to', 'O'), ('the', 'O'), ('lucentis', 'O'), ('compared', 'O'), ('to', 'O'), ('avastin', 'B-Drug'), ('study', 'O'), ('treat', 'O'), ('-', 'O'), ('and', 'O'), ('-', 'O'), ('e', 'O'), ('…', 'O')], [('Having', 'O'), ('fourth', 'O'), ('avastin', 'B-Drug'), ('treatment', 'O'), ('at', 'O'), ('RMH', 'O'), ('all', 'O'), ('bloods', 'O'), ('are', 'O'), ('fine', 'O'), ('and', 'O'), ('recovered', 'O'), ('from', 'O'), ('MAN', 'O'), ('FLU', 'B-Symptom'), ('Feeling', 'O'), ('should', 'O'), ('soon', 'O'), ('return', 'O'), ('to', 'O'), ('hands', 'O'), ('and', 'O'), ('feet', 'O')], [('Managed', 'O'), ('to', 'O'), ('sleep', 'O'), ('off', 'O'), ('the', 'O'), ('sedating', 'O'), ('effects', 'O'), ('of', 'O'), ('quetiapine', 'B-Drug'), ('.', 'O'), ('.', 'O'), ('.', 'O'), ('yay', 'O'), ('.', 'O'), ('.', 'O'), ('.', 'O'), ('so', 'O'), ('for', 'O'), ('my', 'O'), ('hour', 'O'), ('out', 'O'), ('will', 'O'), ('go', 'O'), ('for', 'O'), ('walk', 'O'), ('to', 'O'), ('blow', 'O'), ('the', 'O'), ('cobwebs', 'O'), ('away', 'O'), ('.', 'O'), ('.', 'O'), ('.', 'O'), ('#', 'O'), ('NeedFreshAir', 'O')], [('ha', 'O'), ('!', 'O'), ('cortisone', 'B-Drug'), ('injections', 'O'), ('into', 'O'), ('joints', 'O'), ('often', 'O'), ('work', 'O'), ('poorly', 'O'), ('for', 'O'), ('those', 'O'), ('w', 'O'), ('/', 'O'), ('#', 'B-Disease'), ('RheumatoidArthritis', 'I-Disease'), ('-', 'O'), ('(', 'O'), ('oa', 'O'), ('❎', 'O'), ('ra', 'O'), (')', 'O'), (';', 'O'), ('they', 'O'), ('don', 'O'), (\"'\", 'O'), ('t', 'O'), ('address', 'O'), ('underlying', 'O'), ('problems', 'O'), ('.', 'O')], [('Moderate', 'O'), ('risk', 'O'), ('for', 'O'), ('#', 'B-Disease'), ('breastcancer', 'I-Disease'), (':', 'O'), ('consider', 'O'), ('use', 'O'), ('of', 'O'), ('SERMs', 'O'), ('(', 'O'), ('tamoxifen', 'B-Drug'), (',', 'O'), ('raloxifene', 'O'), (')', 'O'), (';', 'O'), ('data', 'O'), ('on', 'O'), ('benefit', 'O'), ('incomplete', 'O'), ('in', 'O'), ('this', 'O'), ('risk', 'O'), ('profile', 'O'), ('#', 'O'), ('NSGC2015', 'O')], [('Does', 'O'), ('a', 'O'), ('single', 'O'), ('dose', 'O'), ('of', 'O'), ('buprenorphine', 'B-Drug'), ('produce', 'O'), ('neonatal', 'O'), ('abstinence', 'O'), ('or', 'O'), ('withdrawal', 'B-Symptom'), ('state', 'I-Symptom'), ('in', 'O'), ('neonate', 'O'), ('?', 'O'), ('#', 'O'), ('toxthurs', 'O')], [('7', 'O'), ('weeks', 'O'), ('ago', 'O'), ('I', 'O'), ('won', 'O'), ('my', 'O'), ('battle', 'O'), ('with', 'O'), ('stage', 'O'), ('2', 'O'), ('breast', 'B-Disease'), ('cancer', 'I-Disease'), ('@', 'O'), ('BCCare', 'O'), ('@', 'O'), ('AmericanCancer', 'O'), ('.', 'O'), ('I', 'O'), (\"'\", 'O'), ('m', 'O'), ('truly', 'O'), ('blessed', 'O'), ('.', 'O'), ('No', 'O'), ('chemo', 'O'), ('or', 'O'), ('Radiation', 'O'), ('just', 'O'), ('tamoxifen', 'B-Drug')], [('Examples', 'O'), ('of', 'O'), ('anticonvulsants', 'B-Symptom'), (':', 'O'), ('Tegretol', 'B-Drug'), ('(', 'O'), ('carbamazepine', 'B-Drug'), (')', 'O'), ('Carbatrol', 'O'), ('(', 'O'), ('carbamazepine', 'O'), ('extended', 'O'), ('-', 'O'), ('release', 'O'), (')', 'O')], [('$', 'O'), ('ENDP', 'O'), ('U', 'O'), ('.', 'O'), ('S', 'O'), ('.', 'O'), ('FDA', 'O'), ('Approves', 'O'), ('BELBUCA', 'O'), ('(', 'O'), ('buprenorphine', 'B-Drug'), (')', 'O'), ('Buccal', 'O'), ('Film', 'O'), ('for', 'O'), ('Chronic', 'B-Symptom'), ('Pain', 'I-Symptom'), ('Management', 'O'), ('(', 'O'), ('Dow', 'O'), ('Jones', 'O'), ('10', 'O'), ('/', 'O'), ('26', 'O'), ('06', 'O'), (':', 'O'), ('00', 'O'), (':', 'O'), ('02', 'O'), (')', 'O')], [('$', 'O'), ('BDSI', 'O'), ('FDA', 'O'), ('Approval', 'O'), ('of', 'O'), ('BELBUCA', 'O'), ('™', 'O'), ('(', 'O'), ('CIII', 'O'), (')', 'O'), ('(', 'O'), ('Buprenorphine', 'B-Drug'), ('HCl', 'O'), (')', 'O'), ('Buccal', 'O'), ('Film', 'O'), ('for', 'O'), ('Chronic', 'B-Symptom'), ('Pain', 'I-Symptom'), ('Triggers', 'O'), ('Milestone', 'O'), ('Pay', 'O'), ('From', 'O'), ('our', 'O'), ('Stock', 'O'), ('News', 'O'), ('Alerts', 'O'), ('App', 'O')], [('Does', 'O'), ('Citalopram', 'B-Drug'), ('make', 'O'), ('you', 'O'), ('feel', 'O'), ('nauseous', 'B-Symptom'), ('cause', 'O'), ('I', 'O'), ('feel', 'O'), ('sick', 'O'), ('as', 'O'), ('all', 'O'), ('hell', 'O'), ('.', 'O')], [('The', 'O'), ('Effexor', 'B-Drug'), ('is', 'O'), ('causing', 'O'), ('me', 'O'), ('to', 'O'), ('get', 'O'), ('pimples', 'B-Symptom'), ('.', 'O'), ('.', 'O'), ('.', 'O'), ('.', 'O')], [('More', 'O'), ('than', 'O'), ('half', 'O'), ('the', 'O'), ('shooters', 'O'), ('involved', 'O'), ('in', 'O'), ('mass', 'O'), ('shootings', 'O'), ('were', 'O'), ('taking', 'O'), ('depression', 'B-Disease'), ('medication', 'O'), ('like', 'O'), ('Zoloft', 'B-Drug'), ('and', 'O'), ('Prozac', 'B-Drug'), ('.', 'O')], [('Been', 'O'), ('to', 'O'), ('GP', 'O'), ('today', 'O'), ('-', 'O'), ('dosage', 'O'), ('of', 'O'), ('#', 'O'), ('migraine', 'O'), ('meds', 'O'), ('altered', 'O'), ('agn', 'O'), (':', 'O'), ('lowered', 'O'), ('Betablockers', 'O'), ('(', 'O'), ('propranolol', 'O'), ('80mg', 'O'), ('from', 'O'), ('160', 'O'), (')', 'O'), ('&', 'O'), ('amp', 'O'), (';', 'O'), ('upped', 'O'), ('Topiramate', 'B-Drug'), ('to', 'O'), ('125mg', 'O'), ('from', 'O'), ('75', 'O')], [('Oh', 'O'), ('@', 'O'), ('mollyseima', 'O'), ('it', 'O'), (\"'\", 'O'), ('s', 'O'), ('back', 'O'), ('to', 'O'), ('hourly', 'O'), ('prednisone', 'B-Drug'), ('-', 'O'), ('have', 'O'), ('a', 'O'), ('rare', 'O'), ('infection', 'O'), ('between', 'O'), ('the', 'O'), ('cornea', 'O'), ('and', 'O'), ('lens', 'O'), ('like', 'O'), ('cobwebs', 'O'), ('of', 'O'), ('infected', 'O'), ('cells', 'O'), (':', 'O'), ('(', 'O')], [('How', 'O'), ('did', 'O'), ('I', 'O'), ('sleep', 'O'), ('for', 'O'), ('16', 'O'), ('hours', 'O'), ('?', 'O'), ('Doctor', 'O'), ('gave', 'O'), ('me', 'O'), ('trazodone', 'B-Drug'), (',', 'O'), ('I', 'O'), ('say', 'O'), ('how', 'O'), ('about', 'O'), ('trazodont', 'O'), ('.', 'O'), ('Fuck', 'O'), ('.', 'O')], [('wonder', 'O'), ('if', 'O'), ('JB', 'O'), ('treated', 'O'), ('with', 'O'), ('any', 'O'), ('antibiotic', 'O'), ('like', 'O'), ('Levaquin', 'B-Drug'), ('or', 'O'), ('Cipro', 'O'), ('.', 'O'), ('Can', 'O'), ('cause', 'O'), ('tendon', 'O'), ('damage', 'O'), (',', 'O'), ('esp', 'O'), ('.', 'O'), ('Achilles', 'O'), ('and', 'O'), ('hamstring', 'O')], [('you', 'O'), ('want', 'O'), ('to', 'O'), ('see', 'O'), ('the', 'O'), ('real', 'O'), ('#', 'O'), ('TheWalkingDead', 'O'), ('?', 'O'), ('Find', 'O'), ('people', 'O'), ('on', 'O'), ('Topamax', 'B-Drug'), ('.', 'O'), ('I', 'O'), ('can', 'O'), (\"'\", 'O'), ('t', 'O'), ('stay', 'O'), ('awake', 'O'), ('more', 'O'), ('than', 'O'), ('2', 'O'), ('hrs', 'O'), ('at', 'O'), ('a', 'O'), ('time', 'O'), ('w', 'O'), ('/', 'O'), ('o', 'O'), ('chugging', 'O'), ('red', 'O'), ('bulls', 'O'), ('.', 'O')], [('Then', 'O'), ('the', 'O'), ('Tamoxifen', 'B-Drug'), (',', 'O'), ('the', 'O'), ('ONLY', 'O'), ('drug', 'O'), ('that', 'O'), ('protects', 'O'), ('me', 'O'), ('from', 'O'), ('a', 'O'), ('reoccurrence', 'O'), ('of', 'O'), ('breast', 'B-Disease'), ('cancer', 'I-Disease'), (',', 'O'), ('nearly', 'O'), ('killed', 'O'), ('me', 'O'), (',', 'O'), ('so', 'O'), ('I', 'O'), ('can', 'O'), (\"'\", 'O'), ('t', 'O'), ('take', 'O'), ('it', 'O'), ('.', 'O'), ('.', 'O'), ('.', 'O')], [('Got', 'O'), ('a', 'O'), ('paper', 'O'), ('to', 'O'), ('finish', 'O'), ('in', 'O'), ('less', 'O'), ('than', 'O'), ('#', 'O'), ('2hrs', 'O'), ('.', 'O'), ('Took', 'O'), ('concerta', 'B-Drug'), (',', 'O'), ('AND', 'O'), ('a', 'O'), ('double', 'O'), ('shot', 'O'), ('of', 'O'), ('#', 'O'), ('espresso', 'O'), ('this', 'O'), ('morning', 'O'), ('!', 'O'), ('!', 'O'), ('#', 'B-Symptom'), ('palpitations', 'I-Symptom')], [('Finally', 'O'), ('took', 'O'), ('my', 'O'), ('seroquel', 'B-Drug'), ('so', 'O'), ('here', 'O'), ('in', 'O'), ('about', 'O'), ('30', 'O'), ('mins', 'O'), ('this', 'O'), ('girl', 'O'), ('is', 'O'), ('gonnneee', 'O'), ('.', 'O'), ('Good', 'O'), ('night', 'O'), ('😇', 'O'), ('✌', 'O')], [('\"', 'O'), ('Discontinuing', 'O'), ('paroxetine', 'B-Drug'), ('is', 'O'), ('associated', 'O'), ('with', 'O'), ('a', 'O'), ('high', 'O'), ('(', 'O'), ('7', 'O'), ('%', 'O'), (')', 'O'), ('risk', 'O'), ('of', 'O'), ('withdrawal', 'O'), ('syndrome', 'O'), ('\"', 'O'), ('Lmao', 'O'), ('yeah', 'O'), ('no', 'O'), ('goddamn', 'O'), ('shit', 'O'), ('.', 'O')], [('*', 'O'), ('Freshmen', 'O'), ('*', 'O'), ('\"', 'O'), ('Bout', 'O'), ('to', 'O'), ('take', 'O'), ('this', 'O'), ('vyvanse', 'B-Drug'), ('before', 'O'), ('bed', 'O'), ('to', 'O'), ('focus', 'B-Symptom'), ('on', 'I-Symptom'), ('sleeping', 'I-Symptom'), ('and', 'O'), ('not', 'O'), ('stay', 'B-Symptom'), ('up', 'I-Symptom'), ('all', 'I-Symptom'), ('night', 'I-Symptom'), ('\"', 'O')], [('I', 'O'), ('feel', 'O'), ('like', 'O'), ('I', 'O'), (\"'\", 'O'), ('m', 'O'), ('growing', 'O'), ('increasingly', 'O'), ('unstable', 'B-Symptom'), ('.', 'O'), ('I', 'O'), ('want', 'O'), ('to', 'O'), ('blame', 'O'), ('the', 'O'), ('paxil', 'B-Drug'), (',', 'O'), ('but', 'O'), ('I', 'O'), ('wonder', 'O'), ('if', 'O'), ('this', 'O'), ('has', 'O'), ('been', 'O'), ('me', 'O'), ('all', 'O'), ('along', 'O'), ('.', 'O')], [('BioDelivery', 'O'), ('receives', 'O'), ('$', 'O'), ('50M', 'O'), ('milestone', 'O'), ('from', 'O'), ('Endo', 'O'), ('following', 'O'), ('US', 'O'), ('approval', 'O'), ('of', 'O'), ('buccal', 'O'), ('buprenorphine', 'B-Drug'), ('formulation', 'O'), ('for', 'O'), ('chronic', 'B-Symptom'), ('pain', 'I-Symptom')], [('Citalopram', 'B-Drug'), ('(', 'O'), ('Celexa', 'B-Drug'), (')', 'O'), ('and', 'O'), ('escitalopram', 'O'), ('(', 'O'), ('Lexapro', 'O'), (')', 'O'), ('overdose', 'O'), ('can', 'O'), ('cause', 'O'), ('seizures', 'B-Symptom'), ('and', 'O'), ('QT', 'B-Symptom'), ('prolongation', 'I-Symptom'), ('.', 'O'), ('#', 'O'), ('ACEP15', 'O')], [('Did', 'O'), ('you', 'O'), ('know', 'O'), ('@', 'O'), ('AmericanCancer', 'O'), ('’', 'O'), ('s', 'O'), ('investment', 'O'), ('in', 'O'), ('research', 'O'), ('led', 'O'), ('to', 'O'), ('the', 'O'), ('discovery', 'O'), ('of', 'O'), ('the', 'O'), ('breast', 'B-Disease'), ('cancer', 'I-Disease'), ('treatments', 'O'), ('Herceptin', 'O'), ('&', 'O'), ('amp', 'O'), (';', 'O'), ('Tamoxifen', 'B-Drug'), ('.', 'O')], [('#', 'B-Drug'), ('Citalopram', 'I-Drug'), ('day', 'O'), ('9', 'O'), (',', 'O'), ('very', 'O'), ('tired', 'B-Symptom'), (',', 'O'), ('hands', 'B-Symptom'), ('still', 'I-Symptom'), ('shaking', 'I-Symptom'), ('and', 'O'), ('feel', 'O'), ('seasick', 'B-Symptom'), ('.', 'O'), ('.', 'O'), ('.', 'O'), ('Work', 'O'), ('sucks', 'O'), ('when', 'O'), ('I', 'O'), ('feel', 'O'), ('like', 'O'), ('this', 'O'), ('.', 'O'), ('2', 'O'), ('weeks', 'O'), ('until', 'O'), ('back', 'O'), ('at', 'O'), ('Doctors', 'O'), ('.', 'O')], [('A', 'O'), ('bone', 'O'), ('spur', 'O'), ('&', 'O'), ('amp', 'O'), (';', 'O'), ('bone', 'O'), ('chip', 'O'), ('might', 'O'), ('explain', 'O'), ('the', 'O'), ('pain', 'O'), (',', 'O'), ('huh', 'O'), ('?', 'O'), ('A', 'O'), ('shot', 'O'), ('of', 'O'), ('cortisone', 'B-Drug'), ('&', 'O'), ('amp', 'O'), (';', 'O'), ('I', 'O'), (\"'\", 'O'), ('m', 'O'), ('walking', 'O'), ('pain', 'O'), ('free', 'O'), ('for', 'O'), ('1st', 'O'), ('time', 'O'), ('in', 'O'), ('2', 'O'), ('or', 'O'), ('3', 'O'), ('years', 'O'), ('.', 'O'), ('Amazing', 'O'), ('.', 'O')], [('Hey', 'O'), ('#', 'B-Disease'), ('breastcancer', 'I-Disease'), ('people', 'O'), ('-', 'O'), ('anyone', 'O'), ('on', 'O'), ('#', 'B-Drug'), ('Tamoxifen', 'I-Drug'), ('and', 'O'), ('#', 'B-Drug'), ('Prozac', 'I-Drug'), ('?', 'O'), ('Hearing', 'O'), ('it', 'O'), ('can', 'O'), ('make', 'O'), ('the', 'O'), ('hormone', 'O'), ('blocker', 'O'), ('not', 'O'), ('work', 'O'), ('as', 'O'), ('well', 'O'), ('.', 'O'), ('Anyone', 'O'), ('else', 'O'), ('hear', 'O'), ('this', 'O'), ('?', 'O')], [('Man', 'O'), ('hearing', 'O'), ('@', 'O'), ('KingJames', 'O'), ('has', 'O'), ('had', 'O'), ('two', 'O'), ('cortisone', 'B-Drug'), ('injections', 'O'), ('in', 'O'), ('his', 'O'), ('lower', 'B-Symptom'), ('back', 'I-Symptom'), ('is', 'O'), ('scary', 'O'), ('.', 'O'), ('I', 'O'), ('went', 'O'), ('through', 'O'), ('that', 'O'), ('and', 'O'), ('ruptured', 'B-Symptom'), ('my', 'I-Symptom'), ('achilles', 'I-Symptom'), ('.', 'O')], [('Why', 'O'), ('am', 'O'), ('I', 'O'), ('still', 'O'), ('awake', 'B-Symptom'), ('you', 'O'), ('ask', 'O'), ('?', 'O'), ('Prednisone', 'B-Drug'), ('.', 'O'), ('I', 'O'), ('will', 'O'), ('never', 'O'), ('take', 'O'), ('prednisone', 'B-Drug'), ('ever', 'O'), ('again', 'O')], [('vyvanse', 'B-Drug'), ('and', 'O'), ('red', 'O'), ('bull', 'O'), ('only', 'O'), ('mix', 'O'), ('if', 'O'), ('you', 'O'), ('want', 'O'), ('to', 'B-Symptom'), ('be', 'I-Symptom'), ('up', 'I-Symptom'), ('all', 'I-Symptom'), ('night', 'I-Symptom'), ('😒', 'O')], [('Man', 'O'), ('who', 'O'), ('needs', 'O'), ('Zzquil', 'O'), ('when', 'O'), ('I', 'O'), ('have', 'O'), ('Singulair', 'B-Drug'), ('?', 'O'), ('Within', 'O'), ('an', 'O'), ('hour', 'O'), (',', 'O'), ('I', 'O'), (\"'\", 'O'), ('m', 'O'), ('zombie', 'B-Symptom'), ('walking', 'O'), ('for', 'O'), ('the', 'O'), ('bed', 'O'), ('.', 'O')], [('Spent', 'O'), ('2', 'O'), ('days', 'O'), ('of', 'O'), ('hell', 'O'), ('heart', 'O'), ('n', 'O'), ('head', 'B-Symptom'), ('pains', 'I-Symptom'), ('all', 'O'), ('from', 'O'), ('venlafaxeine', 'B-Drug'), ('-', 'O'), ('effexor', 'B-Drug'), ('withdrawal', 'B-Symptom'), ('pls', 'O'), ('research', 'O'), ('before', 'O'), ('taking', 'O'), ('this', 'O'), ('is', 'O'), ('a', 'O'), ('nightmare', 'O')], [('Oh', 'O'), (',', 'O'), ('also', 'O'), ('-', 'O'), ('Tamoxifen', 'B-Drug'), ('?', 'O'), ('Gives', 'O'), ('you', 'O'), ('cancer', 'O'), ('?', 'O'), ('My', 'O'), ('mum', 'O'), ('was', 'O'), ('prescribed', 'O'), ('it', 'O'), ('for', 'O'), ('her', 'O'), ('breast', 'B-Disease'), ('cancer', 'I-Disease'), ('.', 'O')], [('After', 'O'), ('almost', 'O'), ('2wks', 'O'), ('on', 'O'), ('10mg', 'O'), ('of', 'O'), ('prednisone', 'B-Drug'), ('I', 'O'), ('feel', 'O'), ('good', 'O'), ('inflammation', 'B-Symptom'), ('-', 'O'), ('wise', 'O'), (',', 'O'), ('but', 'O'), ('run', 'O'), ('down', 'O'), ('otherwise', 'O'), ('.', 'O'), ('Aren', 'O'), (\"'\", 'O'), ('t', 'O'), ('steroids', 'O'), ('supposed', 'O'), ('to', 'O'), ('perk', 'O'), ('you', 'O'), ('up', 'O'), ('?', 'O')], [('Thank', 'O'), ('you', 'O'), (',', 'O'), ('Trazodone', 'B-Drug'), (',', 'O'), ('for', 'O'), ('reminding', 'O'), ('me', 'O'), ('what', 'O'), ('a', 'O'), ('good', 'O'), ('nights', 'O'), ('sleep', 'B-Symptom'), ('actually', 'O'), ('felt', 'O'), ('like', 'O'), ('again', 'O'), ('#', 'O'), ('YouDaRealMVP', 'O')], [('\"', 'O'), ('why', 'O'), ('do', 'O'), ('i', 'O'), ('feel', 'O'), ('like', 'O'), ('im', 'O'), ('having', 'B-Symptom'), ('a', 'I-Symptom'), ('heart', 'I-Symptom'), ('attack', 'I-Symptom'), ('?', 'O'), ('?', 'O'), ('?', 'O'), ('\"', 'O'), ('[', 'O'), ('remembers', 'O'), ('the', 'O'), ('adderall', 'B-Drug'), ('&', 'O'), ('amp', 'O'), (';', 'O'), ('coffee', 'O'), ('from', 'O'), ('10', 'O'), ('minutes', 'O'), ('ago', 'O'), (']', 'O'), ('\"', 'O'), ('oh', 'O'), ('\"', 'O')], [('This', 'O'), ('citalopram', 'B-Drug'), ('makes', 'O'), ('me', 'O'), ('so', 'O'), ('drowsy', 'B-Symptom'), ('like', 'O'), ('I', 'O'), ('have', 'O'), ('so', 'O'), ('much', 'O'), ('work', 'O'), ('to', 'O'), ('do', 'O'), ('but', 'O'), ('my', 'B-Symptom'), ('eyes', 'I-Symptom'), ('won', 'I-Symptom'), (\"'\", 'I-Symptom'), ('t', 'I-Symptom'), ('stay', 'I-Symptom'), ('open', 'I-Symptom')], [('They', 'O'), ('say', 'O'), ('a', 'O'), ('guy', 'O'), ('who', 'O'), ('makes', 'O'), ('you', 'O'), ('depressed', 'O'), ('may', 'O'), ('be', 'O'), ('depressed', 'O'), ('.', 'O'), ('Ol', 'O'), (\"'\", 'O'), ('Linds', 'O'), ('may', 'O'), ('need', 'O'), ('a', 'O'), ('course', 'O'), ('of', 'O'), ('Effexor', 'B-Drug'), ('for', 'O'), ('all', 'O'), ('our', 'O'), ('sakes', 'O'), ('.', 'O'), ('Jeb', 'O'), ('too', 'O'), ('#', 'O'), ('CNBCGOPDebate', 'O')], [('yesterday', 'O'), (':', 'O'), ('plenty', 'O'), ('of', 'O'), ('sleep', 'O'), (',', 'O'), ('copious', 'O'), ('amount', 'O'), ('of', 'O'), ('coffee', 'O'), ('&', 'O'), ('amp', 'O'), (';', 'O'), ('vyvanse', 'B-Drug'), ('=', 'O'), ('me', 'O'), ('dead', 'O'), (',', 'O'), ('unproductive', 'O'), ('zombie', 'B-Symptom')], [('The', 'O'), ('numbing', 'B-Symptom'), ('of', 'I-Symptom'), ('my', 'I-Symptom'), ('knee', 'I-Symptom'), ('has', 'O'), ('worn', 'O'), ('off', 'O'), ('.', 'O'), ('Please', 'O'), ('start', 'O'), ('working', 'O'), (',', 'O'), ('cortisone', 'B-Drug'), ('.', 'O'), ('Plllleeeaaasseee', 'O'), ('.', 'O'), ('🙌', 'O'), ('🏼', 'O')], [('Who', 'O'), ('keeps', 'O'), ('coughing', 'B-Symptom'), ('into', 'O'), ('the', 'O'), ('mic', 'O'), ('?', 'O'), ('Not', 'O'), ('okay', 'O'), ('.', 'O'), ('Get', 'O'), ('a', 'O'), ('prednisone', 'B-Drug'), ('shot', 'O'), ('and', 'O'), ('make', 'O'), ('it', 'O'), ('all', 'O'), ('go', 'O'), ('away', 'O'), ('.', 'O')], [('Twittersourcing', 'O'), (':', 'O'), ('anyone', 'O'), ('taken', 'O'), ('Cymbalta', 'B-Drug'), (',', 'O'), ('either', 'O'), ('for', 'O'), ('depression', 'B-Disease'), ('/', 'O'), ('anxiety', 'B-Symptom'), ('or', 'O'), ('pain', 'B-Symptom'), ('?', 'O'), ('Thoughts', 'O'), ('?', 'O')], [('I', 'O'), ('promise', 'O'), ('this', 'O'), ('prednisone', 'B-Drug'), ('is', 'O'), ('making', 'O'), ('my', 'O'), ('body', 'O'), ('chemically', 'O'), ('imbalanced', 'B-Symptom'), ('.', 'O'), ('I', 'O'), ('keep', 'O'), ('having', 'O'), ('the', 'O'), ('strangest', 'O'), ('side', 'O'), ('effects', 'O'), ('#', 'B-Disease'), ('CrohnsDisease', 'I-Disease'), ('#', 'B-Symptom'), ('shaky', 'I-Symptom'), ('#', 'B-Symptom'), ('moonface', 'I-Symptom')], [('Going', 'O'), ('to', 'O'), ('rain', 'O'), ('.', 'O'), ('#', 'O'), ('CurlyHair', 'O'), ('fuzzy', 'O'), ('.', 'O'), ('Wrists', 'O'), (',', 'O'), ('elbows', 'B-Symptom'), ('#', 'O'), ('swollen', 'O'), ('&', 'O'), ('amp', 'O'), (';', 'O'), ('#', 'O'), ('painful', 'O'), ('.', 'O'), ('Thx', 'O'), ('to', 'O'), ('#', 'B-Drug'), ('Levaquin', 'I-Drug'), ('#', 'B-Drug'), ('Avelox', 'I-Drug'), ('#', 'B-Symptom'), ('inflammation', 'I-Symptom'), ('#', 'B-Disease'), ('arthritis', 'I-Disease'), ('#', 'O'), ('chronicpain', 'O'), ('#', 'O'), ('Cipro', 'O')], [('day', 'O'), ('2', 'O'), ('of', 'O'), ('Latuda', 'O'), (',', 'O'), ('starting', 'O'), ('to', 'O'), ('notice', 'O'), ('similar', 'O'), ('pain', 'B-Symptom'), ('as', 'O'), ('what', 'O'), ('I', 'O'), ('had', 'O'), ('on', 'O'), ('Geodon', 'B-Drug'), ('but', 'O'), ('at', 'O'), ('a', 'O'), ('more', 'O'), ('manageable', 'O'), ('amount', 'O'), ('.', 'O')], [('Geodon', 'B-Drug'), ('I', 'O'), ('couldn', 'O'), (\"'\", 'O'), ('t', 'O'), ('even', 'O'), ('think', 'O'), ('it', 'O'), ('was', 'O'), ('so', 'O'), ('bad', 'O'), ('like', 'O'), ('an', 'O'), ('~', 'O'), ('8', 'O'), ('-', 'O'), ('9', 'O'), ('on', 'O'), ('pain', 'B-Symptom'), (',', 'O'), ('Latuda', 'O'), ('it', 'O'), (\"'\", 'O'), ('s', 'O'), ('bumping', 'O'), ('my', 'O'), ('pain', 'O'), ('from', 'O'), ('~', 'O'), ('2', 'O'), ('-', 'O'), ('3', 'O'), ('to', 'O'), ('~', 'O'), ('4', 'O'), ('-', 'O'), ('5', 'O'), ('on', 'O'), ('pain', 'O'), ('scale', 'O'), ('.', 'O')], [('Weird', 'O'), ('thing', 'O'), ('about', 'O'), ('this', 'O'), ('kind', 'O'), ('of', 'O'), ('pain', 'B-Symptom'), (',', 'O'), ('at', 'O'), ('least', 'O'), ('with', 'O'), ('Geodon', 'B-Drug'), ('it', 'O'), ('was', 'O'), ('this', 'O'), ('case', 'O'), (',', 'O'), ('it', 'O'), ('doesn', 'O'), (\"'\", 'O'), ('t', 'O'), ('react', 'O'), ('to', 'O'), ('narcotics', 'O'), ('like', 'O'), ('at', 'O'), ('all', 'O'), ('.', 'O')], [('I', 'O'), ('owe', 'O'), ('amazing', 'O'), ('sleep', 'B-Symptom'), ('to', 'O'), ('Quetiapine', 'B-Drug'), ('and', 'O'), ('melatonin', 'O')], [('Be', 'O'), ('the', 'O'), ('montelukast', 'B-Drug'), ('to', 'O'), ('all', 'O'), ('my', 'O'), ('allergy', 'O'), ('symptoms', 'O'), (':', 'O'), ('(', 'O')], [('Operation', 'O'), ('Bilgy', 'O'), ('Cortisone', 'B-Drug'), ('–', 'O'), ('protecting', 'O'), ('Australia', 'O'), ('from', 'O'), ('virilisms', 'B-Symptom')], [('Six', 'O'), ('hours', 'O'), ('sleep', 'O'), (',', 'O'), ('best', 'O'), ('sleep', 'O'), ('i', 'O'), ('have', 'O'), ('had', 'O'), ('in', 'O'), ('two', 'O'), ('weeks', 'O'), ('thank', 'O'), ('you', 'O'), ('olanzapine', 'B-Drug'), ('bipolar', 'O'), ('meds', 'O')], [('The', 'O'), ('anti', 'O'), ('-', 'O'), ('depressant', 'O'), ('Cymbalta', 'B-Drug'), ('can', 'O'), ('cause', 'O'), ('facial', 'B-Symptom'), ('swelling', 'I-Symptom'), (',', 'O'), ('weight', 'B-Symptom'), ('gain', 'I-Symptom'), ('and', 'O'), ('impotence', 'B-Symptom'), ('.', 'O'), ('Its', 'O'), ('new', 'O'), ('motto', 'O'), ('?', 'O'), ('I', 'O'), (\"'\", 'O'), ('LL', 'O'), ('GIVE', 'O'), ('YOU', 'O'), ('SOMETHING', 'O'), ('TO', 'O'), ('CRY', 'O'), ('ABOUT', 'O'), ('.', 'O')], [('Anyone', 'O'), ('know', 'O'), ('if', 'O'), ('coming', 'O'), ('off', 'O'), ('sertraline', 'B-Drug'), ('from', 'O'), ('150mg', 'O'), ('to', 'O'), ('50mg', 'O'), ('really', 'O'), ('affect', 'O'), ('sleep', 'O'), ('?', 'O'), ('I', 'O'), ('took', 'O'), ('wrong', 'O'), ('dose', 'O'), ('last', 'O'), ('week', 'O'), ('but', 'O'), ('my', 'B-Symptom'), ('sleep', 'I-Symptom'), ('was', 'I-Symptom'), ('worse', 'I-Symptom'), ('than', 'I-Symptom'), ('normal', 'I-Symptom'), ('!', 'O')], [('So', 'O'), ('after', 'O'), ('alwwpong', 'O'), ('on', 'O'), ('it', 'O'), (',', 'O'), ('knowing', 'O'), ('I', 'O'), (\"'\", 'O'), ('ve', 'O'), ('done', 'O'), ('other', 'O'), ('by', 'O'), ('putting', 'O'), ('my', 'O'), ('life', 'O'), ('on', 'O'), ('the', 'O'), ('line', 'O'), ('.', 'O'), ('I', 'O'), ('guess', 'O'), ('I', 'O'), (\"'\", 'O'), ('ll', 'O'), ('do', 'O'), ('the', 'O'), ('Singulair', 'B-Drug'), ('asthma', 'B-Disease'), ('pill', 'O'), ('.', 'O')], [('Apart', 'O'), ('from', 'O'), ('massive', 'O'), ('weight', 'B-Symptom'), ('gain', 'I-Symptom'), (',', 'O'), ('olanzapine', 'B-Drug'), ('certainly', 'O'), ('works', 'O'), ('for', 'O'), ('me', 'O')], [('Shout', 'O'), ('out', 'O'), ('to', 'O'), ('my', 'O'), ('strong', 'O'), ('momma', 'O'), ('for', 'O'), ('finishing', 'O'), ('her', 'O'), ('Tamoxifen', 'B-Drug'), ('yesterday', 'O'), ('.', 'O'), ('5', 'O'), ('years', 'O'), (',', 'O'), ('cancer', 'B-Disease'), ('free', 'O'), ('.', 'O'), ('Love', 'O'), ('you', 'O'), ('so', 'O'), ('much', 'O'), ('💕', 'O')], [('Today', 'O'), ('is', 'O'), ('1st', 'O'), ('day', 'O'), ('I', 'O'), ('can', 'O'), ('see', 'O'), ('properly', 'O'), ('in', 'O'), ('months', 'O'), ('.', 'O'), ('.', 'O'), ('.', 'O'), ('#', 'B-Drug'), ('avastin', 'I-Drug'), ('#', 'O'), ('macularproblems', 'O')], [('Woke', 'O'), ('up', 'O'), ('without', 'O'), ('any', 'O'), ('tightness', 'B-Symptom'), ('in', 'I-Symptom'), ('my', 'I-Symptom'), ('chest', 'I-Symptom'), ('.', 'O'), ('Not', 'O'), ('even', 'O'), ('an', 'O'), ('ache', 'B-Symptom'), ('.', 'O'), ('👌', 'O'), ('but', 'O'), ('it', 'O'), (\"'\", 'O'), ('s', 'O'), ('only', 'O'), ('5mg', 'O'), ('half', 'O'), ('a', 'O'), ('Singulair', 'B-Drug'), ('pill', 'O'), ('for', 'O'), ('my', 'O'), ('asthma', 'B-Disease'), ('.', 'O'), ('yay', 'O')], [('Note', 'O'), ('to', 'O'), ('everyone', 'O'), ('.', 'O'), ('Don', 'O'), (\"'\", 'O'), ('t', 'O'), ('take', 'O'), ('Citalopram', 'B-Drug'), ('if', 'O'), ('you', 'O'), (\"'\", 'O'), ('re', 'O'), ('not', 'O'), ('depressed', 'B-Disease'), (',', 'O'), ('you', 'O'), (\"'\", 'O'), ('ll', 'O'), ('throw', 'O'), ('up', 'O'), ('.', 'O'), ('.', 'O'), ('.', 'O'), ('sorry', 'O'), ('Dani', 'O'), ('😬', 'O')], [('Now', 'O'), ('would', 'O'), ('be', 'O'), ('a', 'O'), ('really', 'O'), ('good', 'O'), ('time', 'O'), ('for', 'O'), ('a', 'O'), ('commercial', 'O'), ('for', 'O'), ('an', 'O'), ('ACE', 'O'), ('inhibitor', 'O'), ('like', 'O'), ('Lisinopril', 'B-Drug'), ('.', 'O'), ('My', 'O'), ('blood', 'O'), ('pressure', 'O'), ('is', 'O'), ('NOT', 'O'), ('good', 'O'), ('right', 'O'), ('now', 'O'), ('#', 'O'), ('WorldSeries', 'O')], [('I', 'O'), ('can', 'O'), (\"'\", 'O'), ('t', 'O'), ('let', 'O'), ('you', 'O'), ('in', 'O'), (',', 'O'), ('you', 'O'), (\"'\", 'O'), ('re', 'O'), ('wobbling', 'B-Symptom'), ('.', 'O'), ('\"', 'O'), ('No', 'O'), (',', 'O'), ('it', 'O'), (\"'\", 'O'), ('s', 'O'), ('okay', 'O'), (',', 'O'), ('I', 'O'), ('took', 'O'), ('a', 'O'), ('drug', 'O'), ('called', 'O'), ('Paxil', 'B-Drug'), ('\"', 'O'), ('Sir', 'O'), (',', 'O'), ('what', 'O'), ('are', 'O'), ('you', 'O'), ('doing', 'O')], [('I', 'O'), (\"'\", 'O'), ('m', 'O'), ('switching', 'O'), ('antidepressants', 'O'), ('after', 'O'), ('being', 'O'), ('on', 'O'), ('Citalopram', 'B-Drug'), ('for', 'O'), ('10', 'O'), ('years', 'O'), ('.', 'O'), ('Suffering', 'O'), ('withdrawals', 'O'), (',', 'O'), ('physical', 'O'), ('and', 'O'), ('mental', 'O'), ('.', 'O'), ('Don', 'O'), (\"'\", 'O'), ('t', 'O'), ('like', 'O'), ('this', 'O'), ('at', 'O'), ('all', 'O'), ('.', 'O')], [('it', 'O'), (\"'\", 'O'), ('s', 'O'), ('530', 'O'), ('am', 'O'), ('and', 'O'), ('im', 'O'), ('still', 'O'), ('wide', 'O'), ('awake', 'B-Symptom'), ('because', 'O'), ('they', 'O'), ('couldn', 'O'), (\"'\", 'O'), ('t', 'O'), ('refill', 'O'), ('my', 'O'), ('seroquel', 'B-Drug'), ('on', 'O'), ('time', 'O'), ('and', 'O'), ('I', 'O'), (\"'\", 'O'), ('m', 'O'), ('Literallg', 'O'), ('Fucking', 'O'), ('Dying', 'O'), ('Here', 'O'), ('!', 'O'), ('!', 'O')], [('Withdrawing', 'O'), ('from', 'O'), ('Paxil', 'B-Drug'), ('is', 'O'), ('really', 'O'), ('messing', 'O'), ('with', 'O'), ('me', 'O'), ('.', 'O'), ('Jitters', 'O'), ('.', 'O'), ('Really', 'O'), ('bad', 'O'), ('insomnia', 'B-Symptom'), ('.', 'O'), ('Would', 'O'), ('not', 'O'), ('recommend', 'O'), ('.', 'O'), ('#', 'O'), ('twothumbsdown', 'O')], [('Day', 'O'), ('6', 'O'), ('on', 'O'), ('citalopram', 'B-Drug'), (',', 'O'), ('feel', 'O'), ('like', 'O'), ('I', 'O'), ('have', 'O'), ('a', 'O'), ('cold', 'O'), ('but', 'O'), ('without', 'O'), ('the', 'O'), ('snot', 'O'), ('.', 'O'), ('Tender', 'O'), ('aching', 'B-Symptom'), ('muscles', 'I-Symptom'), (',', 'O'), ('sore', 'B-Symptom'), ('throat', 'I-Symptom'), ('/', 'O'), ('neck', 'O'), ('.', 'O'), ('Bleugh', 'O'), ('.', 'O')], [('If', 'O'), ('you', 'O'), (\"'\", 'O'), ('re', 'O'), ('sick', 'O'), (',', 'O'), ('#', 'O'), ('STAYAWAY', 'O'), ('!', 'O'), ('#', 'B-Disease'), ('Lupus', 'I-Disease'), ('#', 'O'), ('Cellcept', 'O'), ('#', 'B-Drug'), ('Prednisone', 'I-Drug'), ('#', 'O'), ('Plaquenil', 'O'), ('#', 'O'), ('Immunosuppressants', 'O')], [('you', 'O'), ('know', 'O'), ('how', 'O'), ('depressed', 'O'), ('people', 'O'), ('always', 'O'), ('be', 'O'), ('drawing', 'O'), ('themselves', 'O'), ('lookin', 'O'), ('all', 'O'), ('sad', 'O'), ('and', 'O'), ('the', 'O'), ('drawings', 'O'), ('come', 'O'), ('to', 'O'), ('life', 'O'), ('and', 'O'), ('it', 'O'), (\"'\", 'O'), ('s', 'O'), ('a', 'O'), ('commercial', 'O'), ('for', 'O'), ('Zoloft', 'B-Drug')], [('Hi', 'O'), ('everyone', 'O'), (',', 'O'), ('Candace', 'O'), ('here', 'O'), ('.', 'O'), ('#', 'O'), ('raredisease', 'O'), ('patient', 'O'), ('/', 'O'), ('advocate', 'O'), ('/', 'O'), ('writer', 'O'), (',', 'O'), ('law', 'O'), ('student', 'O'), ('and', 'O'), ('current', 'O'), (';', 'O'), ('y', 'O'), ('battling', 'O'), ('cymbalta', 'B-Drug'), ('-', 'O'), ('induced', 'O'), ('insomnia', 'B-Symptom'), ('!', 'O'), ('Fun', 'O'), (':', 'O'), ('o', 'O'), (')', 'O'), ('#', 'O'), ('hcsm', 'O')], [('New', 'O'), ('Cortellis', 'O'), ('SWOT', 'O'), ('analyses', 'O'), (':', 'O'), ('Avastin', 'B-Drug'), ('set', 'O'), ('to', 'O'), ('maintain', 'O'), ('oncology', 'O'), ('market', 'O'), ('share', 'O'), ('with', 'O'), ('revenue', 'O'), ('boosted', 'O'), ('by', 'O'), ('ovarian', 'O'), ('and', 'O'), ('cervical', 'O'), ('cancer', 'B-Disease'), ('indications', 'O')], [('I', 'O'), ('need', 'O'), ('to', 'O'), ('start', 'O'), ('bck', 'O'), ('getting', 'O'), ('my', 'O'), ('topamax', 'B-Drug'), ('for', 'O'), ('my', 'O'), ('headaches', 'B-Symptom')], [('Time', 'O'), ('to', 'O'), ('start', 'O'), ('the', 'O'), ('semi', 'O'), ('-', 'O'), ('annual', 'O'), ('twitter', 'O'), ('experiment', 'O'), ('again', 'O'), ('.', 'O'), ('This', 'O'), ('time', 'O'), ('with', 'O'), ('Adderall', 'B-Drug'), ('to', 'O'), ('combat', 'O'), ('the', 'O'), ('ADHD', 'B-Disease'), ('rabbit', 'O'), ('hole', 'O'), ('problem', 'O'), ('!', 'O')], [('The', 'O'), ('withdrawals', 'O'), ('from', 'O'), ('coming', 'O'), ('off', 'O'), ('OxyContin', 'O'), ('(', 'O'), ('same', 'O'), ('chemically', 'O'), ('as', 'O'), ('heroin', 'O'), (')', 'O'), ('were', 'O'), ('horrific', 'O'), ('but', 'O'), ('Citalopram', 'B-Drug'), ('is', 'O'), ('giving', 'O'), ('me', 'O'), ('“', 'O'), ('brain', 'B-Symptom'), ('zaps', 'I-Symptom'), ('”', 'O'), ('&', 'O'), ('amp', 'O'), (';', 'O'), ('insomnia', 'B-Symptom'), ('😳', 'O')], [('I', 'O'), (\"'\", 'O'), ('ve', 'O'), ('lost', 'O'), ('2', 'O'), ('st', 'O'), ('12', 'O'), ('lbs', 'O'), ('in', 'O'), ('11', 'O'), ('months', 'O'), ('!', 'O'), ('Nearly', 'O'), ('back', 'O'), ('to', 'O'), ('my', 'O'), ('skinny', 'O'), ('self', 'O'), ('.', 'O'), ('#', 'O'), ('IHateQuetiapine', 'O'), ('#', 'B-Drug'), ('Quetiapine', 'I-Drug'), ('#', 'B-Symptom'), ('weightloss', 'I-Symptom')], [('Fighting', 'O'), ('sleep', 'B-Symptom'), ('is', 'O'), ('the', 'O'), ('trippiest', 'O'), ('thing', 'O'), ('to', 'O'), ('me', 'O'), ('fuk', 'O'), ('I', 'O'), ('❤', 'O'), ('trazodone', 'B-Drug')], [('#', 'B-Drug'), ('Trazodone', 'I-Drug'), ('had', 'O'), ('been', 'O'), ('consumed', 'O'), ('and', 'O'), ('sweet', 'O'), ('slumber', 'B-Symptom'), ('is', 'O'), ('on', 'O'), ('its', 'O'), ('way', 'O'), ('!', 'O'), ('!', 'O'), ('!', 'O'), ('I', 'O'), (\"'\", 'O'), ('ve', 'O'), ('got', 'O'), ('a', 'O'), ('long', 'O'), ('day', 'O'), ('tomorrow', 'O'), ('.', 'O'), ('.', 'O'), ('.', 'O'), ('.', 'O'), ('I', 'O'), ('hope', 'O'), ('it', 'O'), ('turns', 'O'), ('out', 'O'), ('well', 'O'), ('!', 'O'), ('!', 'O'), ('!', 'O'), ('#', 'O'), ('GoodNight', 'O'), ('#', 'O'), ('OVAH', 'O')], [('Just', 'O'), ('opened', 'O'), ('my', 'O'), ('mail', 'O'), ('for', 'O'), ('the', 'O'), ('first', 'O'), ('time', 'O'), ('in', 'O'), ('.', 'O'), ('.', 'O'), ('.', 'O'), ('a', 'O'), ('year', 'O'), ('?', 'O'), ('Thanks', 'O'), (',', 'O'), ('Paxil', 'B-Drug'), ('™', 'O'), ('!', 'O'), ('😂', 'O'), ('😂', 'O'), ('😂', 'O'), ('#', 'B-Symptom'), ('anxietyproblems', 'I-Symptom')], [('Avastin', 'B-Drug'), ('®', 'O'), ('is', 'O'), ('the', 'O'), ('brand', 'O'), ('name', 'O'), ('for', 'O'), ('bevacizumab', 'B-Drug'), (',', 'O'), ('a', 'O'), ('medication', 'O'), ('infused', 'O'), ('into', 'O'), ('the', 'O'), ('eye', 'O'), ('to', 'O'), ('moderate', 'O'), ('vision', 'O'), ('misfortune', 'O'), ('in', 'O'), ('individuals', 'O'), ('who', 'O'), ('have', 'O'), ('wet', 'O'), ('eye', 'O')], [('Increasing', 'O'), ('to', 'O'), ('60mg', 'O'), ('of', 'O'), ('duloxetine', 'B-Drug'), ('this', 'O'), ('week', 'O'), ('as', 'O'), ('well', 'O'), ('if', 'O'), ('I', 'O'), ('don', 'O'), (\"'\", 'O'), ('t', 'O'), ('lose', 'B-Symptom'), ('my', 'I-Symptom'), ('appetite', 'I-Symptom'), ('and', 'O'), ('lose', 'B-Symptom'), ('weight', 'I-Symptom'), ('I', 'O'), (\"'\", 'O'), ('ll', 'O'), ('sue', 'O')], [('never', 'O'), ('taken', 'O'), ('a', 'O'), ('drug', 'O'), ('like', 'O'), ('Effexor', 'B-Drug'), ('-', 'O'), ('if', 'O'), ('i', 'O'), ('miss', 'O'), ('1', 'O'), ('day', 'O'), ('(', 'O'), ('v', 'O'), ('rare', 'O'), (')', 'O'), ('feel', 'B-Symptom'), ('like', 'I-Symptom'), ('i', 'I-Symptom'), ('have', 'I-Symptom'), ('the', 'I-Symptom'), ('flu', 'I-Symptom'), ('&', 'O'), ('amp', 'O'), (';', 'O'), ('am', 'B-Symptom'), ('ill', 'I-Symptom'), ('.', 'O'), ('so', 'O'), ('awful', 'O'), ('.', 'O'), ('but', 'O'), ('it', 'O'), ('seems', 'O'), ('to', 'O'), ('be', 'O'), ('working', 'O'), ('#', 'O'), ('mentalhealth', 'O')], [('Anyone', 'O'), ('been', 'O'), ('through', 'O'), ('citalopram', 'B-Drug'), ('withdrawals', 'B-Symptom'), ('?', 'O'), ('Dose', 'O'), ('was', 'O'), ('halved', 'O'), ('from', 'O'), ('40mg', 'O'), ('to', 'O'), ('20', 'O'), ('mg', 'O'), ('4', 'O'), ('days', 'O'), ('ago', 'O'), ('and', 'O'), ('feeling', 'B-Symptom'), ('worse', 'I-Symptom'), ('and', 'O'), ('worse', 'O'), ('every', 'O'), ('day', 'O'), ('.', 'O')], [('Tamoxifen', 'B-Drug'), (',', 'O'), ('raloxifene', 'O'), ('effective', 'O'), ('at', 'O'), ('preventing', 'O'), ('ER', 'O'), ('+', 'O'), ('ve', 'O'), ('tumours', 'O'), ('only', 'O'), (',', 'O'), ('but', 'O'), ('benefits', 'O'), ('continue', 'O'), ('to', 'O'), ('increase', 'O'), ('over', 'O'), ('20', 'O'), ('yrs', 'O'), ('#', 'O'), ('NCRI2015', 'O')], [('Anastrozole', 'O'), ('may', 'O'), ('be', 'O'), ('better', 'O'), ('preventive', 'O'), ('agent', 'O'), ('than', 'O'), ('tamoxifen', 'B-Drug'), ('for', 'O'), ('post', 'O'), ('-', 'O'), ('menopausal', 'O'), ('women', 'O'), ('due', 'O'), ('to', 'O'), ('lower', 'O'), ('risk', 'O'), ('of', 'O'), ('endometrial', 'B-Disease'), ('cancer', 'I-Disease'), ('#', 'O'), ('NCRI2015', 'O')], [('Addition', 'O'), ('of', 'O'), ('Docetaxel', 'B-Drug'), ('to', 'O'), ('SOC', 'O'), ('can', 'O'), ('improve', 'O'), ('survival', 'O'), ('for', 'O'), ('men', 'O'), ('with', 'O'), ('newly', 'O'), ('diagnosed', 'O'), ('prostate', 'O'), ('cancer', 'O'), ('that', 'O'), ('has', 'O'), ('spread', 'O'), ('.', 'O'), ('N', 'O'), ('.', 'O'), ('Clarke', 'O'), ('#', 'O'), ('NCRI2015', 'O')], [('Someone', 'O'), ('koppel', 'O'), ('citalopram', 'B-Drug'), ('for', 'O'), ('the', 'O'), ('anxiety', 'B-Symptom')], [('I', 'O'), ('never', 'O'), ('want', 'O'), ('to', 'O'), ('deal', 'O'), ('w', 'O'), ('/', 'O'), ('medical', 'O'), ('marijuana', 'O'), ('even', 'O'), ('if', 'O'), ('I', 'O'), ('have', 'O'), ('Epilepsy', 'B-Disease'), ('.', 'O'), ('I', 'O'), ('would', 'O'), ('rather', 'O'), ('take', 'O'), ('my', 'O'), ('tegretol', 'B-Drug'), ('than', 'O'), ('smoke', 'O'), ('marijuana', 'O'), ('.', 'O'), ('I', 'O'), (\"'\", 'O'), ('m', 'O'), ('the', 'O'), ('Smart', 'O'), ('One', 'O'), ('!', 'O')], [('Has', 'O'), ('anyone', 'O'), ('taking', 'O'), ('Modafinil', 'B-Drug'), ('/', 'O'), ('Alertec', 'O'), ('developed', 'O'), ('chronic', 'B-Symptom'), ('urticaria', 'I-Symptom'), ('?', 'O')], [('Yuck', 'O'), ('😪', 'O'), ('😭', 'O'), ('no', 'O'), ('energy', 'B-Symptom'), ('Side', 'O'), ('effects', 'O'), ('hit', 'O'), ('me', 'O'), ('bad', 'O'), ('😭', 'O'), ('#', 'B-Drug'), ('sertraline', 'I-Drug')], [('#', 'O'), ('ATIinstructorwisdom', 'O'), ('\"', 'O'), ('Olanzapine', 'B-Drug'), ('is', 'O'), ('an', 'O'), ('anti', 'O'), ('-', 'O'), ('anxiety', 'B-Symptom'), ('medication', 'O'), ('.', 'O'), ('Same', 'O'), ('family', 'O'), ('as', 'O'), ('Ativan', 'O'), ('.', 'O'), ('\"', 'O'), ('Not', 'O'), ('that', 'O'), ('funny', 'O'), ('.', 'O'), ('.', 'O'), ('.', 'O'), ('but', 'O'), ('its', 'O'), ('an', 'O'), ('anti', 'O'), ('-', 'O'), ('psychotic', 'O'), ('.', 'O')], [('New', 'O'), ('Cancer', 'O'), ('Drugs', 'O'), ('Fund', 'O'), ('list', 'O'), ('shows', 'O'), ('Kadcyla', 'O'), ('put', 'O'), ('back', 'O'), ('on', 'O'), ('but', 'O'), ('Avastin', 'B-Drug'), ('removed', 'O'), ('for', 'O'), ('breast', 'O'), ('and', 'O'), ('bowel', 'B-Disease'), ('cancer', 'I-Disease')], [('Seeing', 'O'), ('6th', 'O'), ('pt', 'O'), ('s', 'O'), ('/', 'O'), ('p', 'O'), ('#', 'O'), ('labralrepair', 'O'), ('w', 'O'), ('recurrent', 'O'), ('#', 'B-Symptom'), ('pelvicpain', 'I-Symptom'), ('.', 'O'), ('Never', 'O'), ('c', 'O'), ('/', 'O'), ('o', 'O'), (\"'\", 'O'), ('d', 'O'), ('hip', 'O'), ('pain', 'O'), ('&', 'O'), ('amp', 'O'), (';', 'O'), ('cortisone', 'B-Drug'), ('injection', 'O'), ('failed', 'O'), ('to', 'O'), ('help', 'O'), ('#', 'O'), ('vulvodynia', 'O'), ('.', 'O'), ('#', 'O'), ('pelvicmafia', 'O')], [('i', 'O'), ('also', 'O'), ('have', 'O'), ('a', 'O'), ('cortisone', 'B-Drug'), ('cream', 'O'), ('to', 'O'), ('help', 'O'), ('with', 'O'), ('the', 'O'), ('itching', 'B-Symptom'), ('.', 'O')], [('My', 'O'), ('blood', 'B-Symptom'), ('pressure', 'I-Symptom'), ('at', 'O'), ('docs', 'O'), ('was', 'O'), ('159', 'O'), ('/', 'O'), ('103', 'O'), ('-', 'O'), ('-', 'O'), ('I', 'O'), (\"'\", 'O'), ('m', 'O'), ('surprised', 'O'), ('they', 'O'), ('let', 'O'), ('me', 'O'), ('leave', 'O'), ('!', 'O'), ('!', 'O'), ('So', 'O'), ('anxious', 'B-Symptom'), ('!', 'O'), ('!', 'O'), ('!', 'O'), ('#', 'B-Drug'), ('tamoxifen', 'I-Drug')], [('Calm', 'O'), ('again', 'O'), ('thanks', 'O'), ('to', 'O'), ('lorazepam', 'O'), ('.', 'O'), ('Still', 'O'), ('suffering', 'O'), ('withdrawals', 'B-Symptom'), ('from', 'O'), ('citalopram', 'B-Drug'), ('plus', 'O'), ('today', 'O'), ('started', 'O'), ('duloxetine', 'B-Drug'), ('to', 'O'), ('be', 'O'), ('titrated', 'O'), ('over', 'O'), ('next', 'O'), ('few', 'O'), ('days', 'O'), ('.', 'O')], [('Downside', 'O'), ('of', 'O'), ('modafinil', 'B-Drug'), (':', 'O'), ('You', 'O'), ('can', 'O'), ('completely', 'O'), ('forget', 'B-Symptom'), ('about', 'I-Symptom'), ('eating', 'I-Symptom'), ('or', 'O'), ('drinking', 'O'), ('for', 'O'), ('hours', 'O'), ('.', 'O')], [('Mark', 'O'), ('/', 'O'), ('peterson', 'O'), ('doing', 'O'), ('well', 'O'), (',', 'O'), ('d', 'O'), ('/', 'O'), ('c', 'O'), (\"'\", 'O'), ('d', 'O'), ('the', 'O'), ('trazodone', 'B-Drug'), ('due', 'O'), ('to', 'O'), ('cont', 'O'), ('tiredness', 'B-Symptom'), ('in', 'O'), ('the', 'O'), ('day', 'O'), ('.', 'O')], [('duloxetine', 'B-Drug'), ('compared', 'O'), ('with', 'O'), ('placebo', 'O'), ('resulted', 'O'), ('in', 'O'), ('a', 'O'), ('greater', 'O'), ('reduction', 'O'), ('in', 'O'), ('pain', 'B-Symptom'), ('in', 'I-Symptom'), ('OA', 'I-Symptom'), ('knee', 'I-Symptom'), ('after', 'O'), ('approximately', 'O'), ('10', 'O'), ('to', 'O'), ('13', 'O'), ('weeks', 'O'), ('of', 'O'), ('therapy', 'O'), ('.', 'O')], [('Had', 'O'), ('an', 'O'), ('allergic', 'B-Symptom'), ('reaction', 'I-Symptom'), ('today', 'O'), ('and', 'O'), ('lemme', 'O'), ('tell', 'O'), ('you', 'O'), ('prednisone', 'B-Drug'), ('still', 'O'), ('makes', 'O'), ('me', 'O'), ('sweat', 'B-Symptom'), ('like', 'I-Symptom'), ('I', 'I-Symptom'), (\"'\", 'I-Symptom'), ('m', 'I-Symptom'), ('in', 'I-Symptom'), ('a', 'I-Symptom'), ('sauna', 'I-Symptom'), ('.', 'O')], [('i', 'O'), ('think', 'O'), ('i', 'O'), ('want', 'O'), ('to', 'O'), ('get', 'O'), ('back', 'O'), ('off', 'O'), ('prozac', 'B-Drug'), ('and', 'O'), ('see', 'O'), ('if', 'O'), ('that', 'O'), ('helps', 'O'), ('with', 'O'), ('my', 'O'), ('brain', 'B-Symptom'), ('fatigue', 'I-Symptom'), ('and', 'O'), ('general', 'O'), ('inability', 'B-Symptom'), ('to', 'I-Symptom'), ('process', 'I-Symptom'), ('shit', 'I-Symptom')], [('I', 'O'), ('don', 'O'), (\"'\", 'O'), ('t', 'O'), ('want', 'O'), ('to', 'O'), ('linger', 'O'), ('on', 'O'), ('it', 'O'), ('.', 'O'), ('I', 'O'), (\"'\", 'O'), ('m', 'O'), ('just', 'O'), ('gonna', 'O'), ('stop', 'O'), ('the', 'O'), ('paxil', 'B-Drug'), ('cold', 'O'), ('turkey', 'O'), ('.', 'O'), ('This', 'O'), ('three', 'O'), ('weeks', 'O'), ('of', 'O'), ('stepping', 'O'), ('down', 'O'), ('dosage', 'O'), ('is', 'O'), ('tedious', 'O'), ('.', 'O')], [('that', 'O'), ('would', 'O'), ('be', 'O'), ('liked', 'O'), (';', 'O'), ('it', 'O'), ('gives', 'O'), ('me', 'O'), ('hope', 'O'), ('my', 'O'), ('tweet', 'O'), ('&', 'O'), ('amp', 'O'), (';', 'O'), ('the', 'O'), ('long', 'O'), ('break', 'O'), ('topiramate', 'B-Drug'), ('gave', 'O'), ('me', 'O'), (',', 'O'), ('the', 'O'), ('migraines', 'O'), ('are', 'O'), ('returning', 'O'), ('.', 'O')], [('Thank', 'O'), ('you', 'O'), (',', 'O'), ('#', 'O'), ('NationalStressAwarenessDay', 'O'), ('.', 'O'), ('Until', 'O'), ('this', 'O'), ('special', 'O'), ('day', 'O'), (',', 'O'), ('I', 'O'), ('was', 'O'), ('unaware', 'O'), ('of', 'O'), ('stress', 'B-Symptom'), ('.', 'O'), ('Now', 'O'), (',', 'O'), ('where', 'O'), ('did', 'O'), ('my', 'O'), ('wife', 'O'), ('hide', 'O'), ('my', 'O'), ('Lisinopril', 'B-Drug'), ('?', 'O')], [('I', 'O'), ('started', 'O'), ('taking', 'O'), ('Cymbalta', 'B-Drug'), ('and', 'O'), ('I', 'O'), ('feel', 'O'), ('dead', 'O'), ('.', 'O'), ('I', 'O'), ('have', 'O'), ('zero', 'B-Symptom'), ('emotion', 'I-Symptom'), ('.', 'O'), ('I', 'O'), ('have', 'O'), ('zero', 'B-Symptom'), ('energy', 'I-Symptom'), ('.', 'O'), ('I', 'O'), ('feel', 'O'), ('like', 'O'), ('a', 'O'), ('rock', 'O'), ('.', 'O'), ('Just', 'O'), ('sitting', 'O'), ('.', 'O'), ('Just', 'O'), ('being', 'O'), ('here', 'O'), ('.', 'O')], [('So', 'O'), ('I', 'O'), ('definitely', 'O'), ('think', 'O'), ('my', 'O'), ('anxiety', 'B-Symptom'), ('has', 'O'), ('gotten', 'O'), ('500', 'O'), ('%', 'O'), ('worse', 'O'), ('switching', 'O'), ('from', 'O'), ('Zoloft', 'B-Drug'), ('to', 'O'), ('Effexor', 'B-Drug'), (',', 'O'), ('fuck', 'O'), ('this', 'O'), ('so', 'O'), ('much', 'O'), ('.', 'O')], [('at', 'O'), ('least', 'O'), ('it', 'O'), (\"'\", 'O'), ('s', 'O'), ('not', 'O'), ('lamictal', 'B-Drug'), (',', 'O'), ('i', 'O'), (\"'\", 'O'), ('d', 'O'), ('literally', 'O'), ('be', 'O'), ('in', 'O'), ('danger', 'O'), ('of', 'O'), ('dying', 'O'), ('.', 'O'), ('just', 'O'), ('taking', 'O'), ('a', 'O'), ('day', 'O'), ('late', 'O'), ('make', 'O'), ('you', 'O'), ('at', 'O'), ('risk', 'O'), ('for', 'O'), ('seizures', 'B-Symptom'), ('.', 'O')], [('I', 'O'), ('just', 'O'), ('took', 'O'), ('2', 'O'), ('Trazodone', 'B-Drug'), ('.', 'O'), ('.', 'O'), ('.', 'O'), ('I', 'O'), (\"'\", 'O'), ('m', 'O'), ('about', 'O'), ('to', 'O'), ('be', 'O'), ('so', 'O'), ('knockeddddddd', 'B-Symptom'), ('😴', 'O'), ('😴', 'O')], [('does', 'O'), ('anyone', 'O'), ('have', 'O'), ('EXTREME', 'O'), ('exhaustion', 'B-Symptom'), ('/', 'O'), ('tiredness', 'B-Symptom'), ('/', 'O'), ('sleepiness', 'B-Symptom'), ('issues', 'O'), ('on', 'O'), ('venlafaxine', 'B-Drug'), ('because', 'O'), ('jesus', 'O'), ('christ', 'O'), ('I', 'O'), (\"'\", 'O'), ('m', 'O'), ('on', 'O'), ('225', 'O'), ('mg', 'O'), ('and', 'O'), ('it', 'O'), (\"'\", 'O'), ('s', 'O'), ('super', 'O'), ('bad', 'O')], [('Watching', 'O'), ('food', 'O'), ('network', 'O'), ('while', 'O'), ('on', 'O'), ('prednisone', 'B-Drug'), ('is', 'O'), ('making', 'B-Symptom'), ('my', 'I-Symptom'), ('stomach', 'I-Symptom'), ('literally', 'I-Symptom'), ('growl', 'I-Symptom'), ('.', 'O'), ('But', 'O'), ('I', 'O'), ('can', 'O'), (\"'\", 'O'), ('t', 'O'), ('eat', 'O'), ('half', 'O'), ('this', 'O'), ('shit', 'O'), ('👿', 'O'), ('.', 'O'), ('#', 'B-Symptom'), ('alwayshungry', 'I-Symptom')], [('Has', 'O'), ('anyone', 'O'), ('withdrew', 'O'), ('from', 'O'), ('cymbalta', 'B-Drug'), ('?', 'O'), ('I', 'O'), ('feel', 'O'), ('like', 'O'), ('my', 'O'), ('head', 'B-Symptom'), ('is', 'I-Symptom'), ('going', 'I-Symptom'), ('to', 'I-Symptom'), ('explode', 'I-Symptom')], [('Even', 'O'), ('though', 'O'), ('they', 'O'), ('are', 'O'), ('supposed', 'O'), ('to', 'O'), ('be', 'O'), ('very', 'O'), ('similar', 'O'), ('I', 'O'), ('find', 'O'), ('citalopram', 'B-Drug'), ('does', 'O'), ('nothing', 'O'), ('for', 'O'), ('anxiety', 'B-Symptom'), ('and', 'O'), ('I', 'O'), ('have', 'O'), ('had', 'O'), ('some', 'O'), ('very', 'O'), ('bad', 'O'), ('patches', 'O'), ('again', 'O'), ('.', 'O')], [('Tamoxifen', 'B-Drug'), ('and', 'O'), ('Neck', 'O'), ('&', 'O'), ('amp', 'O'), (';', 'O'), ('Shoulder', 'B-Symptom'), ('pain', 'I-Symptom'), (',', 'O'), ('and', 'O'), ('tinnitus', 'B-Symptom')], [('#', 'B-Drug'), ('Lamictal', 'I-Drug'), ('side', 'O'), ('effects', 'O'), ('anyone', 'O'), ('?', 'O'), ('Headaches', 'B-Symptom'), ('like', 'O'), ('a', 'O'), ('mofo', 'O'), ('?', 'O'), ('#', 'O'), ('moodstabilizer', 'O'), ('#', 'B-Disease'), ('bipolar', 'I-Disease'), ('#', 'O'), ('psychmeds', 'O'), ('#', 'O'), ('mentalhealth', 'O'), ('#', 'O'), ('mentalillness', 'O')], [('Officially', 'O'), ('starting', 'O'), ('a', 'O'), ('major', 'O'), ('diet', 'O'), ('to', 'O'), ('combat', 'O'), ('the', 'O'), ('inevitable', 'O'), ('prednisone', 'B-Drug'), ('weight', 'O'), ('I', 'O'), (\"'\", 'O'), ('m', 'O'), ('about', 'O'), ('to', 'O'), ('gain', 'O'), ('.', 'O')], [('Happy', 'O'), ('birthday', 'O'), ('@', 'O'), ('Ben', 'O'), ('_', 'O'), ('Withers23', 'O'), ('even', 'O'), ('though', 'O'), ('sometimes', 'O'), ('you', 'O'), ('have', 'O'), ('mental', 'O'), ('breakdowns', 'O'), ('and', 'O'), ('temper', 'B-Symptom'), ('tantrums', 'I-Symptom'), ('there', 'O'), ('will', 'O'), ('always', 'O'), ('be', 'O'), ('midol', 'O'), ('and', 'O'), ('cymbalta', 'B-Drug'), ('.', 'O'), ('🎉', 'O')], [('Bloody', 'O'), ('citalopram', 'B-Drug'), ('.', 'O'), ('Takes', 'O'), ('six', 'O'), ('weeks', 'O'), ('to', 'O'), ('start', 'O'), ('having', 'O'), ('an', 'O'), ('effect', 'O'), (',', 'O'), ('but', 'O'), ('I', 'O'), ('miss', 'O'), ('it', 'O'), ('for', 'O'), ('two', 'O'), ('days', 'O'), ('and', 'O'), ('I', 'O'), ('have', 'O'), ('an', 'O'), ('emotional', 'O'), ('breakdown', 'O'), ('.', 'O')], [('Going', 'O'), ('to', 'O'), ('be', 'O'), ('somewhat', 'O'), ('quiet', 'O'), ('for', 'O'), ('a', 'O'), ('bit', 'O'), ('.', 'O'), ('Wish', 'O'), ('me', 'O'), ('luck', 'O'), ('.', 'O'), ('Paxil', 'B-Drug'), ('withdrawal', 'B-Symptom'), ('is', 'O'), ('hitting', 'B-Symptom'), ('me', 'I-Symptom'), ('like', 'I-Symptom'), ('a', 'I-Symptom'), ('severe', 'I-Symptom'), ('flu', 'I-Symptom'), ('.', 'O')], [('Flicking', 'O'), ('the', 'O'), ('net', 'O'), ('and', 'O'), ('chillin', 'O'), ('.', 'O'), ('Took', 'O'), ('some', 'O'), ('olanzapine', 'B-Drug'), ('for', 'O'), ('the', 'O'), ('first', 'O'), ('time', 'O'), ('in', 'O'), ('a', 'O'), ('few', 'O'), ('weeks', 'O'), (';', 'O'), ('it', 'O'), ('seems', 'O'), ('to', 'O'), ('have', 'O'), ('calmed', 'B-Symptom'), ('me', 'O'), ('down', 'O'), ('.', 'O')], [('So', 'O'), ('my', 'O'), ('doctor', 'O'), ('proscribed', 'O'), ('me', 'O'), ('prozac', 'B-Drug'), ('but', 'O'), ('the', 'O'), ('shit', 'O'), ('will', 'O'), ('give', 'O'), ('you', 'O'), ('erectile', 'B-Symptom'), ('dysfunction', 'I-Symptom'), ('so', 'O'), ('ima', 'O'), ('need', 'O'), ('some', 'O'), ('blue', 'O'), ('pills', 'O'), ('for', 'O'), ('that', 'O'), ('and', 'O'), ('some', 'O'), ('heart', 'O'), ('meds', 'O')], [('Such', 'O'), ('awful', 'O'), ('night', 'B-Symptom'), ('sweats', 'I-Symptom'), ('.', 'O'), ('I', 'O'), ('have', 'O'), ('awoken', 'O'), ('in', 'O'), ('a', 'O'), ('warm', 'O'), ('and', 'O'), ('damp', 'O'), ('rut', 'O'), (',', 'O'), ('my', 'O'), ('quilt', 'O'), ('clinging', 'O'), ('to', 'O'), ('my', 'O'), ('skin', 'O'), ('.', 'O'), ('THANKS', 'O'), ('CITALOPRAM', 'B-Drug'), ('.', 'O')], [('Brains', 'O'), ('.', 'O'), ('.', 'O'), ('.', 'O'), ('.', 'O'), ('BRAAAAAINS', 'O'), ('.', 'O'), ('Sleep', 'B-Symptom'), ('.', 'O'), ('.', 'O'), ('.', 'O'), ('and', 'O'), ('BRAAAAAINS', 'O'), ('!', 'O'), ('!', 'O'), ('!', 'O'), ('#', 'B-Symptom'), ('zombie', 'I-Symptom'), ('#', 'O'), ('bigcockproblems', 'O'), ('#', 'O'), ('brains', 'O'), ('#', 'O'), ('frontalnourishment', 'O'), ('#', 'B-Drug'), ('prozac', 'I-Drug'), ('#', 'B-Symptom'), ('sleep', 'I-Symptom'), ('#', 'B-Symptom'), ('insomnia', 'I-Symptom')], [('Do', 'O'), ('you', 'O'), ('know', 'O'), ('that', 'O'), ('an', 'O'), ('interaction', 'O'), ('between', 'O'), ('Septrin', 'O'), ('and', 'O'), ('some', 'O'), ('blood', 'O'), ('pressure', 'O'), ('drugs', 'O'), ('like', 'O'), ('Lisinopril', 'B-Drug'), ('can', 'O'), ('trigger', 'O'), ('a', 'O'), ('deadly', 'B-Symptom'), ('heart', 'I-Symptom'), ('rhythm', 'I-Symptom'), ('?', 'O'), ('#', 'O'), ('RxLive', 'O')], [('Using', 'O'), ('Septrin', 'O'), ('+', 'O'), ('Lisinopril', 'B-Drug'), ('can', 'O'), ('lead', 'O'), ('to', 'O'), ('dangerously', 'O'), ('high', 'O'), ('levels', 'O'), ('of', 'O'), ('potassium', 'O'), ('(', 'O'), ('hyperkalemia', 'B-Symptom'), (')', 'O'), ('which', 'O'), ('has', 'O'), ('fatal', 'O'), ('consequences', 'O'), ('#', 'O'), ('RxLive', 'O')], [('@', 'O'), ('_', 'O'), ('SallyParker', 'O'), ('Suggest', 'O'), ('continuing', 'O'), ('taking', 'O'), ('the', 'O'), ('Kratom', 'O'), ('and', 'O'), ('maybe', 'O'), ('even', 'O'), ('add', 'O'), ('an', 'O'), ('anti', 'O'), ('-', 'O'), ('depressant', 'O'), ('like', 'O'), ('Sertraline', 'B-Drug'), ('(', 'O'), ('zoloft', 'B-Drug'), (')', 'O'), ('to', 'O'), ('help', 'O'), ('with', 'O'), ('the', 'O'), ('depresson', 'O')], [('DID', 'O'), ('U', 'O'), ('KNOW', 'O'), (':', 'O'), ('five', 'O'), ('minutes', 'O'), ('of', 'O'), ('Radiohead', 'O'), ('can', 'O'), ('immediately', 'O'), ('nullify', 'O'), ('2', 'O'), ('weeks', 'O'), ('of', 'O'), ('effexor', 'B-Drug'), ('?', 'O'), ('#', 'B-Symptom'), ('SAD', 'I-Symptom'), ('#', 'O'), ('pnw', 'O'), ('#', 'O'), ('grey', 'O'), ('#', 'O'), ('roughoutthere', 'O'), ('#', 'O'), ('depressionisreal', 'O')], [('This', 'O'), ('game', 'O'), ('is', 'O'), ('literally', 'O'), ('bad', 'O'), ('for', 'O'), ('my', 'O'), ('blood', 'B-Symptom'), ('pressure', 'I-Symptom'), ('.', 'O'), ('#', 'B-Drug'), ('lisinopril', 'I-Drug'), ('#', 'O'), ('wps', 'O')], [('(', 'O'), ('Citalopram', 'B-Drug'), (')', 'O'), ('.', 'O'), ('.', 'O'), ('.', 'O'), ('tiredness', 'B-Symptom'), (',', 'O'), ('sleep', 'O'), ('changes', 'O'), (',', 'O'), ('and', 'O'), ('brief', 'B-Symptom'), ('feelings', 'I-Symptom'), ('similar', 'I-Symptom'), ('to', 'I-Symptom'), ('electric', 'I-Symptom'), ('shock', 'I-Symptom'), ('.', 'O'), ('\"', 'O'), ('Wow', 'O'), (',', 'O'), ('really', 'O'), ('?', 'O'), ('Jeeez', 'O')], [('Someone', 'O'), ('give', 'O'), ('the', 'O'), ('lady', 'O'), ('having', 'O'), ('a', 'O'), ('seizure', 'B-Symptom'), ('on', 'O'), ('@', 'O'), ('NBCSNL', 'O'), ('some', 'O'), ('Carbamazepine', 'B-Drug'), ('.', 'O')], [('Just', 'O'), ('realized', 'O'), ('I', 'O'), ('haven', 'O'), (\"'\", 'O'), ('t', 'O'), ('gotten', 'O'), ('a', 'O'), ('heart', 'B-Symptom'), ('burn', 'I-Symptom'), ('since', 'O'), ('I', 'O'), ('started', 'O'), ('the', 'O'), ('suboxone', 'B-Drug'), ('.', 'O'), ('That', 'O'), (\"'\", 'O'), ('s', 'O'), ('freaking', 'O'), ('cool', 'O'), ('!', 'O'), ('!', 'O'), ('Before', 'O'), ('I', 'O'), ('would', 'O'), ('have', 'O'), ('t', 'O'), ('every', 'O'), ('day', 'O'), ('.', 'O')], [('I', 'O'), (\"'\", 'O'), ('m', 'O'), ('expecting', 'O'), ('some', 'O'), ('insomnia', 'B-Symptom'), ('and', 'O'), ('nausea', 'B-Symptom'), ('but', 'O'), ('don', 'O'), (\"'\", 'O'), ('t', 'O'), ('know', 'O'), ('what', 'O'), ('to', 'O'), ('expect', 'O'), ('after', 'O'), ('that', 'O'), ('#', 'B-Drug'), ('olanzapine', 'I-Drug')], [('I', 'O'), ('take', 'O'), ('cymbalta', 'B-Drug'), ('for', 'O'), ('my', 'O'), ('depression', 'B-Disease'), ('to', 'O'), ('go', 'O'), ('away', 'O'), ('but', 'O'), ('it', 'O'), (\"'\", 'O'), ('s', 'O'), ('to', 'O'), ('help', 'O'), ('me', 'O'), ('get', 'O'), ('over', 'O'), ('not', 'O'), ('to', 'O'), ('go', 'O'), ('to', 'O'), ('the', 'O'), ('hospital', 'O'), ('again', 'O'), ('please', 'O'), ('pray', 'O'), ('for', 'O'), ('my', 'O'), ('pills', 'O'), ('taking', 'O')], [('This', 'O'), ('prednisone', 'B-Drug'), ('is', 'O'), ('wreaking', 'O'), ('havoc', 'O'), ('on', 'O'), ('my', 'O'), ('skin', 'B-Symptom'), ('and', 'O'), ('doing', 'O'), ('nothing', 'O'), ('for', 'O'), ('the', 'O'), ('#', 'O'), ('migraine', 'O'), ('💊', 'O')], [('Friend', 'O'), ('has', 'O'), ('neurotoxic', 'O'), ('reaction', 'O'), ('to', 'O'), ('#', 'B-Drug'), ('Celexa', 'I-Drug'), ('and', 'O'), ('what', 'O'), ('does', 'O'), ('the', 'O'), ('doctor', 'O'), ('do', 'O'), ('?', 'O'), ('Tell', 'O'), ('her', 'O'), ('to', 'O'), ('get', 'O'), ('off', 'O'), ('?', 'O'), ('No', 'O'), ('Prescribes', 'O'), ('her', 'O'), ('#', 'O'), ('Welbutrin', 'O'), ('Brilliant', 'O')], [('Olanzapine', 'B-Drug'), ('withdrawal', 'B-Symptom'), ('night', 'O'), ('one', 'O'), (':', 'O'), ('cannot', 'O'), ('sleep', 'B-Symptom'), ('.', 'O')], [('tramadol', 'O'), (',', 'O'), ('Flunatrizepam', 'O'), (',', 'O'), ('Zyprexa', 'B-Drug'), ('immuman', 'O'), (',', 'O'), ('panadol', 'O'), ('for', 'O'), ('migraine', 'O'), ('and', 'O'), ('sleep', 'B-Symptom'), ('and', 'O'), ('still', 'O'), ('slept', 'O'), ('for', 'O'), ('only', 'O'), ('23', 'O'), ('minutes', 'O'), ('and', 'O'), ('still', 'O'), ('head', 'O'), ('is', 'O'), ('bursting', 'O'), ('of', 'O'), ('pain', 'O')], [('Did', 'O'), ('you', 'O'), ('take', 'O'), ('cipro', 'O'), (',', 'O'), ('levaquin', 'B-Drug'), (',', 'O'), ('or', 'O'), ('avelox', 'B-Drug'), ('and', 'O'), ('now', 'O'), ('you', 'O'), ('have', 'O'), ('multi', 'O'), ('systemic', 'O'), ('illnesses', 'O'), ('.', 'O'), ('Tendons', 'B-Symptom'), (',', 'O'), ('migraines', 'O'), (',', 'O'), ('joint', 'B-Symptom'), ('pain', 'I-Symptom')], [('what', 'O'), ('would', 'O'), ('happen', 'O'), ('if', 'O'), ('i', 'O'), ('took', 'O'), ('2', 'O'), ('25mgs', 'O'), ('and', 'O'), ('1', 'O'), ('50', 'O'), ('mg', 'O'), ('?', 'O'), ('?', 'O'), ('?', 'O'), ('/', 'O'), ('/', 'O'), ('?', 'O'), ('its', 'O'), ('a', 'O'), ('sleeping', 'B-Symptom'), ('pill', 'O'), ('.', 'O'), ('seroquel', 'B-Drug'), ('?', 'O')], [('Dr', 'O'), ('Val', 'O'), ('Stephenson', 'O'), (\"'\", 'O'), ('s', 'O'), ('list', 'O'), ('to', 'O'), ('TRY', 'O'), ('for', 'O'), ('tremor', 'B-Symptom'), ('in', 'O'), ('#', 'O'), ('MS', 'O'), (':', 'O'), ('Carbamazepine', 'B-Drug'), (',', 'O'), ('primidone', 'O'), (',', 'O'), ('gabapentin', 'O'), (',', 'O'), ('topiramate', 'B-Drug'), (',', 'O'), ('clonazepam', 'O'), ('@', 'O'), ('mstconf', 'O')], [('Make', 'O'), ('sure', 'O'), ('your', 'O'), ('doctor', 'O'), ('isn', 'O'), (\"'\", 'O'), ('t', 'O'), ('prescribing', 'O'), ('a', 'O'), ('fluoroquinolone', 'O'), ('antibiotic', 'O'), ('for', 'O'), ('a', 'O'), ('minor', 'O'), ('infection', 'O'), ('.', 'O'), ('Brands', 'O'), (':', 'O'), ('Cipro', 'O'), (',', 'O'), ('Avelox', 'B-Drug'), (',', 'O'), ('Levaquin', 'B-Drug'), (',', 'O'), ('&', 'O'), ('amp', 'O'), (';', 'O'), ('many', 'O'), ('more', 'O')], [('Started', 'O'), ('steroids', 'O'), ('yesterday', 'O'), ('.', 'O'), ('Remembered', 'O'), ('at', 'O'), ('1am', 'O'), ('this', 'O'), ('morning', 'O'), ('that', 'O'), ('little', 'O'), ('thing', 'O'), ('called', 'O'), ('PREDNISONE', 'B-Drug'), ('INSOMNIA', 'B-Symptom'), ('.', 'O'), ('*', 'O'), ('dies', 'O'), ('*', 'O'), ('#', 'B-Disease'), ('cysticfibrosis', 'I-Disease')], [('1', 'O'), ('.', 'O'), ('#', 'O'), ('learntsomethingnewtoday', 'O'), ('.', 'O'), ('use', 'O'), ('venlafaxine', 'B-Drug'), ('instead', 'O'), ('of', 'O'), ('fluoxetine', 'B-Drug'), ('when', 'O'), ('on', 'O'), ('tamoxifen', 'B-Drug'), ('to', 'O'), ('reduce', 'O'), ('hot', 'B-Symptom'), ('flushes', 'I-Symptom'), ('.', 'O'), ('.', 'O')], [('olanzapine', 'B-Drug'), ('withdrawal', 'B-Symptom'), ('day', 'O'), ('2', 'O'), (':', 'O'), ('crying', 'B-Symptom'), ('spells', 'I-Symptom'), ('.', 'O')], [('Losing', 'B-Symptom'), ('weight', 'I-Symptom'), ('never', 'O'), ('used', 'O'), ('to', 'O'), ('be', 'O'), ('this', 'O'), ('easy', 'O'), ('wow', 'O'), ('thank', 'O'), ('god', 'O'), ('I', 'O'), ('was', 'O'), ('prescribed', 'O'), ('topamax', 'B-Drug')], [('Some', 'O'), ('common', 'O'), ('antidepressants', 'O'), ('taken', 'O'), ('by', 'O'), ('people', 'O'), ('who', 'O'), ('suffer', 'O'), ('from', 'O'), ('generalized', 'O'), ('anxiety', 'O'), ('disorder', 'O'), ('r', 'O'), ('Prozac', 'B-Drug'), (',', 'O'), ('Zoloft', 'B-Drug'), (',', 'O'), ('Paxil', 'B-Drug'), (',', 'O'), ('Lexapro', 'O'), (',', 'O'), ('and', 'O'), ('Celexa', 'B-Drug'), ('#', 'O'), ('SSRI', 'O')], [('theres', 'O'), ('a', 'O'), ('bump', 'B-Symptom'), ('on', 'I-Symptom'), ('my', 'I-Symptom'), ('chest', 'I-Symptom'), ('&', 'O'), ('amp', 'O'), (';', 'O'), ('i', 'O'), ('cant', 'O'), ('tell', 'O'), ('if', 'O'), ('its', 'O'), ('just', 'O'), ('like', 'O'), ('a', 'O'), ('blister', 'O'), ('bc', 'O'), ('i', 'O'), ('havent', 'O'), ('showered', 'O'), ('or', 'O'), ('if', 'O'), ('its', 'O'), ('the', 'O'), ('start', 'O'), ('of', 'O'), ('a', 'O'), ('rash', 'B-Symptom'), ('from', 'O'), ('this', 'O'), ('lamictal', 'B-Drug')], [('FDA', 'O'), ('Approves', 'O'), ('ADHD', 'B-Disease'), ('Drug', 'O'), ('Vyvanse', 'B-Drug'), ('to', 'O'), ('Treat', 'O'), ('Binge', 'O'), ('-', 'O'), ('Eating', 'O'), ('Disorder', 'O'), ('.', 'O'), ('.', 'O'), ('.', 'O')], [('Slowly', 'O'), ('coming', 'O'), ('off', 'O'), ('duloxetine', 'B-Drug'), ('and', 'O'), ('woke', 'O'), ('up', 'O'), ('wife', 'O'), ('last', 'O'), ('night', 'O'), ('cos', 'O'), ('of', 'O'), ('terrible', 'O'), ('nightmares', 'B-Symptom'), ('.', 'O'), ('This', 'O'), ('fucking', 'O'), ('drug', 'O'), ('can', 'O'), ('be', 'O'), ('awful', 'O'), ('😩', 'O'), ('😢', 'O'), ('😩', 'O'), ('😢', 'O')], [('#', 'B-Drug'), ('Ritalin', 'I-Drug'), ('-', 'O'), ('out', 'O'), ('of', 'O'), ('control', 'O'), ('in', 'O'), ('the', 'O'), ('hands', 'O'), ('of', 'O'), ('teens', 'O'), ('.', 'O'), ('For', 'O'), ('all', 'O'), ('#', 'O'), ('parents', 'O'), ('-', 'O'), ('something', 'O'), ('needs', 'O'), ('to', 'O'), ('be', 'O'), ('done', 'O'), ('about', 'O'), ('it', 'O'), ('.', 'O'), ('There', 'O'), ('are', 'O'), ('#', 'B-Disease'), ('ADHD', 'I-Disease'), ('children', 'O'), ('whose', 'O'), ('.', 'O'), ('.', 'O'), ('.', 'O')], [('do', 'O'), ('you', 'O'), ('think', 'O'), ('if', 'O'), ('I', 'O'), ('take', 'O'), ('my', 'O'), ('whole', 'O'), ('bottle', 'O'), ('of', 'O'), ('Effexor', 'B-Drug'), ('it', 'O'), ('might', 'O'), ('actually', 'O'), ('do', 'O'), ('something', 'O'), ('about', 'O'), ('my', 'O'), ('anxiety', 'B-Symptom'), ('lmao', 'O')], [('I', 'O'), ('hate', 'O'), ('when', 'O'), ('I', 'O'), ('make', 'O'), ('breakfast', 'O'), ('and', 'O'), ('then', 'O'), ('my', 'O'), ('Ritalin', 'B-Drug'), ('doesn', 'O'), (\"'\", 'O'), ('t', 'O'), ('let', 'O'), ('me', 'O'), ('eat', 'B-Symptom'), ('.', 'O'), ('Hmph', 'O'), ('.', 'O')]]\n",
            "length of senteces:\n",
            "7771\n"
          ]
        },
        {
          "output_type": "display_data",
          "data": {
            "text/plain": [
              "<Figure size 432x288 with 1 Axes>"
            ],
            "image/png": "[encoded data removed]"
          },
          "metadata": {
            "needs_background": "light"
          }
        }
      ],
      "source": [
        "from random import shuffle\n",
        "import random\n",
        "class SentenceGetter(object):\n",
        "    \n",
        "    def __init__(self, data):\n",
        "        \n",
        "        self.n_sent = 1\n",
        "        self.data = data\n",
        "        self.empty = False\n",
        "        agg_func = lambda s: [(w, t) for w, t in zip(s[\"Word\"].values.tolist(),\n",
        "                                                           s[\"Tag\"].values.tolist())]                                                 \n",
        "        self.grouped = self.data.groupby(\"Sentence No\").apply(agg_func)\n",
        "        self.sentences = [s for s in self.grouped]\n",
        "    \n",
        "    def get_next(self):\n",
        "        \"\"\"Return one sentence\"\"\"\n",
        "        try:\n",
        "            s = self.grouped[\"Sentence: {}\".format(self.n_sent)]\n",
        "            self.n_sent += 1\n",
        "            return s\n",
        "        except:\n",
        "            return None\n",
        "        \n",
        "getter = SentenceGetter(data)\n",
        "getter_twitter = SentenceGetter(data_twitter)\n",
        "sent = getter.get_next()# Get all the sentences\n",
        "sentences = getter.sentences\n",
        "sentences_twitter = getter_twitter.sentences#tesing all sentences\n",
        "\n",
        "\n",
        "print(sentences_twitter)\n",
        "sentences = random.sample(sentences, len(sentences)) # Shuffling the cadec and twitter dataset for better training\n",
        "print('length of senteces:')\n",
        "print(len(sentences))\n",
        "#sentences\n",
        "\n",
        "# Plot sentence by lenght\n",
        "plt.hist([len(s) for s in sentences], bins=10)\n",
        "plt.title('Token per sentence')\n",
        "plt.xlabel('Len (number of token)')\n",
        "plt.ylabel('# samples')\n",
        "plt.show()"
      ]
    },
    {
      "cell_type": "code",
      "execution_count": null,
      "metadata": {
        "id": "LVVnME7yOnFn",
        "colab": {
          "base_uri": "https://localhost:8080/"
        },
        "outputId": "75cf9ce6-95fc-41c1-fbcf-5fca4ca97165"
      },
      "outputs": [
        {
          "output_type": "stream",
          "name": "stdout",
          "text": [
            "The word Drugs is identified by the index: 7716\n",
            "The labels B-Symptom(which defines Symptom related Enitities) is identified by the index: 2\n"
          ]
        },
        {
          "output_type": "execute_result",
          "data": {
            "text/plain": [
              "((7771, 60), (271, 60), (7771, 60, 12), (271, 60, 12))"
            ]
          },
          "metadata": {},
          "execution_count": 14
        }
      ],
      "source": [
        "# Vocabulary Key:word -> Value:token_index\n",
        "# The first 2 entries are reserved for PAD and UNK\n",
        "word2idx = {w: i + 2 for i, w in enumerate(words)}\n",
        "#print(word2idx)\n",
        "word2idx[\"UNK\"] = 1 # Unknown words\n",
        "word2idx[\"PAD\"] = 0 # Padding\n",
        "word2idx\n",
        "word2idx_twitter = {w: i + 2 for i, w in enumerate(words_twitter)}\n",
        "word2idx_twitter[\"UNK\"] = 1 # Unknown words\n",
        "word2idx_twitter[\"PAD\"] = 0 # Padding\n",
        "word2idx_twitter\n",
        "\n",
        "\n",
        "\n",
        "\n",
        "# Vocabulary Key:token_index -> Value:word\n",
        "idx2word_twitter = {i: w for w, i in word2idx_twitter.items()}#dictionary\n",
        "idx2word_twitter\n",
        "idx2word = {i: w for w, i in word2idx.items()}\n",
        "idx2word\n",
        "\n",
        "# Vocabulary Key:Label/Tag -> Value:tag_index\n",
        "# The first entry is reserved for PAD\n",
        "tag2idx = {t: i+1 for i, t in enumerate(tags)}\n",
        "tag2idx[\"PAD\"] = 0\n",
        "tag2idx\n",
        "\n",
        "\n",
        "# Vocabulary Key:tag_index -> Value:Label/Tag\n",
        "idx2tag = {i: w for w, i in tag2idx.items()}\n",
        "idx2tag\n",
        "\n",
        "\n",
        "print(\"The word Drugs is identified by the index: {}\".format(word2idx[\"Drug\"]))\n",
        "print(\"The labels B-Symptom(which defines Symptom related Enitities) is identified by the index: {}\".format(tag2idx[\"B-Symptom\"]))\n",
        "\n",
        "from keras.preprocessing.sequence import pad_sequences\n",
        "# Convert each sentence from list of Token to list of word_index\n",
        "X = [[word2idx[w[0]] for w in s] for s in sentences] #all cadec part\n",
        "\n",
        "# Padding each sentence to have the same lenght\n",
        "X = pad_sequences(maxlen=MAX_LEN, sequences=X, padding=\"post\", value=word2idx[\"PAD\"]) #all cadec part\n",
        "\n",
        "X_twitter = [[word2idx_twitter[w[0]] for w in s] for s in sentences_twitter]\n",
        "\n",
        "# Padding each sentence to have the same lenght\n",
        "X_twitter = pad_sequences(maxlen=MAX_LEN, sequences=X_twitter, padding=\"post\", value=word2idx_twitter[\"PAD\"])\n",
        "\n",
        "\n",
        "# Convert Tag/Label to tag_index\n",
        "y = [[tag2idx[w[1]] for w in s] for s in sentences]\n",
        "# Padding each sentence to have the same length\n",
        "y = pad_sequences(maxlen=MAX_LEN, sequences=y, padding=\"post\", value=tag2idx[\"PAD\"])\n",
        "\n",
        "from keras.utils import to_categorical\n",
        "# One-Hot encode\n",
        "y = [to_categorical(i, num_classes=n_tags+1) for i in y]  # n_tags+1(PAD)\n",
        "\n",
        "\n",
        "y_twitter = [[tag2idx[w[1]] for w in s] for s in sentences_twitter]\n",
        "# Padding each sentence to have the same length\n",
        "y_twitter = pad_sequences(maxlen=MAX_LEN, sequences=y_twitter, padding=\"post\", value=tag2idx[\"PAD\"])\n",
        "from keras.utils import to_categorical\n",
        "# One-Hot encode\n",
        "y_twitter = [to_categorical(i, num_classes=n_tags+1) for i in y_twitter]  # n_tags+1(PAD)\n",
        "\n",
        "from sklearn.model_selection import train_test_split\n",
        "\n",
        "X_tr, X_te = X, X_twitter #both cadec and tweeter are used for train and test\n",
        "y_tr, y_te = y, y_twitter #both cadec and tweeter are used for train and test\n",
        "\n",
        "\n",
        "X_tr.shape, X_te.shape, np.array(y_tr).shape, np.array(y_te).shape\n",
        "\n",
        "\n"
      ]
    },
    {
      "cell_type": "code",
      "execution_count": null,
      "metadata": {
        "colab": {
          "base_uri": "https://localhost:8080/"
        },
        "id": "wCXYVrkH_WvH",
        "outputId": "18672d29-b82b-47fd-cdb0-6682b2ba9078"
      },
      "outputs": [
        {
          "output_type": "stream",
          "name": "stdout",
          "text": [
            "[[('LabileStudy', 'O'), ('is', 'O'), ('a', 'O'), ('clinical', 'O'), ('trial', 'O'), ('of', 'O'), ('lamotrigine', 'B-Drug'), ('versus', 'O'), ('placebo', 'O'), ('for', 'O'), ('people', 'O'), ('with', 'O'), ('borderline', 'O'), ('personality', 'O'), ('disorder', 'O'), ('.', 'O')], [('#', 'O'), ('QandA', 'O'), ('Yet', 'O'), ('we', 'O'), ('still', 'O'), ('prescribe', 'O'), ('medications', 'O'), ('to', 'O'), ('kids', 'O'), ('like', 'O'), ('Singulair', 'B-Drug'), ('(', 'O'), ('Montelukast', 'B-Drug'), (')', 'O'), ('that', 'O'), ('cause', 'O'), ('neuropsychiatric', 'O'), ('side', 'O'), ('effects', 'O'), ('including', 'O'), ('suicide', 'B-Symptom')], [('#', 'O'), ('QandA', 'O'), ('More', 'O'), ('research', 'O'), ('needs', 'O'), ('to', 'O'), ('be', 'O'), ('done', 'O'), ('in', 'O'), ('regards', 'O'), ('to', 'O'), ('asthma', 'B-Disease'), ('med', 'O'), ('.', 'O'), ('Singulair', 'B-Drug'), ('(', 'O'), ('Montelukast', 'B-Drug'), (')', 'O'), ('which', 'O'), ('causes', 'O'), ('neuropsychiatric', 'O'), ('side', 'O'), ('effects', 'O'), ('in', 'O'), ('kids', 'O'), ('!', 'O')], [('dang', 'O'), ('I', 'O'), ('wish', 'O'), ('my', 'O'), ('psychiatrist', 'O'), ('had', 'O'), ('told', 'O'), ('me', 'O'), ('that', 'O'), ('effexor', 'B-Drug'), ('withdrawals', 'B-Symptom'), ('are', 'O'), ('really', 'O'), ('intense', 'O'), ('and', 'O'), ('horrible', 'O'), ('and', 'O'), ('kick', 'O'), ('in', 'O'), ('after', 'O'), ('like', 'O'), ('one', 'O'), ('missed', 'O'), ('dose', 'O')], [('@', 'O'), ('_', 'O'), ('katanakaji', 'O'), ('\"', 'O'), ('trazodone', 'B-Drug'), ('.', 'O'), ('.', 'O'), ('.', 'O'), ('uhmm', 'O'), ('well', 'O'), (',', 'O'), ('just', 'O'), ('pretend', 'O'), ('that', 'O'), ('a', 'O'), ('magical', 'O'), ('pills', 'O'), ('to', 'O'), ('ease', 'O'), ('your', 'O'), ('insomnia', 'O'), (',', 'O'), ('\"', 'O'), ('she', 'O'), ('smiles', 'O'), ('awkwardly', 'O'), ('.', 'O')], [('Tapering', 'O'), ('off', 'O'), ('lamictal', 'B-Drug'), ('and', 'O'), ('onto', 'O'), ('zyprexa', 'B-Drug'), ('.', 'O'), ('From', 'O'), ('a', 'O'), ('mood', 'O'), ('stabilizer', 'O'), ('going', 'O'), ('onto', 'O'), ('an', 'O'), ('antipsychotic', 'O'), ('.', 'O'), ('Joy', 'O'), ('.', 'O'), ('I', 'O'), (\"'\", 'O'), ('m', 'O'), ('fucking', 'O'), ('crazy', 'O'), ('.', 'O'), ('-', 'O'), ('.', 'O'), ('-', 'O')], [('A', 'O'), ('shoo', 'O'), ('-', 'O'), ('in', 'O'), ('for', 'O'), ('$', 'O'), ('CTMX', 'O'), ('=', 'O'), ('license', 'O'), ('Probody', 'O'), ('tech', 'O'), ('to', 'O'), ('Roche', 'O'), ('and', 'O'), ('let', 'O'), ('them', 'O'), ('put', 'O'), ('on', 'O'), ('Avastin', 'B-Drug'), ('/', 'O'), ('Herceptin', 'O'), ('to', 'O'), ('stop', 'O'), ('bowel', 'B-Symptom'), ('perforation', 'I-Symptom'), ('/', 'O'), ('heart', 'O'), ('issues', 'O'), ('.', 'O'), ('No', 'O'), ('?', 'O'), ('$', 'O'), ('$', 'O')], [('Gotta', 'O'), ('try', 'O'), ('some', 'O'), ('modafinil', 'B-Drug'), ('and', 'O'), ('see', 'O'), ('if', 'O'), ('it', 'O'), ('will', 'O'), ('make', 'O'), ('me', 'O'), ('concentrate', 'B-Symptom'), ('for', 'O'), ('once', 'O')], [('There', 'O'), (\"'\", 'O'), ('s', 'O'), ('not', 'O'), ('enough', 'O'), ('Effexor', 'B-Drug'), ('in', 'O'), ('the', 'O'), ('world', 'O'), ('to', 'O'), ('deal', 'O'), ('with', 'O'), ('the', 'O'), ('anxiety', 'B-Symptom'), ('in', 'O'), ('this', 'O'), ('park', 'O'), ('.', 'O')], [('Which', 'O'), ('anticonvulsant', 'B-Symptom'), ('is', 'O'), ('safe', 'O'), ('during', 'O'), ('pregnancy', 'O'), ('?', 'O'), ('?', 'O'), ('Answer', 'O'), (':', 'O'), ('Carbamazepine', 'B-Drug')], [('Just', 'O'), ('remembered', 'O'), ('that', 'O'), ('the', 'O'), ('last', 'O'), ('time', 'O'), ('I', 'O'), ('went', 'O'), ('to', 'O'), ('the', 'O'), ('doctor', 'O'), ('they', 'O'), ('had', 'O'), ('to', 'O'), ('ask', 'O'), ('me', 'O'), ('if', 'O'), ('I', 'O'), ('was', 'O'), ('depressed', 'B-Disease'), ('.', 'O'), ('Bitch', 'O'), ('no', 'O'), (',', 'O'), ('and', 'O'), ('if', 'O'), ('I', 'O'), ('was', 'O'), ('Cymbalta', 'B-Drug'), ('would', 'O'), ('help', 'O'), ('😒', 'O')], [('Took', 'O'), ('a', 'O'), ('trazodone', 'B-Drug'), ('to', 'B-Symptom'), ('sleep', 'I-Symptom'), ('after', 'O'), ('waking', 'O'), ('up', 'O'), ('at', 'O'), ('5am', 'O'), ('.', 'O'), ('Hence', 'O'), ('I', 'B-Symptom'), (\"'\", 'I-Symptom'), ('ve', 'I-Symptom'), ('slept', 'I-Symptom'), ('all', 'I-Symptom'), ('day', 'I-Symptom'), ('.', 'O'), ('Up', 'O'), ('side', 'O'), (',', 'O'), ('@', 'O'), ('jshecket', 'O'), ('and', 'O'), ('I', 'O'), ('saved', 'O'), ('Tokyo', 'O'), ('.', 'O'), ('#', 'O'), ('DreamsAreWeird', 'O')], [('I', 'O'), ('don', 'O'), (\"'\", 'O'), ('t', 'O'), ('feel', 'O'), ('good', 'O'), ('.', 'O'), ('No', 'O'), ('fucking', 'O'), ('appetite', 'O'), ('.', 'O'), ('Stupid', 'O'), ('Vyvanse', 'B-Drug'), ('!', 'O')], [('Patient', 'O'), ('states', 'O'), ('she', 'O'), ('has', 'O'), ('an', 'O'), ('allergy', 'O'), ('to', 'O'), ('Lisinopril', 'B-Drug'), ('The', 'O'), ('listed', 'O'), ('reaction', 'O'), ('?', 'O'), ('Cough', 'B-Symptom'), ('THAT', 'O'), (\"'\", 'O'), ('S', 'O'), ('EXPECTED', 'O'), ('WITH', 'O'), ('ACE', 'O'), ('INHIBITORS', 'O'), ('!', 'O'), ('THAT', 'O'), (\"'\", 'O'), ('S', 'O'), ('NOT', 'O'), ('AN', 'O'), ('ALLERGY', 'O'), ('!', 'O'), ('😠', 'O')], [('Fuck', 'O'), ('topamax', 'B-Drug'), (',', 'O'), ('for', 'O'), ('real', 'O'), ('.', 'O'), ('I', 'O'), ('took', 'O'), ('one', 'O'), ('for', 'O'), ('the', 'O'), ('first', 'O'), ('time', 'O'), ('in', 'O'), ('like', 'O'), ('a', 'O'), ('year', 'O'), ('to', 'O'), ('try', 'O'), ('to', 'O'), ('break', 'O'), ('this', 'O'), ('series', 'O'), ('of', 'O'), ('headaches', 'B-Symptom'), ('and', 'O'), ('it', 'O'), ('screwed', 'O'), ('me', 'O'), ('up', 'O'), ('.', 'O')], [('tried', 'O'), ('to', 'O'), ('wean', 'O'), ('myself', 'O'), ('off', 'O'), ('of', 'O'), ('singulair', 'B-Drug'), ('to', 'O'), ('save', 'O'), ('money', 'O'), ('but', 'O'), ('I', 'O'), ('still', 'O'), ('can', 'O'), (\"'\", 'O'), ('t', 'O'), ('breathe', 'B-Symptom'), ('#', 'O'), ('lol', 'O'), ('#', 'O'), ('haha', 'O'), ('#', 'O'), ('Capitalism', 'O')], [('Taken', 'O'), ('#', 'O'), ('lyrica', 'O'), ('#', 'B-Drug'), ('lamictal', 'I-Drug'), ('#', 'O'), ('neurontin', 'O'), ('#', 'B-Drug'), ('topamax', 'I-Drug'), ('4', 'O'), ('diabetic', 'O'), ('neuropathy', 'O'), ('.', 'O'), ('Had', 'O'), ('2', 'O'), ('go', 'O'), ('2ER', 'O'), ('while', 'O'), ('on', 'O'), ('topamax', 'O'), ('.', 'O'), ('#', 'O'), ('sickAsADog', 'O'), ('|', 'O'), ('#', 'O'), ('neurontin', 'O'), ('also', 'O'), ('made', 'O'), ('me', 'O'), ('ILL', 'O')], [('FQ', 'O'), ('antibiotics', 'O'), ('like', 'O'), ('Cipro', 'O'), (',', 'O'), ('Levaquin', 'B-Drug'), (',', 'O'), ('Avelox', 'B-Drug'), (',', 'O'), ('Noroxin', 'O'), (',', 'O'), ('Floxin', 'O'), ('and', 'O'), ('Factive', 'O'), ('can', 'O'), ('have', 'O'), ('major', 'O'), ('side', 'O'), ('affects', 'O'), ('-', 'O'), ('#', 'O'), ('peripheral', 'O'), ('#', 'O'), ('neuropathy', 'O'), ('and', 'O'), ('more', 'O'), ('.', 'O'), ('.', 'O'), ('.', 'O')], [('The', 'O'), ('Dr', 'O'), ('put', 'O'), ('me', 'O'), ('on', 'O'), ('topamax', 'B-Drug'), ('for', 'O'), ('migraines', 'O'), ('and', 'O'), ('I', 'O'), (\"'\", 'O'), ('m', 'O'), ('reading', 'O'), ('about', 'O'), ('the', 'O'), ('weight', 'B-Symptom'), ('loss', 'I-Symptom'), ('it', 'O'), ('causes', 'O'), ('.', 'O'), ('.', 'O'), ('.', 'O'), ('.', 'O'), ('I', 'O'), ('LOVE', 'O'), ('THIS', 'O'), ('MAN', 'O'), ('!', 'O'), ('#', 'O'), ('hollywoodSkinnyHereICome', 'O'), ('!', 'O'), ('!', 'O'), ('!', 'O'), ('!', 'O'), ('!', 'O'), ('!', 'O')], [('Rly', 'O'), ('getting', 'O'), ('sick', 'O'), ('of', 'O'), ('not', 'O'), ('being', 'O'), ('able', 'O'), ('to', 'O'), ('sleep', 'B-Symptom'), ('because', 'O'), ('of', 'O'), ('my', 'O'), ('vyvanse', 'B-Drug')], [('I', 'O'), (\"'\", 'O'), ('m', 'O'), ('a', 'O'), ('dizzy', 'B-Symptom'), ('nauseous', 'B-Symptom'), ('mess', 'O'), ('and', 'O'), ('it', 'O'), ('looks', 'O'), ('like', 'O'), ('I', 'O'), (\"'\", 'O'), ('m', 'O'), ('at', 'O'), ('the', 'O'), ('charitable', 'O'), ('end', 'O'), ('of', 'O'), ('the', 'O'), ('effexor', 'B-Drug'), ('withdrawal', 'O'), ('scale', 'O')], [('Topamax', 'B-Drug'), ('taken', 'O'), ('during', 'O'), ('pregnancy', 'O'), ('can', 'O'), ('cause', 'O'), ('birth', 'B-Symptom'), ('defects', 'I-Symptom'), ('~', 'O'), ('heart', 'O'), ('/', 'O'), ('lung', 'O'), ('/', 'O'), ('brain', 'O'), ('abnormalities', 'O'), ('cleft', 'B-Symptom'), ('palate', 'I-Symptom'), ('cleft', 'B-Symptom'), ('lip', 'I-Symptom'), ('other', 'O'), ('serious', 'O'), ('health', 'O'), ('problems', 'O')], [('A', 'O'), ('New', 'O'), ('York', 'O'), ('Times', 'O'), ('story', 'O'), ('in', 'O'), ('March', 'O'), ('2011', 'O'), ('detailed', 'O'), ('FDA', 'O'), ('warnings', 'O'), ('of', 'O'), ('Topamax', 'B-Drug'), ('raising', 'O'), ('the', 'O'), ('risk', 'O'), ('of', 'O'), ('birth', 'B-Symptom'), ('defects', 'I-Symptom'), ('.', 'O'), ('1', 'O'), ('.', 'O'), ('713', 'O'), ('.', 'O'), ('238', 'O'), ('.', 'O'), ('7758', 'O')], [('Oland', 'O'), ('was', 'O'), ('taking', 'O'), ('Paxil', 'B-Drug'), ('for', 'O'), ('anxiety', 'B-Symptom'), ('?', 'O'), ('That', 'O'), ('was', 'O'), ('suggested', 'O'), (',', 'O'), ('says', 'O'), ('Naseemuddin', 'O'), ('.', 'O'), ('And', 'O'), ('aspirin', 'O'), ('?', 'O'), ('Don', 'O'), (\"'\", 'O'), ('t', 'O'), ('know', 'O'), ('about', 'O'), ('that', 'O'), ('.', 'O')], [('Better', 'O'), ('control', 'O'), ('of', 'O'), ('nausea', 'B-Symptom'), ('and', 'O'), ('vomiting', 'B-Symptom'), ('with', 'O'), ('olanzapine', 'B-Drug'), ('(', 'O'), ('plus', 'O'), ('aprepitant', 'O'), (',', 'O'), ('dexamethasone', 'O'), (',', 'O'), ('and', 'O'), ('a', 'O'), ('5HT3', 'O'), (')', 'O'), ('with', 'O'), ('highly', 'O'), ('emetogenic', 'O'), ('chemo', 'O'), ('.', 'O'), ('#', 'O'), ('pallonc', 'O')], [('Note', 'O'), ('that', 'O'), ('olanzapine', 'B-Drug'), ('for', 'O'), ('CINV', 'B-Symptom'), ('is', 'O'), ('not', 'O'), ('FDA', 'O'), ('approved', 'O'), ('for', 'O'), ('that', 'O'), ('indication', 'O'), ('#', 'O'), ('pallonc', 'O')], [('Having', 'O'), ('a', 'O'), ('kid', 'O'), ('w', 'O'), ('/', 'O'), ('ADHD', 'O'), ('most', 'O'), ('likely', 'O'), ('keeps', 'O'), ('me', 'O'), ('humble', 'O'), (',', 'O'), ('will', 'O'), ('never', 'O'), ('do', 'O'), ('long', 'O'), ('acting', 'O'), ('Ritalin', 'B-Drug'), ('again', 'O'), (',', 'O'), ('pure', 'O'), ('disaster', 'O'), ('!', 'O'), ('!', 'O')], [('Yay', 'O'), ('!', 'O'), ('My', 'O'), ('doctor', 'O'), ('put', 'O'), ('me', 'O'), ('back', 'O'), ('#', 'B-Drug'), ('Geodon', 'I-Drug'), ('but', 'O'), ('kept', 'O'), ('#', 'B-Drug'), ('Seroquel', 'I-Drug'), ('as', 'O'), ('well', 'O'), ('.', 'O'), ('Now', 'O'), ('I', 'O'), (\"'\", 'O'), ('m', 'O'), ('on', 'O'), ('7', 'O'), ('psych', 'O'), ('meds', 'O'), ('.', 'O'), ('Most', 'O'), ('ever', 'O'), ('.', 'O'), ('Ugh', 'O'), ('.', 'O'), ('#', 'B-Disease'), ('bipolar', 'I-Disease'), ('#', 'B-Disease'), ('PTSD', 'I-Disease'), ('#', 'O'), ('mentalhealth', 'O')], [('Fluoxetine', 'B-Drug'), ('hasn', 'O'), (\"'\", 'O'), ('t', 'O'), ('made', 'O'), ('me', 'O'), ('drowsy', 'B-Symptom'), ('at', 'O'), ('all', 'O'), ('yet', 'O'), ('like', 'O'), ('sertraline', 'B-Drug'), ('did', 'O'), ('I', 'O'), ('love', 'O')], [('Ugggh', 'O'), ('#', 'O'), ('migraine', 'O'), ('sucks', 'O'), ('.', 'O'), ('First', 'O'), ('one', 'O'), ('I', 'O'), (\"'\", 'O'), ('ve', 'O'), ('had', 'O'), ('since', 'O'), ('the', 'O'), ('#', 'B-Drug'), ('topamax', 'I-Drug'), ('though', 'O'), (',', 'O'), ('so', 'O'), ('I', 'O'), ('can', 'O'), (\"'\", 'O'), ('t', 'O'), ('complain', 'O'), ('too', 'O'), ('much', 'O'), ('.', 'O'), ('It', 'O'), (\"'\", 'O'), ('s', 'O'), ('been', 'O'), ('working', 'O'), ('great', 'O'), ('.', 'O')], [('Normally', 'O'), ('singulair', 'B-Drug'), ('doesn', 'O'), (\"'\", 'O'), ('t', 'O'), ('effect', 'O'), ('my', 'O'), ('moods', 'O'), ('but', 'O'), ('since', 'O'), ('I', 'O'), (\"'\", 'O'), ('ve', 'O'), ('been', 'O'), ('feeling', 'O'), ('upset', 'O'), ('after', 'O'), ('a', 'O'), ('recent', 'O'), ('argument', 'O'), (',', 'O'), ('its', 'O'), ('making', 'O'), ('depressed', 'B-Symptom')], [('Thank', 'O'), ('God', 'O'), (',', 'O'), ('I', 'O'), ('got', 'O'), ('one', 'O'), ('of', 'O'), ('this', 'O'), ('last', 'O'), ('night', 'O'), ('kenalog', 'B-Drug'), ('SWEAR', 'O'), ('I', 'O'), ('woke', 'O'), ('up', 'O'), ('I', 'O'), ('feel', 'B-Symptom'), ('more', 'I-Symptom'), ('Hot', 'I-Symptom'), ('!', 'O'), ('😋', 'O'), ('I', 'O'), ('try', 'O'), ('2tell', 'O'), ('someone', 'O'), ('i', 'O'), ('dont', 'O'), ('feel', 'O'), ('good', 'O'), ('But', 'O'), ('No', 'O'), ('one', 'O'), ('give', 'O'), ('a', 'O'), ('DAME', 'O')], [('Depression', 'O'), ('hurts', 'O'), ('.', 'O'), ('.', 'O'), ('.', 'O'), ('and', 'O'), ('Cymbalta', 'B-Drug'), ('doesn', 'O'), (\"'\", 'O'), ('t', 'O'), ('help', 'O')], [('They', 'O'), ('put', 'O'), ('me', 'O'), ('on', 'O'), ('xanex', 'O'), ('for', 'O'), ('my', 'O'), ('#', 'B-Symptom'), ('anxiety', 'I-Symptom'), ('and', 'O'), ('zyprexa', 'B-Drug'), ('for', 'O'), ('my', 'O'), ('#', 'B-Disease'), ('bipolardisorder', 'I-Disease'), ('.', 'O'), ('some', 'O'), ('days', 'O'), ('I', 'O'), ('feel', 'O'), ('like', 'O'), ('a', 'O'), ('zombie', 'B-Symptom'), (',', 'O'), ('but', 'O'), ('I', 'O'), (\"'\", 'O'), ('m', 'O'), ('optimistic', 'O'), ('about', 'O'), ('it', 'O'), ('.', 'O')], [('Right', 'O'), ('now', 'O'), ('I', 'O'), (\"'\", 'O'), ('m', 'O'), ('looking', 'O'), ('at', 'O'), ('my', 'O'), ('seroquel', 'B-Drug'), ('longingly', 'O'), ('but', 'O'), ('taking', 'O'), ('a', 'O'), ('trazadone', 'B-Drug'), ('instead', 'O'), ('.', 'O'), ('#', 'B-Disease'), ('bipolar', 'I-Disease'), ('#', 'O'), ('tryingtogetpreggers', 'O'), ('#', 'O'), ('sacrifices', 'O'), ('#', 'O'), ('ughthissucks', 'O')], [('#', 'O'), ('SubstituteColdForDepression', 'B-Disease'), ('My', 'O'), ('cold', 'O'), ('was', 'O'), ('so', 'O'), ('bad', 'O'), ('I', 'O'), ('went', 'O'), ('to', 'O'), ('my', 'O'), ('doctor', 'O'), ('.', 'O'), ('She', 'O'), ('put', 'O'), ('me', 'O'), ('on', 'O'), ('Prozac', 'O'), ('.', 'O')], [('My', 'O'), ('meds', 'O'), (':', 'O'), ('CYMBALTA', 'B-Drug'), ('60mg', 'O'), ('for', 'O'), ('my', 'O'), ('depression', 'O'), ('taken', 'O'), ('every', 'O'), ('day', 'O'), ('.', 'O'), ('DIAZEPAM', 'O'), ('aka', 'O'), ('Valium', 'O'), ('5mg', 'O'), ('taken', 'O'), ('when', 'O'), ('I', 'O'), ('have', 'O'), ('an', 'O'), ('anxiety', 'B-Symptom'), ('attack', 'I-Symptom'), ('which', 'O'), ('normally', 'O'), ('-', 'O'), ('-', 'O'), ('-', 'O'), ('&', 'O'), ('gt', 'O'), (';', 'O')], [('Dr', 'O'), ('gave', 'O'), ('m', 'O'), ('8', 'O'), ('months', 'O'), ('worth', 'O'), ('of', 'O'), ('citalopram', 'B-Drug'), ('on', 'O'), ('Thursday', 'O'), ('.', 'O'), ('Seems', 'O'), ('a', 'O'), ('bit', 'O'), ('overboard', 'O'), ('o', 'O'), ('.', 'O'), ('O', 'O'), ('#', 'B-Disease'), ('depression', 'I-Disease'), ('#', 'B-Symptom'), ('anxiety', 'I-Symptom')], [('Got', 'O'), ('an', 'O'), ('M', 'O'), ('&', 'O'), ('amp', 'O'), (';', 'O'), ('M', 'O'), ('flurry', 'O'), ('can', 'O'), ('of', 'O'), ('Diet', 'O'), ('Coke', 'O'), ('some', 'O'), ('nice', 'O'), ('ritalin', 'B-Drug'), ('to', 'O'), ('keep', 'O'), ('me', 'O'), ('awake', 'B-Symptom'), ('.', 'O'), ('Time', 'O'), ('to', 'O'), ('get', 'O'), ('the', 'O'), ('Uber', 'O'), ('on', 'O'), ('!', 'O'), ('#', 'O'), ('Uber', 'O'), ('#', 'O'), ('narcolepsy', 'O')], [('3', 'O'), (':', 'O'), ('50pm', 'O'), ('#', 'O'), ('MsDamn', 'O'), ('#', 'O'), ('ArianneLee', 'O'), (',', 'O'), ('Lastly', 'O'), ('sharing', 'O'), ('with', 'O'), ('you', 'O'), ('I', 'O'), ('had', 'O'), ('my', 'O'), ('High', 'B-Symptom'), ('Blood', 'I-Symptom'), ('Pressure', 'I-Symptom'), ('medication', 'O'), ('refilled', 'O'), ('LISINOPRIL', 'B-Drug'), (';', 'O'), ('I', 'O'), (\"'\", 'O'), ('m', 'O'), ('a', 'O'), ('TRUTH', 'O'), ('and', 'O'), ('to', 'O'), ('You', 'O'), ('.', 'O'), ('GOD', 'O')], [('prozac', 'B-Drug'), ('made', 'O'), ('me', 'O'), ('tired', 'B-Symptom'), (',', 'O'), ('suicidal', 'O'), ('and', 'O'), ('numb', 'B-Symptom'), ('.', 'O'), ('but', 'O'), ('at', 'O'), ('least', 'O'), ('it', 'O'), ('stopped', 'O'), ('me', 'O'), ('from', 'O'), ('turning', 'O'), ('into', 'O'), ('a', 'O'), ('complete', 'O'), ('wreck', 'O'), ('like', 'O'), ('now', 'O')], [('first', 'O'), ('line', 'O'), ('treatments', 'O'), ('for', 'O'), ('schizophrenia', 'O'), ('contain', 'O'), ('olanzapine', 'B-Drug'), ('which', 'O'), ('has', 'O'), ('tremendous', 'O'), ('paradoxical', 'O'), ('side', 'O'), ('effects', 'O'), ('including', 'O'), ('higher', 'O'), ('suicidal', 'B-Symptom'), ('ideation', 'I-Symptom')], [('Does', 'O'), ('prednisone', 'B-Drug'), ('make', 'O'), ('you', 'O'), ('manic', 'B-Symptom'), ('?', 'O'), ('Because', 'O'), ('I', 'O'), (\"'\", 'O'), ('ve', 'O'), ('spent', 'O'), ('4', 'O'), ('hours', 'O'), ('searching', 'O'), ('the', 'O'), ('web', 'O'), ('for', 'O'), ('the', 'O'), ('perfect', 'O'), ('maroon', 'O'), ('/', 'O'), ('burgundy', 'O'), ('/', 'O'), ('dark', 'O'), ('wine', 'O'), ('colored', 'O'), ('leather', 'O'), ('bag', 'O')], [('Citalopram', 'B-Drug'), ('withdrawal', 'B-Symptom'), ('is', 'O'), ('worse', 'O'), ('than', 'O'), ('normal', 'O'), ('bad', 'O'), ('puns', 'O')], [('Oh', 'O'), ('okay', 'O'), ('it', 'O'), ('isn', 'O'), (\"'\", 'O'), ('t', 'O'), ('just', 'O'), ('the', 'O'), ('fluoxetine', 'B-Drug'), (',', 'O'), ('I', 'O'), ('also', 'O'), ('have', 'O'), ('a', 'O'), ('sore', 'B-Symptom'), ('throat', 'I-Symptom'), ('and', 'O'), ('runny', 'B-Symptom'), ('nose', 'I-Symptom'), ('.', 'O'), ('What', 'O'), ('a', 'O'), ('relief', 'O'), ('.', 'O'), ('.', 'O'), ('.', 'O'), ('?', 'O')], [('I', 'O'), ('swear', 'O'), ('geodon', 'B-Drug'), ('just', 'O'), ('makes', 'O'), ('me', 'O'), ('go', 'B-Symptom'), ('to', 'I-Symptom'), ('bed', 'I-Symptom'), ('and', 'O'), ('wake', 'O'), ('up', 'O'), ('at', 'O'), ('reasonable', 'O'), ('times', 'O')], [('Holy', 'O'), ('hell', 'O'), (',', 'O'), ('Ritalin', 'B-Drug'), ('makes', 'O'), ('all', 'O'), ('the', 'O'), ('goddamned', 'O'), ('difference', 'O'), ('in', 'O'), ('the', 'O'), ('world', 'O'), ('.', 'O'), ('I', 'O'), ('wish', 'O'), ('I', 'O'), (\"'\", 'O'), ('d', 'O'), ('been', 'O'), ('diagnosed', 'O'), ('sooner', 'O'), ('.', 'O'), ('And', 'O'), ('not', 'O'), ('fought', 'O'), ('meds', 'O'), ('so', 'O'), ('hard', 'O'), ('.', 'O'), ('#', 'B-Disease'), ('ADHDlife', 'I-Disease')], [('LRT', 'O'), (':', 'O'), ('nice', 'O'), ('to', 'O'), ('see', 'O'), ('my', 'O'), ('experience', 'O'), ('corroborated', 'O'), (':', 'O'), (')', 'O'), ('(', 'O'), ('lamotrigine', 'B-Drug'), ('helping', 'O'), ('with', 'O'), ('visual', 'O'), ('snow', 'O'), (')', 'O'), ('.', 'O'), ('hoping', 'O'), ('we', 'O'), ('can', 'O'), ('stay', 'O'), ('on', 'O'), ('a', 'O'), ('low', 'O'), ('dose', 'O'), ('at', 'O'), ('least', 'O'), ('.', 'O'), ('not', 'O'), ('sure', 'O'), ('.', 'O')], [('HenochSchonlein', 'O'), ('purpura', 'O'), ('probably', 'O'), ('due', 'O'), ('to', 'O'), ('montelukast', 'B-Drug'), ('presenting', 'O'), ('as', 'O'), ('subacute', 'O'), ('intestinal', 'B-Symptom'), ('obstruction', 'I-Symptom'), ('.', 'O')], [('#', 'B-Drug'), ('tamoxifen', 'I-Drug'), ('Makes', 'O'), ('me', 'O'), ('feel', 'O'), ('like', 'O'), ('I', 'O'), (\"'\", 'O'), ('m', 'O'), ('going', 'O'), ('nuts', 'O'), (',', 'O'), ('mood', 'B-Symptom'), ('swings', 'I-Symptom'), (',', 'O'), ('anger', 'B-Symptom'), (',', 'O'), ('depression', 'B-Symptom'), ('&', 'O'), ('amp', 'O'), (';', 'O'), ('another', 'O'), ('6', 'O'), ('years', 'O'), ('to', 'O'), ('go', 'O'), ('.', 'O'), ('Def', 'O'), ('seeing', 'O'), ('onc', 'O'), ('to', 'O'), ('discuss', 'O'), ('@', 'O'), ('BCCare', 'O')], [('Omg', 'O'), ('upped', 'O'), ('topamax', 'B-Drug'), ('dose', 'O'), ('on', 'O'), ('Thursday', 'O'), ('(', 'O'), ('for', 'O'), ('chronic', 'O'), ('migraine', 'O'), (')', 'O'), ('tonight', 'O'), ('I', 'O'), ('can', 'O'), (\"'\", 'O'), ('t', 'O'), ('stop', 'O'), ('itching', 'B-Symptom'), ('all', 'O'), ('over', 'O'), ('#', 'B-Drug'), ('topamax', 'I-Drug'), ('#', 'O'), ('Migraine', 'O'), ('#', 'O'), ('sideeffects', 'O')], [('Not', 'O'), ('taking', 'O'), ('away', 'O'), ('from', 'O'), ('#', 'B-Disease'), ('breast', 'I-Disease'), ('cancer', 'I-Disease'), ('awareness', 'O'), ('month', 'O'), ('but', 'O'), ('can', 'O'), (\"'\", 'O'), ('t', 'O'), ('we', 'O'), ('all', 'O'), ('just', 'O'), ('be', 'O'), ('aware', 'O'), ('.', 'O'), ('Like', 'O'), (',', 'O'), ('all', 'O'), ('the', 'O'), ('time', 'O'), ('?', 'O'), ('#', 'B-Drug'), ('tamoxifen', 'I-Drug'), ('#', 'O'), ('Survivor', 'O')], [('@', 'O'), ('8bithomo', 'O'), ('Have', 'O'), ('you', 'O'), ('tried', 'O'), ('Topamax', 'B-Drug'), ('?', 'O'), ('It', 'O'), (\"'\", 'O'), ('s', 'O'), ('very', 'O'), ('good', 'O'), ('for', 'O'), ('migraine', 'O'), ('prophylaxis', 'O'), ('.', 'O')], [('\"', 'O'), ('Depression', 'O'), ('hurts', 'O'), ('.', 'O'), ('Cymbalta', 'B-Drug'), ('can', 'O'), ('help', 'O'), ('.', 'O'), ('\"', 'O'), ('Someone', 'O'), ('get', 'O'), ('me', 'O'), ('Cymbalta', 'B-Drug'), ('NOW', 'O')], [('I', 'O'), ('need', 'O'), ('to', 'O'), ('get', 'O'), ('prescribed', 'O'), ('to', 'O'), ('trazodone', 'B-Drug'), ('again', 'O'), ('so', 'O'), ('I', 'O'), ('can', 'O'), ('sleep', 'B-Symptom')], [('Maybe', 'O'), ('a', 'O'), ('little', 'O'), ('personal', 'O'), ('for', 'O'), ('Twitter', 'O'), (',', 'O'), ('but', 'O'), ('has', 'O'), ('anyone', 'O'), ('ever', 'O'), ('came', 'O'), ('off', 'O'), ('Citalopram', 'B-Drug'), ('/', 'O'), ('Celexa', 'B-Drug'), ('?', 'O'), ('This', 'O'), ('is', 'O'), ('day', 'O'), ('10', 'O'), ('and', 'O'), ('I', 'O'), ('feel', 'O'), ('very', 'O'), ('fuzzy', 'B-Symptom'), ('headed', 'I-Symptom'), ('and', 'O'), ('poop', 'O'), ('.', 'O')], [('Not', 'O'), ('a', 'O'), ('fan', 'O'), ('of', 'O'), ('long', 'O'), ('term', 'O'), ('use', 'O'), ('of', 'O'), ('#', 'O'), ('methadone', 'O'), ('or', 'O'), ('#', 'B-Drug'), ('suboxone', 'I-Drug'), ('for', 'O'), ('treatment', 'O'), ('of', 'O'), ('opiate', 'O'), ('addiction', 'O'), ('.', 'O'), ('If', 'O'), ('it', 'O'), ('works', 'O'), ('for', 'O'), ('you', 'O'), ('that', 'O'), (\"'\", 'O'), ('s', 'O'), ('great', 'O'), ('.', 'O')], [('$', 'O'), ('CLSN', 'O'), ('+', 'O'), ('15', 'O'), ('%', 'O'), ('$', 'O'), ('2', 'O'), ('.', 'O'), ('12', 'O'), ('impressive', 'O'), ('pre', 'O'), ('-', 'O'), ('clinical', 'O'), ('data', 'O'), ('for', 'O'), ('its', 'O'), ('GEN', 'O'), ('-', 'O'), ('1', 'O'), ('IL', 'O'), ('-', 'O'), ('12', 'O'), ('immunotherapy', 'O'), ('in', 'O'), ('combination', 'O'), ('with', 'O'), ('Avastin', 'B-Drug'), ('®', 'O'), ('and', 'O'), ('Doxil', 'O'), ('®', 'O'), ('for', 'O'), ('ovarian', 'B-Disease'), ('cancer', 'I-Disease'), ('.', 'O')], [('Feeling', 'O'), ('awful', 'O'), ('today', 'O'), ('.', 'O'), ('Nerve', 'B-Symptom'), ('pain', 'I-Symptom'), ('everywhere', 'O'), ('.', 'O'), ('Exactly', 'O'), ('like', 'O'), ('if', 'O'), ('I', 'O'), ('hadn', 'O'), (\"'\", 'O'), ('t', 'O'), ('taken', 'O'), ('my', 'O'), ('duloxetine', 'B-Drug'), ('this', 'O'), ('morning', 'O'), ('.', 'O'), ('But', 'O'), ('I', 'O'), ('did', 'O'), ('.', 'O'), ('&', 'O'), ('gt', 'O'), (';', 'O'), ('.', 'O'), ('&', 'O'), ('gt', 'O'), (';', 'O')], [('Day', 'O'), ('4', 'O'), (':', 'O'), ('Percy', 'O'), ('is', 'O'), ('getting', 'O'), ('lonely', 'O'), ('as', 'O'), ('he', 'O'), ('has', 'O'), ('no', 'O'), ('one', 'O'), ('to', 'O'), ('pinch', 'O'), ('him', 'O'), ('anymore', 'O'), ('.', 'O'), ('Depression', 'O'), ('may', 'O'), ('be', 'O'), ('setting', 'O'), ('in', 'O'), ('.', 'O'), ('Trying', 'O'), ('to', 'O'), ('get', 'O'), ('Cymbalta', 'B-Drug'), ('if', 'O'), ('ya', 'O'), ('know', 'O'), ('a', 'O'), ('guy', 'O')], [('Just', 'O'), ('got', 'O'), ('back', 'O'), ('from', 'O'), ('seeing', 'O'), ('my', 'O'), ('shrink', 'O'), ('.', 'O'), ('He', 'O'), ('doubled', 'O'), ('my', 'O'), ('Lamictal', 'B-Drug'), ('to', 'O'), ('200mg', 'O'), ('a', 'O'), ('day', 'O'), ('and', 'O'), ('tripled', 'O'), ('my', 'O'), ('trazadone', 'B-Drug'), ('to', 'O'), ('150mg', 'O'), ('at', 'O'), ('bedtime', 'O'), ('.', 'O'), ('(', 'O'), ('As', 'O'), ('needed', 'O'), (')', 'O'), ('#', 'B-Disease'), ('BiPolar', 'I-Disease')], [('.', 'O'), ('.', 'O'), ('.', 'O'), ('And', 'O'), ('back', 'O'), ('on', 'O'), ('Provigil', 'B-Drug'), ('I', 'O'), ('go', 'O'), ('.', 'O'), (':', 'O'), ('(', 'O'), ('#', 'B-Disease'), ('ADHD', 'I-Disease'), ('#', 'O'), ('SickOfIt', 'O'), ('#', 'O'), ('PANDAS', 'O')], [('.', 'O'), ('@', 'O'), ('NoraReed', 'O'), ('woot', 'O'), ('!', 'O'), ('Yeah', 'O'), (',', 'O'), ('Effexor', 'B-Drug'), ('was', 'O'), ('a', 'O'), ('wonder', 'O'), ('drug', 'O'), ('in', 'O'), ('college', 'O'), (',', 'O'), ('it', 'O'), ('turned', 'O'), ('me', 'O'), ('from', 'O'), ('a', 'O'), ('really', 'O'), ('really', 'O'), ('anxious', 'B-Symptom'), ('kid', 'O'), ('into', 'O'), ('a', 'O'), ('really', 'O'), ('anxious', 'B-Symptom'), ('kid', 'O')], [('Shrink', 'O'), ('doubled', 'O'), ('my', 'O'), ('Lamictal', 'B-Drug'), ('dose', 'O'), ('to', 'O'), ('200mg', 'O'), ('daily', 'O'), ('.', 'O'), ('My', 'O'), ('Trazadone', 'B-Drug'), ('from', 'O'), ('50mg', 'O'), ('to', 'O'), ('150mg', 'O'), ('at', 'O'), ('bedtime', 'O'), ('.', 'O'), ('This', 'O'), ('could', 'O'), ('be', 'O'), ('interesting', 'O'), ('.', 'O'), ('#', 'O'), ('BiPolarFun', 'O')], [('Zoloft', 'B-Drug'), ('seriously', 'O'), ('makes', 'O'), ('you', 'O'), ('sweat', 'B-Symptom'), ('like', 'O'), ('no', 'O'), ('other', 'O'), ('it', 'O'), (\"'\", 'O'), ('s', 'O'), ('embarrassing', 'O')], [('My', 'O'), ('dad', 'O'), (\"'\", 'O'), ('s', 'O'), ('dry', 'B-Symptom'), ('cough', 'I-Symptom'), ('tonight', 'O'), ('every', 'O'), ('3min', 'O'), ('.', 'O'), ('.', 'O'), ('.', 'O'), ('Like', 'O'), ('no', 'O'), ('I', 'O'), ('don', 'O'), (\"'\", 'O'), ('t', 'O'), ('even', 'O'), ('wanna', 'O'), ('be', 'O'), ('in', 'O'), ('this', 'O'), ('room', 'O'), ('.', 'O'), ('#', 'B-Drug'), ('lisinopril', 'I-Drug')], [('It', 'O'), (\"'\", 'O'), ('s', 'O'), ('kind', 'O'), ('of', 'O'), ('impressive', 'O'), ('to', 'O'), ('be', 'O'), ('working', 'O'), ('towards', 'O'), ('a', 'O'), ('psych', 'O'), ('degree', 'O'), ('and', 'O'), ('missing', 'O'), ('that', 'O'), ('your', 'O'), ('own', 'O'), ('mother', 'O'), ('was', 'O'), ('depressed', 'B-Disease'), ('and', 'O'), ('suicidal', 'B-Symptom'), ('cause', 'O'), ('of', 'O'), ('trazodone', 'B-Drug'), ('.', 'O')], [('Researchers', 'O'), ('finds', 'O'), ('#', 'B-Disease'), ('BreastCancer', 'I-Disease'), ('drug', 'O'), ('tamoxifen', 'B-Drug'), ('gives', 'O'), ('WBCs', 'O'), ('a', 'O'), ('boost', 'O'), (',', 'O'), ('to', 'O'), ('respond', 'O'), ('better', 'O'), (',', 'O'), ('ensnare', 'O'), ('and', 'O'), ('kill', 'O'), ('bacteria', 'O'), ('in', 'O'), ('a', 'O'), ('laboratory', 'O'), ('experiment', 'O'), ('.', 'O')], [('Effect', 'O'), ('of', 'O'), ('serial', 'O'), ('intrasilicone', 'O'), ('oil', 'O'), ('bevacizumab', 'B-Drug'), ('injections', 'O'), ('in', 'O'), ('eyes', 'O'), ('with', 'O'), ('recurrent', 'O'), ('proliferative', 'O'), ('vitreoretinopathy', 'O'), ('retinal', 'O'), ('detachment', 'O'), ('…', 'O')], [('Anxiety', 'B-Symptom'), ('b4', 'O'), ('final', 'O'), ('cancer', 'O'), ('treatment', 'O'), (',', 'O'), ('Tamoxifen', 'B-Drug'), (',', 'O'), ('was', 'O'), ('high', 'O'), ('!', 'O'), ('Dont', 'O'), ('take', 'O'), ('any', 'O'), ('meds', 'O'), (',', 'O'), ('so', 'O'), ('pills', 'O'), ('scare', 'O'), ('me', 'O'), ('.', 'O'), ('Its', 'O'), ('5yr', 'O'), ('standard', 'O'), ('20mg', 'O'), ('o', 'O'), ('/', 'O'), ('d', 'O'), ('for', 'O'), ('most', 'O'), ('breast', 'B-Disease'), ('cancer', 'I-Disease')], [('The', 'O'), ('amount', 'O'), ('of', 'O'), ('pain', 'B-Symptom'), ('from', 'O'), ('that', 'O'), ('cortisone', 'B-Drug'), ('shot', 'O'), ('was', 'O'), ('BRUTAL', 'O'), ('!', 'O'), ('Can', 'O'), (\"'\", 'O'), ('t', 'O'), ('even', 'O'), ('describe', 'O'), ('it', 'O'), ('.', 'O')], [('Breast', 'O'), ('cancer', 'O'), ('drug', 'O'), ('beats', 'O'), ('superbug', 'O'), ('-', 'O'), ('Researchers', 'O'), ('have', 'O'), ('found', 'O'), ('that', 'O'), ('the', 'O'), ('breast', 'B-Disease'), ('cancer', 'I-Disease'), ('drug', 'O'), ('tamoxifen', 'B-Drug'), ('gives', 'O'), ('white', 'O'), ('blood', 'O'), ('cells', 'O'), ('a', 'O'), ('boost', 'O'), (',', 'O'), ('better', 'O'), ('en', 'O'), ('…', 'O')], [('So', 'O'), ('even', 'O'), ('if', 'O'), ('normally', 'O'), ('the', 'O'), ('reaction', 'O'), ('to', 'O'), ('zonisamide', 'O'), ('isn', 'O'), (\"'\", 'O'), ('t', 'O'), ('as', 'O'), ('crazy', 'O'), ('as', 'O'), ('w', 'O'), ('/', 'O'), ('Tegretol', 'B-Drug'), (',', 'O'), ('the', 'O'), ('fact', 'O'), ('that', 'O'), ('I', 'O'), ('am', 'O'), ('prone', 'O'), ('to', 'O'), ('it', 'O'), ('means', 'O'), ('I', 'O'), ('can', 'O'), ('have', 'O'), ('a', 'O'), ('severe', 'O'), ('rash', 'B-Symptom'), ('.', 'O')], [('My', 'O'), ('medmix', 'O'), ('for', 'O'), ('#', 'B-Disease'), ('bipolar', 'I-Disease'), ('&', 'O'), ('amp', 'O'), (';', 'O'), ('#', 'O'), ('bpd', 'O'), ('now', 'O'), ('that', 'O'), ('the', 'O'), ('seasons', 'O'), ('are', 'O'), ('changing', 'O'), (':', 'O'), ('geodon', 'B-Drug'), (',', 'O'), ('lamictal', 'B-Drug'), (',', 'O'), ('Zoloft', 'B-Drug'), ('&', 'O'), ('amp', 'O'), (';', 'O'), ('extra', 'O'), ('clonazepam', 'O'), (',', 'O'), ('add', 'O'), ('Wellbutrin', 'O'), (',', 'O'), ('so', 'O'), ('far', 'O'), ('so', 'O'), ('good', 'O')], [('My', 'O'), ('respiratory', 'O'), ('system', 'O'), ('is', 'O'), ('just', 'O'), ('a', 'O'), ('mess', 'O'), ('.', 'O'), ('I', 'O'), ('think', 'O'), ('the', 'O'), ('Singulair', 'B-Drug'), ('may', 'O'), ('be', 'O'), ('working', 'O'), ('.', 'O'), ('Instead', 'O'), ('of', 'O'), ('sore', 'O'), ('throat', 'O'), (',', 'O'), ('I', 'O'), ('have', 'O'), ('a', 'O'), ('cough', 'B-Symptom'), ('at', 'O'), ('times', 'O'), ('today', 'O'), ('.', 'O'), ('hmm', 'O'), ('.', 'O')], [('Could', 'O'), ('a', 'O'), ('breast', 'O'), ('cancer', 'O'), ('drug', 'O'), ('wipe', 'O'), ('out', 'O'), ('MRSA', 'B-Symptom'), ('in', 'O'), ('hospitals', 'O'), ('?', 'O'), ('Tamoxifen', 'B-Drug'), ('can', 'O'), ('help', 'O'), ('the', 'O'), ('body', 'O'), ('trap', 'O'), ('and', 'O'), ('kill', 'O'), ('.', 'O'), ('.', 'O'), ('.', 'O')], [('The', 'O'), ('\"', 'B-Symptom'), ('renal', 'I-Symptom'), ('protective', 'I-Symptom'), ('\"', 'I-Symptom'), ('effects', 'O'), ('of', 'O'), ('lisinopril', 'B-Drug'), ('do', 'O'), ('not', 'O'), ('exist', 'O'), ('at', 'O'), ('2', 'O'), ('.', 'O'), ('5mg', 'O')], [('Tamoxifen', 'B-Drug'), ('is', 'O'), ('a', 'O'), ('chemo', 'O'), ('drug', 'O'), ('given', 'O'), ('to', 'O'), ('women', 'O'), ('to', 'O'), ('treat', 'O'), ('#', 'B-Disease'), ('breastcancer', 'I-Disease'), ('.', 'O'), ('It', 'O'), ('is', 'O'), ('a', 'O'), ('known', 'O'), ('#', 'O'), ('carcinogen', 'O'), ('.', 'O'), ('Treat', 'O'), ('1', 'O'), ('cancer', 'O'), ('to', 'O'), ('get', 'O'), ('another', 'O'), ('?', 'O'), ('#', 'O'), ('ModernMedicine', 'O')], [('Off', 'O'), ('label', 'O'), ('use', 'O'), ('of', 'O'), ('Modafinil', 'B-Drug'), ('is', 'O'), ('appetite', 'B-Symptom'), ('suppression', 'I-Symptom'), ('so', 'O'), ('won', 'O'), (\"'\", 'O'), ('t', 'O'), ('worry', 'O'), ('for', 'O'), ('obesity', 'O'), (',', 'O'), ('it', 'O'), ('is', 'O'), ('also', 'O'), ('useful', 'O'), ('in', 'O'), ('nicotine', 'B-Symptom'), ('craving', 'I-Symptom'), ('ask', 'O'), ('ur', 'O'), ('doctor', 'O'), ('now', 'O')], [('Hmm', 'O'), ('.', 'O'), ('this', 'O'), ('Lamictal', 'B-Drug'), ('has', 'O'), ('a', 'O'), ('side', 'O'), ('effect', 'O'), ('of', 'O'), ('increasing', 'B-Symptom'), ('libido', 'I-Symptom'), ('.', 'O'), ('And', 'O'), ('it', 'O'), ('does', 'O'), ('.', 'O'), ('Lovely', 'O'), ('.', 'O'), ('Hell', 'O'), ('of', 'O'), ('a', 'O'), ('time', 'O'), ('not', 'O'), ('to', 'O'), ('be', 'O'), ('involved', 'O'), ('.', 'O')], [('I', 'O'), ('take', 'O'), ('adderall', 'B-Drug'), ('to', 'O'), ('help', 'O'), ('me', 'O'), ('focus', 'O'), ('when', 'O'), ('I', 'O'), ('study', 'O'), ('for', 'O'), ('exams', 'O')], [('I', 'O'), ('took', 'O'), ('about', 'O'), ('8', 'O'), ('ambien', 'O'), ('and', 'O'), ('8', 'O'), ('trazodone', 'B-Drug'), ('and', 'O'), ('had', 'O'), ('my', 'O'), ('bf', 'O'), ('come', 'O'), ('home', 'O'), ('literally', 'O'), ('5', 'O'), ('minutes', 'O'), ('later', 'O'), ('I', 'O'), (\"'\", 'O'), ('d', 'O'), ('be', 'O'), ('dead', 'O'), ('.', 'O'), ('I', 'O'), ('would', 'O'), (\"'\", 'O'), ('ve', 'O'), ('choked', 'O'), ('on', 'O'), ('puke', 'O'), ('in', 'O'), ('my', 'O'), ('sleep', 'O'), ('.', 'O')], [('Teratogenic', 'B-Symptom'), ('effects', 'O'), ('of', 'O'), ('Valproate', 'O'), (',', 'O'), ('Phenytoin', 'O'), (',', 'O'), ('Carbamazepine', 'B-Drug'), ('#', 'O'), ('AED', 'O'), ('#', 'O'), ('SSRI', 'O'), ('cost', 'O'), ('UK', 'O'), ('£', 'O'), ('billions', 'O'), ('&', 'O'), ('amp', 'O'), (';', 'O'), ('huge', 'O'), ('long', 'O'), ('term', 'O'), ('suffering', 'O'), ('.', 'O'), ('#', 'O'), ('NICEConf15', 'O')], [('It', 'O'), (\"'\", 'O'), ('s', 'O'), ('been', 'O'), ('40', 'O'), ('hours', 'O'), ('since', 'O'), ('I', 'O'), ('last', 'O'), ('slept', 'O'), ('and', 'O'), ('because', 'O'), ('of', 'O'), ('the', 'O'), ('adderall', 'B-Drug'), ('I', 'O'), (\"'\", 'O'), ('m', 'O'), ('stuck', 'O'), ('awake', 'B-Symptom'), ('and', 'O'), ('exhausted', 'B-Symptom'), ('😭', 'O')], [('The', 'O'), ('side', 'O'), ('effects', 'O'), ('of', 'O'), ('coming', 'O'), ('of', 'O'), ('Citalopram', 'B-Drug'), ('are', 'O'), ('hitting', 'O'), ('me', 'O'), ('really', 'O'), ('hard', 'O'), ('at', 'O'), ('the', 'O'), ('moment', 'O'), ('.', 'O'), ('Feel', 'O'), ('dizzy', 'B-Symptom'), ('and', 'O'), ('totally', 'O'), ('disconnected', 'B-Symptom'), ('from', 'O'), ('everything', 'O'), ('.', 'O')], [('Have', 'O'), ('to', 'O'), ('bump', 'O'), ('prednisone', 'B-Drug'), ('dose', 'O'), ('up', 'O'), ('again', 'O'), ('.', 'O'), ('Get', 'O'), ('ready', 'O'), ('for', 'O'), ('return', 'O'), ('of', 'O'), ('Manic', 'B-Symptom'), ('Matt', 'O'), ('.', 'O'), ('👹', 'O')], [('I', 'O'), ('like', 'O'), ('that', 'O'), ('nice', 'O'), ('euphoric', 'B-Symptom'), ('feeling', 'O'), ('vyvanse', 'B-Drug'), ('gives', 'O'), ('you', 'O'), ('before', 'O'), ('it', 'O'), ('makes', 'O'), ('you', 'O'), ('feel', 'B-Symptom'), ('like', 'I-Symptom'), ('ass', 'I-Symptom'), ('all', 'O'), ('day', 'O')], [('Ritalin', 'B-Drug'), ('Adderall', 'B-Drug'), ('Vyvanse', 'B-Drug'), ('ect', 'O'), (',', 'O'), ('are', 'O'), ('all', 'O'), ('ADHD', 'B-Disease'), ('medications', 'O'), ('with', 'O'), ('stimulants', 'O'), ('of', 'O'), ('(', 'O'), ('Meth', 'O'), (')', 'O'), ('!', 'O')], [('Really', 'O'), ('hoping', 'O'), ('this', 'O'), ('#', 'B-Drug'), ('prednisone', 'I-Drug'), ('doesn', 'O'), (\"'\", 'O'), ('t', 'O'), ('make', 'O'), ('me', 'O'), ('gain', 'B-Symptom'), ('weight', 'I-Symptom'), ('like', 'O'), ('everyone', 'O'), ('says', 'O'), ('.', 'O'), ('.', 'O'), ('.', 'O'), ('I', 'O'), (\"'\", 'O'), ('ve', 'O'), ('worked', 'O'), ('too', 'O'), ('hard', 'O'), ('to', 'O'), ('get', 'O'), ('to', 'O'), ('where', 'O'), ('I', 'O'), ('am', 'O'), ('.', 'O')], [('fucking', 'O'), ('love', 'O'), ('zyprexa', 'B-Drug'), (',', 'O'), ('i', 'O'), ('just', 'O'), ('ate', 'O'), ('an', 'O'), ('enitre', 'O'), ('chicken', 'O'), ('alfredo', 'O'), ('thing', 'O'), ('that', 'O'), ('was', 'O'), ('meant', 'O'), ('for', 'O'), ('like', 'O'), ('4', 'O'), ('people', 'O'), ('and', 'O'), ('i', 'O'), ('am', 'O'), ('still', 'O'), ('hungry', 'B-Symptom')], [('Andrea', 'O'), ('Yates', 'O'), ('drowned', 'O'), ('all', 'O'), ('5', 'O'), ('of', 'O'), ('her', 'O'), ('children', 'O'), ('in', 'O'), ('the', 'O'), ('bathtub', 'O'), (',', 'O'), ('age', 'O'), ('7', 'O'), ('to', 'O'), ('6', 'O'), ('mnth', 'O'), ('.', 'O'), ('Yates', 'O'), ('was', 'O'), ('taking', 'O'), ('antidepressant', 'O'), ('Effexor', 'B-Drug'), ('#', 'O'), ('GunViolence', 'O'), ('@', 'O'), ('CoryBooker', 'O')], [('Why', 'O'), ('IS', 'O'), ('There', 'O'), ('So', 'O'), ('Much', 'O'), ('#', 'B-Disease'), ('Fibromyalgia', 'I-Disease'), ('in', 'O'), ('Recent', 'O'), ('Years', 'O'), ('?', 'O'), ('How', 'O'), ('much', 'O'), ('of', 'O'), ('what', 'O'), ('is', 'O'), ('diagnosed', 'O'), ('as', 'O'), ('Fibro', 'O'), ('is', 'O'), ('really', 'O'), ('caused', 'O'), ('by', 'O'), ('#', 'B-Drug'), ('Ciprofloxacin', 'I-Drug'), ('?', 'O'), ('#', 'O'), ('nutrition', 'O')], [('2', 'O'), ('.', 'O'), ('Tamoxifen', 'B-Drug'), (':', 'O'), ('cut', 'O'), ('lifetime', 'O'), ('risk', 'O'), ('of', 'O'), ('#', 'B-Disease'), ('breastcancer', 'I-Disease'), ('by', 'O'), ('50', 'O'), ('%', 'O'), ('-', 'O'), ('Dr', 'O'), ('.', 'O'), ('Catherine', 'O'), ('Pesce', 'O'), ('#', 'O'), ('BRCAnJews', 'O'), ('#', 'O'), ('BRCAPrevention', 'O')], [('They', 'O'), ('Gave', 'O'), ('Me', 'O'), ('Some', 'O'), ('Prednisone', 'B-Drug'), ('&', 'O'), ('amp', 'O'), (';', 'O'), ('A', 'O'), ('Asthma', 'B-Disease'), ('Pump', 'O')], [('I', 'O'), (\"'\", 'O'), ('d', 'O'), ('really', 'O'), ('like', 'O'), ('to', 'O'), ('know', 'O'), ('if', 'O'), ('others', 'O'), ('who', 'O'), (\"'\", 'O'), ('ve', 'O'), ('been', 'O'), ('on', 'O'), ('long', 'O'), ('-', 'O'), ('term', 'O'), ('use', 'O'), ('of', 'O'), ('tegretol', 'B-Drug'), ('have', 'O'), ('achy', 'B-Symptom'), ('-', 'I-Symptom'), ('bones', 'I-Symptom'), ('or', 'O'), ('if', 'O'), ('upon', 'O'), ('turning', 'O'), ('43', 'O'), ('my', 'O'), ('body', 'O'), ('just', 'O'), ('said', 'O'), (\"'\", 'O'), ('Fuck', 'O'), ('it', 'O'), (\"'\", 'O')], [('So', 'O'), ('in', 'O'), ('my', 'O'), ('head', 'O'), ('I', 'O'), ('can', 'O'), (\"'\", 'O'), ('t', 'O'), ('even', 'O'), ('stay', 'O'), ('asleep', 'B-Symptom'), ('on', 'O'), ('seroquel', 'B-Drug'), ('lol', 'O')], [('I', 'O'), ('really', 'O'), ('hate', 'O'), ('the', 'O'), ('mood', 'B-Symptom'), ('swings', 'I-Symptom'), ('that', 'O'), ('come', 'O'), ('with', 'O'), ('being', 'O'), ('on', 'O'), ('Prednisone', 'B-Drug'), ('.', 'O'), ('.', 'O'), ('.', 'O'), ('.', 'O'), ('.', 'O'), ('I', 'O'), ('be', 'O'), ('a', 'O'), ('real', 'O'), ('bitch', 'O'), ('for', 'O'), ('no', 'O'), ('reason', 'O'), ('sometimes', 'O')], [('As', 'O'), ('much', 'O'), ('as', 'O'), ('I', 'O'), ('want', 'O'), ('to', 'O'), ('murder', 'O'), ('the', 'O'), ('guy', 'O'), ('with', 'O'), ('the', 'O'), ('dry', 'B-Symptom'), ('cough', 'I-Symptom'), ('sitting', 'O'), ('next', 'O'), ('to', 'O'), ('me', 'O'), (',', 'O'), ('I', 'O'), ('wonder', 'O'), ('if', 'O'), ('he', 'O'), (\"'\", 'O'), ('s', 'O'), ('on', 'O'), ('Lisinopril', 'B-Drug'), ('.', 'O')], [('Neuro', 'O'), ('tomorrow', 'O'), ('.', 'O'), ('Getting', 'O'), ('back', 'O'), ('on', 'O'), ('topamax', 'B-Drug'), ('(', 'O'), ('boo', 'O'), ('!', 'O'), (')', 'O'), ('and', 'O'), ('need', 'O'), ('to', 'O'), ('discus', 'O'), ('treatment', 'O'), ('for', 'O'), ('when', 'O'), ('I', 'O'), (\"'\", 'O'), ('m', 'O'), ('in', 'O'), ('the', 'O'), ('middle', 'O'), ('of', 'O'), ('a', 'O'), ('migraine', 'O'), ('.', 'O')], [('Breast', 'B-Disease'), ('Cancer', 'I-Disease'), ('Drug', 'O'), ('Tamoxifen', 'B-Drug'), ('Boosts', 'O'), ('Immune', 'O'), ('Response', 'O'), ('Against', 'O'), ('MRSA', 'O')], [('The', 'O'), ('trazodone', 'B-Drug'), ('my', 'O'), ('psychiatrist', 'O'), ('gave', 'O'), ('me', 'O'), ('makes', 'O'), ('me', 'O'), ('sleepy', 'B-Symptom'), ('enough', 'O'), ('I', 'O'), ('have', 'O'), ('to', 'O'), ('lay', 'O'), ('down', 'O'), ('but', 'O'), ('not', 'O'), ('sleepy', 'B-Symptom'), ('enough', 'I-Symptom'), ('to', 'I-Symptom'), ('sleep', 'I-Symptom'), ('or', 'I-Symptom'), ('stay', 'I-Symptom'), ('asleep', 'I-Symptom'), ('once', 'I-Symptom'), ('I', 'I-Symptom'), ('am', 'I-Symptom'), ('.', 'O')], [('I', 'O'), ('accidentally', 'O'), ('took', 'O'), ('the', 'O'), ('wrong', 'O'), ('dose', 'O'), ('of', 'O'), ('topamax', 'B-Drug'), ('last', 'O'), ('night', 'O'), ('and', 'O'), ('now', 'O'), ('I', 'O'), ('can', 'O'), (\"'\", 'O'), ('t', 'O'), ('feel', 'B-Symptom'), ('my', 'I-Symptom'), ('hands', 'I-Symptom'), ('😩', 'O')], [('Anticonvulsants', 'O'), ('such', 'O'), ('as', 'O'), ('Carbatrol', 'O'), (',', 'O'), ('Epitol', 'O'), (',', 'O'), ('Equetro', 'O'), (',', 'O'), ('Tegretol', 'B-Drug'), (',', 'O'), ('Tegretol', 'O'), ('XR', 'O'), ('(', 'O'), ('carbamazepine', 'B-Drug'), (')', 'O'), ('can', 'O'), ('increase', 'O'), ('the', 'O'), ('break', 'O'), ('down', 'O'), ('of', 'O'), ('the', 'O'), ('hormones', 'O')], [('Breast', 'B-Disease'), ('cancer', 'I-Disease'), ('fact', 'O'), (':', 'O'), ('tamoxifen', 'B-Drug'), ('is', 'O'), ('a', 'O'), ('carcinogen', 'O'), ('which', 'O'), ('is', 'O'), ('used', 'O'), ('to', 'O'), ('\"', 'O'), ('prevent', 'O'), ('\"', 'O'), ('cancer', 'O'), ('yet', 'O'), ('causes', 'O'), ('it', 'O'), ('in', 'O'), ('other', 'O'), ('places', 'O'), ('of', 'O'), ('the', 'O'), ('body', 'O'), ('#', 'O'), ('DoNotTakeThis', 'O')], [('Which', 'O'), ('of', 'O'), ('the', 'O'), ('following', 'O'), ('drugs', 'O'), ('provides', 'O'), ('hemodynamic', 'O'), ('stability', 'O'), ('and', 'O'), ('prolongs', 'O'), ('survial', 'O'), ('in', 'O'), ('congestive', 'O'), ('heart', 'O'), ('failure', 'O'), ('?', 'O'), ('?', 'O'), ('Answer', 'O'), (':', 'O'), ('Lisinopril', 'B-Drug')], [('i', 'O'), ('think', 'O'), ('im', 'O'), ('going', 'O'), ('to', 'O'), ('ask', 'O'), ('to', 'O'), ('go', 'O'), ('down', 'O'), ('on', 'O'), ('adderall', 'B-Drug'), ('as', 'O'), ('the', 'O'), ('effexor', 'B-Drug'), ('increases', 'O'), ('bc', 'O'), ('im', 'O'), ('worried', 'O'), ('ab', 'O'), ('getting', 'O'), ('serotonin', 'O'), ('syndrome', 'O'), ('again', 'O'), ('when', 'O'), ('it', 'O'), ('can', 'O'), ('be', 'O'), ('fix', 'O')], [('Depression', 'O'), ('hurts', 'O'), ('.', 'O'), ('.', 'O'), ('.', 'O'), ('cymbalta', 'B-Drug'), ('will', 'O'), ('not', 'O'), ('help', 'O'), ('.', 'O'), ('.', 'O'), ('.', 'O'), ('it', 'O'), ('is', 'O'), ('that', 'O'), ('fake', 'O'), ('friend', 'O'), ('that', 'O'), ('will', 'O'), ('stab', 'O'), ('you', 'O'), ('in', 'O'), ('the', 'O'), ('back', 'O'), ('and', 'O'), ('have', 'O'), ('you', 'O'), ('addicted', 'O'), ('to', 'O'), ('drugs', 'O')], [('I', 'O'), ('need', 'O'), ('to', 'O'), ('blame', 'O'), ('Celexa', 'B-Drug'), (',', 'O'), ('questionable', 'O'), ('alcohol', 'O'), ('dependency', 'O'), (',', 'O'), ('and', 'O'), ('2', 'O'), ('am', 'O'), ('Cheeto', 'O'), ('binges', 'O'), ('on', 'O'), ('something', 'O'), ('.', 'O'), ('#', 'O'), ('WhyIWrite', 'O')], [('In', 'O'), ('Nicaragua', 'O'), ('they', 'O'), ('stared', 'O'), ('this', 'O'), ('lady', 'O'), ('on', 'O'), ('tegretol', 'B-Drug'), ('for', 'O'), ('back', 'B-Symptom'), ('pain', 'I-Symptom'), ('.', 'O'), ('Now', 'O'), ('she', 'O'), (\"'\", 'O'), ('s', 'O'), ('sleepy', 'B-Symptom'), ('and', 'O'), ('her', 'O'), ('back', 'O'), ('hurts', 'O'), ('.', 'O')], [('Creppy', 'O'), ('I', 'O'), ('had', 'O'), ('a', 'O'), ('series', 'O'), ('of', 'O'), ('weird', 'B-Symptom'), ('dreams', 'I-Symptom'), ('as', 'O'), ('usual', 'O'), ('bc', 'O'), ('Trazodone', 'B-Drug')], [('Another', 'O'), ('round', 'O'), ('of', 'O'), ('prednisone', 'B-Drug'), ('&', 'O'), ('amp', 'O'), (';', 'O'), ('another', 'O'), ('round', 'O'), ('of', 'O'), ('#', 'B-Symptom'), ('insomnia', 'I-Symptom'), ('.', 'O'), ('Not', 'O'), ('helping', 'O'), ('that', 'O'), ('I', 'O'), ('have', 'O'), ('to', 'O'), ('be', 'O'), ('at', 'O'), ('work', 'O'), ('at', 'O'), ('1100', 'O'), ('and', 'O'), ('it', 'O'), (\"'\", 'O'), ('s', 'O'), ('now', 'O'), ('530', 'O'), ('.', 'O'), ('#', 'O'), ('tomorrowsucksnow', 'O')], [('\"', 'O'), ('The', 'O'), ('only', 'O'), ('way', 'O'), ('out', 'O'), ('is', 'O'), ('through', 'O'), ('\"', 'O'), ('Check', 'O'), ('out', 'O'), ('my', 'O'), ('new', 'O'), ('post', 'O'), ('on', 'O'), ('the', 'O'), ('pain', 'B-Symptom'), ('of', 'O'), ('#', 'B-Drug'), ('Paxil', 'I-Drug'), ('#', 'O'), ('through', 'O'), ('#', 'B-Symptom'), ('panic', 'I-Symptom'), ('#', 'B-Symptom'), ('anxiety', 'I-Symptom'), ('#', 'B-Symptom'), ('pain', 'I-Symptom'), ('#', 'O'), ('hope', 'O')], [('L', 'O'), ('.', 'O'), ('Schmidt', 'O'), ('very', 'O'), ('excited', 'O'), ('by', 'O'), ('results', 'O'), ('of', 'O'), ('bevacizumab', 'B-Drug'), ('+', 'O'), ('erlotinib', 'O'), ('in', 'O'), ('HLRCC', 'O'), ('metastatic', 'O'), ('pap2RCC', 'O'), ('results', 'O'), (',', 'O'), ('ORR', 'O'), ('65', 'O'), ('%', 'O'), ('#', 'O'), ('NSGC2015', 'O')], [('$', 'O'), ('SNTA', 'O'), ('Shares', 'O'), ('Plunge', 'O'), ('71', 'O'), ('%', 'O'), ('After', 'O'), ('Terminating', 'O'), ('Trial', 'O'), ('of', 'O'), ('Lung', 'O'), ('Cancer', 'O'), ('Drugs', 'O'), ('Ganetespib', 'O'), (',', 'O'), ('Docetaxel', 'B-Drug')], [('Jto', 'O'), ('will', 'O'), ('start', 'O'), ('taking', 'O'), ('topamax', 'B-Drug'), ('pills', 'O'), ('to', 'O'), ('assist', 'O'), ('with', 'O'), ('weight', 'B-Symptom'), ('loss', 'I-Symptom'), ('as', 'O'), ('am', 'O'), ('obese', 'O'), ('and', 'O'), ('am', 'O'), ('really', 'O'), ('struggling', 'O'), ('with', 'O'), ('food', 'O'), ('.', 'O'), ('i', 'O'), ('hate', 'O'), ('eating', 'O'), ('disorder', 'O'), ('😢', 'O'), ('😢', 'O')], [('Been', 'O'), ('naughty', 'O'), ('and', 'O'), ('taken', 'O'), ('ibuprofen', 'O'), ('with', 'O'), ('my', 'O'), ('citalopram', 'B-Drug'), ('.', 'O'), ('But', 'O'), ('this', 'O'), ('migraine', 'O'), ('won', 'O'), (\"'\", 'O'), ('t', 'O'), ('budge', 'O')], [('46', 'O'), ('(', 'O'), ('10', 'O'), ('-', 'O'), ('21', 'O'), (')', 'O'), (':', 'O'), ('#', 'B-Disease'), ('Breast', 'I-Disease'), ('#', 'I-Disease'), ('cancer', 'I-Disease'), ('#', 'O'), ('drug', 'O'), ('beats', 'O'), ('#', 'O'), ('superbug', 'O'), ('.', 'O'), ('#', 'B-Drug'), ('tamoxifen', 'I-Drug'), ('#', 'O'), ('MRSA', 'O'), ('#', 'O'), ('ceramide', 'O'), ('#', 'O'), ('neutrophils', 'O')], [('Venlafaxine', 'B-Drug'), ('is', 'O'), ('the', 'O'), ('worst', 'O'), ('for', 'O'), ('night', 'B-Symptom'), ('sweats', 'I-Symptom'), ('and', 'O'), ('combined', 'O'), ('with', 'O'), ('a', 'O'), ('migraine', 'O'), ('.', 'O'), ('.', 'O'), ('ugh', 'O'), ('ugh', 'O'), ('ugh', 'O'), ('😣', 'O'), ('😷', 'O')], [('2000', 'O'), ('word', 'O'), ('essay', 'O'), ('and', 'O'), ('an', 'B-Symptom'), ('exam', 'I-Symptom'), ('which', 'I-Symptom'), ('I', 'I-Symptom'), ('haven', 'I-Symptom'), (\"'\", 'I-Symptom'), ('t', 'I-Symptom'), ('studied', 'I-Symptom'), ('for', 'O'), ('both', 'O'), ('due', 'O'), ('by', 'O'), ('tomorrow', 'O'), ('-', 'O'), ('challenge', 'O'), ('accepted', 'O'), ('#', 'B-Drug'), ('modafinil', 'I-Drug')], [('After', 'O'), ('two', 'O'), ('days', 'O'), ('of', 'O'), ('citalopram', 'B-Drug'), ('induced', 'O'), ('insomnia', 'B-Symptom'), (',', 'O'), ('I', 'O'), ('finally', 'O'), ('got', 'O'), ('a', 'O'), ('proper', 'O'), ('night', 'O'), (\"'\", 'O'), ('s', 'O'), ('sleep', 'O'), ('last', 'O'), ('night', 'O'), ('and', 'O'), ('I', 'O'), ('feel', 'O'), ('pretty', 'O'), ('good', 'O'), ('.', 'O')], [('Ranibizumab', 'O'), ('or', 'O'), ('bevacizumab', 'B-Drug'), ('for', 'O'), ('neovascular', 'O'), ('age', 'O'), ('-', 'O'), ('related', 'O'), ('macular', 'O'), ('degeneration', 'O'), ('according', 'O'), ('to', 'O'), ('the', 'O'), ('lucentis', 'O'), ('compared', 'O'), ('to', 'O'), ('avastin', 'B-Drug'), ('study', 'O'), ('treat', 'O'), ('-', 'O'), ('and', 'O'), ('-', 'O'), ('e', 'O'), ('…', 'O')], [('Having', 'O'), ('fourth', 'O'), ('avastin', 'B-Drug'), ('treatment', 'O'), ('at', 'O'), ('RMH', 'O'), ('all', 'O'), ('bloods', 'O'), ('are', 'O'), ('fine', 'O'), ('and', 'O'), ('recovered', 'O'), ('from', 'O'), ('MAN', 'O'), ('FLU', 'B-Symptom'), ('Feeling', 'O'), ('should', 'O'), ('soon', 'O'), ('return', 'O'), ('to', 'O'), ('hands', 'O'), ('and', 'O'), ('feet', 'O')], [('Managed', 'O'), ('to', 'O'), ('sleep', 'O'), ('off', 'O'), ('the', 'O'), ('sedating', 'O'), ('effects', 'O'), ('of', 'O'), ('quetiapine', 'B-Drug'), ('.', 'O'), ('.', 'O'), ('.', 'O'), ('yay', 'O'), ('.', 'O'), ('.', 'O'), ('.', 'O'), ('so', 'O'), ('for', 'O'), ('my', 'O'), ('hour', 'O'), ('out', 'O'), ('will', 'O'), ('go', 'O'), ('for', 'O'), ('walk', 'O'), ('to', 'O'), ('blow', 'O'), ('the', 'O'), ('cobwebs', 'O'), ('away', 'O'), ('.', 'O'), ('.', 'O'), ('.', 'O'), ('#', 'O'), ('NeedFreshAir', 'O')], [('ha', 'O'), ('!', 'O'), ('cortisone', 'B-Drug'), ('injections', 'O'), ('into', 'O'), ('joints', 'O'), ('often', 'O'), ('work', 'O'), ('poorly', 'O'), ('for', 'O'), ('those', 'O'), ('w', 'O'), ('/', 'O'), ('#', 'B-Disease'), ('RheumatoidArthritis', 'I-Disease'), ('-', 'O'), ('(', 'O'), ('oa', 'O'), ('❎', 'O'), ('ra', 'O'), (')', 'O'), (';', 'O'), ('they', 'O'), ('don', 'O'), (\"'\", 'O'), ('t', 'O'), ('address', 'O'), ('underlying', 'O'), ('problems', 'O'), ('.', 'O')], [('Moderate', 'O'), ('risk', 'O'), ('for', 'O'), ('#', 'B-Disease'), ('breastcancer', 'I-Disease'), (':', 'O'), ('consider', 'O'), ('use', 'O'), ('of', 'O'), ('SERMs', 'O'), ('(', 'O'), ('tamoxifen', 'B-Drug'), (',', 'O'), ('raloxifene', 'O'), (')', 'O'), (';', 'O'), ('data', 'O'), ('on', 'O'), ('benefit', 'O'), ('incomplete', 'O'), ('in', 'O'), ('this', 'O'), ('risk', 'O'), ('profile', 'O'), ('#', 'O'), ('NSGC2015', 'O')], [('Does', 'O'), ('a', 'O'), ('single', 'O'), ('dose', 'O'), ('of', 'O'), ('buprenorphine', 'B-Drug'), ('produce', 'O'), ('neonatal', 'O'), ('abstinence', 'O'), ('or', 'O'), ('withdrawal', 'B-Symptom'), ('state', 'I-Symptom'), ('in', 'O'), ('neonate', 'O'), ('?', 'O'), ('#', 'O'), ('toxthurs', 'O')], [('7', 'O'), ('weeks', 'O'), ('ago', 'O'), ('I', 'O'), ('won', 'O'), ('my', 'O'), ('battle', 'O'), ('with', 'O'), ('stage', 'O'), ('2', 'O'), ('breast', 'B-Disease'), ('cancer', 'I-Disease'), ('@', 'O'), ('BCCare', 'O'), ('@', 'O'), ('AmericanCancer', 'O'), ('.', 'O'), ('I', 'O'), (\"'\", 'O'), ('m', 'O'), ('truly', 'O'), ('blessed', 'O'), ('.', 'O'), ('No', 'O'), ('chemo', 'O'), ('or', 'O'), ('Radiation', 'O'), ('just', 'O'), ('tamoxifen', 'B-Drug')], [('Examples', 'O'), ('of', 'O'), ('anticonvulsants', 'B-Symptom'), (':', 'O'), ('Tegretol', 'B-Drug'), ('(', 'O'), ('carbamazepine', 'B-Drug'), (')', 'O'), ('Carbatrol', 'O'), ('(', 'O'), ('carbamazepine', 'O'), ('extended', 'O'), ('-', 'O'), ('release', 'O'), (')', 'O')], [('$', 'O'), ('ENDP', 'O'), ('U', 'O'), ('.', 'O'), ('S', 'O'), ('.', 'O'), ('FDA', 'O'), ('Approves', 'O'), ('BELBUCA', 'O'), ('(', 'O'), ('buprenorphine', 'B-Drug'), (')', 'O'), ('Buccal', 'O'), ('Film', 'O'), ('for', 'O'), ('Chronic', 'B-Symptom'), ('Pain', 'I-Symptom'), ('Management', 'O'), ('(', 'O'), ('Dow', 'O'), ('Jones', 'O'), ('10', 'O'), ('/', 'O'), ('26', 'O'), ('06', 'O'), (':', 'O'), ('00', 'O'), (':', 'O'), ('02', 'O'), (')', 'O')], [('$', 'O'), ('BDSI', 'O'), ('FDA', 'O'), ('Approval', 'O'), ('of', 'O'), ('BELBUCA', 'O'), ('™', 'O'), ('(', 'O'), ('CIII', 'O'), (')', 'O'), ('(', 'O'), ('Buprenorphine', 'B-Drug'), ('HCl', 'O'), (')', 'O'), ('Buccal', 'O'), ('Film', 'O'), ('for', 'O'), ('Chronic', 'B-Symptom'), ('Pain', 'I-Symptom'), ('Triggers', 'O'), ('Milestone', 'O'), ('Pay', 'O'), ('From', 'O'), ('our', 'O'), ('Stock', 'O'), ('News', 'O'), ('Alerts', 'O'), ('App', 'O')], [('Does', 'O'), ('Citalopram', 'B-Drug'), ('make', 'O'), ('you', 'O'), ('feel', 'O'), ('nauseous', 'B-Symptom'), ('cause', 'O'), ('I', 'O'), ('feel', 'O'), ('sick', 'O'), ('as', 'O'), ('all', 'O'), ('hell', 'O'), ('.', 'O')], [('The', 'O'), ('Effexor', 'B-Drug'), ('is', 'O'), ('causing', 'O'), ('me', 'O'), ('to', 'O'), ('get', 'O'), ('pimples', 'B-Symptom'), ('.', 'O'), ('.', 'O'), ('.', 'O'), ('.', 'O')], [('More', 'O'), ('than', 'O'), ('half', 'O'), ('the', 'O'), ('shooters', 'O'), ('involved', 'O'), ('in', 'O'), ('mass', 'O'), ('shootings', 'O'), ('were', 'O'), ('taking', 'O'), ('depression', 'B-Disease'), ('medication', 'O'), ('like', 'O'), ('Zoloft', 'B-Drug'), ('and', 'O'), ('Prozac', 'B-Drug'), ('.', 'O')], [('Been', 'O'), ('to', 'O'), ('GP', 'O'), ('today', 'O'), ('-', 'O'), ('dosage', 'O'), ('of', 'O'), ('#', 'O'), ('migraine', 'O'), ('meds', 'O'), ('altered', 'O'), ('agn', 'O'), (':', 'O'), ('lowered', 'O'), ('Betablockers', 'O'), ('(', 'O'), ('propranolol', 'O'), ('80mg', 'O'), ('from', 'O'), ('160', 'O'), (')', 'O'), ('&', 'O'), ('amp', 'O'), (';', 'O'), ('upped', 'O'), ('Topiramate', 'B-Drug'), ('to', 'O'), ('125mg', 'O'), ('from', 'O'), ('75', 'O')], [('Oh', 'O'), ('@', 'O'), ('mollyseima', 'O'), ('it', 'O'), (\"'\", 'O'), ('s', 'O'), ('back', 'O'), ('to', 'O'), ('hourly', 'O'), ('prednisone', 'B-Drug'), ('-', 'O'), ('have', 'O'), ('a', 'O'), ('rare', 'O'), ('infection', 'O'), ('between', 'O'), ('the', 'O'), ('cornea', 'O'), ('and', 'O'), ('lens', 'O'), ('like', 'O'), ('cobwebs', 'O'), ('of', 'O'), ('infected', 'O'), ('cells', 'O'), (':', 'O'), ('(', 'O')], [('How', 'O'), ('did', 'O'), ('I', 'O'), ('sleep', 'O'), ('for', 'O'), ('16', 'O'), ('hours', 'O'), ('?', 'O'), ('Doctor', 'O'), ('gave', 'O'), ('me', 'O'), ('trazodone', 'B-Drug'), (',', 'O'), ('I', 'O'), ('say', 'O'), ('how', 'O'), ('about', 'O'), ('trazodont', 'O'), ('.', 'O'), ('Fuck', 'O'), ('.', 'O')], [('wonder', 'O'), ('if', 'O'), ('JB', 'O'), ('treated', 'O'), ('with', 'O'), ('any', 'O'), ('antibiotic', 'O'), ('like', 'O'), ('Levaquin', 'B-Drug'), ('or', 'O'), ('Cipro', 'O'), ('.', 'O'), ('Can', 'O'), ('cause', 'O'), ('tendon', 'O'), ('damage', 'O'), (',', 'O'), ('esp', 'O'), ('.', 'O'), ('Achilles', 'O'), ('and', 'O'), ('hamstring', 'O')], [('you', 'O'), ('want', 'O'), ('to', 'O'), ('see', 'O'), ('the', 'O'), ('real', 'O'), ('#', 'O'), ('TheWalkingDead', 'O'), ('?', 'O'), ('Find', 'O'), ('people', 'O'), ('on', 'O'), ('Topamax', 'B-Drug'), ('.', 'O'), ('I', 'O'), ('can', 'O'), (\"'\", 'O'), ('t', 'O'), ('stay', 'O'), ('awake', 'O'), ('more', 'O'), ('than', 'O'), ('2', 'O'), ('hrs', 'O'), ('at', 'O'), ('a', 'O'), ('time', 'O'), ('w', 'O'), ('/', 'O'), ('o', 'O'), ('chugging', 'O'), ('red', 'O'), ('bulls', 'O'), ('.', 'O')], [('Then', 'O'), ('the', 'O'), ('Tamoxifen', 'B-Drug'), (',', 'O'), ('the', 'O'), ('ONLY', 'O'), ('drug', 'O'), ('that', 'O'), ('protects', 'O'), ('me', 'O'), ('from', 'O'), ('a', 'O'), ('reoccurrence', 'O'), ('of', 'O'), ('breast', 'B-Disease'), ('cancer', 'I-Disease'), (',', 'O'), ('nearly', 'O'), ('killed', 'O'), ('me', 'O'), (',', 'O'), ('so', 'O'), ('I', 'O'), ('can', 'O'), (\"'\", 'O'), ('t', 'O'), ('take', 'O'), ('it', 'O'), ('.', 'O'), ('.', 'O'), ('.', 'O')], [('Got', 'O'), ('a', 'O'), ('paper', 'O'), ('to', 'O'), ('finish', 'O'), ('in', 'O'), ('less', 'O'), ('than', 'O'), ('#', 'O'), ('2hrs', 'O'), ('.', 'O'), ('Took', 'O'), ('concerta', 'B-Drug'), (',', 'O'), ('AND', 'O'), ('a', 'O'), ('double', 'O'), ('shot', 'O'), ('of', 'O'), ('#', 'O'), ('espresso', 'O'), ('this', 'O'), ('morning', 'O'), ('!', 'O'), ('!', 'O'), ('#', 'B-Symptom'), ('palpitations', 'I-Symptom')], [('Finally', 'O'), ('took', 'O'), ('my', 'O'), ('seroquel', 'B-Drug'), ('so', 'O'), ('here', 'O'), ('in', 'O'), ('about', 'O'), ('30', 'O'), ('mins', 'O'), ('this', 'O'), ('girl', 'O'), ('is', 'O'), ('gonnneee', 'O'), ('.', 'O'), ('Good', 'O'), ('night', 'O'), ('😇', 'O'), ('✌', 'O')], [('\"', 'O'), ('Discontinuing', 'O'), ('paroxetine', 'B-Drug'), ('is', 'O'), ('associated', 'O'), ('with', 'O'), ('a', 'O'), ('high', 'O'), ('(', 'O'), ('7', 'O'), ('%', 'O'), (')', 'O'), ('risk', 'O'), ('of', 'O'), ('withdrawal', 'O'), ('syndrome', 'O'), ('\"', 'O'), ('Lmao', 'O'), ('yeah', 'O'), ('no', 'O'), ('goddamn', 'O'), ('shit', 'O'), ('.', 'O')], [('*', 'O'), ('Freshmen', 'O'), ('*', 'O'), ('\"', 'O'), ('Bout', 'O'), ('to', 'O'), ('take', 'O'), ('this', 'O'), ('vyvanse', 'B-Drug'), ('before', 'O'), ('bed', 'O'), ('to', 'O'), ('focus', 'B-Symptom'), ('on', 'I-Symptom'), ('sleeping', 'I-Symptom'), ('and', 'O'), ('not', 'O'), ('stay', 'B-Symptom'), ('up', 'I-Symptom'), ('all', 'I-Symptom'), ('night', 'I-Symptom'), ('\"', 'O')], [('I', 'O'), ('feel', 'O'), ('like', 'O'), ('I', 'O'), (\"'\", 'O'), ('m', 'O'), ('growing', 'O'), ('increasingly', 'O'), ('unstable', 'B-Symptom'), ('.', 'O'), ('I', 'O'), ('want', 'O'), ('to', 'O'), ('blame', 'O'), ('the', 'O'), ('paxil', 'B-Drug'), (',', 'O'), ('but', 'O'), ('I', 'O'), ('wonder', 'O'), ('if', 'O'), ('this', 'O'), ('has', 'O'), ('been', 'O'), ('me', 'O'), ('all', 'O'), ('along', 'O'), ('.', 'O')], [('BioDelivery', 'O'), ('receives', 'O'), ('$', 'O'), ('50M', 'O'), ('milestone', 'O'), ('from', 'O'), ('Endo', 'O'), ('following', 'O'), ('US', 'O'), ('approval', 'O'), ('of', 'O'), ('buccal', 'O'), ('buprenorphine', 'B-Drug'), ('formulation', 'O'), ('for', 'O'), ('chronic', 'B-Symptom'), ('pain', 'I-Symptom')], [('Citalopram', 'B-Drug'), ('(', 'O'), ('Celexa', 'B-Drug'), (')', 'O'), ('and', 'O'), ('escitalopram', 'O'), ('(', 'O'), ('Lexapro', 'O'), (')', 'O'), ('overdose', 'O'), ('can', 'O'), ('cause', 'O'), ('seizures', 'B-Symptom'), ('and', 'O'), ('QT', 'B-Symptom'), ('prolongation', 'I-Symptom'), ('.', 'O'), ('#', 'O'), ('ACEP15', 'O')], [('Did', 'O'), ('you', 'O'), ('know', 'O'), ('@', 'O'), ('AmericanCancer', 'O'), ('’', 'O'), ('s', 'O'), ('investment', 'O'), ('in', 'O'), ('research', 'O'), ('led', 'O'), ('to', 'O'), ('the', 'O'), ('discovery', 'O'), ('of', 'O'), ('the', 'O'), ('breast', 'B-Disease'), ('cancer', 'I-Disease'), ('treatments', 'O'), ('Herceptin', 'O'), ('&', 'O'), ('amp', 'O'), (';', 'O'), ('Tamoxifen', 'B-Drug'), ('.', 'O')], [('#', 'B-Drug'), ('Citalopram', 'I-Drug'), ('day', 'O'), ('9', 'O'), (',', 'O'), ('very', 'O'), ('tired', 'B-Symptom'), (',', 'O'), ('hands', 'B-Symptom'), ('still', 'I-Symptom'), ('shaking', 'I-Symptom'), ('and', 'O'), ('feel', 'O'), ('seasick', 'B-Symptom'), ('.', 'O'), ('.', 'O'), ('.', 'O'), ('Work', 'O'), ('sucks', 'O'), ('when', 'O'), ('I', 'O'), ('feel', 'O'), ('like', 'O'), ('this', 'O'), ('.', 'O'), ('2', 'O'), ('weeks', 'O'), ('until', 'O'), ('back', 'O'), ('at', 'O'), ('Doctors', 'O'), ('.', 'O')], [('A', 'O'), ('bone', 'O'), ('spur', 'O'), ('&', 'O'), ('amp', 'O'), (';', 'O'), ('bone', 'O'), ('chip', 'O'), ('might', 'O'), ('explain', 'O'), ('the', 'O'), ('pain', 'O'), (',', 'O'), ('huh', 'O'), ('?', 'O'), ('A', 'O'), ('shot', 'O'), ('of', 'O'), ('cortisone', 'B-Drug'), ('&', 'O'), ('amp', 'O'), (';', 'O'), ('I', 'O'), (\"'\", 'O'), ('m', 'O'), ('walking', 'O'), ('pain', 'O'), ('free', 'O'), ('for', 'O'), ('1st', 'O'), ('time', 'O'), ('in', 'O'), ('2', 'O'), ('or', 'O'), ('3', 'O'), ('years', 'O'), ('.', 'O'), ('Amazing', 'O'), ('.', 'O')], [('Hey', 'O'), ('#', 'B-Disease'), ('breastcancer', 'I-Disease'), ('people', 'O'), ('-', 'O'), ('anyone', 'O'), ('on', 'O'), ('#', 'B-Drug'), ('Tamoxifen', 'I-Drug'), ('and', 'O'), ('#', 'B-Drug'), ('Prozac', 'I-Drug'), ('?', 'O'), ('Hearing', 'O'), ('it', 'O'), ('can', 'O'), ('make', 'O'), ('the', 'O'), ('hormone', 'O'), ('blocker', 'O'), ('not', 'O'), ('work', 'O'), ('as', 'O'), ('well', 'O'), ('.', 'O'), ('Anyone', 'O'), ('else', 'O'), ('hear', 'O'), ('this', 'O'), ('?', 'O')], [('Man', 'O'), ('hearing', 'O'), ('@', 'O'), ('KingJames', 'O'), ('has', 'O'), ('had', 'O'), ('two', 'O'), ('cortisone', 'B-Drug'), ('injections', 'O'), ('in', 'O'), ('his', 'O'), ('lower', 'B-Symptom'), ('back', 'I-Symptom'), ('is', 'O'), ('scary', 'O'), ('.', 'O'), ('I', 'O'), ('went', 'O'), ('through', 'O'), ('that', 'O'), ('and', 'O'), ('ruptured', 'B-Symptom'), ('my', 'I-Symptom'), ('achilles', 'I-Symptom'), ('.', 'O')], [('Why', 'O'), ('am', 'O'), ('I', 'O'), ('still', 'O'), ('awake', 'B-Symptom'), ('you', 'O'), ('ask', 'O'), ('?', 'O'), ('Prednisone', 'B-Drug'), ('.', 'O'), ('I', 'O'), ('will', 'O'), ('never', 'O'), ('take', 'O'), ('prednisone', 'B-Drug'), ('ever', 'O'), ('again', 'O')], [('vyvanse', 'B-Drug'), ('and', 'O'), ('red', 'O'), ('bull', 'O'), ('only', 'O'), ('mix', 'O'), ('if', 'O'), ('you', 'O'), ('want', 'O'), ('to', 'B-Symptom'), ('be', 'I-Symptom'), ('up', 'I-Symptom'), ('all', 'I-Symptom'), ('night', 'I-Symptom'), ('😒', 'O')], [('Man', 'O'), ('who', 'O'), ('needs', 'O'), ('Zzquil', 'O'), ('when', 'O'), ('I', 'O'), ('have', 'O'), ('Singulair', 'B-Drug'), ('?', 'O'), ('Within', 'O'), ('an', 'O'), ('hour', 'O'), (',', 'O'), ('I', 'O'), (\"'\", 'O'), ('m', 'O'), ('zombie', 'B-Symptom'), ('walking', 'O'), ('for', 'O'), ('the', 'O'), ('bed', 'O'), ('.', 'O')], [('Spent', 'O'), ('2', 'O'), ('days', 'O'), ('of', 'O'), ('hell', 'O'), ('heart', 'O'), ('n', 'O'), ('head', 'B-Symptom'), ('pains', 'I-Symptom'), ('all', 'O'), ('from', 'O'), ('venlafaxeine', 'B-Drug'), ('-', 'O'), ('effexor', 'B-Drug'), ('withdrawal', 'B-Symptom'), ('pls', 'O'), ('research', 'O'), ('before', 'O'), ('taking', 'O'), ('this', 'O'), ('is', 'O'), ('a', 'O'), ('nightmare', 'O')], [('Oh', 'O'), (',', 'O'), ('also', 'O'), ('-', 'O'), ('Tamoxifen', 'B-Drug'), ('?', 'O'), ('Gives', 'O'), ('you', 'O'), ('cancer', 'O'), ('?', 'O'), ('My', 'O'), ('mum', 'O'), ('was', 'O'), ('prescribed', 'O'), ('it', 'O'), ('for', 'O'), ('her', 'O'), ('breast', 'B-Disease'), ('cancer', 'I-Disease'), ('.', 'O')], [('After', 'O'), ('almost', 'O'), ('2wks', 'O'), ('on', 'O'), ('10mg', 'O'), ('of', 'O'), ('prednisone', 'B-Drug'), ('I', 'O'), ('feel', 'O'), ('good', 'O'), ('inflammation', 'B-Symptom'), ('-', 'O'), ('wise', 'O'), (',', 'O'), ('but', 'O'), ('run', 'O'), ('down', 'O'), ('otherwise', 'O'), ('.', 'O'), ('Aren', 'O'), (\"'\", 'O'), ('t', 'O'), ('steroids', 'O'), ('supposed', 'O'), ('to', 'O'), ('perk', 'O'), ('you', 'O'), ('up', 'O'), ('?', 'O')], [('Thank', 'O'), ('you', 'O'), (',', 'O'), ('Trazodone', 'B-Drug'), (',', 'O'), ('for', 'O'), ('reminding', 'O'), ('me', 'O'), ('what', 'O'), ('a', 'O'), ('good', 'O'), ('nights', 'O'), ('sleep', 'B-Symptom'), ('actually', 'O'), ('felt', 'O'), ('like', 'O'), ('again', 'O'), ('#', 'O'), ('YouDaRealMVP', 'O')], [('\"', 'O'), ('why', 'O'), ('do', 'O'), ('i', 'O'), ('feel', 'O'), ('like', 'O'), ('im', 'O'), ('having', 'B-Symptom'), ('a', 'I-Symptom'), ('heart', 'I-Symptom'), ('attack', 'I-Symptom'), ('?', 'O'), ('?', 'O'), ('?', 'O'), ('\"', 'O'), ('[', 'O'), ('remembers', 'O'), ('the', 'O'), ('adderall', 'B-Drug'), ('&', 'O'), ('amp', 'O'), (';', 'O'), ('coffee', 'O'), ('from', 'O'), ('10', 'O'), ('minutes', 'O'), ('ago', 'O'), (']', 'O'), ('\"', 'O'), ('oh', 'O'), ('\"', 'O')], [('This', 'O'), ('citalopram', 'B-Drug'), ('makes', 'O'), ('me', 'O'), ('so', 'O'), ('drowsy', 'B-Symptom'), ('like', 'O'), ('I', 'O'), ('have', 'O'), ('so', 'O'), ('much', 'O'), ('work', 'O'), ('to', 'O'), ('do', 'O'), ('but', 'O'), ('my', 'B-Symptom'), ('eyes', 'I-Symptom'), ('won', 'I-Symptom'), (\"'\", 'I-Symptom'), ('t', 'I-Symptom'), ('stay', 'I-Symptom'), ('open', 'I-Symptom')], [('They', 'O'), ('say', 'O'), ('a', 'O'), ('guy', 'O'), ('who', 'O'), ('makes', 'O'), ('you', 'O'), ('depressed', 'O'), ('may', 'O'), ('be', 'O'), ('depressed', 'O'), ('.', 'O'), ('Ol', 'O'), (\"'\", 'O'), ('Linds', 'O'), ('may', 'O'), ('need', 'O'), ('a', 'O'), ('course', 'O'), ('of', 'O'), ('Effexor', 'B-Drug'), ('for', 'O'), ('all', 'O'), ('our', 'O'), ('sakes', 'O'), ('.', 'O'), ('Jeb', 'O'), ('too', 'O'), ('#', 'O'), ('CNBCGOPDebate', 'O')], [('yesterday', 'O'), (':', 'O'), ('plenty', 'O'), ('of', 'O'), ('sleep', 'O'), (',', 'O'), ('copious', 'O'), ('amount', 'O'), ('of', 'O'), ('coffee', 'O'), ('&', 'O'), ('amp', 'O'), (';', 'O'), ('vyvanse', 'B-Drug'), ('=', 'O'), ('me', 'O'), ('dead', 'O'), (',', 'O'), ('unproductive', 'O'), ('zombie', 'B-Symptom')], [('The', 'O'), ('numbing', 'B-Symptom'), ('of', 'I-Symptom'), ('my', 'I-Symptom'), ('knee', 'I-Symptom'), ('has', 'O'), ('worn', 'O'), ('off', 'O'), ('.', 'O'), ('Please', 'O'), ('start', 'O'), ('working', 'O'), (',', 'O'), ('cortisone', 'B-Drug'), ('.', 'O'), ('Plllleeeaaasseee', 'O'), ('.', 'O'), ('🙌', 'O'), ('🏼', 'O')], [('Who', 'O'), ('keeps', 'O'), ('coughing', 'B-Symptom'), ('into', 'O'), ('the', 'O'), ('mic', 'O'), ('?', 'O'), ('Not', 'O'), ('okay', 'O'), ('.', 'O'), ('Get', 'O'), ('a', 'O'), ('prednisone', 'B-Drug'), ('shot', 'O'), ('and', 'O'), ('make', 'O'), ('it', 'O'), ('all', 'O'), ('go', 'O'), ('away', 'O'), ('.', 'O')], [('Twittersourcing', 'O'), (':', 'O'), ('anyone', 'O'), ('taken', 'O'), ('Cymbalta', 'B-Drug'), (',', 'O'), ('either', 'O'), ('for', 'O'), ('depression', 'B-Disease'), ('/', 'O'), ('anxiety', 'B-Symptom'), ('or', 'O'), ('pain', 'B-Symptom'), ('?', 'O'), ('Thoughts', 'O'), ('?', 'O')], [('I', 'O'), ('promise', 'O'), ('this', 'O'), ('prednisone', 'B-Drug'), ('is', 'O'), ('making', 'O'), ('my', 'O'), ('body', 'O'), ('chemically', 'O'), ('imbalanced', 'B-Symptom'), ('.', 'O'), ('I', 'O'), ('keep', 'O'), ('having', 'O'), ('the', 'O'), ('strangest', 'O'), ('side', 'O'), ('effects', 'O'), ('#', 'B-Disease'), ('CrohnsDisease', 'I-Disease'), ('#', 'B-Symptom'), ('shaky', 'I-Symptom'), ('#', 'B-Symptom'), ('moonface', 'I-Symptom')], [('Going', 'O'), ('to', 'O'), ('rain', 'O'), ('.', 'O'), ('#', 'O'), ('CurlyHair', 'O'), ('fuzzy', 'O'), ('.', 'O'), ('Wrists', 'O'), (',', 'O'), ('elbows', 'B-Symptom'), ('#', 'O'), ('swollen', 'O'), ('&', 'O'), ('amp', 'O'), (';', 'O'), ('#', 'O'), ('painful', 'O'), ('.', 'O'), ('Thx', 'O'), ('to', 'O'), ('#', 'B-Drug'), ('Levaquin', 'I-Drug'), ('#', 'B-Drug'), ('Avelox', 'I-Drug'), ('#', 'B-Symptom'), ('inflammation', 'I-Symptom'), ('#', 'B-Disease'), ('arthritis', 'I-Disease'), ('#', 'O'), ('chronicpain', 'O'), ('#', 'O'), ('Cipro', 'O')], [('day', 'O'), ('2', 'O'), ('of', 'O'), ('Latuda', 'O'), (',', 'O'), ('starting', 'O'), ('to', 'O'), ('notice', 'O'), ('similar', 'O'), ('pain', 'B-Symptom'), ('as', 'O'), ('what', 'O'), ('I', 'O'), ('had', 'O'), ('on', 'O'), ('Geodon', 'B-Drug'), ('but', 'O'), ('at', 'O'), ('a', 'O'), ('more', 'O'), ('manageable', 'O'), ('amount', 'O'), ('.', 'O')], [('Geodon', 'B-Drug'), ('I', 'O'), ('couldn', 'O'), (\"'\", 'O'), ('t', 'O'), ('even', 'O'), ('think', 'O'), ('it', 'O'), ('was', 'O'), ('so', 'O'), ('bad', 'O'), ('like', 'O'), ('an', 'O'), ('~', 'O'), ('8', 'O'), ('-', 'O'), ('9', 'O'), ('on', 'O'), ('pain', 'B-Symptom'), (',', 'O'), ('Latuda', 'O'), ('it', 'O'), (\"'\", 'O'), ('s', 'O'), ('bumping', 'O'), ('my', 'O'), ('pain', 'O'), ('from', 'O'), ('~', 'O'), ('2', 'O'), ('-', 'O'), ('3', 'O'), ('to', 'O'), ('~', 'O'), ('4', 'O'), ('-', 'O'), ('5', 'O'), ('on', 'O'), ('pain', 'O'), ('scale', 'O'), ('.', 'O')], [('Weird', 'O'), ('thing', 'O'), ('about', 'O'), ('this', 'O'), ('kind', 'O'), ('of', 'O'), ('pain', 'B-Symptom'), (',', 'O'), ('at', 'O'), ('least', 'O'), ('with', 'O'), ('Geodon', 'B-Drug'), ('it', 'O'), ('was', 'O'), ('this', 'O'), ('case', 'O'), (',', 'O'), ('it', 'O'), ('doesn', 'O'), (\"'\", 'O'), ('t', 'O'), ('react', 'O'), ('to', 'O'), ('narcotics', 'O'), ('like', 'O'), ('at', 'O'), ('all', 'O'), ('.', 'O')], [('I', 'O'), ('owe', 'O'), ('amazing', 'O'), ('sleep', 'B-Symptom'), ('to', 'O'), ('Quetiapine', 'B-Drug'), ('and', 'O'), ('melatonin', 'O')], [('Be', 'O'), ('the', 'O'), ('montelukast', 'B-Drug'), ('to', 'O'), ('all', 'O'), ('my', 'O'), ('allergy', 'O'), ('symptoms', 'O'), (':', 'O'), ('(', 'O')], [('Operation', 'O'), ('Bilgy', 'O'), ('Cortisone', 'B-Drug'), ('–', 'O'), ('protecting', 'O'), ('Australia', 'O'), ('from', 'O'), ('virilisms', 'B-Symptom')], [('Six', 'O'), ('hours', 'O'), ('sleep', 'O'), (',', 'O'), ('best', 'O'), ('sleep', 'O'), ('i', 'O'), ('have', 'O'), ('had', 'O'), ('in', 'O'), ('two', 'O'), ('weeks', 'O'), ('thank', 'O'), ('you', 'O'), ('olanzapine', 'B-Drug'), ('bipolar', 'O'), ('meds', 'O')], [('The', 'O'), ('anti', 'O'), ('-', 'O'), ('depressant', 'O'), ('Cymbalta', 'B-Drug'), ('can', 'O'), ('cause', 'O'), ('facial', 'B-Symptom'), ('swelling', 'I-Symptom'), (',', 'O'), ('weight', 'B-Symptom'), ('gain', 'I-Symptom'), ('and', 'O'), ('impotence', 'B-Symptom'), ('.', 'O'), ('Its', 'O'), ('new', 'O'), ('motto', 'O'), ('?', 'O'), ('I', 'O'), (\"'\", 'O'), ('LL', 'O'), ('GIVE', 'O'), ('YOU', 'O'), ('SOMETHING', 'O'), ('TO', 'O'), ('CRY', 'O'), ('ABOUT', 'O'), ('.', 'O')], [('Anyone', 'O'), ('know', 'O'), ('if', 'O'), ('coming', 'O'), ('off', 'O'), ('sertraline', 'B-Drug'), ('from', 'O'), ('150mg', 'O'), ('to', 'O'), ('50mg', 'O'), ('really', 'O'), ('affect', 'O'), ('sleep', 'O'), ('?', 'O'), ('I', 'O'), ('took', 'O'), ('wrong', 'O'), ('dose', 'O'), ('last', 'O'), ('week', 'O'), ('but', 'O'), ('my', 'B-Symptom'), ('sleep', 'I-Symptom'), ('was', 'I-Symptom'), ('worse', 'I-Symptom'), ('than', 'I-Symptom'), ('normal', 'I-Symptom'), ('!', 'O')], [('So', 'O'), ('after', 'O'), ('alwwpong', 'O'), ('on', 'O'), ('it', 'O'), (',', 'O'), ('knowing', 'O'), ('I', 'O'), (\"'\", 'O'), ('ve', 'O'), ('done', 'O'), ('other', 'O'), ('by', 'O'), ('putting', 'O'), ('my', 'O'), ('life', 'O'), ('on', 'O'), ('the', 'O'), ('line', 'O'), ('.', 'O'), ('I', 'O'), ('guess', 'O'), ('I', 'O'), (\"'\", 'O'), ('ll', 'O'), ('do', 'O'), ('the', 'O'), ('Singulair', 'B-Drug'), ('asthma', 'B-Disease'), ('pill', 'O'), ('.', 'O')], [('Apart', 'O'), ('from', 'O'), ('massive', 'O'), ('weight', 'B-Symptom'), ('gain', 'I-Symptom'), (',', 'O'), ('olanzapine', 'B-Drug'), ('certainly', 'O'), ('works', 'O'), ('for', 'O'), ('me', 'O')], [('Shout', 'O'), ('out', 'O'), ('to', 'O'), ('my', 'O'), ('strong', 'O'), ('momma', 'O'), ('for', 'O'), ('finishing', 'O'), ('her', 'O'), ('Tamoxifen', 'B-Drug'), ('yesterday', 'O'), ('.', 'O'), ('5', 'O'), ('years', 'O'), (',', 'O'), ('cancer', 'B-Disease'), ('free', 'O'), ('.', 'O'), ('Love', 'O'), ('you', 'O'), ('so', 'O'), ('much', 'O'), ('💕', 'O')], [('Today', 'O'), ('is', 'O'), ('1st', 'O'), ('day', 'O'), ('I', 'O'), ('can', 'O'), ('see', 'O'), ('properly', 'O'), ('in', 'O'), ('months', 'O'), ('.', 'O'), ('.', 'O'), ('.', 'O'), ('#', 'B-Drug'), ('avastin', 'I-Drug'), ('#', 'O'), ('macularproblems', 'O')], [('Woke', 'O'), ('up', 'O'), ('without', 'O'), ('any', 'O'), ('tightness', 'B-Symptom'), ('in', 'I-Symptom'), ('my', 'I-Symptom'), ('chest', 'I-Symptom'), ('.', 'O'), ('Not', 'O'), ('even', 'O'), ('an', 'O'), ('ache', 'B-Symptom'), ('.', 'O'), ('👌', 'O'), ('but', 'O'), ('it', 'O'), (\"'\", 'O'), ('s', 'O'), ('only', 'O'), ('5mg', 'O'), ('half', 'O'), ('a', 'O'), ('Singulair', 'B-Drug'), ('pill', 'O'), ('for', 'O'), ('my', 'O'), ('asthma', 'B-Disease'), ('.', 'O'), ('yay', 'O')], [('Note', 'O'), ('to', 'O'), ('everyone', 'O'), ('.', 'O'), ('Don', 'O'), (\"'\", 'O'), ('t', 'O'), ('take', 'O'), ('Citalopram', 'B-Drug'), ('if', 'O'), ('you', 'O'), (\"'\", 'O'), ('re', 'O'), ('not', 'O'), ('depressed', 'B-Disease'), (',', 'O'), ('you', 'O'), (\"'\", 'O'), ('ll', 'O'), ('throw', 'O'), ('up', 'O'), ('.', 'O'), ('.', 'O'), ('.', 'O'), ('sorry', 'O'), ('Dani', 'O'), ('😬', 'O')], [('Now', 'O'), ('would', 'O'), ('be', 'O'), ('a', 'O'), ('really', 'O'), ('good', 'O'), ('time', 'O'), ('for', 'O'), ('a', 'O'), ('commercial', 'O'), ('for', 'O'), ('an', 'O'), ('ACE', 'O'), ('inhibitor', 'O'), ('like', 'O'), ('Lisinopril', 'B-Drug'), ('.', 'O'), ('My', 'O'), ('blood', 'O'), ('pressure', 'O'), ('is', 'O'), ('NOT', 'O'), ('good', 'O'), ('right', 'O'), ('now', 'O'), ('#', 'O'), ('WorldSeries', 'O')], [('I', 'O'), ('can', 'O'), (\"'\", 'O'), ('t', 'O'), ('let', 'O'), ('you', 'O'), ('in', 'O'), (',', 'O'), ('you', 'O'), (\"'\", 'O'), ('re', 'O'), ('wobbling', 'B-Symptom'), ('.', 'O'), ('\"', 'O'), ('No', 'O'), (',', 'O'), ('it', 'O'), (\"'\", 'O'), ('s', 'O'), ('okay', 'O'), (',', 'O'), ('I', 'O'), ('took', 'O'), ('a', 'O'), ('drug', 'O'), ('called', 'O'), ('Paxil', 'B-Drug'), ('\"', 'O'), ('Sir', 'O'), (',', 'O'), ('what', 'O'), ('are', 'O'), ('you', 'O'), ('doing', 'O')], [('I', 'O'), (\"'\", 'O'), ('m', 'O'), ('switching', 'O'), ('antidepressants', 'O'), ('after', 'O'), ('being', 'O'), ('on', 'O'), ('Citalopram', 'B-Drug'), ('for', 'O'), ('10', 'O'), ('years', 'O'), ('.', 'O'), ('Suffering', 'O'), ('withdrawals', 'O'), (',', 'O'), ('physical', 'O'), ('and', 'O'), ('mental', 'O'), ('.', 'O'), ('Don', 'O'), (\"'\", 'O'), ('t', 'O'), ('like', 'O'), ('this', 'O'), ('at', 'O'), ('all', 'O'), ('.', 'O')], [('it', 'O'), (\"'\", 'O'), ('s', 'O'), ('530', 'O'), ('am', 'O'), ('and', 'O'), ('im', 'O'), ('still', 'O'), ('wide', 'O'), ('awake', 'B-Symptom'), ('because', 'O'), ('they', 'O'), ('couldn', 'O'), (\"'\", 'O'), ('t', 'O'), ('refill', 'O'), ('my', 'O'), ('seroquel', 'B-Drug'), ('on', 'O'), ('time', 'O'), ('and', 'O'), ('I', 'O'), (\"'\", 'O'), ('m', 'O'), ('Literallg', 'O'), ('Fucking', 'O'), ('Dying', 'O'), ('Here', 'O'), ('!', 'O'), ('!', 'O')], [('Withdrawing', 'O'), ('from', 'O'), ('Paxil', 'B-Drug'), ('is', 'O'), ('really', 'O'), ('messing', 'O'), ('with', 'O'), ('me', 'O'), ('.', 'O'), ('Jitters', 'O'), ('.', 'O'), ('Really', 'O'), ('bad', 'O'), ('insomnia', 'B-Symptom'), ('.', 'O'), ('Would', 'O'), ('not', 'O'), ('recommend', 'O'), ('.', 'O'), ('#', 'O'), ('twothumbsdown', 'O')], [('Day', 'O'), ('6', 'O'), ('on', 'O'), ('citalopram', 'B-Drug'), (',', 'O'), ('feel', 'O'), ('like', 'O'), ('I', 'O'), ('have', 'O'), ('a', 'O'), ('cold', 'O'), ('but', 'O'), ('without', 'O'), ('the', 'O'), ('snot', 'O'), ('.', 'O'), ('Tender', 'O'), ('aching', 'B-Symptom'), ('muscles', 'I-Symptom'), (',', 'O'), ('sore', 'B-Symptom'), ('throat', 'I-Symptom'), ('/', 'O'), ('neck', 'O'), ('.', 'O'), ('Bleugh', 'O'), ('.', 'O')], [('If', 'O'), ('you', 'O'), (\"'\", 'O'), ('re', 'O'), ('sick', 'O'), (',', 'O'), ('#', 'O'), ('STAYAWAY', 'O'), ('!', 'O'), ('#', 'B-Disease'), ('Lupus', 'I-Disease'), ('#', 'O'), ('Cellcept', 'O'), ('#', 'B-Drug'), ('Prednisone', 'I-Drug'), ('#', 'O'), ('Plaquenil', 'O'), ('#', 'O'), ('Immunosuppressants', 'O')], [('you', 'O'), ('know', 'O'), ('how', 'O'), ('depressed', 'O'), ('people', 'O'), ('always', 'O'), ('be', 'O'), ('drawing', 'O'), ('themselves', 'O'), ('lookin', 'O'), ('all', 'O'), ('sad', 'O'), ('and', 'O'), ('the', 'O'), ('drawings', 'O'), ('come', 'O'), ('to', 'O'), ('life', 'O'), ('and', 'O'), ('it', 'O'), (\"'\", 'O'), ('s', 'O'), ('a', 'O'), ('commercial', 'O'), ('for', 'O'), ('Zoloft', 'B-Drug')], [('Hi', 'O'), ('everyone', 'O'), (',', 'O'), ('Candace', 'O'), ('here', 'O'), ('.', 'O'), ('#', 'O'), ('raredisease', 'O'), ('patient', 'O'), ('/', 'O'), ('advocate', 'O'), ('/', 'O'), ('writer', 'O'), (',', 'O'), ('law', 'O'), ('student', 'O'), ('and', 'O'), ('current', 'O'), (';', 'O'), ('y', 'O'), ('battling', 'O'), ('cymbalta', 'B-Drug'), ('-', 'O'), ('induced', 'O'), ('insomnia', 'B-Symptom'), ('!', 'O'), ('Fun', 'O'), (':', 'O'), ('o', 'O'), (')', 'O'), ('#', 'O'), ('hcsm', 'O')], [('New', 'O'), ('Cortellis', 'O'), ('SWOT', 'O'), ('analyses', 'O'), (':', 'O'), ('Avastin', 'B-Drug'), ('set', 'O'), ('to', 'O'), ('maintain', 'O'), ('oncology', 'O'), ('market', 'O'), ('share', 'O'), ('with', 'O'), ('revenue', 'O'), ('boosted', 'O'), ('by', 'O'), ('ovarian', 'O'), ('and', 'O'), ('cervical', 'O'), ('cancer', 'B-Disease'), ('indications', 'O')], [('I', 'O'), ('need', 'O'), ('to', 'O'), ('start', 'O'), ('bck', 'O'), ('getting', 'O'), ('my', 'O'), ('topamax', 'B-Drug'), ('for', 'O'), ('my', 'O'), ('headaches', 'B-Symptom')], [('Time', 'O'), ('to', 'O'), ('start', 'O'), ('the', 'O'), ('semi', 'O'), ('-', 'O'), ('annual', 'O'), ('twitter', 'O'), ('experiment', 'O'), ('again', 'O'), ('.', 'O'), ('This', 'O'), ('time', 'O'), ('with', 'O'), ('Adderall', 'B-Drug'), ('to', 'O'), ('combat', 'O'), ('the', 'O'), ('ADHD', 'B-Disease'), ('rabbit', 'O'), ('hole', 'O'), ('problem', 'O'), ('!', 'O')], [('The', 'O'), ('withdrawals', 'O'), ('from', 'O'), ('coming', 'O'), ('off', 'O'), ('OxyContin', 'O'), ('(', 'O'), ('same', 'O'), ('chemically', 'O'), ('as', 'O'), ('heroin', 'O'), (')', 'O'), ('were', 'O'), ('horrific', 'O'), ('but', 'O'), ('Citalopram', 'B-Drug'), ('is', 'O'), ('giving', 'O'), ('me', 'O'), ('“', 'O'), ('brain', 'B-Symptom'), ('zaps', 'I-Symptom'), ('”', 'O'), ('&', 'O'), ('amp', 'O'), (';', 'O'), ('insomnia', 'B-Symptom'), ('😳', 'O')], [('I', 'O'), (\"'\", 'O'), ('ve', 'O'), ('lost', 'O'), ('2', 'O'), ('st', 'O'), ('12', 'O'), ('lbs', 'O'), ('in', 'O'), ('11', 'O'), ('months', 'O'), ('!', 'O'), ('Nearly', 'O'), ('back', 'O'), ('to', 'O'), ('my', 'O'), ('skinny', 'O'), ('self', 'O'), ('.', 'O'), ('#', 'O'), ('IHateQuetiapine', 'O'), ('#', 'B-Drug'), ('Quetiapine', 'I-Drug'), ('#', 'B-Symptom'), ('weightloss', 'I-Symptom')], [('Fighting', 'O'), ('sleep', 'B-Symptom'), ('is', 'O'), ('the', 'O'), ('trippiest', 'O'), ('thing', 'O'), ('to', 'O'), ('me', 'O'), ('fuk', 'O'), ('I', 'O'), ('❤', 'O'), ('trazodone', 'B-Drug')], [('#', 'B-Drug'), ('Trazodone', 'I-Drug'), ('had', 'O'), ('been', 'O'), ('consumed', 'O'), ('and', 'O'), ('sweet', 'O'), ('slumber', 'B-Symptom'), ('is', 'O'), ('on', 'O'), ('its', 'O'), ('way', 'O'), ('!', 'O'), ('!', 'O'), ('!', 'O'), ('I', 'O'), (\"'\", 'O'), ('ve', 'O'), ('got', 'O'), ('a', 'O'), ('long', 'O'), ('day', 'O'), ('tomorrow', 'O'), ('.', 'O'), ('.', 'O'), ('.', 'O'), ('.', 'O'), ('I', 'O'), ('hope', 'O'), ('it', 'O'), ('turns', 'O'), ('out', 'O'), ('well', 'O'), ('!', 'O'), ('!', 'O'), ('!', 'O'), ('#', 'O'), ('GoodNight', 'O'), ('#', 'O'), ('OVAH', 'O')], [('Just', 'O'), ('opened', 'O'), ('my', 'O'), ('mail', 'O'), ('for', 'O'), ('the', 'O'), ('first', 'O'), ('time', 'O'), ('in', 'O'), ('.', 'O'), ('.', 'O'), ('.', 'O'), ('a', 'O'), ('year', 'O'), ('?', 'O'), ('Thanks', 'O'), (',', 'O'), ('Paxil', 'B-Drug'), ('™', 'O'), ('!', 'O'), ('😂', 'O'), ('😂', 'O'), ('😂', 'O'), ('#', 'B-Symptom'), ('anxietyproblems', 'I-Symptom')], [('Avastin', 'B-Drug'), ('®', 'O'), ('is', 'O'), ('the', 'O'), ('brand', 'O'), ('name', 'O'), ('for', 'O'), ('bevacizumab', 'B-Drug'), (',', 'O'), ('a', 'O'), ('medication', 'O'), ('infused', 'O'), ('into', 'O'), ('the', 'O'), ('eye', 'O'), ('to', 'O'), ('moderate', 'O'), ('vision', 'O'), ('misfortune', 'O'), ('in', 'O'), ('individuals', 'O'), ('who', 'O'), ('have', 'O'), ('wet', 'O'), ('eye', 'O')], [('Increasing', 'O'), ('to', 'O'), ('60mg', 'O'), ('of', 'O'), ('duloxetine', 'B-Drug'), ('this', 'O'), ('week', 'O'), ('as', 'O'), ('well', 'O'), ('if', 'O'), ('I', 'O'), ('don', 'O'), (\"'\", 'O'), ('t', 'O'), ('lose', 'B-Symptom'), ('my', 'I-Symptom'), ('appetite', 'I-Symptom'), ('and', 'O'), ('lose', 'B-Symptom'), ('weight', 'I-Symptom'), ('I', 'O'), (\"'\", 'O'), ('ll', 'O'), ('sue', 'O')], [('never', 'O'), ('taken', 'O'), ('a', 'O'), ('drug', 'O'), ('like', 'O'), ('Effexor', 'B-Drug'), ('-', 'O'), ('if', 'O'), ('i', 'O'), ('miss', 'O'), ('1', 'O'), ('day', 'O'), ('(', 'O'), ('v', 'O'), ('rare', 'O'), (')', 'O'), ('feel', 'B-Symptom'), ('like', 'I-Symptom'), ('i', 'I-Symptom'), ('have', 'I-Symptom'), ('the', 'I-Symptom'), ('flu', 'I-Symptom'), ('&', 'O'), ('amp', 'O'), (';', 'O'), ('am', 'B-Symptom'), ('ill', 'I-Symptom'), ('.', 'O'), ('so', 'O'), ('awful', 'O'), ('.', 'O'), ('but', 'O'), ('it', 'O'), ('seems', 'O'), ('to', 'O'), ('be', 'O'), ('working', 'O'), ('#', 'O'), ('mentalhealth', 'O')], [('Anyone', 'O'), ('been', 'O'), ('through', 'O'), ('citalopram', 'B-Drug'), ('withdrawals', 'B-Symptom'), ('?', 'O'), ('Dose', 'O'), ('was', 'O'), ('halved', 'O'), ('from', 'O'), ('40mg', 'O'), ('to', 'O'), ('20', 'O'), ('mg', 'O'), ('4', 'O'), ('days', 'O'), ('ago', 'O'), ('and', 'O'), ('feeling', 'B-Symptom'), ('worse', 'I-Symptom'), ('and', 'O'), ('worse', 'O'), ('every', 'O'), ('day', 'O'), ('.', 'O')], [('Tamoxifen', 'B-Drug'), (',', 'O'), ('raloxifene', 'O'), ('effective', 'O'), ('at', 'O'), ('preventing', 'O'), ('ER', 'O'), ('+', 'O'), ('ve', 'O'), ('tumours', 'O'), ('only', 'O'), (',', 'O'), ('but', 'O'), ('benefits', 'O'), ('continue', 'O'), ('to', 'O'), ('increase', 'O'), ('over', 'O'), ('20', 'O'), ('yrs', 'O'), ('#', 'O'), ('NCRI2015', 'O')], [('Anastrozole', 'O'), ('may', 'O'), ('be', 'O'), ('better', 'O'), ('preventive', 'O'), ('agent', 'O'), ('than', 'O'), ('tamoxifen', 'B-Drug'), ('for', 'O'), ('post', 'O'), ('-', 'O'), ('menopausal', 'O'), ('women', 'O'), ('due', 'O'), ('to', 'O'), ('lower', 'O'), ('risk', 'O'), ('of', 'O'), ('endometrial', 'B-Disease'), ('cancer', 'I-Disease'), ('#', 'O'), ('NCRI2015', 'O')], [('Addition', 'O'), ('of', 'O'), ('Docetaxel', 'B-Drug'), ('to', 'O'), ('SOC', 'O'), ('can', 'O'), ('improve', 'O'), ('survival', 'O'), ('for', 'O'), ('men', 'O'), ('with', 'O'), ('newly', 'O'), ('diagnosed', 'O'), ('prostate', 'O'), ('cancer', 'O'), ('that', 'O'), ('has', 'O'), ('spread', 'O'), ('.', 'O'), ('N', 'O'), ('.', 'O'), ('Clarke', 'O'), ('#', 'O'), ('NCRI2015', 'O')], [('Someone', 'O'), ('koppel', 'O'), ('citalopram', 'B-Drug'), ('for', 'O'), ('the', 'O'), ('anxiety', 'B-Symptom')], [('I', 'O'), ('never', 'O'), ('want', 'O'), ('to', 'O'), ('deal', 'O'), ('w', 'O'), ('/', 'O'), ('medical', 'O'), ('marijuana', 'O'), ('even', 'O'), ('if', 'O'), ('I', 'O'), ('have', 'O'), ('Epilepsy', 'B-Disease'), ('.', 'O'), ('I', 'O'), ('would', 'O'), ('rather', 'O'), ('take', 'O'), ('my', 'O'), ('tegretol', 'B-Drug'), ('than', 'O'), ('smoke', 'O'), ('marijuana', 'O'), ('.', 'O'), ('I', 'O'), (\"'\", 'O'), ('m', 'O'), ('the', 'O'), ('Smart', 'O'), ('One', 'O'), ('!', 'O')], [('Has', 'O'), ('anyone', 'O'), ('taking', 'O'), ('Modafinil', 'B-Drug'), ('/', 'O'), ('Alertec', 'O'), ('developed', 'O'), ('chronic', 'B-Symptom'), ('urticaria', 'I-Symptom'), ('?', 'O')], [('Yuck', 'O'), ('😪', 'O'), ('😭', 'O'), ('no', 'O'), ('energy', 'B-Symptom'), ('Side', 'O'), ('effects', 'O'), ('hit', 'O'), ('me', 'O'), ('bad', 'O'), ('😭', 'O'), ('#', 'B-Drug'), ('sertraline', 'I-Drug')], [('#', 'O'), ('ATIinstructorwisdom', 'O'), ('\"', 'O'), ('Olanzapine', 'B-Drug'), ('is', 'O'), ('an', 'O'), ('anti', 'O'), ('-', 'O'), ('anxiety', 'B-Symptom'), ('medication', 'O'), ('.', 'O'), ('Same', 'O'), ('family', 'O'), ('as', 'O'), ('Ativan', 'O'), ('.', 'O'), ('\"', 'O'), ('Not', 'O'), ('that', 'O'), ('funny', 'O'), ('.', 'O'), ('.', 'O'), ('.', 'O'), ('but', 'O'), ('its', 'O'), ('an', 'O'), ('anti', 'O'), ('-', 'O'), ('psychotic', 'O'), ('.', 'O')], [('New', 'O'), ('Cancer', 'O'), ('Drugs', 'O'), ('Fund', 'O'), ('list', 'O'), ('shows', 'O'), ('Kadcyla', 'O'), ('put', 'O'), ('back', 'O'), ('on', 'O'), ('but', 'O'), ('Avastin', 'B-Drug'), ('removed', 'O'), ('for', 'O'), ('breast', 'O'), ('and', 'O'), ('bowel', 'B-Disease'), ('cancer', 'I-Disease')], [('Seeing', 'O'), ('6th', 'O'), ('pt', 'O'), ('s', 'O'), ('/', 'O'), ('p', 'O'), ('#', 'O'), ('labralrepair', 'O'), ('w', 'O'), ('recurrent', 'O'), ('#', 'B-Symptom'), ('pelvicpain', 'I-Symptom'), ('.', 'O'), ('Never', 'O'), ('c', 'O'), ('/', 'O'), ('o', 'O'), (\"'\", 'O'), ('d', 'O'), ('hip', 'O'), ('pain', 'O'), ('&', 'O'), ('amp', 'O'), (';', 'O'), ('cortisone', 'B-Drug'), ('injection', 'O'), ('failed', 'O'), ('to', 'O'), ('help', 'O'), ('#', 'O'), ('vulvodynia', 'O'), ('.', 'O'), ('#', 'O'), ('pelvicmafia', 'O')], [('i', 'O'), ('also', 'O'), ('have', 'O'), ('a', 'O'), ('cortisone', 'B-Drug'), ('cream', 'O'), ('to', 'O'), ('help', 'O'), ('with', 'O'), ('the', 'O'), ('itching', 'B-Symptom'), ('.', 'O')], [('My', 'O'), ('blood', 'B-Symptom'), ('pressure', 'I-Symptom'), ('at', 'O'), ('docs', 'O'), ('was', 'O'), ('159', 'O'), ('/', 'O'), ('103', 'O'), ('-', 'O'), ('-', 'O'), ('I', 'O'), (\"'\", 'O'), ('m', 'O'), ('surprised', 'O'), ('they', 'O'), ('let', 'O'), ('me', 'O'), ('leave', 'O'), ('!', 'O'), ('!', 'O'), ('So', 'O'), ('anxious', 'B-Symptom'), ('!', 'O'), ('!', 'O'), ('!', 'O'), ('#', 'B-Drug'), ('tamoxifen', 'I-Drug')], [('Calm', 'O'), ('again', 'O'), ('thanks', 'O'), ('to', 'O'), ('lorazepam', 'O'), ('.', 'O'), ('Still', 'O'), ('suffering', 'O'), ('withdrawals', 'B-Symptom'), ('from', 'O'), ('citalopram', 'B-Drug'), ('plus', 'O'), ('today', 'O'), ('started', 'O'), ('duloxetine', 'B-Drug'), ('to', 'O'), ('be', 'O'), ('titrated', 'O'), ('over', 'O'), ('next', 'O'), ('few', 'O'), ('days', 'O'), ('.', 'O')], [('Downside', 'O'), ('of', 'O'), ('modafinil', 'B-Drug'), (':', 'O'), ('You', 'O'), ('can', 'O'), ('completely', 'O'), ('forget', 'B-Symptom'), ('about', 'I-Symptom'), ('eating', 'I-Symptom'), ('or', 'O'), ('drinking', 'O'), ('for', 'O'), ('hours', 'O'), ('.', 'O')], [('Mark', 'O'), ('/', 'O'), ('peterson', 'O'), ('doing', 'O'), ('well', 'O'), (',', 'O'), ('d', 'O'), ('/', 'O'), ('c', 'O'), (\"'\", 'O'), ('d', 'O'), ('the', 'O'), ('trazodone', 'B-Drug'), ('due', 'O'), ('to', 'O'), ('cont', 'O'), ('tiredness', 'B-Symptom'), ('in', 'O'), ('the', 'O'), ('day', 'O'), ('.', 'O')], [('duloxetine', 'B-Drug'), ('compared', 'O'), ('with', 'O'), ('placebo', 'O'), ('resulted', 'O'), ('in', 'O'), ('a', 'O'), ('greater', 'O'), ('reduction', 'O'), ('in', 'O'), ('pain', 'B-Symptom'), ('in', 'I-Symptom'), ('OA', 'I-Symptom'), ('knee', 'I-Symptom'), ('after', 'O'), ('approximately', 'O'), ('10', 'O'), ('to', 'O'), ('13', 'O'), ('weeks', 'O'), ('of', 'O'), ('therapy', 'O'), ('.', 'O')], [('Had', 'O'), ('an', 'O'), ('allergic', 'B-Symptom'), ('reaction', 'I-Symptom'), ('today', 'O'), ('and', 'O'), ('lemme', 'O'), ('tell', 'O'), ('you', 'O'), ('prednisone', 'B-Drug'), ('still', 'O'), ('makes', 'O'), ('me', 'O'), ('sweat', 'B-Symptom'), ('like', 'I-Symptom'), ('I', 'I-Symptom'), (\"'\", 'I-Symptom'), ('m', 'I-Symptom'), ('in', 'I-Symptom'), ('a', 'I-Symptom'), ('sauna', 'I-Symptom'), ('.', 'O')], [('i', 'O'), ('think', 'O'), ('i', 'O'), ('want', 'O'), ('to', 'O'), ('get', 'O'), ('back', 'O'), ('off', 'O'), ('prozac', 'B-Drug'), ('and', 'O'), ('see', 'O'), ('if', 'O'), ('that', 'O'), ('helps', 'O'), ('with', 'O'), ('my', 'O'), ('brain', 'B-Symptom'), ('fatigue', 'I-Symptom'), ('and', 'O'), ('general', 'O'), ('inability', 'B-Symptom'), ('to', 'I-Symptom'), ('process', 'I-Symptom'), ('shit', 'I-Symptom')], [('I', 'O'), ('don', 'O'), (\"'\", 'O'), ('t', 'O'), ('want', 'O'), ('to', 'O'), ('linger', 'O'), ('on', 'O'), ('it', 'O'), ('.', 'O'), ('I', 'O'), (\"'\", 'O'), ('m', 'O'), ('just', 'O'), ('gonna', 'O'), ('stop', 'O'), ('the', 'O'), ('paxil', 'B-Drug'), ('cold', 'O'), ('turkey', 'O'), ('.', 'O'), ('This', 'O'), ('three', 'O'), ('weeks', 'O'), ('of', 'O'), ('stepping', 'O'), ('down', 'O'), ('dosage', 'O'), ('is', 'O'), ('tedious', 'O'), ('.', 'O')], [('that', 'O'), ('would', 'O'), ('be', 'O'), ('liked', 'O'), (';', 'O'), ('it', 'O'), ('gives', 'O'), ('me', 'O'), ('hope', 'O'), ('my', 'O'), ('tweet', 'O'), ('&', 'O'), ('amp', 'O'), (';', 'O'), ('the', 'O'), ('long', 'O'), ('break', 'O'), ('topiramate', 'B-Drug'), ('gave', 'O'), ('me', 'O'), (',', 'O'), ('the', 'O'), ('migraines', 'O'), ('are', 'O'), ('returning', 'O'), ('.', 'O')], [('Thank', 'O'), ('you', 'O'), (',', 'O'), ('#', 'O'), ('NationalStressAwarenessDay', 'O'), ('.', 'O'), ('Until', 'O'), ('this', 'O'), ('special', 'O'), ('day', 'O'), (',', 'O'), ('I', 'O'), ('was', 'O'), ('unaware', 'O'), ('of', 'O'), ('stress', 'B-Symptom'), ('.', 'O'), ('Now', 'O'), (',', 'O'), ('where', 'O'), ('did', 'O'), ('my', 'O'), ('wife', 'O'), ('hide', 'O'), ('my', 'O'), ('Lisinopril', 'B-Drug'), ('?', 'O')], [('I', 'O'), ('started', 'O'), ('taking', 'O'), ('Cymbalta', 'B-Drug'), ('and', 'O'), ('I', 'O'), ('feel', 'O'), ('dead', 'O'), ('.', 'O'), ('I', 'O'), ('have', 'O'), ('zero', 'B-Symptom'), ('emotion', 'I-Symptom'), ('.', 'O'), ('I', 'O'), ('have', 'O'), ('zero', 'B-Symptom'), ('energy', 'I-Symptom'), ('.', 'O'), ('I', 'O'), ('feel', 'O'), ('like', 'O'), ('a', 'O'), ('rock', 'O'), ('.', 'O'), ('Just', 'O'), ('sitting', 'O'), ('.', 'O'), ('Just', 'O'), ('being', 'O'), ('here', 'O'), ('.', 'O')], [('So', 'O'), ('I', 'O'), ('definitely', 'O'), ('think', 'O'), ('my', 'O'), ('anxiety', 'B-Symptom'), ('has', 'O'), ('gotten', 'O'), ('500', 'O'), ('%', 'O'), ('worse', 'O'), ('switching', 'O'), ('from', 'O'), ('Zoloft', 'B-Drug'), ('to', 'O'), ('Effexor', 'B-Drug'), (',', 'O'), ('fuck', 'O'), ('this', 'O'), ('so', 'O'), ('much', 'O'), ('.', 'O')], [('at', 'O'), ('least', 'O'), ('it', 'O'), (\"'\", 'O'), ('s', 'O'), ('not', 'O'), ('lamictal', 'B-Drug'), (',', 'O'), ('i', 'O'), (\"'\", 'O'), ('d', 'O'), ('literally', 'O'), ('be', 'O'), ('in', 'O'), ('danger', 'O'), ('of', 'O'), ('dying', 'O'), ('.', 'O'), ('just', 'O'), ('taking', 'O'), ('a', 'O'), ('day', 'O'), ('late', 'O'), ('make', 'O'), ('you', 'O'), ('at', 'O'), ('risk', 'O'), ('for', 'O'), ('seizures', 'B-Symptom'), ('.', 'O')], [('I', 'O'), ('just', 'O'), ('took', 'O'), ('2', 'O'), ('Trazodone', 'B-Drug'), ('.', 'O'), ('.', 'O'), ('.', 'O'), ('I', 'O'), (\"'\", 'O'), ('m', 'O'), ('about', 'O'), ('to', 'O'), ('be', 'O'), ('so', 'O'), ('knockeddddddd', 'B-Symptom'), ('😴', 'O'), ('😴', 'O')], [('does', 'O'), ('anyone', 'O'), ('have', 'O'), ('EXTREME', 'O'), ('exhaustion', 'B-Symptom'), ('/', 'O'), ('tiredness', 'B-Symptom'), ('/', 'O'), ('sleepiness', 'B-Symptom'), ('issues', 'O'), ('on', 'O'), ('venlafaxine', 'B-Drug'), ('because', 'O'), ('jesus', 'O'), ('christ', 'O'), ('I', 'O'), (\"'\", 'O'), ('m', 'O'), ('on', 'O'), ('225', 'O'), ('mg', 'O'), ('and', 'O'), ('it', 'O'), (\"'\", 'O'), ('s', 'O'), ('super', 'O'), ('bad', 'O')], [('Watching', 'O'), ('food', 'O'), ('network', 'O'), ('while', 'O'), ('on', 'O'), ('prednisone', 'B-Drug'), ('is', 'O'), ('making', 'B-Symptom'), ('my', 'I-Symptom'), ('stomach', 'I-Symptom'), ('literally', 'I-Symptom'), ('growl', 'I-Symptom'), ('.', 'O'), ('But', 'O'), ('I', 'O'), ('can', 'O'), (\"'\", 'O'), ('t', 'O'), ('eat', 'O'), ('half', 'O'), ('this', 'O'), ('shit', 'O'), ('👿', 'O'), ('.', 'O'), ('#', 'B-Symptom'), ('alwayshungry', 'I-Symptom')], [('Has', 'O'), ('anyone', 'O'), ('withdrew', 'O'), ('from', 'O'), ('cymbalta', 'B-Drug'), ('?', 'O'), ('I', 'O'), ('feel', 'O'), ('like', 'O'), ('my', 'O'), ('head', 'B-Symptom'), ('is', 'I-Symptom'), ('going', 'I-Symptom'), ('to', 'I-Symptom'), ('explode', 'I-Symptom')], [('Even', 'O'), ('though', 'O'), ('they', 'O'), ('are', 'O'), ('supposed', 'O'), ('to', 'O'), ('be', 'O'), ('very', 'O'), ('similar', 'O'), ('I', 'O'), ('find', 'O'), ('citalopram', 'B-Drug'), ('does', 'O'), ('nothing', 'O'), ('for', 'O'), ('anxiety', 'B-Symptom'), ('and', 'O'), ('I', 'O'), ('have', 'O'), ('had', 'O'), ('some', 'O'), ('very', 'O'), ('bad', 'O'), ('patches', 'O'), ('again', 'O'), ('.', 'O')], [('Tamoxifen', 'B-Drug'), ('and', 'O'), ('Neck', 'O'), ('&', 'O'), ('amp', 'O'), (';', 'O'), ('Shoulder', 'B-Symptom'), ('pain', 'I-Symptom'), (',', 'O'), ('and', 'O'), ('tinnitus', 'B-Symptom')], [('#', 'B-Drug'), ('Lamictal', 'I-Drug'), ('side', 'O'), ('effects', 'O'), ('anyone', 'O'), ('?', 'O'), ('Headaches', 'B-Symptom'), ('like', 'O'), ('a', 'O'), ('mofo', 'O'), ('?', 'O'), ('#', 'O'), ('moodstabilizer', 'O'), ('#', 'B-Disease'), ('bipolar', 'I-Disease'), ('#', 'O'), ('psychmeds', 'O'), ('#', 'O'), ('mentalhealth', 'O'), ('#', 'O'), ('mentalillness', 'O')], [('Officially', 'O'), ('starting', 'O'), ('a', 'O'), ('major', 'O'), ('diet', 'O'), ('to', 'O'), ('combat', 'O'), ('the', 'O'), ('inevitable', 'O'), ('prednisone', 'B-Drug'), ('weight', 'O'), ('I', 'O'), (\"'\", 'O'), ('m', 'O'), ('about', 'O'), ('to', 'O'), ('gain', 'O'), ('.', 'O')], [('Happy', 'O'), ('birthday', 'O'), ('@', 'O'), ('Ben', 'O'), ('_', 'O'), ('Withers23', 'O'), ('even', 'O'), ('though', 'O'), ('sometimes', 'O'), ('you', 'O'), ('have', 'O'), ('mental', 'O'), ('breakdowns', 'O'), ('and', 'O'), ('temper', 'B-Symptom'), ('tantrums', 'I-Symptom'), ('there', 'O'), ('will', 'O'), ('always', 'O'), ('be', 'O'), ('midol', 'O'), ('and', 'O'), ('cymbalta', 'B-Drug'), ('.', 'O'), ('🎉', 'O')], [('Bloody', 'O'), ('citalopram', 'B-Drug'), ('.', 'O'), ('Takes', 'O'), ('six', 'O'), ('weeks', 'O'), ('to', 'O'), ('start', 'O'), ('having', 'O'), ('an', 'O'), ('effect', 'O'), (',', 'O'), ('but', 'O'), ('I', 'O'), ('miss', 'O'), ('it', 'O'), ('for', 'O'), ('two', 'O'), ('days', 'O'), ('and', 'O'), ('I', 'O'), ('have', 'O'), ('an', 'O'), ('emotional', 'O'), ('breakdown', 'O'), ('.', 'O')], [('Going', 'O'), ('to', 'O'), ('be', 'O'), ('somewhat', 'O'), ('quiet', 'O'), ('for', 'O'), ('a', 'O'), ('bit', 'O'), ('.', 'O'), ('Wish', 'O'), ('me', 'O'), ('luck', 'O'), ('.', 'O'), ('Paxil', 'B-Drug'), ('withdrawal', 'B-Symptom'), ('is', 'O'), ('hitting', 'B-Symptom'), ('me', 'I-Symptom'), ('like', 'I-Symptom'), ('a', 'I-Symptom'), ('severe', 'I-Symptom'), ('flu', 'I-Symptom'), ('.', 'O')], [('Flicking', 'O'), ('the', 'O'), ('net', 'O'), ('and', 'O'), ('chillin', 'O'), ('.', 'O'), ('Took', 'O'), ('some', 'O'), ('olanzapine', 'B-Drug'), ('for', 'O'), ('the', 'O'), ('first', 'O'), ('time', 'O'), ('in', 'O'), ('a', 'O'), ('few', 'O'), ('weeks', 'O'), (';', 'O'), ('it', 'O'), ('seems', 'O'), ('to', 'O'), ('have', 'O'), ('calmed', 'B-Symptom'), ('me', 'O'), ('down', 'O'), ('.', 'O')], [('So', 'O'), ('my', 'O'), ('doctor', 'O'), ('proscribed', 'O'), ('me', 'O'), ('prozac', 'B-Drug'), ('but', 'O'), ('the', 'O'), ('shit', 'O'), ('will', 'O'), ('give', 'O'), ('you', 'O'), ('erectile', 'B-Symptom'), ('dysfunction', 'I-Symptom'), ('so', 'O'), ('ima', 'O'), ('need', 'O'), ('some', 'O'), ('blue', 'O'), ('pills', 'O'), ('for', 'O'), ('that', 'O'), ('and', 'O'), ('some', 'O'), ('heart', 'O'), ('meds', 'O')], [('Such', 'O'), ('awful', 'O'), ('night', 'B-Symptom'), ('sweats', 'I-Symptom'), ('.', 'O'), ('I', 'O'), ('have', 'O'), ('awoken', 'O'), ('in', 'O'), ('a', 'O'), ('warm', 'O'), ('and', 'O'), ('damp', 'O'), ('rut', 'O'), (',', 'O'), ('my', 'O'), ('quilt', 'O'), ('clinging', 'O'), ('to', 'O'), ('my', 'O'), ('skin', 'O'), ('.', 'O'), ('THANKS', 'O'), ('CITALOPRAM', 'B-Drug'), ('.', 'O')], [('Brains', 'O'), ('.', 'O'), ('.', 'O'), ('.', 'O'), ('.', 'O'), ('BRAAAAAINS', 'O'), ('.', 'O'), ('Sleep', 'B-Symptom'), ('.', 'O'), ('.', 'O'), ('.', 'O'), ('and', 'O'), ('BRAAAAAINS', 'O'), ('!', 'O'), ('!', 'O'), ('!', 'O'), ('#', 'B-Symptom'), ('zombie', 'I-Symptom'), ('#', 'O'), ('bigcockproblems', 'O'), ('#', 'O'), ('brains', 'O'), ('#', 'O'), ('frontalnourishment', 'O'), ('#', 'B-Drug'), ('prozac', 'I-Drug'), ('#', 'B-Symptom'), ('sleep', 'I-Symptom'), ('#', 'B-Symptom'), ('insomnia', 'I-Symptom')], [('Do', 'O'), ('you', 'O'), ('know', 'O'), ('that', 'O'), ('an', 'O'), ('interaction', 'O'), ('between', 'O'), ('Septrin', 'O'), ('and', 'O'), ('some', 'O'), ('blood', 'O'), ('pressure', 'O'), ('drugs', 'O'), ('like', 'O'), ('Lisinopril', 'B-Drug'), ('can', 'O'), ('trigger', 'O'), ('a', 'O'), ('deadly', 'B-Symptom'), ('heart', 'I-Symptom'), ('rhythm', 'I-Symptom'), ('?', 'O'), ('#', 'O'), ('RxLive', 'O')], [('Using', 'O'), ('Septrin', 'O'), ('+', 'O'), ('Lisinopril', 'B-Drug'), ('can', 'O'), ('lead', 'O'), ('to', 'O'), ('dangerously', 'O'), ('high', 'O'), ('levels', 'O'), ('of', 'O'), ('potassium', 'O'), ('(', 'O'), ('hyperkalemia', 'B-Symptom'), (')', 'O'), ('which', 'O'), ('has', 'O'), ('fatal', 'O'), ('consequences', 'O'), ('#', 'O'), ('RxLive', 'O')], [('@', 'O'), ('_', 'O'), ('SallyParker', 'O'), ('Suggest', 'O'), ('continuing', 'O'), ('taking', 'O'), ('the', 'O'), ('Kratom', 'O'), ('and', 'O'), ('maybe', 'O'), ('even', 'O'), ('add', 'O'), ('an', 'O'), ('anti', 'O'), ('-', 'O'), ('depressant', 'O'), ('like', 'O'), ('Sertraline', 'B-Drug'), ('(', 'O'), ('zoloft', 'B-Drug'), (')', 'O'), ('to', 'O'), ('help', 'O'), ('with', 'O'), ('the', 'O'), ('depresson', 'O')], [('DID', 'O'), ('U', 'O'), ('KNOW', 'O'), (':', 'O'), ('five', 'O'), ('minutes', 'O'), ('of', 'O'), ('Radiohead', 'O'), ('can', 'O'), ('immediately', 'O'), ('nullify', 'O'), ('2', 'O'), ('weeks', 'O'), ('of', 'O'), ('effexor', 'B-Drug'), ('?', 'O'), ('#', 'B-Symptom'), ('SAD', 'I-Symptom'), ('#', 'O'), ('pnw', 'O'), ('#', 'O'), ('grey', 'O'), ('#', 'O'), ('roughoutthere', 'O'), ('#', 'O'), ('depressionisreal', 'O')], [('This', 'O'), ('game', 'O'), ('is', 'O'), ('literally', 'O'), ('bad', 'O'), ('for', 'O'), ('my', 'O'), ('blood', 'B-Symptom'), ('pressure', 'I-Symptom'), ('.', 'O'), ('#', 'B-Drug'), ('lisinopril', 'I-Drug'), ('#', 'O'), ('wps', 'O')], [('(', 'O'), ('Citalopram', 'B-Drug'), (')', 'O'), ('.', 'O'), ('.', 'O'), ('.', 'O'), ('tiredness', 'B-Symptom'), (',', 'O'), ('sleep', 'O'), ('changes', 'O'), (',', 'O'), ('and', 'O'), ('brief', 'B-Symptom'), ('feelings', 'I-Symptom'), ('similar', 'I-Symptom'), ('to', 'I-Symptom'), ('electric', 'I-Symptom'), ('shock', 'I-Symptom'), ('.', 'O'), ('\"', 'O'), ('Wow', 'O'), (',', 'O'), ('really', 'O'), ('?', 'O'), ('Jeeez', 'O')], [('Someone', 'O'), ('give', 'O'), ('the', 'O'), ('lady', 'O'), ('having', 'O'), ('a', 'O'), ('seizure', 'B-Symptom'), ('on', 'O'), ('@', 'O'), ('NBCSNL', 'O'), ('some', 'O'), ('Carbamazepine', 'B-Drug'), ('.', 'O')], [('Just', 'O'), ('realized', 'O'), ('I', 'O'), ('haven', 'O'), (\"'\", 'O'), ('t', 'O'), ('gotten', 'O'), ('a', 'O'), ('heart', 'B-Symptom'), ('burn', 'I-Symptom'), ('since', 'O'), ('I', 'O'), ('started', 'O'), ('the', 'O'), ('suboxone', 'B-Drug'), ('.', 'O'), ('That', 'O'), (\"'\", 'O'), ('s', 'O'), ('freaking', 'O'), ('cool', 'O'), ('!', 'O'), ('!', 'O'), ('Before', 'O'), ('I', 'O'), ('would', 'O'), ('have', 'O'), ('t', 'O'), ('every', 'O'), ('day', 'O'), ('.', 'O')], [('I', 'O'), (\"'\", 'O'), ('m', 'O'), ('expecting', 'O'), ('some', 'O'), ('insomnia', 'B-Symptom'), ('and', 'O'), ('nausea', 'B-Symptom'), ('but', 'O'), ('don', 'O'), (\"'\", 'O'), ('t', 'O'), ('know', 'O'), ('what', 'O'), ('to', 'O'), ('expect', 'O'), ('after', 'O'), ('that', 'O'), ('#', 'B-Drug'), ('olanzapine', 'I-Drug')], [('I', 'O'), ('take', 'O'), ('cymbalta', 'B-Drug'), ('for', 'O'), ('my', 'O'), ('depression', 'B-Disease'), ('to', 'O'), ('go', 'O'), ('away', 'O'), ('but', 'O'), ('it', 'O'), (\"'\", 'O'), ('s', 'O'), ('to', 'O'), ('help', 'O'), ('me', 'O'), ('get', 'O'), ('over', 'O'), ('not', 'O'), ('to', 'O'), ('go', 'O'), ('to', 'O'), ('the', 'O'), ('hospital', 'O'), ('again', 'O'), ('please', 'O'), ('pray', 'O'), ('for', 'O'), ('my', 'O'), ('pills', 'O'), ('taking', 'O')], [('This', 'O'), ('prednisone', 'B-Drug'), ('is', 'O'), ('wreaking', 'O'), ('havoc', 'O'), ('on', 'O'), ('my', 'O'), ('skin', 'B-Symptom'), ('and', 'O'), ('doing', 'O'), ('nothing', 'O'), ('for', 'O'), ('the', 'O'), ('#', 'O'), ('migraine', 'O'), ('💊', 'O')], [('Friend', 'O'), ('has', 'O'), ('neurotoxic', 'O'), ('reaction', 'O'), ('to', 'O'), ('#', 'B-Drug'), ('Celexa', 'I-Drug'), ('and', 'O'), ('what', 'O'), ('does', 'O'), ('the', 'O'), ('doctor', 'O'), ('do', 'O'), ('?', 'O'), ('Tell', 'O'), ('her', 'O'), ('to', 'O'), ('get', 'O'), ('off', 'O'), ('?', 'O'), ('No', 'O'), ('Prescribes', 'O'), ('her', 'O'), ('#', 'O'), ('Welbutrin', 'O'), ('Brilliant', 'O')], [('Olanzapine', 'B-Drug'), ('withdrawal', 'B-Symptom'), ('night', 'O'), ('one', 'O'), (':', 'O'), ('cannot', 'O'), ('sleep', 'B-Symptom'), ('.', 'O')], [('tramadol', 'O'), (',', 'O'), ('Flunatrizepam', 'O'), (',', 'O'), ('Zyprexa', 'B-Drug'), ('immuman', 'O'), (',', 'O'), ('panadol', 'O'), ('for', 'O'), ('migraine', 'O'), ('and', 'O'), ('sleep', 'B-Symptom'), ('and', 'O'), ('still', 'O'), ('slept', 'O'), ('for', 'O'), ('only', 'O'), ('23', 'O'), ('minutes', 'O'), ('and', 'O'), ('still', 'O'), ('head', 'O'), ('is', 'O'), ('bursting', 'O'), ('of', 'O'), ('pain', 'O')], [('Did', 'O'), ('you', 'O'), ('take', 'O'), ('cipro', 'O'), (',', 'O'), ('levaquin', 'B-Drug'), (',', 'O'), ('or', 'O'), ('avelox', 'B-Drug'), ('and', 'O'), ('now', 'O'), ('you', 'O'), ('have', 'O'), ('multi', 'O'), ('systemic', 'O'), ('illnesses', 'O'), ('.', 'O'), ('Tendons', 'B-Symptom'), (',', 'O'), ('migraines', 'O'), (',', 'O'), ('joint', 'B-Symptom'), ('pain', 'I-Symptom')], [('what', 'O'), ('would', 'O'), ('happen', 'O'), ('if', 'O'), ('i', 'O'), ('took', 'O'), ('2', 'O'), ('25mgs', 'O'), ('and', 'O'), ('1', 'O'), ('50', 'O'), ('mg', 'O'), ('?', 'O'), ('?', 'O'), ('?', 'O'), ('/', 'O'), ('/', 'O'), ('?', 'O'), ('its', 'O'), ('a', 'O'), ('sleeping', 'B-Symptom'), ('pill', 'O'), ('.', 'O'), ('seroquel', 'B-Drug'), ('?', 'O')], [('Dr', 'O'), ('Val', 'O'), ('Stephenson', 'O'), (\"'\", 'O'), ('s', 'O'), ('list', 'O'), ('to', 'O'), ('TRY', 'O'), ('for', 'O'), ('tremor', 'B-Symptom'), ('in', 'O'), ('#', 'O'), ('MS', 'O'), (':', 'O'), ('Carbamazepine', 'B-Drug'), (',', 'O'), ('primidone', 'O'), (',', 'O'), ('gabapentin', 'O'), (',', 'O'), ('topiramate', 'B-Drug'), (',', 'O'), ('clonazepam', 'O'), ('@', 'O'), ('mstconf', 'O')], [('Make', 'O'), ('sure', 'O'), ('your', 'O'), ('doctor', 'O'), ('isn', 'O'), (\"'\", 'O'), ('t', 'O'), ('prescribing', 'O'), ('a', 'O'), ('fluoroquinolone', 'O'), ('antibiotic', 'O'), ('for', 'O'), ('a', 'O'), ('minor', 'O'), ('infection', 'O'), ('.', 'O'), ('Brands', 'O'), (':', 'O'), ('Cipro', 'O'), (',', 'O'), ('Avelox', 'B-Drug'), (',', 'O'), ('Levaquin', 'B-Drug'), (',', 'O'), ('&', 'O'), ('amp', 'O'), (';', 'O'), ('many', 'O'), ('more', 'O')], [('Started', 'O'), ('steroids', 'O'), ('yesterday', 'O'), ('.', 'O'), ('Remembered', 'O'), ('at', 'O'), ('1am', 'O'), ('this', 'O'), ('morning', 'O'), ('that', 'O'), ('little', 'O'), ('thing', 'O'), ('called', 'O'), ('PREDNISONE', 'B-Drug'), ('INSOMNIA', 'B-Symptom'), ('.', 'O'), ('*', 'O'), ('dies', 'O'), ('*', 'O'), ('#', 'B-Disease'), ('cysticfibrosis', 'I-Disease')], [('1', 'O'), ('.', 'O'), ('#', 'O'), ('learntsomethingnewtoday', 'O'), ('.', 'O'), ('use', 'O'), ('venlafaxine', 'B-Drug'), ('instead', 'O'), ('of', 'O'), ('fluoxetine', 'B-Drug'), ('when', 'O'), ('on', 'O'), ('tamoxifen', 'B-Drug'), ('to', 'O'), ('reduce', 'O'), ('hot', 'B-Symptom'), ('flushes', 'I-Symptom'), ('.', 'O'), ('.', 'O')], [('olanzapine', 'B-Drug'), ('withdrawal', 'B-Symptom'), ('day', 'O'), ('2', 'O'), (':', 'O'), ('crying', 'B-Symptom'), ('spells', 'I-Symptom'), ('.', 'O')], [('Losing', 'B-Symptom'), ('weight', 'I-Symptom'), ('never', 'O'), ('used', 'O'), ('to', 'O'), ('be', 'O'), ('this', 'O'), ('easy', 'O'), ('wow', 'O'), ('thank', 'O'), ('god', 'O'), ('I', 'O'), ('was', 'O'), ('prescribed', 'O'), ('topamax', 'B-Drug')], [('Some', 'O'), ('common', 'O'), ('antidepressants', 'O'), ('taken', 'O'), ('by', 'O'), ('people', 'O'), ('who', 'O'), ('suffer', 'O'), ('from', 'O'), ('generalized', 'O'), ('anxiety', 'O'), ('disorder', 'O'), ('r', 'O'), ('Prozac', 'B-Drug'), (',', 'O'), ('Zoloft', 'B-Drug'), (',', 'O'), ('Paxil', 'B-Drug'), (',', 'O'), ('Lexapro', 'O'), (',', 'O'), ('and', 'O'), ('Celexa', 'B-Drug'), ('#', 'O'), ('SSRI', 'O')], [('theres', 'O'), ('a', 'O'), ('bump', 'B-Symptom'), ('on', 'I-Symptom'), ('my', 'I-Symptom'), ('chest', 'I-Symptom'), ('&', 'O'), ('amp', 'O'), (';', 'O'), ('i', 'O'), ('cant', 'O'), ('tell', 'O'), ('if', 'O'), ('its', 'O'), ('just', 'O'), ('like', 'O'), ('a', 'O'), ('blister', 'O'), ('bc', 'O'), ('i', 'O'), ('havent', 'O'), ('showered', 'O'), ('or', 'O'), ('if', 'O'), ('its', 'O'), ('the', 'O'), ('start', 'O'), ('of', 'O'), ('a', 'O'), ('rash', 'B-Symptom'), ('from', 'O'), ('this', 'O'), ('lamictal', 'B-Drug')], [('FDA', 'O'), ('Approves', 'O'), ('ADHD', 'B-Disease'), ('Drug', 'O'), ('Vyvanse', 'B-Drug'), ('to', 'O'), ('Treat', 'O'), ('Binge', 'O'), ('-', 'O'), ('Eating', 'O'), ('Disorder', 'O'), ('.', 'O'), ('.', 'O'), ('.', 'O')], [('Slowly', 'O'), ('coming', 'O'), ('off', 'O'), ('duloxetine', 'B-Drug'), ('and', 'O'), ('woke', 'O'), ('up', 'O'), ('wife', 'O'), ('last', 'O'), ('night', 'O'), ('cos', 'O'), ('of', 'O'), ('terrible', 'O'), ('nightmares', 'B-Symptom'), ('.', 'O'), ('This', 'O'), ('fucking', 'O'), ('drug', 'O'), ('can', 'O'), ('be', 'O'), ('awful', 'O'), ('😩', 'O'), ('😢', 'O'), ('😩', 'O'), ('😢', 'O')], [('#', 'B-Drug'), ('Ritalin', 'I-Drug'), ('-', 'O'), ('out', 'O'), ('of', 'O'), ('control', 'O'), ('in', 'O'), ('the', 'O'), ('hands', 'O'), ('of', 'O'), ('teens', 'O'), ('.', 'O'), ('For', 'O'), ('all', 'O'), ('#', 'O'), ('parents', 'O'), ('-', 'O'), ('something', 'O'), ('needs', 'O'), ('to', 'O'), ('be', 'O'), ('done', 'O'), ('about', 'O'), ('it', 'O'), ('.', 'O'), ('There', 'O'), ('are', 'O'), ('#', 'B-Disease'), ('ADHD', 'I-Disease'), ('children', 'O'), ('whose', 'O'), ('.', 'O'), ('.', 'O'), ('.', 'O')], [('do', 'O'), ('you', 'O'), ('think', 'O'), ('if', 'O'), ('I', 'O'), ('take', 'O'), ('my', 'O'), ('whole', 'O'), ('bottle', 'O'), ('of', 'O'), ('Effexor', 'B-Drug'), ('it', 'O'), ('might', 'O'), ('actually', 'O'), ('do', 'O'), ('something', 'O'), ('about', 'O'), ('my', 'O'), ('anxiety', 'B-Symptom'), ('lmao', 'O')], [('I', 'O'), ('hate', 'O'), ('when', 'O'), ('I', 'O'), ('make', 'O'), ('breakfast', 'O'), ('and', 'O'), ('then', 'O'), ('my', 'O'), ('Ritalin', 'B-Drug'), ('doesn', 'O'), (\"'\", 'O'), ('t', 'O'), ('let', 'O'), ('me', 'O'), ('eat', 'B-Symptom'), ('.', 'O'), ('Hmph', 'O'), ('.', 'O')]]\n"
          ]
        }
      ],
      "source": [
        "print(sentences_twitter)"
      ]
    },
    {
      "cell_type": "code",
      "execution_count": null,
      "metadata": {
        "colab": {
          "base_uri": "https://localhost:8080/"
        },
        "id": "ZvREf8HvAW6L",
        "outputId": "d7dba920-6f14-49b3-82d8-039ba9520b90"
      },
      "outputs": [
        {
          "output_type": "stream",
          "name": "stdout",
          "text": [
            "Collecting sklearn-crfsuite\n",
            "  Downloading sklearn_crfsuite-0.3.6-py2.py3-none-any.whl (12 kB)\n",
            "Requirement already satisfied: tqdm>=2.0 in /usr/local/lib/python3.7/dist-packages (from sklearn-crfsuite) (4.63.0)\n",
            "Requirement already satisfied: tabulate in /usr/local/lib/python3.7/dist-packages (from sklearn-crfsuite) (0.8.9)\n",
            "Requirement already satisfied: six in /usr/local/lib/python3.7/dist-packages (from sklearn-crfsuite) (1.15.0)\n",
            "Collecting python-crfsuite>=0.8.3\n",
            "  Downloading python_crfsuite-0.9.8-cp37-cp37m-manylinux_2_17_x86_64.manylinux2014_x86_64.whl (965 kB)\n",
            "\u001b[K     |████████████████████████████████| 965 kB 5.1 MB/s \n",
            "\u001b[?25hInstalling collected packages: python-crfsuite, sklearn-crfsuite\n",
            "Successfully installed python-crfsuite-0.9.8 sklearn-crfsuite-0.3.6\n"
          ]
        }
      ],
      "source": [
        "!pip install sklearn-crfsuite"
      ]
    },
    {
      "cell_type": "code",
      "execution_count": null,
      "metadata": {
        "colab": {
          "base_uri": "https://localhost:8080/"
        },
        "id": "P8sU9NJuOn8_",
        "outputId": "b9cf84b8-fbdb-44c4-b864-762892b88540"
      },
      "outputs": [
        {
          "output_type": "stream",
          "name": "stdout",
          "text": [
            "WARNING:tensorflow:From /usr/local/lib/python3.7/dist-packages/keras/backend/tensorflow_backend.py:74: The name tf.get_default_graph is deprecated. Please use tf.compat.v1.get_default_graph instead.\n",
            "\n",
            "WARNING:tensorflow:From /usr/local/lib/python3.7/dist-packages/keras/backend/tensorflow_backend.py:517: The name tf.placeholder is deprecated. Please use tf.compat.v1.placeholder instead.\n",
            "\n",
            "Tensor(\"input_1:0\", shape=(?, 60), dtype=float32)\n",
            "WARNING:tensorflow:From /usr/local/lib/python3.7/dist-packages/keras/backend/tensorflow_backend.py:4138: The name tf.random_uniform is deprecated. Please use tf.random.uniform instead.\n",
            "\n",
            "WARNING:tensorflow:From /usr/local/lib/python3.7/dist-packages/keras/backend/tensorflow_backend.py:133: The name tf.placeholder_with_default is deprecated. Please use tf.compat.v1.placeholder_with_default instead.\n",
            "\n",
            "WARNING:tensorflow:From /usr/local/lib/python3.7/dist-packages/keras/backend/tensorflow_backend.py:3445: calling dropout (from tensorflow.python.ops.nn_ops) with keep_prob is deprecated and will be removed in a future version.\n",
            "Instructions for updating:\n",
            "Please use `rate` instead of `keep_prob`. Rate should be set to `rate = 1 - keep_prob`.\n",
            "WARNING:tensorflow:From /usr/local/lib/python3.7/dist-packages/keras/backend/tensorflow_backend.py:2974: where (from tensorflow.python.ops.array_ops) is deprecated and will be removed in a future version.\n",
            "Instructions for updating:\n",
            "Use tf.where in 2.0, which has the same broadcast rule as np.where\n",
            "WARNING:tensorflow:From /usr/local/lib/python3.7/dist-packages/keras/optimizers.py:790: The name tf.train.Optimizer is deprecated. Please use tf.compat.v1.train.Optimizer instead.\n",
            "\n"
          ]
        },
        {
          "output_type": "stream",
          "name": "stderr",
          "text": [
            "/usr/local/lib/python3.7/dist-packages/keras_contrib/layers/crf.py:346: UserWarning: CRF.loss_function is deprecated and it might be removed in the future. Please use losses.crf_loss instead.\n",
            "  warnings.warn('CRF.loss_function is deprecated '\n",
            "/usr/local/lib/python3.7/dist-packages/keras_contrib/layers/crf.py:353: UserWarning: CRF.accuracy is deprecated and it might be removed in the future. Please use metrics.crf_accuracy\n",
            "  warnings.warn('CRF.accuracy is deprecated and it '\n"
          ]
        },
        {
          "output_type": "stream",
          "name": "stdout",
          "text": [
            "_________________________________________________________________\n",
            "Layer (type)                 Output Shape              Param #   \n",
            "=================================================================\n",
            "input_1 (InputLayer)         (None, 60)                0         \n",
            "_________________________________________________________________\n",
            "embedding_1 (Embedding)      (None, 60, 200)           1823000   \n",
            "_________________________________________________________________\n",
            "bidirectional_1 (Bidirection (None, 60, 100)           100400    \n",
            "_________________________________________________________________\n",
            "time_distributed_1 (TimeDist (None, 60, 50)            5050      \n",
            "_________________________________________________________________\n",
            "crf_1 (CRF)                  (None, 60, 12)            780       \n",
            "=================================================================\n",
            "Total params: 1,929,230\n",
            "Trainable params: 1,929,230\n",
            "Non-trainable params: 0\n",
            "_________________________________________________________________\n"
          ]
        }
      ],
      "source": [
        "\n",
        "from keras.layers import LSTM, Embedding, Dense, TimeDistributed, Dropout, Bidirectional\n",
        "from keras_contrib.layers import CRF\n",
        "from keras.callbacks import ModelCheckpoint\n",
        "\n",
        "# Model definition\n",
        "input = Input(shape=(MAX_LEN,))\n",
        "print(input)\n",
        "input\n",
        "model = Embedding(input_dim=n_words+2, output_dim=EMBEDDING, # n_words + 2 (PAD & UNK)\n",
        "                  input_length=MAX_LEN, mask_zero=True)(input) \n",
        "model = Bidirectional(LSTM(units=50, return_sequences=True,\n",
        "                           recurrent_dropout=0.1))(model)  # variational biLST\n",
        "model = TimeDistributed(Dense(50, activation=\"relu\"))(model)  # a dense layer as suggested by neuralNer\n",
        "crf = CRF(n_tags+1)  # CRF layer, n_tags+1(PAD)\n",
        "out = crf(model)  # output\n",
        "filepath=\"weights.best.hdf5\"\n",
        "checkpoint = ModelCheckpoint(filepath, monitor='val_accuracy', verbose=1, save_best_only=True, mode='max')\n",
        "callbacks_list = [checkpoint]\n",
        "\n",
        "model = Model(input, out)\n",
        "model.compile(optimizer=\"rmsprop\", loss=crf.loss_function, metrics=[crf.accuracy])\n",
        "\n",
        "model.summary()"
      ]
    },
    {
      "cell_type": "code",
      "execution_count": null,
      "metadata": {
        "colab": {
          "base_uri": "https://localhost:8080/",
          "height": 1000
        },
        "id": "kPRyx0xg-bMd",
        "outputId": "291c5488-2f73-48c9-8467-a0ac3628c37c"
      },
      "outputs": [
        {
          "output_type": "stream",
          "name": "stdout",
          "text": [
            "WARNING:tensorflow:From /usr/local/lib/python3.7/dist-packages/keras/backend/tensorflow_backend.py:986: The name tf.assign_add is deprecated. Please use tf.compat.v1.assign_add instead.\n",
            "\n",
            "WARNING:tensorflow:From /usr/local/lib/python3.7/dist-packages/keras/backend/tensorflow_backend.py:973: The name tf.assign is deprecated. Please use tf.compat.v1.assign instead.\n",
            "\n",
            "WARNING:tensorflow:From /usr/local/lib/python3.7/dist-packages/keras/backend/tensorflow_backend.py:2741: The name tf.Session is deprecated. Please use tf.compat.v1.Session instead.\n",
            "\n",
            "Epoch 1/400\n",
            "WARNING:tensorflow:From /usr/local/lib/python3.7/dist-packages/keras/backend/tensorflow_backend.py:174: The name tf.get_default_session is deprecated. Please use tf.compat.v1.get_default_session instead.\n",
            "\n",
            "WARNING:tensorflow:From /usr/local/lib/python3.7/dist-packages/keras/backend/tensorflow_backend.py:181: The name tf.ConfigProto is deprecated. Please use tf.compat.v1.ConfigProto instead.\n",
            "\n",
            "WARNING:tensorflow:From /usr/local/lib/python3.7/dist-packages/keras/backend/tensorflow_backend.py:190: The name tf.global_variables is deprecated. Please use tf.compat.v1.global_variables instead.\n",
            "\n",
            "WARNING:tensorflow:From /usr/local/lib/python3.7/dist-packages/keras/backend/tensorflow_backend.py:199: The name tf.is_variable_initialized is deprecated. Please use tf.compat.v1.is_variable_initialized instead.\n",
            "\n",
            "WARNING:tensorflow:From /usr/local/lib/python3.7/dist-packages/keras/backend/tensorflow_backend.py:206: The name tf.variables_initializer is deprecated. Please use tf.compat.v1.variables_initializer instead.\n",
            "\n",
            " - 38s - loss: 13.8302 - crf_viterbi_accuracy: 0.6177\n",
            "Epoch 2/400\n"
          ]
        },
        {
          "output_type": "stream",
          "name": "stderr",
          "text": [
            "/usr/local/lib/python3.7/dist-packages/keras/callbacks.py:434: RuntimeWarning: Can save best model only with val_accuracy available, skipping.\n",
            "  'skipping.' % (self.monitor), RuntimeWarning)\n"
          ]
        },
        {
          "output_type": "stream",
          "name": "stdout",
          "text": [
            " - 24s - loss: 12.9712 - crf_viterbi_accuracy: 0.8344\n",
            "Epoch 3/400\n",
            " - 19s - loss: 12.8089 - crf_viterbi_accuracy: 0.8439\n",
            "Epoch 4/400\n",
            " - 19s - loss: 12.7105 - crf_viterbi_accuracy: 0.8649\n",
            "Epoch 5/400\n",
            " - 19s - loss: 12.6469 - crf_viterbi_accuracy: 0.8745\n",
            "Epoch 6/400\n",
            " - 20s - loss: 12.6012 - crf_viterbi_accuracy: 0.8872\n",
            "Epoch 7/400\n",
            " - 19s - loss: 12.5669 - crf_viterbi_accuracy: 0.8973\n",
            "Epoch 8/400\n",
            " - 20s - loss: 12.5356 - crf_viterbi_accuracy: 0.9073\n",
            "Epoch 9/400\n",
            " - 19s - loss: 12.5154 - crf_viterbi_accuracy: 0.9130\n",
            "Epoch 10/400\n",
            " - 19s - loss: 12.4954 - crf_viterbi_accuracy: 0.9182\n",
            "Epoch 11/400\n",
            " - 19s - loss: 12.4826 - crf_viterbi_accuracy: 0.9210\n",
            "Epoch 12/400\n",
            " - 19s - loss: 12.4679 - crf_viterbi_accuracy: 0.9243\n",
            "Epoch 13/400\n",
            " - 19s - loss: 12.4566 - crf_viterbi_accuracy: 0.9276\n",
            "Epoch 14/400\n",
            " - 19s - loss: 12.4428 - crf_viterbi_accuracy: 0.9313\n",
            "Epoch 15/400\n",
            " - 19s - loss: 12.4359 - crf_viterbi_accuracy: 0.9319\n",
            "Epoch 16/400\n",
            " - 19s - loss: 12.4258 - crf_viterbi_accuracy: 0.9358\n",
            "Epoch 17/400\n",
            " - 19s - loss: 12.4177 - crf_viterbi_accuracy: 0.9367\n",
            "Epoch 18/400\n",
            " - 19s - loss: 12.4087 - crf_viterbi_accuracy: 0.9400\n",
            "Epoch 19/400\n",
            " - 19s - loss: 12.3994 - crf_viterbi_accuracy: 0.9439\n",
            "Epoch 20/400\n",
            " - 19s - loss: 12.3916 - crf_viterbi_accuracy: 0.9454\n",
            "Epoch 21/400\n",
            " - 19s - loss: 12.3861 - crf_viterbi_accuracy: 0.9482\n",
            "Epoch 22/400\n",
            " - 19s - loss: 12.3768 - crf_viterbi_accuracy: 0.9520\n",
            "Epoch 23/400\n",
            " - 19s - loss: 12.3707 - crf_viterbi_accuracy: 0.9533\n",
            "Epoch 24/400\n",
            " - 19s - loss: 12.3661 - crf_viterbi_accuracy: 0.9544\n",
            "Epoch 25/400\n",
            " - 19s - loss: 12.3561 - crf_viterbi_accuracy: 0.9590\n",
            "Epoch 26/400\n",
            " - 19s - loss: 12.3557 - crf_viterbi_accuracy: 0.9576\n",
            "Epoch 27/400\n",
            " - 19s - loss: 12.3464 - crf_viterbi_accuracy: 0.9622\n",
            "Epoch 28/400\n",
            " - 19s - loss: 12.3438 - crf_viterbi_accuracy: 0.9637\n",
            "Epoch 29/400\n",
            " - 19s - loss: 12.3383 - crf_viterbi_accuracy: 0.9652\n",
            "Epoch 30/400\n",
            " - 19s - loss: 12.3337 - crf_viterbi_accuracy: 0.9668\n",
            "Epoch 31/400\n",
            " - 19s - loss: 12.3283 - crf_viterbi_accuracy: 0.9690\n",
            "Epoch 32/400\n",
            " - 19s - loss: 12.3265 - crf_viterbi_accuracy: 0.9701\n",
            "Epoch 33/400\n",
            " - 19s - loss: 12.3233 - crf_viterbi_accuracy: 0.9710\n",
            "Epoch 34/400\n",
            " - 19s - loss: 12.3153 - crf_viterbi_accuracy: 0.9758\n",
            "Epoch 35/400\n",
            " - 19s - loss: 12.3162 - crf_viterbi_accuracy: 0.9740\n",
            "Epoch 36/400\n",
            " - 19s - loss: 12.3161 - crf_viterbi_accuracy: 0.9741\n",
            "Epoch 37/400\n",
            " - 19s - loss: 12.3067 - crf_viterbi_accuracy: 0.9797\n",
            "Epoch 38/400\n",
            " - 19s - loss: 12.3075 - crf_viterbi_accuracy: 0.9780\n",
            "Epoch 39/400\n",
            " - 19s - loss: 12.3028 - crf_viterbi_accuracy: 0.9801\n",
            "Epoch 40/400\n",
            " - 19s - loss: 12.3030 - crf_viterbi_accuracy: 0.9799\n",
            "Epoch 41/400\n",
            " - 19s - loss: 12.3017 - crf_viterbi_accuracy: 0.9804\n",
            "Epoch 42/400\n",
            " - 19s - loss: 12.3001 - crf_viterbi_accuracy: 0.9806\n",
            "Epoch 43/400\n",
            " - 19s - loss: 12.2933 - crf_viterbi_accuracy: 0.9850\n",
            "Epoch 44/400\n",
            " - 18s - loss: 12.2957 - crf_viterbi_accuracy: 0.9829\n",
            "Epoch 45/400\n",
            " - 19s - loss: 12.2920 - crf_viterbi_accuracy: 0.9853\n",
            "Epoch 46/400\n",
            " - 19s - loss: 12.2905 - crf_viterbi_accuracy: 0.9854\n",
            "Epoch 47/400\n",
            " - 19s - loss: 12.2887 - crf_viterbi_accuracy: 0.9865\n",
            "Epoch 48/400\n",
            " - 19s - loss: 12.2879 - crf_viterbi_accuracy: 0.9864\n",
            "Epoch 49/400\n",
            " - 19s - loss: 12.2877 - crf_viterbi_accuracy: 0.9864\n",
            "Epoch 50/400\n",
            " - 19s - loss: 12.2860 - crf_viterbi_accuracy: 0.9869\n",
            "Epoch 51/400\n",
            " - 19s - loss: 12.2811 - crf_viterbi_accuracy: 0.9902\n",
            "Epoch 52/400\n",
            " - 18s - loss: 12.2835 - crf_viterbi_accuracy: 0.9883\n",
            "Epoch 53/400\n",
            " - 19s - loss: 12.2825 - crf_viterbi_accuracy: 0.9886\n",
            "Epoch 54/400\n",
            " - 19s - loss: 12.2816 - crf_viterbi_accuracy: 0.9890\n",
            "Epoch 55/400\n",
            " - 19s - loss: 12.2783 - crf_viterbi_accuracy: 0.9912\n",
            "Epoch 56/400\n",
            " - 19s - loss: 12.2784 - crf_viterbi_accuracy: 0.9909\n",
            "Epoch 57/400\n",
            " - 19s - loss: 12.2782 - crf_viterbi_accuracy: 0.9906\n",
            "Epoch 58/400\n",
            " - 19s - loss: 12.2764 - crf_viterbi_accuracy: 0.9920\n",
            "Epoch 59/400\n",
            " - 19s - loss: 12.2756 - crf_viterbi_accuracy: 0.9922\n",
            "Epoch 60/400\n",
            " - 19s - loss: 12.2736 - crf_viterbi_accuracy: 0.9933\n",
            "Epoch 61/400\n",
            " - 19s - loss: 12.2743 - crf_viterbi_accuracy: 0.9928\n",
            "Epoch 62/400\n",
            " - 19s - loss: 12.2737 - crf_viterbi_accuracy: 0.9925\n",
            "Epoch 63/400\n",
            " - 19s - loss: 12.2720 - crf_viterbi_accuracy: 0.9940\n",
            "Epoch 64/400\n",
            " - 19s - loss: 12.2719 - crf_viterbi_accuracy: 0.9938\n",
            "Epoch 65/400\n",
            " - 19s - loss: 12.2718 - crf_viterbi_accuracy: 0.9937\n",
            "Epoch 66/400\n",
            " - 19s - loss: 12.2702 - crf_viterbi_accuracy: 0.9952\n",
            "Epoch 67/400\n",
            " - 19s - loss: 12.2709 - crf_viterbi_accuracy: 0.9941\n",
            "Epoch 68/400\n",
            " - 19s - loss: 12.2711 - crf_viterbi_accuracy: 0.9941\n",
            "Epoch 69/400\n",
            " - 19s - loss: 12.2678 - crf_viterbi_accuracy: 0.9965\n",
            "Epoch 70/400\n",
            " - 19s - loss: 12.2694 - crf_viterbi_accuracy: 0.9950\n",
            "Epoch 71/400\n",
            " - 19s - loss: 12.2691 - crf_viterbi_accuracy: 0.9949\n",
            "Epoch 72/400\n",
            " - 19s - loss: 12.2686 - crf_viterbi_accuracy: 0.9954\n",
            "Epoch 73/400\n",
            " - 19s - loss: 12.2672 - crf_viterbi_accuracy: 0.9961\n",
            "Epoch 74/400\n",
            " - 19s - loss: 12.2672 - crf_viterbi_accuracy: 0.9961\n",
            "Epoch 75/400\n",
            " - 19s - loss: 12.2682 - crf_viterbi_accuracy: 0.9955\n",
            "Epoch 76/400\n",
            " - 19s - loss: 12.2659 - crf_viterbi_accuracy: 0.9972\n",
            "Epoch 77/400\n",
            " - 19s - loss: 12.2668 - crf_viterbi_accuracy: 0.9957\n",
            "Epoch 78/400\n",
            " - 19s - loss: 12.2654 - crf_viterbi_accuracy: 0.9974\n",
            "Epoch 79/400\n",
            " - 19s - loss: 12.2665 - crf_viterbi_accuracy: 0.9964\n",
            "Epoch 80/400\n",
            " - 19s - loss: 12.2657 - crf_viterbi_accuracy: 0.9968\n",
            "Epoch 81/400\n",
            " - 19s - loss: 12.2646 - crf_viterbi_accuracy: 0.9973\n",
            "Epoch 82/400\n",
            " - 19s - loss: 12.2678 - crf_viterbi_accuracy: 0.9954\n",
            "Epoch 83/400\n",
            " - 19s - loss: 12.2637 - crf_viterbi_accuracy: 0.9981\n",
            "Epoch 84/400\n",
            " - 19s - loss: 12.2633 - crf_viterbi_accuracy: 0.9985\n",
            "Epoch 85/400\n",
            " - 19s - loss: 12.2645 - crf_viterbi_accuracy: 0.9973\n",
            "Epoch 86/400\n",
            " - 19s - loss: 12.2646 - crf_viterbi_accuracy: 0.9976\n",
            "Epoch 87/400\n",
            " - 19s - loss: 12.2635 - crf_viterbi_accuracy: 0.9981\n",
            "Epoch 88/400\n",
            " - 19s - loss: 12.2635 - crf_viterbi_accuracy: 0.9977\n",
            "Epoch 89/400\n",
            " - 19s - loss: 12.2633 - crf_viterbi_accuracy: 0.9980\n",
            "Epoch 90/400\n",
            " - 19s - loss: 12.2631 - crf_viterbi_accuracy: 0.9983\n",
            "Epoch 91/400\n",
            " - 19s - loss: 12.2626 - crf_viterbi_accuracy: 0.9985\n",
            "Epoch 92/400\n",
            " - 19s - loss: 12.2639 - crf_viterbi_accuracy: 0.9974\n",
            "Epoch 93/400\n",
            " - 19s - loss: 12.2626 - crf_viterbi_accuracy: 0.9984\n",
            "Epoch 94/400\n",
            " - 18s - loss: 12.2623 - crf_viterbi_accuracy: 0.9988\n",
            "Epoch 95/400\n",
            " - 19s - loss: 12.2623 - crf_viterbi_accuracy: 0.9984\n",
            "Epoch 96/400\n",
            " - 18s - loss: 12.2632 - crf_viterbi_accuracy: 0.9979\n",
            "Epoch 97/400\n",
            " - 19s - loss: 12.2620 - crf_viterbi_accuracy: 0.9987\n",
            "Epoch 98/400\n",
            " - 19s - loss: 12.2618 - crf_viterbi_accuracy: 0.9988\n",
            "Epoch 99/400\n",
            " - 19s - loss: 12.2619 - crf_viterbi_accuracy: 0.9984\n",
            "Epoch 100/400\n",
            " - 19s - loss: 12.2617 - crf_viterbi_accuracy: 0.9988\n",
            "Epoch 101/400\n",
            " - 18s - loss: 12.2620 - crf_viterbi_accuracy: 0.9984\n",
            "Epoch 102/400\n",
            " - 18s - loss: 12.2617 - crf_viterbi_accuracy: 0.9988\n",
            "Epoch 103/400\n",
            " - 18s - loss: 12.2616 - crf_viterbi_accuracy: 0.9986\n",
            "Epoch 104/400\n",
            " - 18s - loss: 12.2612 - crf_viterbi_accuracy: 0.9991\n",
            "Epoch 105/400\n",
            " - 18s - loss: 12.2627 - crf_viterbi_accuracy: 0.9981\n",
            "Epoch 106/400\n",
            " - 18s - loss: 12.2609 - crf_viterbi_accuracy: 0.9991\n",
            "Epoch 107/400\n",
            " - 19s - loss: 12.2616 - crf_viterbi_accuracy: 0.9985\n",
            "Epoch 108/400\n",
            " - 19s - loss: 12.2607 - crf_viterbi_accuracy: 0.9993\n",
            "Epoch 109/400\n",
            " - 19s - loss: 12.2614 - crf_viterbi_accuracy: 0.9987\n",
            "Epoch 110/400\n",
            " - 19s - loss: 12.2613 - crf_viterbi_accuracy: 0.9986\n",
            "Epoch 111/400\n",
            " - 19s - loss: 12.2607 - crf_viterbi_accuracy: 0.9990\n",
            "Epoch 112/400\n",
            " - 19s - loss: 12.2607 - crf_viterbi_accuracy: 0.9991\n",
            "Epoch 113/400\n",
            " - 18s - loss: 12.2608 - crf_viterbi_accuracy: 0.9993\n",
            "Epoch 114/400\n",
            " - 19s - loss: 12.2604 - crf_viterbi_accuracy: 0.9992\n",
            "Epoch 115/400\n",
            " - 19s - loss: 12.2612 - crf_viterbi_accuracy: 0.9986\n",
            "Epoch 116/400\n",
            " - 19s - loss: 12.2606 - crf_viterbi_accuracy: 0.9993\n",
            "Epoch 117/400\n",
            " - 19s - loss: 12.2605 - crf_viterbi_accuracy: 0.9993\n",
            "Epoch 118/400\n",
            " - 18s - loss: 12.2609 - crf_viterbi_accuracy: 0.9988\n",
            "Epoch 119/400\n",
            " - 18s - loss: 12.2602 - crf_viterbi_accuracy: 0.9995\n",
            "Epoch 120/400\n",
            " - 18s - loss: 12.2605 - crf_viterbi_accuracy: 0.9990\n",
            "Epoch 121/400\n",
            " - 18s - loss: 12.2607 - crf_viterbi_accuracy: 0.9988\n",
            "Epoch 122/400\n",
            " - 19s - loss: 12.2604 - crf_viterbi_accuracy: 0.9994\n",
            "Epoch 123/400\n",
            " - 19s - loss: 12.2600 - crf_viterbi_accuracy: 0.9995\n",
            "Epoch 124/400\n",
            " - 19s - loss: 12.2603 - crf_viterbi_accuracy: 0.9991\n",
            "Epoch 125/400\n",
            " - 19s - loss: 12.2603 - crf_viterbi_accuracy: 0.9993\n",
            "Epoch 126/400\n",
            " - 18s - loss: 12.2604 - crf_viterbi_accuracy: 0.9990\n",
            "Epoch 127/400\n",
            " - 19s - loss: 12.2600 - crf_viterbi_accuracy: 0.9995\n",
            "Epoch 128/400\n",
            " - 21s - loss: 12.2603 - crf_viterbi_accuracy: 0.9991\n",
            "Epoch 129/400\n",
            " - 19s - loss: 12.2601 - crf_viterbi_accuracy: 0.9993\n",
            "Epoch 130/400\n",
            " - 19s - loss: 12.2598 - crf_viterbi_accuracy: 0.9996\n",
            "Epoch 131/400\n",
            " - 19s - loss: 12.2609 - crf_viterbi_accuracy: 0.9987\n",
            "Epoch 132/400\n",
            " - 19s - loss: 12.2599 - crf_viterbi_accuracy: 0.9993\n",
            "Epoch 133/400\n",
            " - 19s - loss: 12.2596 - crf_viterbi_accuracy: 0.9996\n",
            "Epoch 134/400\n",
            " - 19s - loss: 12.2602 - crf_viterbi_accuracy: 0.9993\n",
            "Epoch 135/400\n",
            " - 19s - loss: 12.2598 - crf_viterbi_accuracy: 0.9995\n",
            "Epoch 136/400\n",
            " - 19s - loss: 12.2600 - crf_viterbi_accuracy: 0.9995\n",
            "Epoch 137/400\n",
            " - 19s - loss: 12.2598 - crf_viterbi_accuracy: 0.9996\n",
            "Epoch 138/400\n",
            " - 19s - loss: 12.2599 - crf_viterbi_accuracy: 0.9994\n",
            "Epoch 139/400\n",
            " - 19s - loss: 12.2600 - crf_viterbi_accuracy: 0.9994\n",
            "Epoch 140/400\n",
            " - 19s - loss: 12.2597 - crf_viterbi_accuracy: 0.9995\n",
            "Epoch 141/400\n",
            " - 19s - loss: 12.2599 - crf_viterbi_accuracy: 0.9994\n",
            "Epoch 142/400\n",
            " - 19s - loss: 12.2601 - crf_viterbi_accuracy: 0.9993\n",
            "Epoch 143/400\n",
            " - 19s - loss: 12.2599 - crf_viterbi_accuracy: 0.9995\n",
            "Epoch 144/400\n",
            " - 19s - loss: 12.2596 - crf_viterbi_accuracy: 0.9995\n",
            "Epoch 145/400\n",
            " - 19s - loss: 12.2596 - crf_viterbi_accuracy: 0.9997\n",
            "Epoch 146/400\n",
            " - 19s - loss: 12.2597 - crf_viterbi_accuracy: 0.9996\n",
            "Epoch 147/400\n",
            " - 19s - loss: 12.2598 - crf_viterbi_accuracy: 0.9996\n",
            "Epoch 148/400\n",
            " - 19s - loss: 12.2600 - crf_viterbi_accuracy: 0.9995\n",
            "Epoch 149/400\n",
            " - 19s - loss: 12.2595 - crf_viterbi_accuracy: 0.9996\n",
            "Epoch 150/400\n",
            " - 19s - loss: 12.2598 - crf_viterbi_accuracy: 0.9995\n",
            "Epoch 151/400\n",
            " - 19s - loss: 12.2597 - crf_viterbi_accuracy: 0.9996\n",
            "Epoch 152/400\n",
            " - 19s - loss: 12.2597 - crf_viterbi_accuracy: 0.9995\n",
            "Epoch 153/400\n",
            " - 19s - loss: 12.2596 - crf_viterbi_accuracy: 0.9997\n",
            "Epoch 154/400\n",
            " - 19s - loss: 12.2597 - crf_viterbi_accuracy: 0.9995\n",
            "Epoch 155/400\n",
            " - 19s - loss: 12.2599 - crf_viterbi_accuracy: 0.9995\n",
            "Epoch 156/400\n",
            " - 19s - loss: 12.2596 - crf_viterbi_accuracy: 0.9996\n",
            "Epoch 157/400\n",
            " - 19s - loss: 12.2596 - crf_viterbi_accuracy: 0.9996\n",
            "Epoch 158/400\n",
            " - 19s - loss: 12.2596 - crf_viterbi_accuracy: 0.9996\n",
            "Epoch 159/400\n",
            " - 19s - loss: 12.2599 - crf_viterbi_accuracy: 0.9994\n",
            "Epoch 160/400\n",
            " - 19s - loss: 12.2593 - crf_viterbi_accuracy: 0.9997\n",
            "Epoch 161/400\n",
            " - 19s - loss: 12.2597 - crf_viterbi_accuracy: 0.9996\n",
            "Epoch 162/400\n",
            " - 19s - loss: 12.2594 - crf_viterbi_accuracy: 0.9996\n",
            "Epoch 163/400\n",
            " - 19s - loss: 12.2595 - crf_viterbi_accuracy: 0.9997\n",
            "Epoch 164/400\n",
            " - 19s - loss: 12.2595 - crf_viterbi_accuracy: 0.9996\n",
            "Epoch 165/400\n",
            " - 19s - loss: 12.2596 - crf_viterbi_accuracy: 0.9996\n",
            "Epoch 166/400\n",
            " - 19s - loss: 12.2596 - crf_viterbi_accuracy: 0.9995\n",
            "Epoch 167/400\n",
            " - 19s - loss: 12.2592 - crf_viterbi_accuracy: 0.9998\n",
            "Epoch 168/400\n",
            " - 19s - loss: 12.2599 - crf_viterbi_accuracy: 0.9994\n",
            "Epoch 169/400\n",
            " - 19s - loss: 12.2593 - crf_viterbi_accuracy: 0.9998\n",
            "Epoch 170/400\n",
            " - 19s - loss: 12.2595 - crf_viterbi_accuracy: 0.9996\n",
            "Epoch 171/400\n",
            " - 19s - loss: 12.2596 - crf_viterbi_accuracy: 0.9996\n",
            "Epoch 172/400\n",
            " - 19s - loss: 12.2594 - crf_viterbi_accuracy: 0.9997\n",
            "Epoch 173/400\n",
            " - 19s - loss: 12.2594 - crf_viterbi_accuracy: 0.9997\n",
            "Epoch 174/400\n",
            " - 19s - loss: 12.2595 - crf_viterbi_accuracy: 0.9996\n",
            "Epoch 175/400\n",
            " - 19s - loss: 12.2597 - crf_viterbi_accuracy: 0.9996\n",
            "Epoch 176/400\n",
            " - 19s - loss: 12.2595 - crf_viterbi_accuracy: 0.9996\n",
            "Epoch 177/400\n",
            " - 19s - loss: 12.2594 - crf_viterbi_accuracy: 0.9997\n",
            "Epoch 178/400\n",
            " - 19s - loss: 12.2593 - crf_viterbi_accuracy: 0.9997\n",
            "Epoch 179/400\n",
            " - 19s - loss: 12.2596 - crf_viterbi_accuracy: 0.9996\n",
            "Epoch 180/400\n",
            " - 19s - loss: 12.2595 - crf_viterbi_accuracy: 0.9997\n",
            "Epoch 181/400\n",
            " - 19s - loss: 12.2595 - crf_viterbi_accuracy: 0.9997\n",
            "Epoch 182/400\n",
            " - 19s - loss: 12.2594 - crf_viterbi_accuracy: 0.9997\n",
            "Epoch 183/400\n",
            " - 19s - loss: 12.2593 - crf_viterbi_accuracy: 0.9997\n",
            "Epoch 184/400\n",
            " - 19s - loss: 12.2595 - crf_viterbi_accuracy: 0.9996\n",
            "Epoch 185/400\n",
            " - 19s - loss: 12.2596 - crf_viterbi_accuracy: 0.9996\n",
            "Epoch 186/400\n",
            " - 19s - loss: 12.2593 - crf_viterbi_accuracy: 0.9997\n",
            "Epoch 187/400\n",
            " - 19s - loss: 12.2594 - crf_viterbi_accuracy: 0.9998\n",
            "Epoch 188/400\n",
            " - 19s - loss: 12.2595 - crf_viterbi_accuracy: 0.9996\n",
            "Epoch 189/400\n",
            " - 19s - loss: 12.2593 - crf_viterbi_accuracy: 0.9997\n",
            "Epoch 190/400\n",
            " - 19s - loss: 12.2593 - crf_viterbi_accuracy: 0.9997\n",
            "Epoch 191/400\n",
            " - 19s - loss: 12.2593 - crf_viterbi_accuracy: 0.9997\n",
            "Epoch 192/400\n",
            " - 19s - loss: 12.2593 - crf_viterbi_accuracy: 0.9998\n",
            "Epoch 193/400\n",
            " - 19s - loss: 12.2593 - crf_viterbi_accuracy: 0.9997\n",
            "Epoch 194/400\n",
            " - 19s - loss: 12.2594 - crf_viterbi_accuracy: 0.9996\n",
            "Epoch 195/400\n",
            " - 19s - loss: 12.2594 - crf_viterbi_accuracy: 0.9994\n",
            "Epoch 196/400\n",
            " - 19s - loss: 12.2596 - crf_viterbi_accuracy: 0.9997\n",
            "Epoch 197/400\n",
            " - 19s - loss: 12.2594 - crf_viterbi_accuracy: 0.9997\n",
            "Epoch 198/400\n",
            " - 19s - loss: 12.2592 - crf_viterbi_accuracy: 0.9998\n",
            "Epoch 199/400\n",
            " - 19s - loss: 12.2593 - crf_viterbi_accuracy: 0.9997\n",
            "Epoch 200/400\n",
            " - 19s - loss: 12.2592 - crf_viterbi_accuracy: 0.9997\n",
            "Epoch 201/400\n",
            " - 19s - loss: 12.2594 - crf_viterbi_accuracy: 0.9996\n",
            "Epoch 202/400\n",
            " - 19s - loss: 12.2594 - crf_viterbi_accuracy: 0.9997\n",
            "Epoch 203/400\n",
            " - 19s - loss: 12.2594 - crf_viterbi_accuracy: 0.9997\n",
            "Epoch 204/400\n",
            " - 19s - loss: 12.2593 - crf_viterbi_accuracy: 0.9997\n",
            "Epoch 205/400\n",
            " - 19s - loss: 12.2593 - crf_viterbi_accuracy: 0.9998\n",
            "Epoch 206/400\n",
            " - 18s - loss: 12.2592 - crf_viterbi_accuracy: 0.9997\n",
            "Epoch 207/400\n",
            " - 19s - loss: 12.2593 - crf_viterbi_accuracy: 0.9997\n",
            "Epoch 208/400\n",
            " - 19s - loss: 12.2593 - crf_viterbi_accuracy: 0.9996\n",
            "Epoch 209/400\n",
            " - 19s - loss: 12.2592 - crf_viterbi_accuracy: 0.9997\n",
            "Epoch 210/400\n",
            " - 19s - loss: 12.2593 - crf_viterbi_accuracy: 0.9997\n",
            "Epoch 211/400\n",
            " - 19s - loss: 12.2592 - crf_viterbi_accuracy: 0.9997\n",
            "Epoch 212/400\n",
            " - 19s - loss: 12.2593 - crf_viterbi_accuracy: 0.9997\n",
            "Epoch 213/400\n",
            " - 19s - loss: 12.2592 - crf_viterbi_accuracy: 0.9997\n",
            "Epoch 214/400\n",
            " - 19s - loss: 12.2593 - crf_viterbi_accuracy: 0.9997\n",
            "Epoch 215/400\n",
            " - 19s - loss: 12.2592 - crf_viterbi_accuracy: 0.9998\n",
            "Epoch 216/400\n",
            " - 19s - loss: 12.2592 - crf_viterbi_accuracy: 0.9997\n",
            "Epoch 217/400\n",
            " - 19s - loss: 12.2593 - crf_viterbi_accuracy: 0.9998\n",
            "Epoch 218/400\n",
            " - 19s - loss: 12.2593 - crf_viterbi_accuracy: 0.9997\n",
            "Epoch 219/400\n",
            " - 19s - loss: 12.2592 - crf_viterbi_accuracy: 0.9998\n",
            "Epoch 220/400\n",
            " - 19s - loss: 12.2592 - crf_viterbi_accuracy: 0.9997\n",
            "Epoch 221/400\n",
            " - 19s - loss: 12.2593 - crf_viterbi_accuracy: 0.9997\n",
            "Epoch 222/400\n",
            " - 19s - loss: 12.2591 - crf_viterbi_accuracy: 0.9997\n",
            "Epoch 223/400\n",
            " - 19s - loss: 12.2594 - crf_viterbi_accuracy: 0.9996\n",
            "Epoch 224/400\n",
            " - 19s - loss: 12.2593 - crf_viterbi_accuracy: 0.9997\n",
            "Epoch 225/400\n",
            " - 19s - loss: 12.2592 - crf_viterbi_accuracy: 0.9998\n",
            "Epoch 226/400\n",
            " - 19s - loss: 12.2592 - crf_viterbi_accuracy: 0.9998\n",
            "Epoch 227/400\n",
            " - 19s - loss: 12.2592 - crf_viterbi_accuracy: 0.9997\n",
            "Epoch 228/400\n",
            " - 19s - loss: 12.2591 - crf_viterbi_accuracy: 0.9997\n",
            "Epoch 229/400\n",
            " - 19s - loss: 12.2592 - crf_viterbi_accuracy: 0.9998\n",
            "Epoch 230/400\n",
            " - 19s - loss: 12.2592 - crf_viterbi_accuracy: 0.9997\n",
            "Epoch 231/400\n",
            " - 19s - loss: 12.2592 - crf_viterbi_accuracy: 0.9998\n",
            "Epoch 232/400\n",
            " - 19s - loss: 12.2592 - crf_viterbi_accuracy: 0.9998\n",
            "Epoch 233/400\n",
            " - 19s - loss: 12.2593 - crf_viterbi_accuracy: 0.9998\n",
            "Epoch 234/400\n",
            " - 19s - loss: 12.2592 - crf_viterbi_accuracy: 0.9997\n",
            "Epoch 235/400\n",
            " - 19s - loss: 12.2592 - crf_viterbi_accuracy: 0.9997\n",
            "Epoch 236/400\n",
            " - 19s - loss: 12.2593 - crf_viterbi_accuracy: 0.9997\n",
            "Epoch 237/400\n",
            " - 19s - loss: 12.2592 - crf_viterbi_accuracy: 0.9997\n",
            "Epoch 238/400\n",
            " - 19s - loss: 12.2592 - crf_viterbi_accuracy: 0.9997\n",
            "Epoch 239/400\n",
            " - 19s - loss: 12.2592 - crf_viterbi_accuracy: 0.9997\n",
            "Epoch 240/400\n",
            " - 19s - loss: 12.2592 - crf_viterbi_accuracy: 0.9996\n",
            "Epoch 241/400\n",
            " - 19s - loss: 12.2593 - crf_viterbi_accuracy: 0.9996\n",
            "Epoch 242/400\n",
            " - 19s - loss: 12.2593 - crf_viterbi_accuracy: 0.9997\n",
            "Epoch 243/400\n",
            " - 19s - loss: 12.2592 - crf_viterbi_accuracy: 0.9998\n",
            "Epoch 244/400\n",
            " - 19s - loss: 12.2591 - crf_viterbi_accuracy: 0.9998\n",
            "Epoch 245/400\n",
            " - 19s - loss: 12.2592 - crf_viterbi_accuracy: 0.9997\n",
            "Epoch 246/400\n",
            " - 19s - loss: 12.2591 - crf_viterbi_accuracy: 0.9997\n",
            "Epoch 247/400\n",
            " - 19s - loss: 12.2591 - crf_viterbi_accuracy: 0.9998\n",
            "Epoch 248/400\n",
            " - 19s - loss: 12.2593 - crf_viterbi_accuracy: 0.9997\n",
            "Epoch 249/400\n",
            " - 19s - loss: 12.2591 - crf_viterbi_accuracy: 0.9998\n",
            "Epoch 250/400\n",
            " - 19s - loss: 12.2592 - crf_viterbi_accuracy: 0.9998\n",
            "Epoch 251/400\n",
            " - 19s - loss: 12.2593 - crf_viterbi_accuracy: 0.9997\n",
            "Epoch 252/400\n",
            " - 19s - loss: 12.2592 - crf_viterbi_accuracy: 0.9996\n",
            "Epoch 253/400\n",
            " - 19s - loss: 12.2591 - crf_viterbi_accuracy: 0.9998\n",
            "Epoch 254/400\n",
            " - 19s - loss: 12.2592 - crf_viterbi_accuracy: 0.9998\n",
            "Epoch 255/400\n",
            " - 19s - loss: 12.2591 - crf_viterbi_accuracy: 0.9998\n",
            "Epoch 256/400\n",
            " - 19s - loss: 12.2592 - crf_viterbi_accuracy: 0.9997\n",
            "Epoch 257/400\n",
            " - 19s - loss: 12.2592 - crf_viterbi_accuracy: 0.9998\n",
            "Epoch 258/400\n",
            " - 19s - loss: 12.2590 - crf_viterbi_accuracy: 0.9998\n",
            "Epoch 259/400\n",
            " - 19s - loss: 12.2591 - crf_viterbi_accuracy: 0.9997\n",
            "Epoch 260/400\n",
            " - 19s - loss: 12.2591 - crf_viterbi_accuracy: 0.9997\n",
            "Epoch 261/400\n",
            " - 19s - loss: 12.2591 - crf_viterbi_accuracy: 0.9998\n",
            "Epoch 262/400\n",
            " - 19s - loss: 12.2591 - crf_viterbi_accuracy: 0.9997\n",
            "Epoch 263/400\n",
            " - 19s - loss: 12.2592 - crf_viterbi_accuracy: 0.9998\n",
            "Epoch 264/400\n",
            " - 19s - loss: 12.2591 - crf_viterbi_accuracy: 0.9998\n",
            "Epoch 265/400\n",
            " - 19s - loss: 12.2592 - crf_viterbi_accuracy: 0.9998\n",
            "Epoch 266/400\n",
            " - 19s - loss: 12.2591 - crf_viterbi_accuracy: 0.9997\n",
            "Epoch 267/400\n",
            " - 19s - loss: 12.2591 - crf_viterbi_accuracy: 0.9998\n",
            "Epoch 268/400\n",
            " - 19s - loss: 12.2592 - crf_viterbi_accuracy: 0.9998\n",
            "Epoch 269/400\n",
            " - 19s - loss: 12.2592 - crf_viterbi_accuracy: 0.9997\n",
            "Epoch 270/400\n",
            " - 19s - loss: 12.2591 - crf_viterbi_accuracy: 0.9997\n",
            "Epoch 271/400\n",
            " - 19s - loss: 12.2592 - crf_viterbi_accuracy: 0.9997\n",
            "Epoch 272/400\n",
            " - 19s - loss: 12.2591 - crf_viterbi_accuracy: 0.9997\n",
            "Epoch 273/400\n",
            " - 19s - loss: 12.2592 - crf_viterbi_accuracy: 0.9997\n",
            "Epoch 274/400\n",
            " - 19s - loss: 12.2591 - crf_viterbi_accuracy: 0.9997\n",
            "Epoch 275/400\n",
            " - 19s - loss: 12.2591 - crf_viterbi_accuracy: 0.9997\n",
            "Epoch 276/400\n",
            " - 19s - loss: 12.2590 - crf_viterbi_accuracy: 0.9998\n",
            "Epoch 277/400\n",
            " - 18s - loss: 12.2591 - crf_viterbi_accuracy: 0.9998\n",
            "Epoch 278/400\n",
            " - 18s - loss: 12.2590 - crf_viterbi_accuracy: 0.9998\n",
            "Epoch 279/400\n",
            " - 18s - loss: 12.2591 - crf_viterbi_accuracy: 0.9998\n",
            "Epoch 280/400\n",
            " - 18s - loss: 12.2591 - crf_viterbi_accuracy: 0.9997\n",
            "Epoch 281/400\n",
            " - 19s - loss: 12.2591 - crf_viterbi_accuracy: 0.9998\n",
            "Epoch 282/400\n",
            " - 19s - loss: 12.2591 - crf_viterbi_accuracy: 0.9997\n",
            "Epoch 283/400\n",
            " - 19s - loss: 12.2591 - crf_viterbi_accuracy: 0.9998\n",
            "Epoch 284/400\n",
            " - 19s - loss: 12.2592 - crf_viterbi_accuracy: 0.9998\n",
            "Epoch 285/400\n",
            " - 19s - loss: 12.2590 - crf_viterbi_accuracy: 0.9998\n",
            "Epoch 286/400\n",
            " - 19s - loss: 12.2591 - crf_viterbi_accuracy: 0.9997\n",
            "Epoch 287/400\n",
            " - 19s - loss: 12.2590 - crf_viterbi_accuracy: 0.9998\n",
            "Epoch 288/400\n",
            " - 19s - loss: 12.2590 - crf_viterbi_accuracy: 0.9998\n",
            "Epoch 289/400\n",
            " - 18s - loss: 12.2592 - crf_viterbi_accuracy: 0.9997\n",
            "Epoch 290/400\n",
            " - 19s - loss: 12.2591 - crf_viterbi_accuracy: 0.9998\n",
            "Epoch 291/400\n",
            " - 19s - loss: 12.2591 - crf_viterbi_accuracy: 0.9997\n",
            "Epoch 292/400\n",
            " - 19s - loss: 12.2591 - crf_viterbi_accuracy: 0.9997\n",
            "Epoch 293/400\n",
            " - 19s - loss: 12.2591 - crf_viterbi_accuracy: 0.9998\n",
            "Epoch 294/400\n",
            " - 19s - loss: 12.2591 - crf_viterbi_accuracy: 0.9998\n",
            "Epoch 295/400\n",
            " - 18s - loss: 12.2591 - crf_viterbi_accuracy: 0.9998\n",
            "Epoch 296/400\n",
            " - 19s - loss: 12.2591 - crf_viterbi_accuracy: 0.9998\n",
            "Epoch 297/400\n",
            " - 19s - loss: 12.2591 - crf_viterbi_accuracy: 0.9998\n",
            "Epoch 298/400\n",
            " - 19s - loss: 12.2591 - crf_viterbi_accuracy: 0.9997\n",
            "Epoch 299/400\n",
            " - 19s - loss: 12.2591 - crf_viterbi_accuracy: 0.9998\n",
            "Epoch 300/400\n",
            " - 19s - loss: 12.2591 - crf_viterbi_accuracy: 0.9998\n",
            "Epoch 301/400\n",
            " - 19s - loss: 12.2591 - crf_viterbi_accuracy: 0.9998\n",
            "Epoch 302/400\n",
            " - 19s - loss: 12.2590 - crf_viterbi_accuracy: 0.9998\n",
            "Epoch 303/400\n",
            " - 20s - loss: 12.2591 - crf_viterbi_accuracy: 0.9998\n",
            "Epoch 304/400\n",
            " - 19s - loss: 12.2591 - crf_viterbi_accuracy: 0.9997\n",
            "Epoch 305/400\n",
            " - 19s - loss: 12.2591 - crf_viterbi_accuracy: 0.9998\n",
            "Epoch 306/400\n",
            " - 19s - loss: 12.2591 - crf_viterbi_accuracy: 0.9998\n",
            "Epoch 307/400\n",
            " - 19s - loss: 12.2590 - crf_viterbi_accuracy: 0.9998\n",
            "Epoch 308/400\n",
            " - 19s - loss: 12.2590 - crf_viterbi_accuracy: 0.9998\n",
            "Epoch 309/400\n",
            " - 19s - loss: 12.2591 - crf_viterbi_accuracy: 0.9998\n",
            "Epoch 310/400\n",
            " - 19s - loss: 12.2591 - crf_viterbi_accuracy: 0.9998\n",
            "Epoch 311/400\n",
            " - 19s - loss: 12.2590 - crf_viterbi_accuracy: 0.9997\n",
            "Epoch 312/400\n",
            " - 19s - loss: 12.2591 - crf_viterbi_accuracy: 0.9997\n",
            "Epoch 313/400\n",
            " - 19s - loss: 12.2590 - crf_viterbi_accuracy: 0.9998\n",
            "Epoch 314/400\n",
            " - 19s - loss: 12.2590 - crf_viterbi_accuracy: 0.9998\n",
            "Epoch 315/400\n",
            " - 19s - loss: 12.2590 - crf_viterbi_accuracy: 0.9998\n",
            "Epoch 316/400\n",
            " - 19s - loss: 12.2590 - crf_viterbi_accuracy: 0.9998\n",
            "Epoch 317/400\n",
            " - 18s - loss: 12.2591 - crf_viterbi_accuracy: 0.9998\n",
            "Epoch 318/400\n",
            " - 18s - loss: 12.2591 - crf_viterbi_accuracy: 0.9998\n",
            "Epoch 319/400\n",
            " - 18s - loss: 12.2591 - crf_viterbi_accuracy: 0.9998\n",
            "Epoch 320/400\n",
            " - 19s - loss: 12.2591 - crf_viterbi_accuracy: 0.9997\n",
            "Epoch 321/400\n",
            " - 18s - loss: 12.2590 - crf_viterbi_accuracy: 0.9998\n",
            "Epoch 322/400\n",
            " - 19s - loss: 12.2591 - crf_viterbi_accuracy: 0.9998\n",
            "Epoch 323/400\n",
            " - 19s - loss: 12.2590 - crf_viterbi_accuracy: 0.9997\n",
            "Epoch 324/400\n",
            " - 19s - loss: 12.2590 - crf_viterbi_accuracy: 0.9998\n",
            "Epoch 325/400\n",
            " - 18s - loss: 12.2591 - crf_viterbi_accuracy: 0.9998\n",
            "Epoch 326/400\n",
            " - 19s - loss: 12.2590 - crf_viterbi_accuracy: 0.9998\n",
            "Epoch 327/400\n",
            " - 19s - loss: 12.2591 - crf_viterbi_accuracy: 0.9998\n",
            "Epoch 328/400\n",
            " - 19s - loss: 12.2590 - crf_viterbi_accuracy: 0.9998\n",
            "Epoch 329/400\n",
            " - 18s - loss: 12.2591 - crf_viterbi_accuracy: 0.9998\n",
            "Epoch 330/400\n",
            " - 18s - loss: 12.2591 - crf_viterbi_accuracy: 0.9998\n",
            "Epoch 331/400\n",
            " - 19s - loss: 12.2590 - crf_viterbi_accuracy: 0.9998\n",
            "Epoch 332/400\n",
            " - 19s - loss: 12.2590 - crf_viterbi_accuracy: 0.9998\n",
            "Epoch 333/400\n",
            " - 18s - loss: 12.2591 - crf_viterbi_accuracy: 0.9998\n",
            "Epoch 334/400\n",
            " - 19s - loss: 12.2591 - crf_viterbi_accuracy: 0.9998\n",
            "Epoch 335/400\n",
            " - 19s - loss: 12.2591 - crf_viterbi_accuracy: 0.9998\n",
            "Epoch 336/400\n",
            " - 19s - loss: 12.2590 - crf_viterbi_accuracy: 0.9997\n",
            "Epoch 337/400\n",
            " - 19s - loss: 12.2591 - crf_viterbi_accuracy: 0.9998\n",
            "Epoch 338/400\n",
            " - 19s - loss: 12.2591 - crf_viterbi_accuracy: 0.9997\n",
            "Epoch 339/400\n",
            " - 19s - loss: 12.2590 - crf_viterbi_accuracy: 0.9998\n",
            "Epoch 340/400\n",
            " - 19s - loss: 12.2590 - crf_viterbi_accuracy: 0.9997\n",
            "Epoch 341/400\n",
            " - 19s - loss: 12.2591 - crf_viterbi_accuracy: 0.9998\n",
            "Epoch 342/400\n",
            " - 19s - loss: 12.2591 - crf_viterbi_accuracy: 0.9998\n",
            "Epoch 343/400\n",
            " - 19s - loss: 12.2590 - crf_viterbi_accuracy: 0.9998\n",
            "Epoch 344/400\n",
            " - 19s - loss: 12.2590 - crf_viterbi_accuracy: 0.9998\n",
            "Epoch 345/400\n",
            " - 19s - loss: 12.2590 - crf_viterbi_accuracy: 0.9998\n",
            "Epoch 346/400\n",
            " - 19s - loss: 12.2591 - crf_viterbi_accuracy: 0.9997\n",
            "Epoch 347/400\n",
            " - 19s - loss: 12.2590 - crf_viterbi_accuracy: 0.9998\n",
            "Epoch 348/400\n",
            " - 19s - loss: 12.2591 - crf_viterbi_accuracy: 0.9998\n",
            "Epoch 349/400\n",
            " - 19s - loss: 12.2590 - crf_viterbi_accuracy: 0.9998\n",
            "Epoch 350/400\n",
            " - 19s - loss: 12.2590 - crf_viterbi_accuracy: 0.9998\n",
            "Epoch 351/400\n",
            " - 19s - loss: 12.2591 - crf_viterbi_accuracy: 0.9998\n",
            "Epoch 352/400\n",
            " - 19s - loss: 12.2591 - crf_viterbi_accuracy: 0.9998\n",
            "Epoch 353/400\n",
            " - 19s - loss: 12.2590 - crf_viterbi_accuracy: 0.9998\n",
            "Epoch 354/400\n",
            " - 19s - loss: 12.2590 - crf_viterbi_accuracy: 0.9998\n",
            "Epoch 355/400\n",
            " - 19s - loss: 12.2590 - crf_viterbi_accuracy: 0.9998\n",
            "Epoch 356/400\n",
            " - 19s - loss: 12.2590 - crf_viterbi_accuracy: 0.9998\n",
            "Epoch 357/400\n",
            " - 19s - loss: 12.2590 - crf_viterbi_accuracy: 0.9998\n",
            "Epoch 358/400\n",
            " - 19s - loss: 12.2589 - crf_viterbi_accuracy: 0.9998\n",
            "Epoch 359/400\n",
            " - 19s - loss: 12.2591 - crf_viterbi_accuracy: 0.9997\n",
            "Epoch 360/400\n",
            " - 19s - loss: 12.2591 - crf_viterbi_accuracy: 0.9997\n",
            "Epoch 361/400\n",
            " - 19s - loss: 12.2591 - crf_viterbi_accuracy: 0.9997\n",
            "Epoch 362/400\n",
            " - 18s - loss: 12.2590 - crf_viterbi_accuracy: 0.9998\n",
            "Epoch 363/400\n",
            " - 18s - loss: 12.2591 - crf_viterbi_accuracy: 0.9998\n",
            "Epoch 364/400\n",
            " - 19s - loss: 12.2590 - crf_viterbi_accuracy: 0.9998\n",
            "Epoch 365/400\n",
            " - 18s - loss: 12.2590 - crf_viterbi_accuracy: 0.9998\n",
            "Epoch 366/400\n",
            " - 19s - loss: 12.2590 - crf_viterbi_accuracy: 0.9998\n",
            "Epoch 367/400\n",
            " - 19s - loss: 12.2590 - crf_viterbi_accuracy: 0.9998\n",
            "Epoch 368/400\n",
            " - 19s - loss: 12.2590 - crf_viterbi_accuracy: 0.9998\n",
            "Epoch 369/400\n",
            " - 19s - loss: 12.2590 - crf_viterbi_accuracy: 0.9998\n",
            "Epoch 370/400\n",
            " - 19s - loss: 12.2590 - crf_viterbi_accuracy: 0.9997\n",
            "Epoch 371/400\n",
            " - 19s - loss: 12.2590 - crf_viterbi_accuracy: 0.9998\n",
            "Epoch 372/400\n",
            " - 19s - loss: 12.2591 - crf_viterbi_accuracy: 0.9998\n",
            "Epoch 373/400\n",
            " - 19s - loss: 12.2591 - crf_viterbi_accuracy: 0.9997\n",
            "Epoch 374/400\n",
            " - 19s - loss: 12.2590 - crf_viterbi_accuracy: 0.9998\n",
            "Epoch 375/400\n",
            " - 19s - loss: 12.2590 - crf_viterbi_accuracy: 0.9998\n",
            "Epoch 376/400\n",
            " - 19s - loss: 12.2591 - crf_viterbi_accuracy: 0.9998\n",
            "Epoch 377/400\n",
            " - 19s - loss: 12.2590 - crf_viterbi_accuracy: 0.9998\n",
            "Epoch 378/400\n",
            " - 19s - loss: 12.2591 - crf_viterbi_accuracy: 0.9998\n",
            "Epoch 379/400\n",
            " - 18s - loss: 12.2590 - crf_viterbi_accuracy: 0.9998\n",
            "Epoch 380/400\n",
            " - 18s - loss: 12.2590 - crf_viterbi_accuracy: 0.9997\n",
            "Epoch 381/400\n",
            " - 19s - loss: 12.2590 - crf_viterbi_accuracy: 0.9998\n",
            "Epoch 382/400\n",
            " - 19s - loss: 12.2590 - crf_viterbi_accuracy: 0.9998\n",
            "Epoch 383/400\n",
            " - 19s - loss: 12.2590 - crf_viterbi_accuracy: 0.9998\n",
            "Epoch 384/400\n",
            " - 19s - loss: 12.2591 - crf_viterbi_accuracy: 0.9997\n",
            "Epoch 385/400\n",
            " - 18s - loss: 12.2590 - crf_viterbi_accuracy: 0.9997\n",
            "Epoch 386/400\n",
            " - 19s - loss: 12.2590 - crf_viterbi_accuracy: 0.9998\n",
            "Epoch 387/400\n",
            " - 19s - loss: 12.2590 - crf_viterbi_accuracy: 0.9998\n",
            "Epoch 388/400\n",
            " - 19s - loss: 12.2590 - crf_viterbi_accuracy: 0.9998\n",
            "Epoch 389/400\n",
            " - 19s - loss: 12.2590 - crf_viterbi_accuracy: 0.9998\n",
            "Epoch 390/400\n",
            " - 19s - loss: 12.2591 - crf_viterbi_accuracy: 0.9998\n",
            "Epoch 391/400\n",
            " - 19s - loss: 12.2590 - crf_viterbi_accuracy: 0.9998\n",
            "Epoch 392/400\n",
            " - 19s - loss: 12.2590 - crf_viterbi_accuracy: 0.9998\n",
            "Epoch 393/400\n",
            " - 19s - loss: 12.2590 - crf_viterbi_accuracy: 0.9998\n",
            "Epoch 394/400\n",
            " - 19s - loss: 12.2591 - crf_viterbi_accuracy: 0.9998\n",
            "Epoch 395/400\n",
            " - 19s - loss: 12.2590 - crf_viterbi_accuracy: 0.9998\n",
            "Epoch 396/400\n",
            " - 19s - loss: 12.2590 - crf_viterbi_accuracy: 0.9998\n",
            "Epoch 397/400\n",
            " - 19s - loss: 12.2591 - crf_viterbi_accuracy: 0.9998\n",
            "Epoch 398/400\n",
            " - 19s - loss: 12.2590 - crf_viterbi_accuracy: 0.9998\n",
            "Epoch 399/400\n",
            " - 19s - loss: 12.2590 - crf_viterbi_accuracy: 0.9998\n",
            "Epoch 400/400\n",
            " - 19s - loss: 12.2590 - crf_viterbi_accuracy: 0.9997\n"
          ]
        },
        {
          "output_type": "display_data",
          "data": {
            "text/plain": [
              "<Figure size 432x288 with 1 Axes>"
            ],
            "image/png": "[encoded data removed]"
          },
          "metadata": {
            "needs_background": "light"
          }
        }
      ],
      "source": [
        "history = model.fit(X_tr, np.array(y_tr), batch_size=BATCH_SIZE, epochs=EPOCHS,validation_split=0.0, callbacks=callbacks_list,verbose=2)\n",
        "training_loss = history.history['loss']\n",
        "epoch_count = range(1, len(training_loss) + 1)\n",
        "# Visualize loss history\n",
        "plt.title(\"Loss function vs Epoch Grapgh of BiDirectional LSTM\")\n",
        "plt.plot(epoch_count, training_loss, 'r--')\n",
        "plt.xlabel('Epoch')\n",
        "plt.ylabel('Loss')\n",
        "plt.show();"
      ]
    },
    {
      "cell_type": "code",
      "execution_count": null,
      "metadata": {
        "colab": {
          "base_uri": "https://localhost:8080/"
        },
        "id": "NsUbPT9A7E2G",
        "outputId": "1f26e153-3303-4a60-dc12-0bb6d84f69cf"
      },
      "outputs": [
        {
          "output_type": "stream",
          "name": "stdout",
          "text": [
            "[[2289 3124 7214 1334 4553 5028 4585 8847 6143    0    0    0    0    0\n",
            "     0    0    0    0    0    0    0    0    0    0    0    0    0    0\n",
            "     0    0    0    0    0    0    0    0    0    0    0    0    0    0\n",
            "     0    0    0    0    0    0    0    0    0    0    0    0    0    0\n",
            "     0    0    0    0]]\n"
          ]
        }
      ],
      "source": [
        "val=\"flu and osteoarthritis coronary virus is   dangerous for health \"\n",
        "\n",
        "val = [[word2idx[w] for w in val.split()]]\n",
        "# Padding each sentence to have the same lenght\n",
        "val = pad_sequences(maxlen=MAX_LEN, sequences=val, padding=\"post\", value=word2idx[\"PAD\"])\n",
        "\n",
        "print(val)"
      ]
    },
    {
      "cell_type": "code",
      "execution_count": null,
      "metadata": {
        "id": "fTRYrpvHDJNe"
      },
      "outputs": [],
      "source": [
        "k = model.predict(val)"
      ]
    },
    {
      "cell_type": "code",
      "execution_count": null,
      "metadata": {
        "colab": {
          "base_uri": "https://localhost:8080/"
        },
        "id": "NS7E1CNoC7tG",
        "outputId": "52bdc48e-ac9b-4947-ebc3-8a784f158e9c"
      },
      "outputs": [
        {
          "output_type": "stream",
          "name": "stdout",
          "text": [
            "[['B-Disease', 'O', 'B-Disease', 'B-Disease', 'O', 'O', 'O', 'O', 'O', 'PAD', 'PAD', 'PAD', 'PAD', 'PAD', 'PAD', 'PAD', 'PAD', 'PAD', 'PAD', 'PAD', 'PAD', 'PAD', 'PAD', 'PAD', 'PAD', 'PAD', 'PAD', 'PAD', 'PAD', 'PAD', 'PAD', 'PAD', 'PAD', 'PAD', 'PAD', 'PAD', 'PAD', 'PAD', 'PAD', 'PAD', 'PAD', 'PAD', 'PAD', 'PAD', 'PAD', 'PAD', 'PAD', 'PAD', 'PAD', 'PAD', 'PAD', 'PAD', 'PAD', 'PAD', 'PAD', 'PAD', 'PAD', 'PAD', 'PAD', 'PAD']]\n"
          ]
        }
      ],
      "source": [
        "k= np.argmax(k, axis=-1)\n",
        "k = [[idx2tag[i] for i in row] for row in k]\n",
        "print(k)"
      ]
    },
    {
      "cell_type": "code",
      "execution_count": null,
      "metadata": {
        "colab": {
          "base_uri": "https://localhost:8080/"
        },
        "id": "-YMLmsFbOrb2",
        "outputId": "f2e354ff-6a55-44ef-c1e2-a9630b9f563c"
      },
      "outputs": [
        {
          "output_type": "stream",
          "name": "stdout",
          "text": [
            "(271, 60, 12)\n"
          ]
        }
      ],
      "source": [
        "\n",
        "# model Evaluation\n",
        "pred_cat = model.predict(X_te) #X_te\n",
        "print(pred_cat.shape)\n",
        "pred = np.argmax(pred_cat, axis=-1)\n",
        "y_te_true = np.argmax(y_te, -1)\n"
      ]
    },
    {
      "cell_type": "code",
      "execution_count": null,
      "metadata": {
        "colab": {
          "base_uri": "https://localhost:8080/"
        },
        "id": "gIGq8mPRebd_",
        "outputId": "9f6fb3a3-6c23-4dc7-9822-d532b05dae58"
      },
      "outputs": [
        {
          "output_type": "stream",
          "name": "stdout",
          "text": [
            "Requirement already satisfied: sklearn-crfsuite in /usr/local/lib/python3.7/dist-packages (0.3.6)\n",
            "Requirement already satisfied: python-crfsuite>=0.8.3 in /usr/local/lib/python3.7/dist-packages (from sklearn-crfsuite) (0.9.8)\n",
            "Requirement already satisfied: tqdm>=2.0 in /usr/local/lib/python3.7/dist-packages (from sklearn-crfsuite) (4.63.0)\n",
            "Requirement already satisfied: six in /usr/local/lib/python3.7/dist-packages (from sklearn-crfsuite) (1.15.0)\n",
            "Requirement already satisfied: tabulate in /usr/local/lib/python3.7/dist-packages (from sklearn-crfsuite) (0.8.9)\n"
          ]
        }
      ],
      "source": [
        "!pip install sklearn-crfsuite"
      ]
    },
    {
      "cell_type": "code",
      "execution_count": null,
      "metadata": {
        "id": "7pIGr25DOuE2"
      },
      "outputs": [],
      "source": [
        "\n",
        "# Convert the index to tag\n",
        "pred_tag = [[idx2tag[i] for i in row] for row in pred]\n",
        "y_te_true_tag = [[idx2tag[i] for i in row] for row in y_te_true] "
      ]
    },
    {
      "cell_type": "code",
      "execution_count": null,
      "metadata": {
        "id": "aVi60KqvOwAO"
      },
      "outputs": [],
      "source": [
        "from inspect import TPFLAGS_IS_ABSTRACT\n",
        "tp = 0\n",
        "total = 0\n",
        "\n",
        "for i in range(0,len(pred_tag)):\n",
        "    for j in range(0,len(pred_tag[0])):      \n",
        "      if y_te_true_tag[i][j] == pred_tag[i][j]:\n",
        "        tp += 1\n",
        "      total += 1\n",
        "        \n"
      ]
    },
    {
      "cell_type": "code",
      "execution_count": null,
      "metadata": {
        "colab": {
          "base_uri": "https://localhost:8080/"
        },
        "id": "O0OvC3jIbMJB",
        "outputId": "874ca743-242f-4653-aaf3-5fe61fbaf23a"
      },
      "outputs": [
        {
          "output_type": "stream",
          "name": "stdout",
          "text": [
            "===========================\n",
            " Accuracy :  84.93234932349324 % \n"
          ]
        }
      ],
      "source": [
        "from sklearn_crfsuite.metrics import flat_classification_report\n",
        "from sklearn import metrics\n",
        "#import sklearn.metrics\n",
        "from seqeval.metrics import classification_report\n",
        "\n",
        "\n",
        "print(\"===========================\")\n",
        "print(\" Accuracy : \",float(((tp)*100)/total),\"% \")\n"
      ]
    },
    {
      "cell_type": "code",
      "execution_count": null,
      "metadata": {
        "id": "DYS3JSUwke-R"
      },
      "outputs": [],
      "source": [
        "labels = np.unique(pred_tag+y_te_true_tag)\n"
      ]
    },
    {
      "cell_type": "code",
      "execution_count": null,
      "metadata": {
        "id": "rTNOs8mIkLWu"
      },
      "outputs": [],
      "source": [
        "\n",
        "# Import label encoder\n",
        "from sklearn import preprocessing\n",
        " \n",
        "# label_encoder object knows how to understand word labels.\n",
        "label_encoder = preprocessing.LabelEncoder()\n",
        " \n",
        "# Encode labels in column 'species'.\n",
        "encoded_label= label_encoder.fit(labels)\n",
        "y_true =[]\n",
        "y_pred = []\n",
        "for i in pred_tag:\n",
        "  y_true.extend(label_encoder.transform(i))\n",
        "\n",
        "for i in y_te_true_tag:\n",
        "  y_pred.extend(label_encoder.transform(i))\n"
      ]
    },
    {
      "cell_type": "code",
      "execution_count": null,
      "metadata": {
        "colab": {
          "base_uri": "https://localhost:8080/"
        },
        "id": "naU77jG61eQq",
        "outputId": "f2813f80-7376-4a76-9d40-221649ff5570"
      },
      "outputs": [
        {
          "output_type": "execute_result",
          "data": {
            "text/plain": [
              "271"
            ]
          },
          "metadata": {},
          "execution_count": 29
        }
      ],
      "source": [
        "len(pred_tag)"
      ]
    },
    {
      "cell_type": "code",
      "execution_count": null,
      "metadata": {
        "id": "BRSgtjs3twsE"
      },
      "outputs": [],
      "source": [
        "from sklearn.metrics import confusion_matrix"
      ]
    },
    {
      "cell_type": "code",
      "execution_count": null,
      "metadata": {
        "colab": {
          "base_uri": "https://localhost:8080/"
        },
        "id": "7yzN7Y6bk1VY",
        "outputId": "8e4e912f-26ba-4b04-a30e-73a807a39589"
      },
      "outputs": [
        {
          "output_type": "execute_result",
          "data": {
            "text/plain": [
              "array([[   0,   11,   24,    0,    5,    0,    1,    0,    0,    7,  251,\n",
              "           0],\n",
              "       [   0,    3,    2,    0,    2,    0,    0,    0,    0,    3,  113,\n",
              "           0],\n",
              "       [   0,    3,   13,    0,    3,    0,    0,    0,    0,    4,  122,\n",
              "           0],\n",
              "       [   0,    0,    2,    0,    1,    0,    0,    0,    0,    1,   30,\n",
              "           0],\n",
              "       [   0,    1,    6,    0,    3,    0,    0,    0,    0,    3,   64,\n",
              "           0],\n",
              "       [   0,   10,   35,    0,   37,    0,   10,   19,    0,   28,  684,\n",
              "           0],\n",
              "       [   0,    0,    8,    0,    7,    0,    2,    0,    0,    7,  117,\n",
              "           0],\n",
              "       [   0,    0,    2,    0,    2,    0,    0,    0,    0,    0,   40,\n",
              "           0],\n",
              "       [   0,    0,    3,    0,    0,    0,    0,    0,    0,    1,   32,\n",
              "           0],\n",
              "       [   0,    0,    6,    0,    9,    0,    0,    2,    0,    6,  172,\n",
              "           0],\n",
              "       [   0,   24,  208,    0,  162,    0,   25,   11,    0,  130, 3957,\n",
              "           0],\n",
              "       [   0,    0,    0,    0,    0,    0,    0,    0,    0,    0,    0,\n",
              "        9826]])"
            ]
          },
          "metadata": {},
          "execution_count": 34
        }
      ],
      "source": [
        "confusion_matrix(y_true, y_pred)\n"
      ]
    },
    {
      "cell_type": "code",
      "execution_count": null,
      "metadata": {
        "id": "YxrxIoGqqys_"
      },
      "outputs": [],
      "source": [
        ""
      ]
    }
  ],
  "metadata": {
    "colab": {
      "collapsed_sections": [],
      "name": "Final__BiLSTM_Thesis_Medical_NER_104_118.ipynb",
      "provenance": []
    },
    "kernelspec": {
      "display_name": "Python 3",
      "name": "python3"
    },
    "language_info": {
      "name": "python"
    }
  },
  "nbformat": 4,
  "nbformat_minor": 0
}